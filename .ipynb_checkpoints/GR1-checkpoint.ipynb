{
 "cells": [
  {
   "cell_type": "code",
   "execution_count": 1,
   "metadata": {},
   "outputs": [],
   "source": [
    "from scipy.integrate import ode\n",
    "from scipy.interpolate import interp1d\n",
    "import pandas as pd\n",
    "from astropy import units as u\n",
    "import numpy as np\n",
    "import matplotlib.pyplot as plt\n",
    "from tqdm.notebook import tqdm_notebook as tqdm\n",
    "import time\n",
    "from scipy.optimize import minimize, approx_fprime, minimize_scalar"
   ]
  },
  {
   "cell_type": "code",
   "execution_count": 2,
   "metadata": {},
   "outputs": [],
   "source": [
    "import matplotlib as mpl\n",
    "mpl.rcParams['legend.frameon'] = False\n",
    "mpl.rcParams['figure.autolayout'] = True \n",
    "def utkarshGrid():\n",
    "    plt.minorticks_on()\n",
    "    plt.grid(color='grey',\n",
    "             which='minor',\n",
    "             linestyle=\":\",\n",
    "             linewidth='0.1',\n",
    "             )\n",
    "    plt.grid(color='black',\n",
    "             which='major',\n",
    "             linestyle=\":\",\n",
    "             linewidth='0.1',\n",
    "             )"
   ]
  },
  {
   "cell_type": "code",
   "execution_count": 3,
   "metadata": {},
   "outputs": [],
   "source": [
    "np.set_printoptions(precision=2)"
   ]
  },
  {
   "cell_type": "code",
   "execution_count": 4,
   "metadata": {},
   "outputs": [],
   "source": [
    "G = 6.67259e-8 # dyne cm2 g-2\n",
    "c = 2.99792458e10 # cms-1\n",
    "n_den = 2.3e14\n",
    "km2cm = 1e5\n",
    "msun = 1.98847e33\n",
    "\n",
    "def lamba_metric(M, R):\n",
    "    return -np.log((1-2*G*M/(c**2*R)))\n",
    "\n",
    "def df_to_ep(df):\n",
    "    e_den = df.energy_densityc2\n",
    "    p_arr = df.pressurec2\n",
    "    p = p_arr[p_arr > 1e8]\n",
    "    e_den = e_den[p_arr > 1e8]\n",
    "    e_den = e_den*((2.99792458e10)**2)\n",
    "    pressure = p*((2.99792458e10)**2)\n",
    "    return e_den.to_numpy(), pressure.to_numpy()\n",
    "def get_ep(e, p):\n",
    "    f_e_smooth = interp1d(p, e, fill_value= \"extrapolate\", kind = \"cubic\")\n",
    "    return f_e_smooth\n",
    "def get_pe(p, e):\n",
    "    f_e_smooth = interp1d(e, p, fill_value=(0, 0), kind = \"cubic\", bounds_error=True)\n",
    "    return f_e_smooth\n",
    "\n",
    "\n",
    "path = \"2205.02081/SLY4.csv\"\n",
    "df = pd.read_csv(path)\n",
    "e, p = df_to_ep(df)\n",
    "p_max = max(p)\n",
    "p_min = max(1*(c**2), min(p)) \n",
    "EOS = get_ep(e, p)"
   ]
  },
  {
   "cell_type": "code",
   "execution_count": 5,
   "metadata": {},
   "outputs": [],
   "source": [
    "def _dMdr(r, e):\n",
    "    return 4 * np.pi * r**2 * (e/(c**2))\n",
    "def _b(r, M):\n",
    "    return (G*M)/((c**2)*r)\n",
    "def _dnudr(r, Q, lamda):\n",
    "    return (2/r) * np.exp(lamda) * Q\n",
    "def _Q(r, P, M):\n",
    "    frac = (4 * np.pi * G * (r**2)*P)/(c**4)\n",
    "    return _b(r, M) + frac\n",
    "def _dPdr(r, P, M, e):    \n",
    "    num = (M+4*np.pi*(r**3)*P/(c**2))\n",
    "    dem = r * (r-2*G*M/(c**2))\n",
    "    return -1 * (e+P) * G/(c**2) * num/dem\n",
    "def dedP_helper(p, e):\n",
    "    return np.gradient(e, p), e\n",
    "def dedP(p, e):\n",
    "    dedp_helper, e_arr = dedP_helper(p, e)\n",
    "    return interp1d(e_arr, dedp_helper, fill_value=\"extrapolate\", kind = \"cubic\")\n",
    "def drhodP(e, dedp = dedP(p, e)):\n",
    "    return (c**-2) * dedp(e)"
   ]
  },
  {
   "cell_type": "code",
   "execution_count": 6,
   "metadata": {},
   "outputs": [],
   "source": [
    "# # DIMENSIONS CHECKED\n",
    "# def _H0(r, nu, X, nl, Q, omega, lamda, H1, b, K):\n",
    "#     term1 = 8 * np.pi * (r**2) * np.exp(-nu/2)* X * (G/(c**4))\n",
    "#     term2 = -H1 * ((nl+1)*Q - (((omega*r)**2)/(c**2))*np.exp(-(nu+lamda)))\n",
    "#     term3 = K * (nl - ((((omega*r)**2)/(c**2)) * np.exp(-nu) - Q*(np.exp(lamda)*Q - 1)))\n",
    "#     factor = (2*b + nl + Q)**(-1)\n",
    "#     return factor * (term1 + term2 + term3)\n",
    "\n",
    "# # DIMENSIONS CHECKED\n",
    "# def _V(r, X, e, p, Q, nu, lamda, W, H0, omega):\n",
    "#     factor = (c**2)*np.exp(nu/2)/(omega**2)\n",
    "#     term1 = X/(e+p)\n",
    "#     term2 = - Q/(r**2)*np.exp(nu + lamda)*W\n",
    "#     term3 = - np.exp(nu/2)*H0/2\n",
    "#     term = term1 + term2 + term3\n",
    "#     return factor * term\n",
    "\n",
    "# # DIMENSIONS CHECKED\n",
    "# def _dH1dr(r, l, b, lamda, p, e, H1, H0, K, V):\n",
    "#     term1 = -H1 * (l+1+2*b*np.exp(lamda) + 4*np.pi*(r**2)*np.exp(lamda)*(p-e)*(G/(c**4)))\n",
    "#     term2 = np.exp(lamda) * (H0 + K - 16*np.pi*(e+p)*V*(G/(c**4)))\n",
    "#     return 1/r* (term1 + term2)\n",
    "\n",
    "# # DIMENSIONS CHECKED\n",
    "# def _dKdr(r, H0, nl, H1, lamda, Q, l, K, e, p, W):\n",
    "#     term1= H0\n",
    "#     term2= (nl+1)*H1\n",
    "#     term3= (np.exp(lamda)*Q - l - 1)*K\n",
    "#     term4= -8*np.pi*(e+p)*np.exp(lamda/2)*W*(G/(c**4))\n",
    "#     return 1/r * (term1 + term2 + term3 + term4)\n",
    "\n",
    "# # DIMENSIONS CHECKED\n",
    "# def _dWdR(r, W, l, lamda, V, e, p, X, cad2_inv, H0, K, nu):\n",
    "#     term1 = -1*(l+1)*(W+l*np.exp(lamda/2)*V)\n",
    "#     term2_1 = (np.exp(-nu/2)*X*(cad2_inv/(e+p))*(c**2))\n",
    "#     term2_2 = H0/2 * 1\n",
    "#     term2_3 = K * 1\n",
    "#     term2_factor = (r**2)*np.exp(lamda/2)\n",
    "#     term2 = term2_factor*(term2_1 + term2_2 + term2_3)\n",
    "#     return 1/r * (term1 + term2)\n",
    "\n",
    "# # DIMENSIONS CHECKED\n",
    "# def _dXdr(r, l, X, e, p, nu, lamda, Q, H0, omega, nl, H1, K, V, W, derivative_term):\n",
    "#     term1= -l*X\n",
    "#     term2_factor= (e+p)*np.exp(nu/2)/2 \n",
    "#     term2_1= H0 * (1-np.exp(lamda)*Q)\n",
    "#     term2_2= H1 * ((((omega*r)**2)/(c**2))*np.exp(-nu) + nl + 1)\n",
    "#     term2_3= K * (3 * np.exp(lamda)*Q - 1)\n",
    "#     term2_4= (4 * (nl+1)*np.exp(lamda)*Q*V/(r**2))\n",
    "#     term2_5_factor= -2*W\n",
    "#     term2_5_1= ((omega**2)/(c**2))*np.exp(lamda/2 - nu)\n",
    "#     term2_5_2= 4*np.pi*(e+p)*np.exp(lamda/2)*(G/(c**4))\n",
    "#     term2_5_3= -1*(r**2) * derivative_term\n",
    "#     term2_5= term2_5_factor * (term2_5_1 + term2_5_2 + term2_5_3)\n",
    "#     term2 = term2_factor * (term2_1 + term2_2 + term2_3 + term2_4 + term2_5)\n",
    "#     return 1/r * (term1 + term2)"
   ]
  },
  {
   "cell_type": "code",
   "execution_count": 7,
   "metadata": {},
   "outputs": [],
   "source": [
    "# DIMENSIONS CHECKED\n",
    "def _H0(r, nu, X, nl, Q, omega, lamda, H1, b, K):\n",
    "    omgr2_c2 = ((omega * r)**2)/(c**2)\n",
    "    factor = (2*b + nl + Q) ** (-1)\n",
    "    term1 = 8 * np.pi * (r**2) * np.exp(-nu/2) * X * (G/(c**4))\n",
    "    term2 = - H1 * (Q*(nl+1) - omgr2_c2 * np.exp(-nu-lamda))\n",
    "    term3 = K * (nl - omgr2_c2*np.exp(-nu)-Q*(np.exp(lamda)*Q-1))\n",
    "    return factor * (term1 + term2 + term3)\n",
    "\n",
    "# DIMENSIONS CHECKED\n",
    "def _V(r, X, e, p, Q, nu, lamda, W, H0, omega):\n",
    "    factor = np.exp(nu/2) * (c**2)/(omega**2)\n",
    "    term1 = X/(e+p)\n",
    "    term2 = -Q/(r**2) * W * np.exp((nu+lamda)/2)\n",
    "    term3 = -np.exp(nu/2)*H0/2\n",
    "    return factor * (term1 + term2 + term3)"
   ]
  },
  {
   "cell_type": "code",
   "execution_count": 8,
   "metadata": {},
   "outputs": [],
   "source": [
    "# DIMENSIONS CHECKED\n",
    "def _dH1dr(r, l, b, lamda, p, e, H1, H0, K, V):\n",
    "    G_c4 = G/(c**4)\n",
    "    term1 = -H1*(l + 1 + 2*b*np.exp(lamda) + G_c4 * 4*np.pi*(r**2)*np.exp(lamda)*(p-e))\n",
    "    term2 = np.exp(lamda) * (H0 + K - G_c4*16*np.pi*(e+p)*V)\n",
    "    return (1/r) * (term1 + term2)\n",
    "\n",
    "# DIMENSIONS CHECKED\n",
    "def _dKdr(r, H0, nl, H1, lamda, Q, l, K, e, p, W):\n",
    "    term1 = H0\n",
    "    term2 = (nl+1)*H1\n",
    "    term3 = (np.exp(lamda)*Q-l-1)*K\n",
    "    term4 = -8*np.pi*(e+p)*np.exp(lamda/2)*W*G/(c**4)\n",
    "    return (1/r) * (term1 + term2 + term3 + term4)\n",
    "\n",
    "# DIMENSIONS CHECKED\n",
    "def _dWdR(r, W, l, lamda, V, e, p, X, cad2_inv, H0, K, nu):\n",
    "    term1 = -(l+1)*(W+l*np.exp(lamda/2)*V)\n",
    "    term2_fac = (r**2 * np.exp(lamda/2))\n",
    "    term2_1 = (np.exp(-nu/2)*X*(c**2) * cad2_inv)/(e+p)\n",
    "    term2_2 = H0/2\n",
    "    term2_3 = K\n",
    "    term2 = term2_fac * (term2_1 + term2_2 + term2_3)\n",
    "    return (1/r) * (term1 + term2)\n",
    "\n",
    "# DIMENSIONS CHECKED\n",
    "def _dXdr(r, l, X, e, p, nu, lamda, Q, H0, omega, nl, H1, K, V, W, derivative_term):\n",
    "    omgr2_c2 = ((omega * r)**2)/(c**2)\n",
    "    G_c4 = G/(c**4)\n",
    "    term1 = -l*X\n",
    "    term2_fac = (e+p)*np.exp(nu/2)/2\n",
    "    term2_1 = (1-np.exp(lamda)*Q)*H0\n",
    "    term2_2 = H1 * (omgr2_c2*np.exp(-nu) + nl + 1)\n",
    "    term2_3 = K * (3*np.exp(lamda)*Q - 1)\n",
    "    term2_4 = -4 * (nl + 1) * np.exp(lamda) * Q * V/(r**2)\n",
    "    term2_5_fac = -2*W\n",
    "    term2_5_1 = np.exp(lamda/2 - nu)*(omega**2)/(c**2)\n",
    "    term2_5_2 = G_c4 * 4 * np.pi * (e+p) * np.exp(lamda/2)\n",
    "    term2_5_3 = -(r**2) * derivative_term\n",
    "    term2_5 =  term2_5_fac * (term2_5_1 + term2_5_2 + term2_5_3)\n",
    "    term2 = term2_fac * (term2_1 + term2_2 + term2_3 + term2_4 + term2_5)\n",
    "    return (1/r) * (term1 + term2)"
   ]
  },
  {
   "cell_type": "code",
   "execution_count": 9,
   "metadata": {},
   "outputs": [],
   "source": [
    "def derivative_term(r, dMdr, dPdr, m, P):\n",
    "    pi = np.pi\n",
    "    exp = np.exp\n",
    "    sqrt = np.sqrt\n",
    "    return G*(G*(dMdr*r - m)*(4*pi*P*r**3 + c**2*m) - 6*c**2*r*((-2*G*m + c**2*r)/(c**2*r))**(3/2)*(4*pi*P*r**3 + c**2*m) + 2*c**2*r*((-2*G*m + c**2*r)/(c**2*r))**(3/2)*(c**2*dMdr*r - c**2*m + 4*pi*r**3*(2*P + dPdr*r)))*exp(1/(2*sqrt((-2*G*m + c**2*r)/(c**2*r))))/(2*c**6*r**6*((-2*G*m + c**2*r)/(c**2*r))**(3/2))"
   ]
  },
  {
   "cell_type": "code",
   "execution_count": 10,
   "metadata": {},
   "outputs": [],
   "source": [
    "def coupledTOV(r, VEC, init_params):\n",
    "    P, M, nu, H1, K, W, X = VEC\n",
    "    EOS, l, omega, p_min, p_max, nl = init_params\n",
    "    if P <= p_min: \n",
    "        return None\n",
    "    if P >= p_max:\n",
    "        return None\n",
    "    if 2*_b(r, M) >= 1:\n",
    "        return None\n",
    "    b = _b(r, M)\n",
    "    lamda = np.log(1/(1-2*b))\n",
    "    Q = _Q(r, P, M)\n",
    "    e = EOS(P) \n",
    "    cad2_inv = drhodP(e)\n",
    "    \n",
    "    dPdr = _dPdr(r, P, M, e)\n",
    "    dMdr = _dMdr(r, e)\n",
    "    \n",
    "    derv_term = derivative_term(r, dMdr, dPdr, M, P)\n",
    "    \n",
    "    dnudr = _dnudr(r, Q, lamda)\n",
    "    H0 = _H0(r, nu, X, nl, Q, omega, lamda, H1, b, K)\n",
    "    V = _V(r, X, e, P, Q, nu, lamda, W, H0, omega)\n",
    "    dH1dr = _dH1dr(r, l, b, lamda, P, e, H1, H0, K, V)\n",
    "    dKdr = _dKdr(r, H0, nl, H1, lamda, Q, l, K, e, P, W)\n",
    "    dWdr = _dWdR(r, W, l, lamda, V, e, P, X, cad2_inv, H0, K, nu)\n",
    "    dXdr = _dXdr(r, l, X, e, P, nu, lamda, Q, H0, omega, nl, H1, K, V, W, derv_term)\n",
    "    \n",
    "    fac = 1e0\n",
    "    ret = np.array([dPdr, dMdr, dnudr, dH1dr/fac, dKdr/fac, dWdr/fac, dXdr/fac])\n",
    "#     print(ret)\n",
    "    return ret"
   ]
  },
  {
   "cell_type": "code",
   "execution_count": 11,
   "metadata": {},
   "outputs": [],
   "source": [
    "def tov(EOS, init_VEC, r_i, p_min,p_max, omega,nl, progress = False, \n",
    "        l=2, n_iter_max = 2000000000):\n",
    "    init_params = [EOS, l, omega, p_min, p_max, nl]\n",
    "    r = ode(lambda r, VEC: coupledTOV(r, VEC, init_params)).set_integrator('VODE')\n",
    "    r.set_initial_value(init_VEC, r_i)\n",
    "    results = []\n",
    "    r_list = []\n",
    "    i = 0\n",
    "    r_max = 20 * km2cm\n",
    "    max_iter = n_iter_max\n",
    "    dr = r_max/max_iter\n",
    "    if progress:\n",
    "        pbar = tqdm(total=max_iter)\n",
    "    while r.successful() and (r.y[0] >= p_min):\n",
    "        i+=1\n",
    "        integral = r.integrate(r.t+dr)\n",
    "#         print(r.successful())\n",
    "        if progress:\n",
    "            pbar.update(1)\n",
    "        if i > max_iter:\n",
    "            print(\"[STATUS] max_iter reached\")\n",
    "            break\n",
    "        if (r.y[0] < p_min):\n",
    "            break\n",
    "        if not r.successful():\n",
    "            break\n",
    "        results.append(integral)\n",
    "        r_list.append(r.t+dr)\n",
    "    if progress:\n",
    "        pbar.close()\n",
    "    \n",
    "#     print(\"Integration, Pressure: \", r.successful(), (r.y[0] >= p_min))\n",
    "    \n",
    "    results = np.array(results, dtype = float)\n",
    "    p, m, nu, h1, k, w, x = results.T\n",
    "    r = np.array(r_list)\n",
    "    return p, m, r, nu, h1, k, w, x"
   ]
  },
  {
   "cell_type": "code",
   "execution_count": 12,
   "metadata": {},
   "outputs": [],
   "source": [
    "def initial_conditions(EOS, e, p, k, km2cm = 1e5, r_i = 1):\n",
    "    p0 = p[k]\n",
    "    e0 = EOS(p0)\n",
    "    p_c = p0 - 2 * np.pi * (G/(c**4)) * r_i**2 * (p0 + e0) * (3*p0 + e0)/3\n",
    "    e_c = EOS(p_c)\n",
    "    m0 = e_c/(c**2) * 4/3 * np.pi * r_i**3\n",
    "    omega = 2*(2*np.pi) #Arbitrary guess\n",
    "    l=2 \n",
    "    nl = (l-1)*(l+2)/2\n",
    "    nu0 = -1 \n",
    "    Q0 = _Q(r_i, p_c, m0)\n",
    "    b0 = _b(r_i, m0)\n",
    "    W0 = 1\n",
    "    \n",
    "#     K0 = 0.5 * (e_c + p_c) * (G/(c**2)) # Only thing im guessing right now other than nu0\n",
    "    K0 = -1\n",
    "    \n",
    "    # DIMENSIONS CHECKED\n",
    "    X0_factor = (e_c + p_c) * np.exp(nu0/2)\n",
    "    X0_term1 = 4 * np.pi/3 * (e_c + 3*p_c) * W0 * G/(c**4)\n",
    "    X0_term2 = -(omega**2)/l * np.exp(-nu0) * W0  /(c**2)\n",
    "    X0_term3 = K0/2\n",
    "    X0 = X0_factor * (X0_term1 + X0_term2 + X0_term3)\n",
    "    H00 = K0\n",
    "    H10 = (l*K0 + 8*np.pi*(G/(c**4))*(e_c+p_c)*W0)/((nl+1))\n",
    "    \n",
    "#     H10 = 0.003 \n",
    "#     W0 = 0.35\n",
    "#     K0 = -0.0025\n",
    "#     X0 = 6.5e-7\n",
    "    \n",
    "    init_VEC = [p_c, m0, nu0, H10, K0, W0, X0]\n",
    "    p_max = max(p)\n",
    "    p_min = max(c**2, min(p)) \n",
    "    print(\"Initial: \", init_VEC)\n",
    "    return p_c, e_c, m0, omega, l, nl, nu0, Q0, b0, W0, K0, X0, H00, H10, init_VEC, \\\n",
    "    p_max, p_min, r_i"
   ]
  },
  {
   "cell_type": "code",
   "execution_count": 13,
   "metadata": {},
   "outputs": [],
   "source": [
    "def surface_conditions(p, m, r_arr, nu, h1, k, w, x):\n",
    "    max_idx = np.argmax(m) - 1\n",
    "    m_R = m.max() # In units of msun\n",
    "    r_R = r_arr[max_idx] # In units of km\n",
    "    p_R = p[max_idx] #cgs\n",
    "    ec_R = EOS(p_R) #cgs\n",
    "    nu_R = nu[max_idx]\n",
    "    h1_R = h1[max_idx]\n",
    "    k_R = k[max_idx]\n",
    "    w_R = w[max_idx]\n",
    "    x_R = x[max_idx]\n",
    "    schild = (1-2*G*m_R/(c**2*r_R))\n",
    "    interior = np.exp(nu_R)\n",
    "    return max_idx, m_R, r_R, p_R, ec_R, nu_R, h1_R, k_R, w_R, x_R, schild, interior\n",
    "\n",
    "def print_params(p, m, r_arr, nu, h1, k, w, x):\n",
    "    max_idx, m_R, r_R, p_R, ec_R, nu_R, h1_R, k_R, w_R, x_R, schild, \\\n",
    "    interior = surface_conditions(p, m, r_arr, nu, h1, k, w, x)\n",
    "    print(f\"Star has mass {m_R/msun:.3f} Msun and radius {r_R/km2cm:.3f}km\")\n",
    "    print(f\"Interior Surface: {interior:.8f}\")\n",
    "    print(f\"Exterior Surface: {schild:.8f}\")\n",
    "    print(f\"v0: {nu0}\")\n",
    "    print(f\"Lamda: {lamba_metric(m_R, r_R)}\")\n",
    "    print(f\"Boundary Term: {x_R}\")\n",
    "    return None"
   ]
  },
  {
   "cell_type": "code",
   "execution_count": 14,
   "metadata": {
    "scrolled": false
   },
   "outputs": [
    {
     "name": "stdout",
     "output_type": "stream",
     "text": [
      "Initial:  [1.2999963394850814e+35, 4054675614401985.5, -1, -0.6666666666659746, -1, 1, -3.0325893664368066e+35]\n"
     ]
    },
    {
     "data": {
      "application/vnd.jupyter.widget-view+json": {
       "model_id": "ffe4c130353d4e71b11b787cc2cacec9",
       "version_major": 2,
       "version_minor": 0
      },
      "text/plain": [
       "HBox(children=(FloatProgress(value=0.0, max=2000000000.0), HTML(value='')))"
      ]
     },
     "metadata": {},
     "output_type": "display_data"
    },
    {
     "name": "stderr",
     "output_type": "stream",
     "text": [
      "/Library/Frameworks/Python.framework/Versions/3.8/lib/python3.8/site-packages/scipy/integrate/_ode.py:1011: UserWarning: vode: Excess work done on this call. (Perhaps wrong MF.)\n",
      "  warnings.warn('{:s}: {:s}'.format(self.__class__.__name__,\n"
     ]
    },
    {
     "name": "stdout",
     "output_type": "stream",
     "text": [
      "\n",
      "== First Integration == \n",
      "Star has mass 0.000 Msun and radius 0.000km\n",
      "Interior Surface: 0.36787944\n",
      "Exterior Surface: 1.00000000\n",
      "v0: -1\n",
      "Lamda: 6.411537967212335e-13\n",
      "Boundary Term: 8.740119789349712e+50\n"
     ]
    },
    {
     "data": {
      "application/vnd.jupyter.widget-view+json": {
       "model_id": "88e2ad5ca09941bfaf54999688564c1a",
       "version_major": 2,
       "version_minor": 0
      },
      "text/plain": [
       "HBox(children=(FloatProgress(value=0.0, max=2000000000.0), HTML(value='')))"
      ]
     },
     "metadata": {},
     "output_type": "display_data"
    },
    {
     "name": "stdout",
     "output_type": "stream",
     "text": [
      "\n",
      "== Corrected Integration == \n",
      "Star has mass 0.000 Msun and radius 0.000km\n",
      "Interior Surface: 1.00000000\n",
      "Exterior Surface: 1.00000000\n",
      "v0: -6.690203946391193e-13\n",
      "Lamda: 6.141753772228252e-13\n",
      "Boundary Term: -5.70454377471433e+50\n"
     ]
    }
   ],
   "source": [
    "p_c, e_c, m0, omega, l, nl, nu0, Q0, b0, W0, K0, X0, H00, H10, init_VEC, \\\n",
    "p_max, p_min, r_i = initial_conditions(EOS, e, p, -92)\n",
    "\n",
    "p, m, r_arr, nu, h1, k, w, x = tov(EOS, init_VEC, r_i, p_min,p_max, \n",
    "                           omega, nl, progress = True, l = l)\n",
    "\n",
    "max_idx, m_R, r_R, p_R, ec_R, nu_R, h1_R, k_R, w_R, x_R, schild, \\\n",
    "interior = surface_conditions(p, m, r_arr, nu, h1, k, w, x)\n",
    "\n",
    "print(\"== First Integration == \")\n",
    "print_params(p, m, r_arr, nu, h1, k, w, x)\n",
    "\n",
    "# Update init_VEC\n",
    "nu_ext = -lamba_metric(m_R, r_R)\n",
    "nu_int = nu_R #At surface\n",
    "delta_nu = nu_int - nu_ext\n",
    "nu0 =  nu0 - delta_nu\n",
    "\n",
    "init_VEC = [p_c, m0, nu0, H10, K0, W0, X0]\n",
    "time.sleep(0.2)\n",
    "\n",
    "p, m, r_arr, nu, h1, k, w, x = tov(EOS, init_VEC, r_i, p_min,p_max, \n",
    "                           omega, nl, progress = True, l = l)\n",
    "\n",
    "max_idx, m_R, r_R, p_R, ec_R, nu_R, h1_R, k_R, w_R, x_R, schild, \\\n",
    "interior = surface_conditions(p, m, r_arr, nu, h1, k, w, x)\n",
    "\n",
    "print(\"== Corrected Integration == \")\n",
    "print_params(p, m, r_arr, nu, h1, k, w, x)"
   ]
  },
  {
   "cell_type": "code",
   "execution_count": 15,
   "metadata": {
    "scrolled": false
   },
   "outputs": [
    {
     "data": {
      "image/png": "[encoded data removed]",
      "text/plain": [
       "<Figure size 432x288 with 1 Axes>"
      ]
     },
     "metadata": {
      "needs_background": "light"
     },
     "output_type": "display_data"
    },
    {
     "data": {
      "image/png": "[encoded data removed]",
      "text/plain": [
       "<Figure size 432x288 with 1 Axes>"
      ]
     },
     "metadata": {
      "needs_background": "light"
     },
     "output_type": "display_data"
    },
    {
     "data": {
      "image/png": "[encoded data removed]",
      "text/plain": [
       "<Figure size 432x288 with 1 Axes>"
      ]
     },
     "metadata": {
      "needs_background": "light"
     },
     "output_type": "display_data"
    },
    {
     "data": {
      "image/png": "[encoded data removed]",
      "text/plain": [
       "<Figure size 432x288 with 1 Axes>"
      ]
     },
     "metadata": {
      "needs_background": "light"
     },
     "output_type": "display_data"
    },
    {
     "data": {
      "image/png": "[encoded data removed]",
      "text/plain": [
       "<Figure size 432x288 with 1 Axes>"
      ]
     },
     "metadata": {
      "needs_background": "light"
     },
     "output_type": "display_data"
    },
    {
     "data": {
      "image/png": "[encoded data removed]",
      "text/plain": [
       "<Figure size 432x288 with 1 Axes>"
      ]
     },
     "metadata": {
      "needs_background": "light"
     },
     "output_type": "display_data"
    },
    {
     "data": {
      "image/png": "[encoded data removed]",
      "text/plain": [
       "<Figure size 432x288 with 1 Axes>"
      ]
     },
     "metadata": {
      "needs_background": "light"
     },
     "output_type": "display_data"
    }
   ],
   "source": [
    "p, m, r_arr, nu, h1, k, w, x\n",
    "\n",
    "plt.figure()\n",
    "plt.plot(r_arr/km2cm, p/p_c)\n",
    "plt.xlabel(\"r\")\n",
    "plt.ylabel(\"P/Pc\")\n",
    "\n",
    "plt.figure()\n",
    "plt.plot(r_arr/km2cm, m/msun)\n",
    "plt.xlabel(\"r \")\n",
    "plt.ylabel(\"M/Msun\")\n",
    "plt.show()\n",
    "\n",
    "plt.figure()\n",
    "plt.plot(r_arr/km2cm, nu)\n",
    "plt.xlabel(\"r \")\n",
    "plt.ylabel(\"v\")\n",
    "plt.show()\n",
    "\n",
    "plt.figure()\n",
    "plt.plot(r_arr/km2cm, h1)\n",
    "plt.xlabel(\"r \")\n",
    "plt.ylabel(\"H1\")\n",
    "plt.autoscale()\n",
    "plt.show()\n",
    "\n",
    "plt.figure()\n",
    "plt.plot(r_arr/km2cm, k)\n",
    "plt.xlabel(\"r \")\n",
    "plt.ylabel(\"K\")\n",
    "plt.autoscale()\n",
    "plt.show()\n",
    "\n",
    "plt.figure()\n",
    "plt.plot(r_arr/km2cm, w)\n",
    "plt.xlabel(\"r \")\n",
    "plt.ylabel(\"W\")\n",
    "plt.autoscale()\n",
    "plt.show()\n",
    "\n",
    "plt.figure()\n",
    "plt.plot(r_arr/km2cm, x)\n",
    "plt.xlabel(\"r \")\n",
    "plt.ylabel(\"X\")\n",
    "plt.autoscale()\n",
    "plt.show()"
   ]
  },
  {
   "cell_type": "code",
   "execution_count": null,
   "metadata": {},
   "outputs": [],
   "source": []
  }
 ],
 "metadata": {
  "kernelspec": {
   "display_name": "Python 3",
   "language": "python",
   "name": "python3"
  },
  "language_info": {
   "codemirror_mode": {
    "name": "ipython",
    "version": 3
   },
   "file_extension": ".py",
   "mimetype": "text/x-python",
   "name": "python",
   "nbconvert_exporter": "python",
   "pygments_lexer": "ipython3",
   "version": "3.8.6"
  }
 },
 "nbformat": 4,
 "nbformat_minor": 4
}
