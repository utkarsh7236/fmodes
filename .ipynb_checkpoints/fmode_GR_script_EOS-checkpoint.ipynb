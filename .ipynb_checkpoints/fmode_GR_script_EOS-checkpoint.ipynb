{
 "cells": [
  {
   "cell_type": "code",
   "execution_count": 1,
   "metadata": {},
   "outputs": [],
   "source": [
    "%%capture\n",
    "%run general_relativity/fModes.py"
   ]
  },
  {
   "cell_type": "code",
   "execution_count": null,
   "metadata": {
    "scrolled": false
   },
   "outputs": [
    {
     "name": "stderr",
     "output_type": "stream",
     "text": [
      "100%|██████████| 3/3 [00:00<00:00, 289.30it/s]\n"
     ]
    }
   ],
   "source": [
    "fmodes1 = fmodes()\n",
    "fmodes1.set_EOS('/Users/utkarsh/PycharmProjects/fmodes/LCEHL_EOS_posterior_samples/eos_1000.csv')\n",
    "fmodes1.parallel_simulation(progress = True)\n",
    "fmodes1.print_results()\n",
    "fmodes1.plot_fmass()\n",
    "fmodes1.plot_mass_radius()"
   ]
  },
  {
   "cell_type": "code",
   "execution_count": null,
   "metadata": {},
   "outputs": [],
   "source": [
    "# fmodes1 = fmodes()\n",
    "# fmodes1.set_EOS('/Users/utkarsh/PycharmProjects/fmodes/2205.02081/SLY4.csv')\n",
    "# fmodes1.parallel_simulation()\n",
    "# fmodes1.print_results()\n",
    "# fmodes1.plot_fmass()\n",
    "# fmodes1.plot_mass_radius()"
   ]
  },
  {
   "cell_type": "code",
   "execution_count": null,
   "metadata": {},
   "outputs": [],
   "source": [
    "# fmodes1 = fmodes()\n",
    "# fmodes1.set_EOS('/Users/utkarsh/PycharmProjects/fmodes/2205.02081/NL3.csv')\n",
    "# fmodes1.parallel_simulation()\n",
    "# fmodes1.print_results()\n",
    "# fmodes1.plot_fmass()\n",
    "# fmodes1.plot_mass_radius()"
   ]
  },
  {
   "cell_type": "code",
   "execution_count": null,
   "metadata": {},
   "outputs": [],
   "source": [
    "# fmodes1 = fmodes()\n",
    "# fmodes1.set_EOS('/Users/utkarsh/PycharmProjects/fmodes/eos_data/sly230a.csv')\n",
    "# fmodes1.parallel_simulation()\n",
    "# fmodes1.print_results()\n",
    "# fmodes1.plot_fmass()\n",
    "# fmodes1.plot_mass_radius()"
   ]
  },
  {
   "cell_type": "code",
   "execution_count": null,
   "metadata": {},
   "outputs": [],
   "source": [
    "# fmodes1 = fmodes()\n",
    "# fmodes1.set_EOS('/Users/utkarsh/PycharmProjects/fmodes/eos_data/sly.csv')\n",
    "# fmodes1.parallel_simulation()\n",
    "# fmodes1.print_results()\n",
    "# fmodes1.plot_fmass()\n",
    "# fmodes1.plot_mass_radius()"
   ]
  },
  {
   "cell_type": "code",
   "execution_count": null,
   "metadata": {},
   "outputs": [],
   "source": [
    "# fmodes1 = fmodes()\n",
    "# fmodes1.set_EOS('/Users/utkarsh/PycharmProjects/fmodes/eos_data/nl3cr.csv')\n",
    "# fmodes1.parallel_simulation()\n",
    "# fmodes1.print_results()\n",
    "# fmodes1.plot_fmass()\n",
    "# fmodes1.plot_mass_radius()"
   ]
  },
  {
   "cell_type": "code",
   "execution_count": null,
   "metadata": {},
   "outputs": [],
   "source": [
    "# fmodes1 = fmodes()\n",
    "# fmodes1.set_EOS('/Users/utkarsh/PycharmProjects/fmodes/eos1.csv')\n",
    "# fmodes1.parallel_simulation()\n",
    "# fmodes1.print_results()\n",
    "# fmodes1.plot_fmass()\n",
    "# fmodes1.plot_mass_radius()"
   ]
  }
 ],
 "metadata": {
  "kernelspec": {
   "display_name": "Python 3",
   "language": "python",
   "name": "python3"
  },
  "language_info": {
   "codemirror_mode": {
    "name": "ipython",
    "version": 3
   },
   "file_extension": ".py",
   "mimetype": "text/x-python",
   "name": "python",
   "nbconvert_exporter": "python",
   "pygments_lexer": "ipython3",
   "version": "3.8.6"
  }
 },
 "nbformat": 4,
 "nbformat_minor": 4
}
