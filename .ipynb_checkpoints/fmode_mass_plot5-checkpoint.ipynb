{
 "cells": [
  {
   "cell_type": "code",
   "execution_count": 1,
   "metadata": {},
   "outputs": [],
   "source": [
    "from scipy.integrate import ode\n",
    "from scipy.interpolate import interp1d\n",
    "import pandas as pd\n",
    "from astropy import units as u\n",
    "import numpy as np\n",
    "import matplotlib.pyplot as plt\n",
    "from tqdm import tqdm\n",
    "import time\n",
    "from scipy.optimize import minimize, approx_fprime\n",
    "from joblib import Parallel, delayed"
   ]
  },
  {
   "cell_type": "markdown",
   "metadata": {},
   "source": [
    "Capture hides output"
   ]
  },
  {
   "cell_type": "code",
   "execution_count": 2,
   "metadata": {},
   "outputs": [],
   "source": [
    "%%capture\n",
    "# %run cowling_approximation2.ipynb\n",
    "# %run cowling_approximation2_invert_dedp.ipynb\n",
    "# %run cowling_approximation.ipynb\n",
    "# %run cowling_approximation2_invert_dedp_extrapolate.ipynb\n",
    "# %run cowling_approximation3.ipynb\n",
    "# %run cowling_approximation3_wu_equations.ipynb\n",
    "# %run cowling_approximation4.ipynb\n",
    "# %run cowling_approximation5.ipynb\n",
    "%run cowling_approximation6.ipynb"
   ]
  },
  {
   "cell_type": "code",
   "execution_count": 3,
   "metadata": {},
   "outputs": [],
   "source": [
    "def process(k):\n",
    "    df = pd.read_csv(path)\n",
    "    e, p = df_to_ep(df)\n",
    "    EOS = get_ep(e, p)\n",
    "    \n",
    "    # Initial Conditions\n",
    "    km2cm = 1e5\n",
    "    r_i = 1\n",
    "    p0 = p[k]\n",
    "    e0 = EOS(p0)\n",
    "    p_c = p0 - 2 * np.pi * (G/(c**4)) * r_i**2 * (p0 + e0) * (3*p0 + e0)/3\n",
    "    e_c = EOS(p_c)\n",
    "    m0 = e_c/(c**2) * 4/3 * np.pi * r_i**3\n",
    "    omega = 2e3*(2*np.pi) #Arbitrary guess\n",
    "    l=2\n",
    "    v0 = -1 # Two step integration optimization: similar to phi previously.\n",
    "    W0 = 1\n",
    "    U0 = W0/(l * np.exp(v0))\n",
    "    init_VEC = [p_c, m0, v0, W0, U0]\n",
    "\n",
    "    # Integrate\n",
    "    p, m, r_arr, v, w, u = tov(EOS, init_VEC, r_i, p_min,omega, l = l)\n",
    "\n",
    "    max_idx = np.argmax(m)\n",
    "    m_R = m.max() # In units of msun\n",
    "    r_R = r_arr[max_idx] # In units of km\n",
    "    p_R = p[max_idx] #cgs\n",
    "    ec_R = EOS(p_R) #cgs\n",
    "    u_R = u[max_idx] #cgs\n",
    "    v_R = v[max_idx]\n",
    "    w_R = w[max_idx]\n",
    "\n",
    "    schild = (1-2*G*m_R/(c**2*r_R))\n",
    "    interior = np.exp(v_R)\n",
    "    # Computer new v0, W0, U0\n",
    "    v_ext = np.log(schild) #At surface\n",
    "    v_int = v_R #At surface\n",
    "    delta_v = v_int - v_ext\n",
    "    v0 =  v0 - delta_v\n",
    "    W0 = 1\n",
    "    U0 = W0/(l * np.exp(v0))\n",
    "    init_VEC = [p_c, m0, v0, W0, U0]\n",
    "\n",
    "    p, m, r_arr, v, w, u = tov(EOS, init_VEC, r_i, p_min, omega, l = l)\n",
    "\n",
    "    max_idx = np.argmax(m)\n",
    "    m_R = m.max() # In units of msun\n",
    "    r_R = r_arr[max_idx] # In units of km\n",
    "    p_R = p[max_idx] #cgs\n",
    "    ec_R = EOS(p_R) #cgs\n",
    "    u_R = u[max_idx] #cgs\n",
    "    v_R = v[max_idx]\n",
    "    w_R = w[max_idx]\n",
    "\n",
    "    schild = (1-2*G*m_R/(c**2*r_R))\n",
    "    interior = np.exp(v_R)\n",
    "    \n",
    "    def minimize_boundary_mass_plot(params, p = p, EOS = EOS):\n",
    "        # Repeat integration\n",
    "\n",
    "        omega = params\n",
    "\n",
    "        # Integrate\n",
    "        p, m, r_arr, v, w, u = tov(EOS, init_VEC, r_i, p_min, omega, l = l)\n",
    "\n",
    "        max_idx = np.argmax(m)\n",
    "        m_R = m.max() # In units of msun\n",
    "        r_R = r_arr[max_idx] # In units of km\n",
    "        p_R = p[max_idx] #cgs\n",
    "        ec_R = EOS(p_R) #cgs\n",
    "        u_R = u[max_idx] #cgs\n",
    "        v_R = v[max_idx]\n",
    "        w_R = w[max_idx] \n",
    "\n",
    "        loss = np.log10(abs(boundary_wu(r_R, m_R, omega, w_R, u_R)))\n",
    "        return loss\n",
    "\n",
    "    omega_guess = 0.1e3*(2*np.pi)\n",
    "    init_guess = [omega_guess]\n",
    "    res = minimize(minimize_boundary_mass_plot, x0 = init_guess, \n",
    "                   method='Nelder-Mead', \n",
    "                   options = {\"disp\": False, \"maxiter\":15},\n",
    "                   tol = 1)\n",
    "\n",
    "    omg = res.x[0]\n",
    "    f = omg/(2*np.pi)\n",
    "    return f, m_R, r_R, k"
   ]
  },
  {
   "cell_type": "code",
   "execution_count": 4,
   "metadata": {
    "scrolled": false
   },
   "outputs": [
    {
     "ename": "NameError",
     "evalue": "name 'ind_stop' is not defined",
     "output_type": "error",
     "traceback": [
      "\u001b[0;31m---------------------------------------------------------------------------\u001b[0m",
      "\u001b[0;31mNameError\u001b[0m                                 Traceback (most recent call last)",
      "\u001b[0;32m<ipython-input-4-93540389d405>\u001b[0m in \u001b[0;36m<module>\u001b[0;34m\u001b[0m\n\u001b[1;32m     42\u001b[0m     \u001b[0mjump\u001b[0m \u001b[0;34m=\u001b[0m \u001b[0;36m5\u001b[0m\u001b[0;34m\u001b[0m\u001b[0;34m\u001b[0m\u001b[0m\n\u001b[1;32m     43\u001b[0m \u001b[0;34m\u001b[0m\u001b[0m\n\u001b[0;32m---> 44\u001b[0;31m \u001b[0mvals\u001b[0m \u001b[0;34m=\u001b[0m \u001b[0mrange\u001b[0m\u001b[0;34m(\u001b[0m\u001b[0mind_stop\u001b[0m\u001b[0;34m,\u001b[0m \u001b[0mind_start\u001b[0m\u001b[0;34m+\u001b[0m\u001b[0;36m1\u001b[0m\u001b[0;34m,\u001b[0m \u001b[0;36m1\u001b[0m\u001b[0;34m)\u001b[0m\u001b[0;34m[\u001b[0m\u001b[0;34m:\u001b[0m\u001b[0;34m:\u001b[0m\u001b[0;34m-\u001b[0m\u001b[0mjump\u001b[0m\u001b[0;34m]\u001b[0m\u001b[0;34m\u001b[0m\u001b[0;34m\u001b[0m\u001b[0m\n\u001b[0m\u001b[1;32m     45\u001b[0m \u001b[0;34m\u001b[0m\u001b[0m\n\u001b[1;32m     46\u001b[0m results = Parallel(n_jobs=-2, \n",
      "\u001b[0;31mNameError\u001b[0m: name 'ind_stop' is not defined"
     ]
    }
   ],
   "source": [
    "f_mode_list = []\n",
    "mass_list = []\n",
    "radius_list = []\n",
    "\n",
    "if path == \"eos_data/nl3cr_short.csv\":\n",
    "    print(\"EOS: NL3CR (Short)\")\n",
    "    ind_start = -4\n",
    "    ind_stop = -1180\n",
    "    jump = 20 # Default should be 1 for small EOS data\n",
    "    \n",
    "if path == \"eos_data/nl3cr.csv\" :\n",
    "    print(\"EOS: NL3CR (Full)\")\n",
    "    ind_start = -2\n",
    "    ind_stop = -1140\n",
    "    jump = 20 # Default should be 1 for small EOS data\n",
    "    \n",
    "if (path == \"eos_data/sly230a_short.csv\") \\\n",
    "    or (path ==\"eos_data/sly230a.csv\"):\n",
    "    print(\"EOS: SLY230A (Full)\")\n",
    "    ind_start = -10\n",
    "    ind_stop = -120\n",
    "    jump = 5 # Default should be 1 for small EOS data\n",
    "    \n",
    "if path == \"eos_data/sly_short.csv\":\n",
    "    print(\"EOS: SLY4 (Short)\")\n",
    "    ind_start = -2\n",
    "    ind_stop = -28\n",
    "    jump = 1 # Default should be 1 for small EOS data\n",
    "    \n",
    "if path == \"eos_data/sly.csv\": \n",
    "    print(\"EOS: SLY4 (Full)\")\n",
    "    ind_start = -2\n",
    "    ind_stop = -35\n",
    "    jump = 1 # Default should be 1 for small EOS data\n",
    "\n",
    "if path == \"2205.02081/SLY4.csv\": \n",
    "    print(\"EOS: SLY4 (arXiv 2205.02081)\")\n",
    "    ind_start = -1\n",
    "    ind_stop = -1200\n",
    "    jump = 20 # Default should be 1 for small EOS data\n",
    "    \n",
    "path2 = None\n",
    "# path2 = \"polytrope\"\n",
    "    \n",
    "if path2 == \"polytrope\":\n",
    "    ind_start = -2\n",
    "    ind_stop = -200\n",
    "    jump = 5\n",
    "    \n",
    "vals = range(ind_stop, ind_start+1, 1)[::-jump]\n",
    "\n",
    "results = Parallel(n_jobs=-2, \n",
    "                   verbose=0,\n",
    "                   max_nbytes='8M')(delayed(process)(k) for k in tqdm(vals))"
   ]
  },
  {
   "cell_type": "code",
   "execution_count": null,
   "metadata": {},
   "outputs": [],
   "source": [
    "mass_arr = np.array(results).T[1]\n",
    "f_mode_arr = np.array(np.array(results).T[0])\n",
    "radius_arr = np.array(results).T[2]\n",
    "idx_arr = np.array(results).T[3]\n",
    "hz2khz = 1e-3"
   ]
  },
  {
   "cell_type": "code",
   "execution_count": null,
   "metadata": {},
   "outputs": [],
   "source": [
    "mass_arr"
   ]
  },
  {
   "cell_type": "code",
   "execution_count": null,
   "metadata": {},
   "outputs": [],
   "source": [
    "max_idx = mass_arr.argmax()\n",
    "# idx_arr[(np.abs(mass_arr/msun - 1.4)).argmin()]"
   ]
  },
  {
   "cell_type": "code",
   "execution_count": null,
   "metadata": {},
   "outputs": [],
   "source": [
    "mass_arr = mass_arr[max_idx:]\n",
    "f_mode_arr = f_mode_arr[max_idx:]\n",
    "radius_arr = radius_arr[max_idx:]"
   ]
  },
  {
   "cell_type": "code",
   "execution_count": null,
   "metadata": {},
   "outputs": [],
   "source": [
    "max_idx_new = mass_arr.argmax()\n",
    "\n",
    "print(f\"M_max = {mass_arr[max_idx_new]/msun}\")\n",
    "print(f\"R_max = {radius_arr[max_idx_new]/km2cm}\")\n",
    "print(f\"f_max = {f_mode_arr[max_idx_new]}\")\n",
    "\n",
    "print()\n",
    "solar_idx = (np.abs(mass_arr/msun - 1.4)).argmin()\n",
    "print(f\"M_1.4 = {mass_arr[solar_idx]/msun}\")\n",
    "print(f\"R_1.4 = {radius_arr[solar_idx]/km2cm}\")\n",
    "print(f\"f_1.4 = {f_mode_arr[solar_idx]}\")"
   ]
  },
  {
   "cell_type": "code",
   "execution_count": null,
   "metadata": {},
   "outputs": [],
   "source": [
    "# mass_arr = np.array(mass_list)\n",
    "# f_mode_arr = np.array(f_mode_list)\n",
    "# radius_arr = np.array(radius_list)\n",
    "# hz2khz = 1e-3\n",
    "\n",
    "plt.figure(dpi = 300)\n",
    "plt.tight_layout()\n",
    "plt.scatter(mass_arr/msun, f_mode_arr*hz2khz, c = radius_arr/km2cm, marker = \"x\", \n",
    "            cmap = \"plasma\")\n",
    "plt.xlabel(\"Mass/Msun\")\n",
    "plt.ylabel(\"fmode (kHz)\")\n",
    "cbar = plt.colorbar()\n",
    "cbar.set_label('Radius (km)', rotation=-90, labelpad=15)\n",
    "# utkarshGrid()\n",
    "plt.xlim(1, 2.5)\n",
    "plt.ylim(1.5, 3.5)\n",
    "plt.show()"
   ]
  },
  {
   "cell_type": "code",
   "execution_count": null,
   "metadata": {},
   "outputs": [],
   "source": [
    "plt.plot(np.sqrt((mass_arr/msun)/((radius_arr/km2cm)**3)), f_mode_arr*hz2khz)\n",
    "plt.xlabel(\"√M/R^3\")\n",
    "plt.ylabel(\"fmode (kHz)\")\n",
    "plt.xlim(0.02, 0.05)\n",
    "plt.ylim(1.4, 3)\n",
    "plt.show()"
   ]
  },
  {
   "cell_type": "code",
   "execution_count": null,
   "metadata": {},
   "outputs": [],
   "source": [
    "# plt.plot(np.sqrt((mass_arr/(1.4*msun))/((radius_arr/(10*km2cm))**3)), f_mode_arr*hz2khz)\n",
    "# plt.ylabel(\"f(khz)\")\n",
    "# plt.show()"
   ]
  },
  {
   "cell_type": "code",
   "execution_count": null,
   "metadata": {},
   "outputs": [],
   "source": [
    "plt.plot(radius_arr/km2cm, mass_arr/msun)\n",
    "plt.xlabel(\"Radius (km)\")\n",
    "plt.ylabel(\"Mass (Msun)\")\n",
    "plt.show()"
   ]
  },
  {
   "cell_type": "code",
   "execution_count": null,
   "metadata": {},
   "outputs": [],
   "source": [
    "# np.savetxt(\"mr_sly.csv\", np.array([radius_arr, mass_arr]).T)"
   ]
  }
 ],
 "metadata": {
  "kernelspec": {
   "display_name": "Python 3",
   "language": "python",
   "name": "python3"
  },
  "language_info": {
   "codemirror_mode": {
    "name": "ipython",
    "version": 3
   },
   "file_extension": ".py",
   "mimetype": "text/x-python",
   "name": "python",
   "nbconvert_exporter": "python",
   "pygments_lexer": "ipython3",
   "version": "3.8.6"
  }
 },
 "nbformat": 4,
 "nbformat_minor": 4
}
