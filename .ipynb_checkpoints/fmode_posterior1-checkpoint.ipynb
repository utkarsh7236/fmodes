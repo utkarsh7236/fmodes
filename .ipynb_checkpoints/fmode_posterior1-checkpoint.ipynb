{
 "cells": [
  {
   "cell_type": "code",
   "execution_count": null,
   "metadata": {},
   "outputs": [],
   "source": [
    "%%capture\n",
    "%run general_relativity/fModes.py\n",
    "\n",
    "import h5py\n",
    "from tqdm.notebook import tqdm_notebook as tqdm\n",
    "from os import listdir\n",
    "import time"
   ]
  },
  {
   "cell_type": "code",
   "execution_count": null,
   "metadata": {},
   "outputs": [],
   "source": [
    "def listdir_nohidden(path):\n",
    "    for f in listdir(path):\n",
    "        if not f.startswith('.'):\n",
    "            yield f"
   ]
  },
  {
   "cell_type": "code",
   "execution_count": null,
   "metadata": {},
   "outputs": [],
   "source": [
    "saved_path = \"/Users/utkarsh/PycharmProjects/fmodes/posterior_fmodes/\"\n",
    "curr_list = list(listdir_nohidden(saved_path))"
   ]
  },
  {
   "cell_type": "code",
   "execution_count": null,
   "metadata": {},
   "outputs": [],
   "source": [
    "data = h5py.File('/Users/utkarsh/Downloads/LCEHL_EOS_posterior_samples_PSR+GW+NICER.h5', 'r') # EOS posterior conditioned on PSR observations\n",
    "eos = data[\"eos\"]\n",
    "names = list(data[\"eos\"].keys())"
   ]
  },
  {
   "cell_type": "code",
   "execution_count": null,
   "metadata": {
    "scrolled": false
   },
   "outputs": [],
   "source": [
    "%%time\n",
    "vals = range(len(names))\n",
    "pbar = tqdm(total=len(vals))\n",
    "for i in vals:\n",
    "    eos_name = names[i]\n",
    "    if (eos_name + \".csv\") in curr_list:\n",
    "        print(f\"[STATUS] {eos_name} already optimized... Skipping\")\n",
    "        pbar.update(1)\n",
    "        time.sleep(0.05)\n",
    "        continue\n",
    "    fmodes1 = fmodes()\n",
    "    fmodes1.set_EOS(\"/Users/utkarsh/PycharmProjects/fmodes/LCEHL_EOS_posterior_samples/\" + eos_name + \".csv\")\n",
    "    try:\n",
    "        fmodes1.parallel_simulation()\n",
    "    except:\n",
    "        print(f\"[ERROR] Integration Failure: {eos_name}... Skipping\")\n",
    "        pbar.update(1)\n",
    "        time.sleep(0.01)\n",
    "        continue\n",
    "#     fmodes1.print_results()\n",
    "    fmodes1.plot_fmass()\n",
    "\n",
    "    res = np.array([fmodes1.mass_arr, fmodes1.radius_arr, fmodes1.f_mode_arr])\n",
    "    np.savetxt(\"posterior_fmodes/\"+eos_name+\".csv\", res.T, \n",
    "                   header = \"mass,radius,fmode\", \n",
    "                   comments = \"\", \n",
    "                  delimiter = \",\")\n",
    "    pbar.update(1)\n",
    "    time.sleep(0.01)\n",
    "    print(f\"[STATUS] Completed {eos_name}...\")\n",
    "pbar.close()"
   ]
  },
  {
   "cell_type": "code",
   "execution_count": null,
   "metadata": {},
   "outputs": [],
   "source": []
  }
 ],
 "metadata": {
  "kernelspec": {
   "display_name": "Python 3",
   "language": "python",
   "name": "python3"
  },
  "language_info": {
   "codemirror_mode": {
    "name": "ipython",
    "version": 3
   },
   "file_extension": ".py",
   "mimetype": "text/x-python",
   "name": "python",
   "nbconvert_exporter": "python",
   "pygments_lexer": "ipython3",
   "version": "3.8.6"
  }
 },
 "nbformat": 4,
 "nbformat_minor": 4
}
