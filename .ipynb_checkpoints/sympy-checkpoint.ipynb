{
 "cells": [
  {
   "cell_type": "code",
   "execution_count": 1,
   "metadata": {},
   "outputs": [
    {
     "name": "stdout",
     "output_type": "stream",
     "text": [
      "Populating the interactive namespace from numpy and matplotlib\n"
     ]
    }
   ],
   "source": [
    "%pylab inline\n",
    "from sympy import *\n",
    "init_printing(use_latex='mathjax')\n",
    "r = symbols(\"r\")\n",
    "m = Function(\"m\")(r)\n",
    "nu = Function(r\"\\nu\")(r)\n",
    "p = Function(\"p\")(r)\n",
    "b = Function(\"b\")(r)\n",
    "Q = Function(\"Q\")(r)\n",
    "lamda = Function(\"\\lambda\")(r)\n",
    "G, c = symbols(\"G c\")\n",
    "b_sub = G * m / (c**2 * r)\n",
    "Q_sub = b + 4 * pi * G * (r**2)/(c**4) * p\n",
    "lamda_sub = 1/sqrt(1-2*b)\n",
    "expr = exp(lamda)*Q/(r**3)\n",
    "expr = expr.subs(Q, Q_sub)\n",
    "expr = expr.subs(lamda, lamda_sub)\n",
    "expr = expr.subs(b, b_sub)\n",
    "dr_expr = simplify(expr.diff(r))"
   ]
  },
  {
   "cell_type": "code",
   "execution_count": 2,
   "metadata": {},
   "outputs": [
    {
     "data": {
      "text/latex": [
       "$\\displaystyle \\frac{Q{\\left(r \\right)} e^{\\frac{\\lambda{\\left(r \\right)}}{2}}}{r^{3}}$"
      ],
      "text/plain": [
       "      \\lambda(r)\n",
       "      ──────────\n",
       "          2     \n",
       "Q(r)⋅ℯ          \n",
       "────────────────\n",
       "        3       \n",
       "       r        "
      ]
     },
     "metadata": {},
     "output_type": "display_data"
    },
    {
     "data": {
      "text/latex": [
       "$\\displaystyle \\frac{\\frac{G m{\\left(r \\right)}}{c^{2} r} + \\frac{4 \\pi G r^{2} p{\\left(r \\right)}}{c^{4}}}{r^{3} \\sqrt[4]{- \\frac{2 G m{\\left(r \\right)}}{c^{2} r} + 1}}$"
      ],
      "text/plain": [
       "                 2      \n",
       " G⋅m(r)   4⋅π⋅G⋅r ⋅p(r) \n",
       " ────── + ───────────── \n",
       "   2             4      \n",
       "  c ⋅r          c       \n",
       "────────────────────────\n",
       "        ________________\n",
       " 3     ╱   2⋅G⋅m(r)     \n",
       "r ⋅   ╱  - ──────── + 1 \n",
       "   4 ╱        2         \n",
       "   ╲╱        c ⋅r       "
      ]
     },
     "metadata": {},
     "output_type": "display_data"
    },
    {
     "data": {
      "text/latex": [
       "$\\displaystyle \\frac{G \\left(G \\left(c^{2} m{\\left(r \\right)} + 4 \\pi r^{3} p{\\left(r \\right)}\\right) \\left(r \\frac{d}{d r} m{\\left(r \\right)} - m{\\left(r \\right)}\\right) - 6 \\left(- 2 G m{\\left(r \\right)} + c^{2} r\\right) \\left(c^{2} m{\\left(r \\right)} + 4 \\pi r^{3} p{\\left(r \\right)}\\right) + 2 \\left(- 2 G m{\\left(r \\right)} + c^{2} r\\right) \\left(c^{2} r \\frac{d}{d r} m{\\left(r \\right)} - c^{2} m{\\left(r \\right)} + 4 \\pi r^{3} \\left(r \\frac{d}{d r} p{\\left(r \\right)} + 2 p{\\left(r \\right)}\\right)\\right)\\right)}{2 c^{6} r^{6} \\left(\\frac{- 2 G m{\\left(r \\right)} + c^{2} r}{c^{2} r}\\right)^{\\frac{5}{4}}}$"
      ],
      "text/plain": [
       "  ⎛  ⎛ 2             3     ⎞ ⎛  d              ⎞     ⎛             2  ⎞ ⎛ 2   \n",
       "G⋅⎜G⋅⎝c ⋅m(r) + 4⋅π⋅r ⋅p(r)⎠⋅⎜r⋅──(m(r)) - m(r)⎟ - 6⋅⎝-2⋅G⋅m(r) + c ⋅r⎠⋅⎝c ⋅m(\n",
       "  ⎝                          ⎝  dr             ⎠                              \n",
       "──────────────────────────────────────────────────────────────────────────────\n",
       "                                                                              \n",
       "                                                                              \n",
       "                                                                            6 \n",
       "                                                                         2⋅c ⋅\n",
       "                                                                              \n",
       "                                                                              \n",
       "\n",
       "          3     ⎞     ⎛             2  ⎞ ⎛ 2   d           2             3 ⎛  \n",
       "r) + 4⋅π⋅r ⋅p(r)⎠ + 2⋅⎝-2⋅G⋅m(r) + c ⋅r⎠⋅⎜c ⋅r⋅──(m(r)) - c ⋅m(r) + 4⋅π⋅r ⋅⎜r⋅\n",
       "                                         ⎝     dr                          ⎝  \n",
       "──────────────────────────────────────────────────────────────────────────────\n",
       "                     5/4                                                      \n",
       "   ⎛             2  ⎞                                                         \n",
       " 6 ⎜-2⋅G⋅m(r) + c ⋅r⎟                                                         \n",
       "r ⋅⎜────────────────⎟                                                         \n",
       "   ⎜       2        ⎟                                                         \n",
       "   ⎝      c ⋅r      ⎠                                                         \n",
       "\n",
       "d                ⎞⎞⎞\n",
       "──(p(r)) + 2⋅p(r)⎟⎟⎟\n",
       "dr               ⎠⎠⎠\n",
       "────────────────────\n",
       "                    \n",
       "                    \n",
       "                    \n",
       "                    \n",
       "                    \n",
       "                    "
      ]
     },
     "execution_count": 2,
     "metadata": {},
     "output_type": "execute_result"
    }
   ],
   "source": [
    "b_sub = G * m / (c**2 * r)\n",
    "Q_sub = b + 4 * pi * G * (r**2)/(c**4) * p\n",
    "lamda_sub = ln(1/sqrt(1-2*b))\n",
    "expr = exp(lamda/2)*Q/(r**3)\n",
    "display(expr)\n",
    "expr = expr.subs(Q, Q_sub)\n",
    "expr = expr.subs(lamda, lamda_sub)\n",
    "expr = expr.subs(b, b_sub)\n",
    "display(expr)\n",
    "dr_expr = simplify(expr.diff(r))\n",
    "dr_expr"
   ]
  },
  {
   "cell_type": "code",
   "execution_count": 3,
   "metadata": {},
   "outputs": [
    {
     "name": "stdout",
     "output_type": "stream",
     "text": [
      "G*(G*(dMdr*r - m)*(4*pi*P*r**3 + c**2*m) - 6*(-2*G*m + c**2*r)*(4*pi*P*r**3 + c**2*m) + 2*(-2*G*m + c**2*r)*(c**2*dMdr*r - c**2*m + 4*pi*r**3*(2*P + dPdr*r)))/(2*c**6*r**6*((-2*G*m + c**2*r)/(c**2*r))**(5/4))\n"
     ]
    }
   ],
   "source": [
    "print(dr_expr\\\n",
    "      .subs(m.diff(r), symbols(\"dMdr\"))\\\n",
    "      .subs(p.diff(r), symbols(\"dPdr\"))\\\n",
    "      .subs(m, symbols(\"m\"))\\\n",
    "      .subs(p, symbols(\"P\")))"
   ]
  },
  {
   "cell_type": "code",
   "execution_count": 4,
   "metadata": {},
   "outputs": [
    {
     "data": {
      "text/latex": [
       "$\\displaystyle \\frac{e^{\\frac{\\lambda{\\left(r \\right)}}{2}} \\frac{d}{d r} \\nu{\\left(r \\right)}}{r^{2}}$"
      ],
      "text/plain": [
       " \\lambda(r)           \n",
       " ──────────           \n",
       "     2      d         \n",
       "ℯ          ⋅──(\\nu(r))\n",
       "            dr        \n",
       "──────────────────────\n",
       "           2          \n",
       "          r           "
      ]
     },
     "metadata": {},
     "output_type": "display_data"
    },
    {
     "data": {
      "text/latex": [
       "$\\displaystyle \\frac{\\frac{d}{d r} \\nu{\\left(r \\right)}}{r^{2} \\sqrt[4]{- \\frac{2 G m{\\left(r \\right)}}{c^{2} r} + 1}}$"
      ],
      "text/plain": [
       "       d                \n",
       "       ──(\\nu(r))       \n",
       "       dr               \n",
       "────────────────────────\n",
       "        ________________\n",
       " 2     ╱   2⋅G⋅m(r)     \n",
       "r ⋅   ╱  - ──────── + 1 \n",
       "   4 ╱        2         \n",
       "   ╲╱        c ⋅r       "
      ]
     },
     "metadata": {},
     "output_type": "display_data"
    }
   ],
   "source": [
    "b_sub = G * m / (c**2 * r)\n",
    "Q_sub = b + 4 * pi * G * (r**2)/(c**4) * p\n",
    "lamda_sub = ln(1/sqrt(1-2*b))\n",
    "dnudr = nu.diff(r)\n",
    "expr = exp(lamda/2)*dnudr/(r**2)\n",
    "display(expr)\n",
    "expr = expr.subs(Q, Q_sub)\n",
    "expr = expr.subs(lamda, lamda_sub)\n",
    "expr = expr.subs(b, b_sub)\n",
    "display(expr)\n",
    "dr_expr = simplify(expr.diff(r))"
   ]
  },
  {
   "cell_type": "code",
   "execution_count": 5,
   "metadata": {},
   "outputs": [
    {
     "name": "stdout",
     "output_type": "stream",
     "text": [
      "(G*dnudr*(dMdr*r - m)/2 - 2*dnudr*(-2*G*m + c**2*r) + r*(-2*G*m + c**2*r)*Derivative(dnudr, r))/(c**2*r**4*((-2*G*m + c**2*r)/(c**2*r))**(5/4))\n"
     ]
    }
   ],
   "source": [
    "print(dr_expr\\\n",
    "      .subs(m.diff(r), symbols(\"dMdr\"))\\\n",
    "      .subs(p.diff(r), symbols(\"dPdr\"))\\\n",
    "      .subs(nu.diff(r), symbols(\"dnudr\"))\\\n",
    "      .subs(m, symbols(\"m\"))\\\n",
    "      .subs(p, symbols(\"P\")))"
   ]
  },
  {
   "cell_type": "code",
   "execution_count": 6,
   "metadata": {},
   "outputs": [],
   "source": [
    "# k = 1/(1-2*b)\n",
    "# print(k.subs(b, b_sub)\\\n",
    "#          .diff(r)\\\n",
    "#          .subs(m.diff(r), 0)\\\n",
    "#          .subs(m, symbols(\"m\")))"
   ]
  },
  {
   "cell_type": "code",
   "execution_count": 7,
   "metadata": {},
   "outputs": [
    {
     "name": "stdout",
     "output_type": "stream",
     "text": [
      "-2*G*c**2*m/(2*G*m - c**2*r)**2\n"
     ]
    }
   ],
   "source": [
    "m_R = m\n",
    "r_star = r + 2 * (G/(c**2)) * m_R * log((r*(c**2))/(2*G*m_R) - 1)\n",
    "print(r_star.diff(r).diff(r).subs(m.diff(r), 0).simplify().subs(m, symbols(\"m\")))"
   ]
  },
  {
   "cell_type": "code",
   "execution_count": 8,
   "metadata": {},
   "outputs": [
    {
     "data": {
      "text/latex": [
       "$\\displaystyle \\left[\\begin{matrix}Z_{-}(\\omega) & Z_{+}(\\omega)\\\\dZ_{-}/dr* & dZ_{+}/dr*\\end{matrix}\\right]$"
      ],
      "text/plain": [
       "⎡Z_{-}(\\omega)  Z_{+}(\\omega)⎤\n",
       "⎢                            ⎥\n",
       "⎣ dZ_{-}/dr*     dZ_{+}/dr*  ⎦"
      ]
     },
     "metadata": {},
     "output_type": "display_data"
    },
    {
     "data": {
      "text/latex": [
       "$\\displaystyle \\left[\\begin{matrix}Z(\\omega)\\\\dZ/dr*\\end{matrix}\\right]$"
      ],
      "text/plain": [
       "⎡Z(\\omega)⎤\n",
       "⎢         ⎥\n",
       "⎣ dZ/dr*  ⎦"
      ]
     },
     "metadata": {},
     "output_type": "display_data"
    },
    {
     "data": {
      "text/latex": [
       "$\\displaystyle \\left[\\begin{matrix}- \\frac{dZ_{+}/dr*}{Z_{+}(\\omega) dZ_{-}/dr* - Z_{-}(\\omega) dZ_{+}/dr*} & \\frac{Z_{+}(\\omega)}{Z_{+}(\\omega) dZ_{-}/dr* - Z_{-}(\\omega) dZ_{+}/dr*}\\\\\\frac{dZ_{-}/dr*}{Z_{+}(\\omega) dZ_{-}/dr* - Z_{-}(\\omega) dZ_{+}/dr*} & - \\frac{Z_{-}(\\omega)}{Z_{+}(\\omega) dZ_{-}/dr* - Z_{-}(\\omega) dZ_{+}/dr*}\\end{matrix}\\right]$"
      ],
      "text/plain": [
       "⎡                    -dZ_{+}/dr*                                         Z_{+}\n",
       "⎢───────────────────────────────────────────────────  ────────────────────────\n",
       "⎢Z_{+}(\\omega)⋅dZ_{-}/dr* - Z_{-}(\\omega)⋅dZ_{+}/dr*  Z_{+}(\\omega)⋅dZ_{-}/dr*\n",
       "⎢                                                                             \n",
       "⎢                     dZ_{-}/dr*                                        -Z_{-}\n",
       "⎢───────────────────────────────────────────────────  ────────────────────────\n",
       "⎣Z_{+}(\\omega)⋅dZ_{-}/dr* - Z_{-}(\\omega)⋅dZ_{+}/dr*  Z_{+}(\\omega)⋅dZ_{-}/dr*\n",
       "\n",
       "(\\omega)                   ⎤\n",
       "───────────────────────────⎥\n",
       " - Z_{-}(\\omega)⋅dZ_{+}/dr*⎥\n",
       "                           ⎥\n",
       "(\\omega)                   ⎥\n",
       "───────────────────────────⎥\n",
       " - Z_{-}(\\omega)⋅dZ_{+}/dr*⎦"
      ]
     },
     "metadata": {},
     "output_type": "display_data"
    }
   ],
   "source": [
    "Z_minus, Z_plus = symbols(\"Z_{-}(\\omega)\"), symbols(\"Z_{+}(\\omega)\")\n",
    "Zprime_minus, Zprime_plus = symbols(\"dZ_{-}/dr*\"), symbols(\"dZ_{+}/dr*\")\n",
    "Z, zprime = symbols(\"Z(\\omega)\"), symbols(r\"dZ/dr*\")\n",
    "Mat = Matrix([[Z_minus, Z_plus], [Zprime_minus, Zprime_plus]])\n",
    "Vec = Matrix([Z,zprime])\n",
    "display(Mat, Vec)\n",
    "display(simplify(Mat.inv()))"
   ]
  },
  {
   "cell_type": "code",
   "execution_count": 9,
   "metadata": {},
   "outputs": [
    {
     "data": {
      "text/latex": [
       "$\\displaystyle \\left[\\begin{matrix}- \\frac{Z(\\omega) dZ_{+}/dr*}{Z_{+}(\\omega) dZ_{-}/dr* - Z_{-}(\\omega) dZ_{+}/dr*} + \\frac{Z_{+}(\\omega) dZ/dr*}{Z_{+}(\\omega) dZ_{-}/dr* - Z_{-}(\\omega) dZ_{+}/dr*}\\\\- \\frac{Z(\\omega) dZ_{-}/dr*}{- Z_{+}(\\omega) dZ_{-}/dr* + Z_{-}(\\omega) dZ_{+}/dr*} + \\frac{Z_{-}(\\omega) dZ/dr*}{- Z_{+}(\\omega) dZ_{-}/dr* + Z_{-}(\\omega) dZ_{+}/dr*}\\end{matrix}\\right]$"
      ],
      "text/plain": [
       "⎡                   Z(\\omega)⋅dZ_{+}/dr*                                  Z_{+\n",
       "⎢ - ─────────────────────────────────────────────────── + ────────────────────\n",
       "⎢   Z_{+}(\\omega)⋅dZ_{-}/dr* - Z_{-}(\\omega)⋅dZ_{+}/dr*   Z_{+}(\\omega)⋅dZ_{-}\n",
       "⎢                                                                             \n",
       "⎢                  Z(\\omega)⋅dZ_{-}/dr*                                   Z_{-\n",
       "⎢- ──────────────────────────────────────────────────── + ────────────────────\n",
       "⎣  -Z_{+}(\\omega)⋅dZ_{-}/dr* + Z_{-}(\\omega)⋅dZ_{+}/dr*   -Z_{+}(\\omega)⋅dZ_{-\n",
       "\n",
       "}(\\omega)⋅dZ/dr*                ⎤\n",
       "─────────────────────────────── ⎥\n",
       "/dr* - Z_{-}(\\omega)⋅dZ_{+}/dr* ⎥\n",
       "                                ⎥\n",
       "}(\\omega)⋅dZ/dr*                ⎥\n",
       "────────────────────────────────⎥\n",
       "}/dr* + Z_{-}(\\omega)⋅dZ_{+}/dr*⎦"
      ]
     },
     "metadata": {},
     "output_type": "display_data"
    }
   ],
   "source": [
    "display(((Mat.inv())*Vec))\n",
    "A_minus = ((Mat.inv())*Vec)[0]\n",
    "A_plus = ((Mat.inv())*Vec)[1]"
   ]
  },
  {
   "cell_type": "code",
   "execution_count": 10,
   "metadata": {},
   "outputs": [
    {
     "name": "stdout",
     "output_type": "stream",
     "text": [
      "-zFinal*zPrimeMinus/(zMinus*zPrimePlus - zPlus*zPrimeMinus) + zMinus*zPrimeFinal/(zMinus*zPrimePlus - zPlus*zPrimeMinus)\n"
     ]
    }
   ],
   "source": [
    "print(A_plus\\\n",
    "      .subs(Z_minus, symbols(\"zMinus\"))\\\n",
    "      .subs(Z_plus, symbols(\"zPlus\"))\\\n",
    "      .subs(Zprime_minus, symbols(\"zPrimeMinus\"))\\\n",
    "      .subs(Zprime_plus, symbols(\"zPrimePlus\"))\\\n",
    "      .subs(Z, symbols(\"zFinal\"))\\\n",
    "      .subs(zprime, symbols(\"zPrimeFinal\")))"
   ]
  },
  {
   "cell_type": "code",
   "execution_count": 11,
   "metadata": {},
   "outputs": [
    {
     "name": "stdout",
     "output_type": "stream",
     "text": [
      "-zFinal*zPrimePlus/(-zMinus*zPrimePlus + zPlus*zPrimeMinus) + zPlus*zPrimeFinal/(-zMinus*zPrimePlus + zPlus*zPrimeMinus)\n"
     ]
    }
   ],
   "source": [
    "print(A_minus\\\n",
    "      .subs(Z_minus, symbols(\"zMinus\"))\\\n",
    "      .subs(Z_plus, symbols(\"zPlus\"))\\\n",
    "      .subs(Zprime_minus, symbols(\"zPrimeMinus\"))\\\n",
    "      .subs(Zprime_plus, symbols(\"zPrimePlus\"))\\\n",
    "      .subs(Z, symbols(\"zFinal\"))\\\n",
    "      .subs(zprime, symbols(\"zPrimeFinal\")))"
   ]
  },
  {
   "cell_type": "code",
   "execution_count": 12,
   "metadata": {},
   "outputs": [
    {
     "data": {
      "text/latex": [
       "$\\displaystyle \\left[\\begin{matrix}\\frac{k}{g k - h} & - \\frac{1}{g k - h}\\\\- \\frac{h}{g k - h} & \\frac{g}{g k - h}\\end{matrix}\\right]$"
      ],
      "text/plain": [
       "⎡   k       -1   ⎤\n",
       "⎢───────  ───────⎥\n",
       "⎢g⋅k - h  g⋅k - h⎥\n",
       "⎢                ⎥\n",
       "⎢  -h        g   ⎥\n",
       "⎢───────  ───────⎥\n",
       "⎣g⋅k - h  g⋅k - h⎦"
      ]
     },
     "execution_count": 12,
     "metadata": {},
     "output_type": "execute_result"
    }
   ],
   "source": [
    "K = symbols(\"K\")\n",
    "H1 = symbols(\"H_1\")\n",
    "g = symbols(\"g\")\n",
    "h = symbols(\"h\")\n",
    "k = symbols(\"k\")\n",
    "n = symbols(\"n\")\n",
    "b = symbols(\"b\")\n",
    "Z = symbols(\"Z\")\n",
    "Zprime = symbols(\"dZ/dr\")\n",
    "\n",
    "g_sub = (n * (n+1) + 3*n*b + 6*(b**2))/((n + 3*b))\n",
    "h_sub = (n - 3*n*b - 3*(b**2))/((1-2*b) * (n+3*b))\n",
    "k_sub = 1/(1-2*b)\n",
    "\n",
    "VEC = Matrix([K,H1])\n",
    "MAT = Matrix([[g, 1], [h, k]])\n",
    "MAT.inv()"
   ]
  },
  {
   "cell_type": "code",
   "execution_count": 22,
   "metadata": {},
   "outputs": [
    {
     "data": {
      "text/latex": [
       "$\\displaystyle \\frac{r \\left(- H_{1} + K k\\right)}{g k - h}$"
      ],
      "text/plain": [
       "r⋅(-H₁ + K⋅k)\n",
       "─────────────\n",
       "   g⋅k - h   "
      ]
     },
     "metadata": {},
     "output_type": "display_data"
    },
    {
     "data": {
      "text/latex": [
       "$\\displaystyle \\frac{H_{1} g - K h}{g k - h}$"
      ],
      "text/plain": [
       "H₁⋅g - K⋅h\n",
       "──────────\n",
       " g⋅k - h  "
      ]
     },
     "metadata": {},
     "output_type": "display_data"
    }
   ],
   "source": [
    "Z0 = simplify((MAT.inv()*VEC)[0] * r)\n",
    "dZdr0 = simplify((MAT.inv()*VEC)[1])\n",
    "display(Z0, dZdr0)"
   ]
  },
  {
   "cell_type": "code",
   "execution_count": 23,
   "metadata": {},
   "outputs": [
    {
     "name": "stdout",
     "output_type": "stream",
     "text": [
      "r*(Kr/(1 - 2*b) - h1r)/(-(-3*b**2 - 3*b*n + n)/((1 - 2*b)*(3*b + n)) + (6*b**2 + 3*b*n + n*(n + 1))/((1 - 2*b)*(3*b + n)))\n"
     ]
    }
   ],
   "source": [
    "print(Z0\n",
    "      .subs(H1, symbols(\"h1r\"))\\\n",
    "      .subs(K, symbols(\"Kr\"))\\\n",
    "      .subs(g, g_sub)\\\n",
    "      .subs(h, h_sub)\\\n",
    "      .subs(k, k_sub))"
   ]
  },
  {
   "cell_type": "code",
   "execution_count": 24,
   "metadata": {},
   "outputs": [
    {
     "name": "stdout",
     "output_type": "stream",
     "text": [
      "(-Kr*(-3*b**2 - 3*b*n + n)/((1 - 2*b)*(3*b + n)) + h1r*(6*b**2 + 3*b*n + n*(n + 1))/(3*b + n))/(-(-3*b**2 - 3*b*n + n)/((1 - 2*b)*(3*b + n)) + (6*b**2 + 3*b*n + n*(n + 1))/((1 - 2*b)*(3*b + n)))\n"
     ]
    }
   ],
   "source": [
    "print(dZdr0\n",
    "      .subs(H1, symbols(\"h1r\"))\\\n",
    "      .subs(K, symbols(\"Kr\"))\\\n",
    "      .subs(g, g_sub)\\\n",
    "      .subs(h, h_sub)\\\n",
    "      .subs(k, k_sub))"
   ]
  },
  {
   "cell_type": "code",
   "execution_count": null,
   "metadata": {},
   "outputs": [],
   "source": []
  }
 ],
 "metadata": {
  "kernelspec": {
   "display_name": "Python 3",
   "language": "python",
   "name": "python3"
  },
  "language_info": {
   "codemirror_mode": {
    "name": "ipython",
    "version": 3
   },
   "file_extension": ".py",
   "mimetype": "text/x-python",
   "name": "python",
   "nbconvert_exporter": "python",
   "pygments_lexer": "ipython3",
   "version": "3.8.6"
  }
 },
 "nbformat": 4,
 "nbformat_minor": 4
}
