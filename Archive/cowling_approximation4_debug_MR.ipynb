{
 "cells": [
  {
   "cell_type": "code",
   "execution_count": 1,
   "metadata": {},
   "outputs": [],
   "source": [
    "from scipy.integrate import ode\n",
    "from scipy.interpolate import interp1d\n",
    "import pandas as pd\n",
    "from astropy import units as u\n",
    "import numpy as np\n",
    "import matplotlib.pyplot as plt\n",
    "from tqdm.notebook import tqdm_notebook as tqdm\n",
    "import time\n",
    "from scipy.optimize import minimize, approx_fprime"
   ]
  },
  {
   "cell_type": "code",
   "execution_count": 2,
   "metadata": {},
   "outputs": [],
   "source": [
    "import matplotlib as mpl\n",
    "# mpl.rcParams['figure.dpi'] = 1000\n",
    "mpl.rcParams['legend.frameon'] = False\n",
    "mpl.rcParams['figure.autolayout'] = True \n",
    "# mpl.rcParams['axes.spines.right'] = False\n",
    "# mpl.rcParams['axes.spines.top'] = False\n",
    "\n",
    "\n",
    "# plt.rcParams.update({\n",
    "#     \"text.usetex\": True,\n",
    "#     \"font.family\": \"sans-serif\",\n",
    "#     \"font.sans-serif\": [\"Helvetica\"]})\n",
    "\n",
    "# plt.rcParams.update({\n",
    "#     \"text.usetex\": True,\n",
    "#     \"font.family\": \"serif\",\n",
    "#     \"font.serif\": [\"Palatino\"],\n",
    "# })\n",
    "\n",
    "def utkarshGrid():\n",
    "    plt.minorticks_on()\n",
    "    plt.grid(color='grey',\n",
    "             which='minor',\n",
    "             linestyle=\":\",\n",
    "             linewidth='0.1',\n",
    "             )\n",
    "    plt.grid(color='black',\n",
    "             which='major',\n",
    "             linestyle=\":\",\n",
    "             linewidth='0.1',\n",
    "             )"
   ]
  },
  {
   "cell_type": "code",
   "execution_count": 3,
   "metadata": {},
   "outputs": [],
   "source": [
    "G = 6.67259e-8 # dyne cm2 g-2\n",
    "c = 2.99792458e10 # cms-1\n",
    "n_den = 2.3e14\n",
    "km2cm = 1e5\n",
    "msun = 1.98847e33\n",
    "\n",
    "# path = \"eos_data/nl3cr_short.csv\" # Trimmed ~50 lines\n",
    "# path = \"eos_data/sly230a_short.csv\" # No difference from sly230a\n",
    "# path = \"eos_data/sly_short.csv\" # Trimmed ~30 lines\n",
    "path = \"eos_data/sly230a.csv\"\n",
    "# path = \"eos_data/sly.csv\" \n",
    "# path = \"eos_data/nl3cr.csv\" \n",
    "\n",
    "# DIMENSIONS CHECKED\n",
    "def lamba_metric(M, R):\n",
    "    # Removed factor of 2 since the paper didnt implement it. \n",
    "    return -np.log((1-2*G*M/(c**2*R)))\n",
    "\n",
    "def df_to_ep(df):\n",
    "    e_den = df.energy_densityc2\n",
    "    e_den_normed = e_den#/n_den\n",
    "    p = df.pressurec2\n",
    "    e_den_normed = e_den_normed*((2.99792458e10)**2)\n",
    "    pressure = p*((2.99792458e10)**2)\n",
    "    return e_den_normed.to_numpy(), pressure.to_numpy()\n",
    "\n",
    "## EOS DATA ###\n",
    "def get_ep(e, p):\n",
    "    f_e_smooth = interp1d(p, e, fill_value=(0, 0), kind = \"cubic\", bounds_error=True)\n",
    "#     f_e_smooth = interp1d(p, e, fill_value= \"extrapolate\", kind = \"cubic\")\n",
    "    return f_e_smooth\n",
    "\n",
    "# def get_ep(e, p):\n",
    "#     f_e_smooth = interp1d(p, e, fill_value = \"extrapolate\", kind = \"cubic\")\n",
    "#     return f_e_smooth\n",
    "\n",
    "def get_pe(p, e):\n",
    "    f_e_smooth = interp1d(e, p, fill_value=(0, 0), kind = \"cubic\", bounds_error=True)\n",
    "#     f_e_smooth = interp1d(e, p, fill_value=\"extrapolate\", kind = \"cubic\")\n",
    "    return f_e_smooth"
   ]
  },
  {
   "cell_type": "code",
   "execution_count": 4,
   "metadata": {},
   "outputs": [],
   "source": [
    "# Working in manual cgs units here. \n",
    "\n",
    "# DIMENSIONS CHECKED\n",
    "def _dMdr(r, e):\n",
    "    return 4 * np.pi * r**2 * (e/(c**2))\n",
    "\n",
    "# DIMENSIONS CHECKED\n",
    "def _b(r, M):\n",
    "    return (G*M)/((c**2)*r)\n",
    "\n",
    "# DIMENSIONS CHECKED\n",
    "def _dvdr(r, Q, lamda):\n",
    "    return (2/r) * np.exp(lamda) * Q\n",
    "\n",
    "# DIMENSIONS CHECKED\n",
    "def _Q(r, P, M):\n",
    "    frac = (4 * np.pi * G * (r**2)*P)/(c**4)\n",
    "    return _b(r, M) + frac\n",
    "\n",
    "# DIMENSIONS CHECKED\n",
    "def _dPdr(r, P, M, e):    \n",
    "    num = (M+4*np.pi*(r**3)*P/(c**2))\n",
    "    dem = r * (r-2*G*M/(c**2))\n",
    "    return -1 * (e+P) * G/(c**2) * num/dem"
   ]
  },
  {
   "cell_type": "code",
   "execution_count": 5,
   "metadata": {},
   "outputs": [],
   "source": [
    "# Working in manual cgs units here. \n",
    "\n",
    "# DIMENSIONS CHECKED\n",
    "def _dWdr(r, W, U, Q, lamda, l, omega, v, c_ad2):\n",
    "    term1 = -1*(l+1)*( W - l * np.exp(v + lamda/2) * U)\n",
    "    frac = -1 * ((omega*r)**2) * (np.exp(lamda/2)/(c_ad2))\n",
    "    term2 = frac * (U - np.exp(lamda/2)*Q*W*(c**2)/((omega*r)**2))\n",
    "    dWdlnr = term1 + term2\n",
    "    dWdr = 1/r * dWdlnr\n",
    "    return dWdr\n",
    "\n",
    "# DIMENSIONS CHECKED\n",
    "def _dUdr(r, W, U, lamda, l, v):\n",
    "    dUdlnr = np.exp(lamda/2 - v) * (W - l*(np.exp(v-lamda/2))*U)\n",
    "    dUdr = 1/r * dUdlnr\n",
    "    return dUdr"
   ]
  },
  {
   "cell_type": "code",
   "execution_count": 6,
   "metadata": {},
   "outputs": [],
   "source": [
    "# def _dWdr(r, V, W, phi, dphidr, drhodp, omega, lamda, l):\n",
    "#     term1 = (omega**2) * (r**2) * np.exp(lamda - 2*phi)*V\n",
    "#     term2 = dphidr * W * (c**2)\n",
    "#     brackets = term1 + term2\n",
    "#     ret = (drhodp * brackets) - l*(l+1)*np.exp(lamda)*V\n",
    "#     return ret\n",
    "\n",
    "# # DIMENSIONS CHECKED\n",
    "# def _dUdr(r, V, W, dphidr, lamda):\n",
    "#     return 2*dphidr*V - np.exp(lamda)*(W/(r**2))"
   ]
  },
  {
   "cell_type": "code",
   "execution_count": 7,
   "metadata": {},
   "outputs": [],
   "source": [
    "def e_func(P, p_0 = 1.67e14 * (c**2), K = 0.0195, gamma = 2.34):\n",
    "    ret = (p_0 * ((P)/(K*p_0)) ** (1/gamma) + P/(gamma - 1)) \n",
    "    return ret "
   ]
  },
  {
   "cell_type": "code",
   "execution_count": 8,
   "metadata": {},
   "outputs": [
    {
     "data": {
      "image/png": "[encoded data removed]",
      "text/plain": [
       "<Figure size 432x288 with 1 Axes>"
      ]
     },
     "metadata": {
      "needs_background": "light"
     },
     "output_type": "display_data"
    },
    {
     "data": {
      "image/png": "[encoded data removed]",
      "text/plain": [
       "<Figure size 432x288 with 1 Axes>"
      ]
     },
     "metadata": {
      "needs_background": "light"
     },
     "output_type": "display_data"
    }
   ],
   "source": [
    "df = pd.read_csv(path)\n",
    "e_old, p_old = df_to_ep(df)\n",
    "\n",
    "# p = p_old\n",
    "# e = e_func(p)\n",
    "\n",
    "### EOS DATA ###\n",
    "p = p_old\n",
    "e = e_old\n",
    " \n",
    "p_min = min(p)\n",
    "p_max = max(p)\n",
    "EOS = get_ep(e, p)\n",
    "EOS_inv = get_pe(p, e)\n",
    "plt.scatter(e_old, p_old, s = 1, label = \"EOS\")\n",
    "plt.xscale(\"log\")\n",
    "plt.yscale(\"log\")\n",
    "\n",
    "### EOS DATA ###\n",
    "def dPde_helper(p, e):\n",
    "    _p = get_pe(p, e)\n",
    "    e_min = np.log10(min(e))\n",
    "    e_max = np.log10(max(e))\n",
    "    e_arr = np.logspace(e_min+1e-8, e_max, int(1e4), endpoint = False)\n",
    "    ret = np.gradient(_p(e_arr), e_arr, edge_order=1)\n",
    "#     return ret, e_arr\n",
    "    return np.gradient(p, e), e\n",
    "\n",
    "def dPde(p, e):\n",
    "    dpde_helper, e_arr = dPde_helper(p, e)\n",
    "#     return interp1d(e_arr, dpde_helper, fill_value=(0, 0), bounds_error=True, kind = \"cubic\")\n",
    "    return interp1d(e_arr, dpde_helper, fill_value=\"extrapolate\", kind = \"cubic\")\n",
    "\n",
    "dpde = dPde(p, e)\n",
    "\n",
    "def dPdrho(e, dpde = dpde):\n",
    "    return c**2 * dpde(e)\n",
    "\n",
    "plt.scatter(e, EOS_inv(e), s = 0.5, label = \"should match\")\n",
    "plt.legend()\n",
    "\n",
    "plt.figure()\n",
    "plt.plot(e, dpde(e))\n",
    "plt.xscale(\"log\")\n",
    "plt.yscale(\"log\")\n",
    "plt.show()"
   ]
  },
  {
   "cell_type": "code",
   "execution_count": 9,
   "metadata": {
    "scrolled": false
   },
   "outputs": [],
   "source": [
    "# EOS_inv(n_den)\n",
    "# dpde(e)\n",
    "# np.percentile(p, 20)"
   ]
  },
  {
   "cell_type": "code",
   "execution_count": 10,
   "metadata": {},
   "outputs": [],
   "source": [
    "from scipy.misc import derivative \n",
    "\n",
    "def coupledTOV(r, VEC, init_params):\n",
    "    P, M, v, W, U = VEC\n",
    "    EOS, l, omeg = init_params\n",
    "    lamda = np.log(1/(1-2*_b(r, M)))\n",
    "    Q = _Q(r, P, M) \n",
    "\n",
    "    if P < p_min: \n",
    "        return None\n",
    "    \n",
    "    if P > p_max:\n",
    "        return None\n",
    "    \n",
    "    e = EOS(P)\n",
    "    dpdrho = dPdrho(e)\n",
    "    c_ad2 = dpdrho \n",
    "    \n",
    "    dPdr = _dPdr(r, P, M, e)\n",
    "    dMdr = _dMdr(r, e)\n",
    "    dvdr = _dvdr(r, Q, lamda)\n",
    "    dWdr = _dWdr(r, W, U, Q, lamda, l, omega, v, c_ad2)\n",
    "    dUdr = _dUdr(r, W, U, lamda, l, v)\n",
    "\n",
    "#     drhodp = 1/c_ad2\n",
    "#     dphidr = 0.5 * dvdr\n",
    "#     phi = 0.5 * v\n",
    "#     dWdr = _dWdr(r, U, W, phi, dphidr, drhodp, omega, lamda, l)\n",
    "#     dUdr = _dUdr(r, U, W, dphidr, lamda)\n",
    "    \n",
    "    ret = [dPdr, dMdr, dvdr, dWdr, dUdr]\n",
    "    return ret"
   ]
  },
  {
   "cell_type": "code",
   "execution_count": 11,
   "metadata": {},
   "outputs": [],
   "source": [
    "def tov(EOS, init_VEC, r_i, p_min, omega, progress = False, \n",
    "        l=2, n_iter_max = 2000):\n",
    "    \n",
    "    init_params = [EOS, l, omega]\n",
    "\n",
    "    r = ode(lambda r, VEC: coupledTOV(r, VEC, init_params)).set_integrator('LSODA')\n",
    "    r.set_initial_value(init_VEC, r_i)\n",
    "\n",
    "    results = []\n",
    "    r_list = []\n",
    "\n",
    "    i = 0\n",
    "    r_max = 20 * km2cm\n",
    "    max_iter = n_iter_max\n",
    "\n",
    "    dr_init = r_max/max_iter\n",
    "    dr_compute = 1000\n",
    "    \n",
    "    if progress:\n",
    "        pbar = tqdm(total=max_iter)\n",
    "\n",
    "    while r.successful() and (r.y[0] > p_min):\n",
    "        i+=1\n",
    "\n",
    "        dr = min(dr_init, dr_compute)\n",
    "\n",
    "        integral = r.integrate(r.t+dr)\n",
    "\n",
    "        if progress:\n",
    "            pbar.update(1)\n",
    "            \n",
    "        if i > max_iter:\n",
    "            print(\"[STATUS] max_iter reached\")\n",
    "            break\n",
    "            \n",
    "        # Exit if pressure if less than minimum pressure\n",
    "        if (r.y[0] < p_min):\n",
    "            break\n",
    "            \n",
    "        results.append(integral)\n",
    "        r_list.append(r.t+dr)\n",
    "            \n",
    "    print(r.successful(),(r.y[0] >= p_min)) # Used to find out which condition breaks 1st.    \n",
    "    \n",
    "    if progress:\n",
    "        pbar.close()\n",
    "    \n",
    "    results = np.array(results, dtype = float)\n",
    "    p, m, v, w, u = results.T\n",
    "    r = np.array(r_list)\n",
    "    return p, m, r, v, w, u"
   ]
  },
  {
   "cell_type": "code",
   "execution_count": 12,
   "metadata": {
    "scrolled": false
   },
   "outputs": [
    {
     "data": {
      "application/vnd.jupyter.widget-view+json": {
       "model_id": "43ce59836342462f809ff6ec148b4421",
       "version_major": 2,
       "version_minor": 0
      },
      "text/plain": [
       "HBox(children=(FloatProgress(value=0.0, max=2000.0), HTML(value='')))"
      ]
     },
     "metadata": {},
     "output_type": "display_data"
    },
    {
     "name": "stdout",
     "output_type": "stream",
     "text": [
      "True False\n",
      "\n",
      "== First Integration == \n",
      "Star has mass 1.033 Msun and radius 11.900km\n",
      "Interior Surface: 0.50515584\n",
      "Exterior Surface: 0.74373013\n",
      "v0 Round 1: -1\n",
      "Lamda Round 1: 0.29607704355691045\n"
     ]
    }
   ],
   "source": [
    "# Load EOS\n",
    "df = pd.read_csv(path)\n",
    "e_old, p_old = df_to_ep(df)\n",
    "\n",
    "# p = p_old\n",
    "# e = e_func(p)\n",
    "\n",
    "### EOS DATA ###\n",
    "p = p_old\n",
    "e = e_old\n",
    "\n",
    "EOS = get_ep(e, p)\n",
    "\n",
    "# Initial Conditions\n",
    "km2cm = 1e5\n",
    "r_i = 1\n",
    "p0 = p[-40]\n",
    "e0 = EOS(p0)\n",
    "p_c = p0 - 2 * np.pi * (G/(c**4)) * r_i**2 * (p0 + e0) * (3*p0 + e0)/3\n",
    "e_c = EOS(p_c)\n",
    "m0 = e_c/(c**2) * 4/3 * np.pi * r_i**3\n",
    "\n",
    "\n",
    "omega = 2e3*(2*np.pi) #Arbitrary guess\n",
    "l=2\n",
    "\n",
    "v0 = -1 # Two step integration optimization: similar to phi previously.\n",
    "\n",
    "W0 = 1\n",
    "U0 = W0/(l * np.exp(v0))\n",
    "\n",
    "dedp_EQ = None\n",
    "\n",
    "init_VEC = [p_c, m0, v0, W0, U0]\n",
    "\n",
    "\n",
    "# Integrate\n",
    "p, m, r_arr, v, w, u = tov(EOS, init_VEC, r_i, p_min, \n",
    "                           omega, progress = True,l = l)\n",
    "\n",
    "max_idx = np.argmax(m)\n",
    "m_R = m.max() # In units of msun\n",
    "r_R = r_arr[max_idx] # In units of km\n",
    "p_R = p[max_idx] #cgs\n",
    "ec_R = EOS(p_R) #cgs\n",
    "v_R = v[max_idx]\n",
    "\n",
    "schild = (1-2*G*m_R/(c**2*r_R))\n",
    "interior = np.exp(v_R)\n",
    "\n",
    "print(\"== First Integration == \")\n",
    "print(f\"Star has mass {m_R/msun:.3f} Msun and radius {r_R/km2cm:.3f}km\")\n",
    "print(f\"Interior Surface: {interior:.8f}\")\n",
    "print(f\"Exterior Surface: {schild:.8f}\")\n",
    "print(f\"v0 Round 1: {v0}\")\n",
    "print(f\"Lamda Round 1: {lamba_metric(m_R, r_R)}\")"
   ]
  },
  {
   "cell_type": "code",
   "execution_count": 13,
   "metadata": {
    "scrolled": true
   },
   "outputs": [
    {
     "name": "stdout",
     "output_type": "stream",
     "text": [
      "813543308974.93\n"
     ]
    },
    {
     "data": {
      "text/plain": [
       "array([6.33244071e+34, 6.33240987e+34, 6.33235848e+34, ...,\n",
       "       3.65723309e+24, 1.09249760e+24, 1.19374519e+23])"
      ]
     },
     "execution_count": 13,
     "metadata": {},
     "output_type": "execute_result"
    }
   ],
   "source": [
    "print(f\"{p_min:.2f}\")\n",
    "p # Notice that the surface pressure is well above lower limit. "
   ]
  },
  {
   "cell_type": "code",
   "execution_count": 14,
   "metadata": {
    "scrolled": false
   },
   "outputs": [
    {
     "data": {
      "image/png": "[encoded data removed]",
      "text/plain": [
       "<Figure size 432x288 with 1 Axes>"
      ]
     },
     "metadata": {
      "needs_background": "light"
     },
     "output_type": "display_data"
    },
    {
     "data": {
      "image/png": "[encoded data removed]",
      "text/plain": [
       "<Figure size 432x288 with 1 Axes>"
      ]
     },
     "metadata": {
      "needs_background": "light"
     },
     "output_type": "display_data"
    },
    {
     "data": {
      "image/png": "[encoded data removed]",
      "text/plain": [
       "<Figure size 432x288 with 1 Axes>"
      ]
     },
     "metadata": {
      "needs_background": "light"
     },
     "output_type": "display_data"
    },
    {
     "data": {
      "image/png": "[encoded data removed]",
      "text/plain": [
       "<Figure size 432x288 with 1 Axes>"
      ]
     },
     "metadata": {
      "needs_background": "light"
     },
     "output_type": "display_data"
    },
    {
     "data": {
      "image/png": "[encoded data removed]",
      "text/plain": [
       "<Figure size 432x288 with 1 Axes>"
      ]
     },
     "metadata": {
      "needs_background": "light"
     },
     "output_type": "display_data"
    }
   ],
   "source": [
    "r_arr = r_arr/km2cm\n",
    "\n",
    "plt.figure()\n",
    "plt.plot(r_arr, p/p_c)\n",
    "plt.xlabel(\"r\")\n",
    "plt.ylabel(\"P/Pc\")\n",
    "\n",
    "plt.figure()\n",
    "plt.plot(r_arr, m/msun)\n",
    "plt.xlabel(\"r \")\n",
    "plt.ylabel(\"M/Msun\")\n",
    "plt.show()\n",
    "\n",
    "plt.figure()\n",
    "plt.plot(r_arr, v)\n",
    "plt.xlabel(\"r \")\n",
    "plt.ylabel(\"v\")\n",
    "plt.show()\n",
    "\n",
    "plt.figure()\n",
    "plt.plot(r_arr, w)\n",
    "plt.xlabel(\"r \")\n",
    "plt.ylabel(\"w\")\n",
    "plt.show()\n",
    "\n",
    "plt.figure()\n",
    "plt.plot(r_arr, -u*np.exp(v))\n",
    "plt.xlabel(\"r \")\n",
    "plt.ylabel(\"V\")\n",
    "plt.show()"
   ]
  },
  {
   "cell_type": "code",
   "execution_count": null,
   "metadata": {},
   "outputs": [],
   "source": []
  }
 ],
 "metadata": {
  "kernelspec": {
   "display_name": "Python 3",
   "language": "python",
   "name": "python3"
  },
  "language_info": {
   "codemirror_mode": {
    "name": "ipython",
    "version": 3
   },
   "file_extension": ".py",
   "mimetype": "text/x-python",
   "name": "python",
   "nbconvert_exporter": "python",
   "pygments_lexer": "ipython3",
   "version": "3.8.6"
  }
 },
 "nbformat": 4,
 "nbformat_minor": 4
}
