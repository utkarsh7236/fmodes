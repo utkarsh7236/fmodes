{
 "cells": [
  {
   "cell_type": "code",
   "execution_count": 1,
   "metadata": {},
   "outputs": [],
   "source": [
    "from sympy import *"
   ]
  },
  {
   "cell_type": "code",
   "execution_count": 2,
   "metadata": {},
   "outputs": [],
   "source": [
    "G, e, M, p, r, c = symbols(\"G e M p r c\")"
   ]
  },
  {
   "cell_type": "code",
   "execution_count": 3,
   "metadata": {},
   "outputs": [],
   "source": [
    "dPdr = -G*e*M/(c**2) * (1 + p/e)*(1+(4*pi*r**3*p)/(M*c**2))/(r**2-2*G*M*r/(c**2))\n",
    "# Make Dimensionless\n",
    "dPdr = simplify(dPdr.subs({G:1, c:1}))"
   ]
  },
  {
   "cell_type": "code",
   "execution_count": 4,
   "metadata": {},
   "outputs": [],
   "source": [
    "dMdr = 4 * pi * r**2 * e"
   ]
  },
  {
   "cell_type": "code",
   "execution_count": 5,
   "metadata": {},
   "outputs": [
    {
     "data": {
      "text/latex": [
       "$\\displaystyle \\frac{\\left(M + 4 \\pi p r^{3}\\right) \\left(e + p\\right)}{r \\left(2 M - r\\right)}$"
      ],
      "text/plain": [
       "(M + 4*pi*p*r**3)*(e + p)/(r*(2*M - r))"
      ]
     },
     "metadata": {},
     "output_type": "display_data"
    },
    {
     "data": {
      "text/latex": [
       "$\\displaystyle 4 \\pi e r^{2}$"
      ],
      "text/plain": [
       "4*pi*e*r**2"
      ]
     },
     "metadata": {},
     "output_type": "display_data"
    }
   ],
   "source": [
    "display(dPdr, dMdr)"
   ]
  },
  {
   "cell_type": "markdown",
   "metadata": {},
   "source": [
    "## First Order"
   ]
  },
  {
   "cell_type": "code",
   "execution_count": 6,
   "metadata": {},
   "outputs": [
    {
     "data": {
      "text/latex": [
       "$\\displaystyle \\delta{r}$"
      ],
      "text/plain": [
       "\\delta{r}"
      ]
     },
     "execution_count": 6,
     "metadata": {},
     "output_type": "execute_result"
    }
   ],
   "source": [
    "eps = symbols(\"\\epsilon\")\n",
    "e0, e1, e2 = symbols(\"e_0 e_1 e_2\")\n",
    "p0, p1, p2 = symbols(\"p_0 p_1 p_2\")\n",
    "m0, m1, m2 = symbols(\"m_0 m_1 m_2\")\n",
    "e_exp = e0 \n",
    "r_exp = symbols(\"\\delta{r}\")\n",
    "r0 = r_exp\n",
    "r_exp"
   ]
  },
  {
   "cell_type": "code",
   "execution_count": 7,
   "metadata": {},
   "outputs": [
    {
     "data": {
      "text/latex": [
       "$\\displaystyle 4 \\pi \\delta{r}^{3} e_{0}$"
      ],
      "text/plain": [
       "4*pi*\\delta{r}**3*e_0"
      ]
     },
     "metadata": {},
     "output_type": "display_data"
    }
   ],
   "source": [
    "exprA = dMdr.subs({e:e_exp, r:r_exp}) \n",
    "m0 = exprA * r_exp #M = dmdr * r \n",
    "display(m0) # = dmdr"
   ]
  },
  {
   "cell_type": "code",
   "execution_count": 8,
   "metadata": {},
   "outputs": [
    {
     "data": {
      "text/latex": [
       "$\\displaystyle \\delta{r}^{2} \\left(- 4 \\pi e_{0}^{2} - 8 \\pi e_{0} p_{0} - 4 \\pi p_{0}^{2}\\right) + \\delta{r}^{4} \\left(- 32 \\pi^{2} e_{0}^{3} - 64 \\pi^{2} e_{0}^{2} p_{0} - 32 \\pi^{2} e_{0} p_{0}^{2}\\right) + O\\left(\\delta{r}^{6}\\right)$"
      ],
      "text/plain": [
       "\\delta{r}**2*(-4*pi*e_0**2 - 8*pi*e_0*p_0 - 4*pi*p_0**2) + \\delta{r}**4*(-32*pi**2*e_0**3 - 64*pi**2*e_0**2*p_0 - 32*pi**2*e_0*p_0**2) + O(\\delta{r}**6)"
      ]
     },
     "execution_count": 8,
     "metadata": {},
     "output_type": "execute_result"
    }
   ],
   "source": [
    "p_exp = p0 \n",
    "m_exp = m0 \n",
    "exprB = dPdr.subs({p: p_exp, e:e_exp, r:r_exp, M:m_exp})\n",
    "# exprB.series(r_exp) \n",
    "p_init = exprB * r_exp # P = dpdr * r\n",
    "p_init.series(r_exp)"
   ]
  },
  {
   "cell_type": "markdown",
   "metadata": {},
   "source": [
    "## Second Order"
   ]
  },
  {
   "cell_type": "code",
   "execution_count": 9,
   "metadata": {},
   "outputs": [],
   "source": [
    "e_exp = e0 + e1 * r_exp"
   ]
  },
  {
   "cell_type": "code",
   "execution_count": 10,
   "metadata": {},
   "outputs": [
    {
     "data": {
      "text/latex": [
       "$\\displaystyle 4 \\pi \\delta{r}^{3} \\left(\\delta{r} e_{1} + e_{0}\\right)$"
      ],
      "text/plain": [
       "4*pi*\\delta{r}**3*(\\delta{r}*e_1 + e_0)"
      ]
     },
     "metadata": {},
     "output_type": "display_data"
    }
   ],
   "source": [
    "exprA = dMdr.subs({e:e_exp, r:r_exp}) \n",
    "m0 = exprA * r_exp #M = dmdr * r \n",
    "display(m0) # = dmdr"
   ]
  },
  {
   "cell_type": "code",
   "execution_count": 11,
   "metadata": {},
   "outputs": [
    {
     "data": {
      "text/latex": [
       "$\\displaystyle \\frac{m_{1} p_{0}}{2 m_{1} - 1} + \\frac{e_{0} m_{1}}{2 m_{1} - 1} + \\delta{r} \\left(\\frac{e_{1} m_{1}}{2 m_{1} - 1} + \\frac{m_{1} p_{1}}{2 m_{1} - 1}\\right) + \\delta{r}^{2} \\left(- \\frac{8 \\pi e_{0}^{2} m_{1}}{\\left(2 m_{1} - 1\\right)^{2}} + \\frac{4 \\pi e_{0}^{2}}{2 m_{1} - 1} - \\frac{8 \\pi e_{0} m_{1} p_{0}}{\\left(2 m_{1} - 1\\right)^{2}} + \\frac{8 \\pi e_{0} p_{0}}{2 m_{1} - 1} + \\frac{4 \\pi p_{0}^{2}}{2 m_{1} - 1}\\right) + O\\left(\\delta{r}^{3}\\right)$"
      ],
      "text/plain": [
       "m_1*p_0/(2*m_1 - 1) + e_0*m_1/(2*m_1 - 1) + \\delta{r}*(e_1*m_1/(2*m_1 - 1) + m_1*p_1/(2*m_1 - 1)) + \\delta{r}**2*(-8*pi*e_0**2*m_1/(2*m_1 - 1)**2 + 4*pi*e_0**2/(2*m_1 - 1) - 8*pi*e_0*m_1*p_0/(2*m_1 - 1)**2 + 8*pi*e_0*p_0/(2*m_1 - 1) + 4*pi*p_0**2/(2*m_1 - 1)) + O(\\delta{r}**3)"
      ]
     },
     "execution_count": 11,
     "metadata": {},
     "output_type": "execute_result"
    }
   ],
   "source": [
    "p_exp = p0 + p1 * r_exp\n",
    "m_exp = m0 + m1 * r_exp\n",
    "exprB = dPdr.subs({p: p_exp, e:e_exp, r:r_exp, M:m_exp}) #+ O(1)\n",
    "# exprB.series(r_exp) + O(r_exp**2)\n",
    "p_init = exprB * r_exp \n",
    "p_init.series(r_exp) + O(r_exp**3)"
   ]
  },
  {
   "cell_type": "markdown",
   "metadata": {},
   "source": [
    "### From this we can tell that $p_1 = e_1 = 0$, $m_1 = 1$"
   ]
  },
  {
   "cell_type": "code",
   "execution_count": 12,
   "metadata": {},
   "outputs": [
    {
     "data": {
      "text/latex": [
       "$\\displaystyle p_{0} + e_{0} + \\delta{r}^{2} \\left(- 4 \\pi e_{0}^{2} + 4 \\pi p_{0}^{2}\\right) + O\\left(\\delta{r}^{3}\\right)$"
      ],
      "text/plain": [
       "p_0 + e_0 + \\delta{r}**2*(-4*pi*e_0**2 + 4*pi*p_0**2) + O(\\delta{r}**3)"
      ]
     },
     "execution_count": 12,
     "metadata": {},
     "output_type": "execute_result"
    }
   ],
   "source": [
    "p_init.series(r_exp).subs({p1:0, e1:0, m1:1}) + O(r_exp**3)"
   ]
  },
  {
   "cell_type": "markdown",
   "metadata": {},
   "source": [
    "### Is this the expansion we want? For some reason setting $e_o = 0$ gives us the following. "
   ]
  },
  {
   "cell_type": "code",
   "execution_count": 13,
   "metadata": {},
   "outputs": [
    {
     "data": {
      "text/latex": [
       "$\\displaystyle p_{0} + 4 \\pi \\delta{r}^{2} p_{0}^{2} + O\\left(\\delta{r}^{3}\\right)$"
      ],
      "text/plain": [
       "p_0 + 4*pi*\\delta{r}**2*p_0**2 + O(\\delta{r}**3)"
      ]
     },
     "execution_count": 13,
     "metadata": {},
     "output_type": "execute_result"
    }
   ],
   "source": [
    "p_init.series(r_exp).subs({p1:0, e1:0, m1:1, e0:0}) + O(r_exp**3)"
   ]
  },
  {
   "cell_type": "markdown",
   "metadata": {},
   "source": [
    "## Trying Again "
   ]
  },
  {
   "cell_type": "code",
   "execution_count": 14,
   "metadata": {},
   "outputs": [],
   "source": [
    "eps = symbols(\"\\epsilon\")\n",
    "e0, e1, e2, e3 = symbols(\"e_0 e_1 e_2 e_3\")\n",
    "p0, p1, p2, p3 = symbols(\"p_0 p_1 p_2 p_3\")\n",
    "m0, m1, m2, m3 = symbols(\"m_0 m_1 m_2 m_3\")\n",
    "r, r0 = symbols(\"r r_0\")\n",
    "# r_exp = symbols(\"\\delta{r}\")\n",
    "r_exp = (r-r0)\n",
    "p_exp = p0 + p1 * r_exp + p2 * r_exp**2 + p3 * r_exp**3\n",
    "m_exp = m0 + m1 * r_exp + m2 * r_exp**2 + m3 * r_exp**3\n",
    "e_exp = e0 + e1 * r_exp + e2 * r_exp**2 + e3 * r_exp**3"
   ]
  },
  {
   "cell_type": "code",
   "execution_count": 15,
   "metadata": {},
   "outputs": [],
   "source": [
    "dmdr = m_exp.diff(r).subs({r0:0})\n",
    "dpdr = p_exp.diff(r).subs({r0:0})"
   ]
  },
  {
   "cell_type": "code",
   "execution_count": 16,
   "metadata": {},
   "outputs": [
    {
     "data": {
      "text/latex": [
       "$\\displaystyle 3 m_{3} r^{2} + 2 m_{2} r + m_{1} + O\\left(r^{4}\\right)$"
      ],
      "text/plain": [
       "3*m_3*r**2 + 2*m_2*r + m_1 + O(r**4)"
      ]
     },
     "execution_count": 16,
     "metadata": {},
     "output_type": "execute_result"
    }
   ],
   "source": [
    "dmdr + O(r**4)"
   ]
  },
  {
   "cell_type": "code",
   "execution_count": 17,
   "metadata": {},
   "outputs": [
    {
     "data": {
      "text/latex": [
       "$\\displaystyle 4 \\pi e_{1} r^{3} + 4 \\pi e_{0} r^{2} + O\\left(r^{4}\\right)$"
      ],
      "text/plain": [
       "4*pi*e_1*r**3 + 4*pi*e_0*r**2 + O(r**4)"
      ]
     },
     "execution_count": 17,
     "metadata": {},
     "output_type": "execute_result"
    }
   ],
   "source": [
    "expand(dMdr.subs({e:e_exp, r0:0})) + O(r**4)"
   ]
  },
  {
   "cell_type": "markdown",
   "metadata": {},
   "source": [
    "### Comparing terms we find that $m1=0$, $e_1 = 0$, $m_2 = 0$,  $m_3 = \\frac{4}{3} \\pi e_0$"
   ]
  },
  {
   "cell_type": "code",
   "execution_count": 18,
   "metadata": {},
   "outputs": [
    {
     "data": {
      "text/latex": [
       "$\\displaystyle p_{1} + 2 p_{2} r + 3 p_{3} r^{2}$"
      ],
      "text/plain": [
       "p_1 + 2*p_2*r + 3*p_3*r**2"
      ]
     },
     "execution_count": 18,
     "metadata": {},
     "output_type": "execute_result"
    }
   ],
   "source": [
    "dpdr"
   ]
  },
  {
   "cell_type": "code",
   "execution_count": 19,
   "metadata": {},
   "outputs": [
    {
     "data": {
      "text/latex": [
       "$\\displaystyle \\frac{\\left(M + 4 \\pi p r^{3}\\right) \\left(e + p\\right)}{r \\left(2 M - r\\right)}$"
      ],
      "text/plain": [
       "(M + 4*pi*p*r**3)*(e + p)/(r*(2*M - r))"
      ]
     },
     "execution_count": 19,
     "metadata": {},
     "output_type": "execute_result"
    }
   ],
   "source": [
    "dPdr"
   ]
  },
  {
   "cell_type": "code",
   "execution_count": 20,
   "metadata": {},
   "outputs": [],
   "source": [
    "m3_new = S(4)/3 * pi * e0\n",
    "expr = dPdr.subs({e:e_exp, r0:0, M:m_exp, p:p_exp})\n",
    "expr = expr.subs({m1:0, e1:0, m3:m3_new, m2:0})"
   ]
  },
  {
   "cell_type": "code",
   "execution_count": 29,
   "metadata": {},
   "outputs": [],
   "source": [
    "# Sketchy stuff\n",
    "expr = expr.subs({m0:0})"
   ]
  },
  {
   "cell_type": "code",
   "execution_count": 43,
   "metadata": {},
   "outputs": [
    {
     "data": {
      "text/latex": [
       "$\\displaystyle r \\left(- \\frac{4 \\pi e_{0}^{2}}{3} - \\frac{16 \\pi e_{0} p_{0}}{3} - 4 \\pi p_{0}^{2}\\right) + O\\left(r^{3}\\right)$"
      ],
      "text/plain": [
       "r*(-4*pi*e_0**2/3 - 16*pi*e_0*p_0/3 - 4*pi*p_0**2) + O(r**3)"
      ]
     },
     "execution_count": 43,
     "metadata": {},
     "output_type": "execute_result"
    }
   ],
   "source": [
    "expr.series(r) + O(r**3)"
   ]
  },
  {
   "cell_type": "code",
   "execution_count": 44,
   "metadata": {},
   "outputs": [],
   "source": [
    "## Hence p1 = 0"
   ]
  },
  {
   "cell_type": "code",
   "execution_count": 45,
   "metadata": {},
   "outputs": [
    {
     "data": {
      "text/latex": [
       "$\\displaystyle r \\left(- \\frac{4 \\pi e_{0}^{2}}{3} - \\frac{16 \\pi e_{0} p_{0}}{3} - 4 \\pi p_{0}^{2}\\right) + O\\left(r^{3}\\right)$"
      ],
      "text/plain": [
       "r*(-4*pi*e_0**2/3 - 16*pi*e_0*p_0/3 - 4*pi*p_0**2) + O(r**3)"
      ]
     },
     "execution_count": 45,
     "metadata": {},
     "output_type": "execute_result"
    }
   ],
   "source": [
    "expr = expr.subs({p1:0})\n",
    "expr.series(r) + O(r**3)"
   ]
  },
  {
   "cell_type": "code",
   "execution_count": 46,
   "metadata": {},
   "outputs": [],
   "source": [
    "# Hence p3 = 0, all that is left now is p2"
   ]
  },
  {
   "cell_type": "code",
   "execution_count": 47,
   "metadata": {},
   "outputs": [
    {
     "data": {
      "text/latex": [
       "$\\displaystyle - \\pi p_{0}^{2} r - \\frac{4 \\pi e_{0} p_{0} r}{3} - \\frac{\\pi e_{0}^{2} r}{3} + O\\left(r^{3}\\right)$"
      ],
      "text/plain": [
       "-pi*p_0**2*r - 4*pi*e_0*p_0*r/3 - pi*e_0**2*r/3 + O(r**3)"
      ]
     },
     "execution_count": 47,
     "metadata": {},
     "output_type": "execute_result"
    }
   ],
   "source": [
    "p2_calculated =expr.series(r, n=3)\n",
    "simplify(factor(p2_calculated)/4) # I'M OFF BY A FACTOR OF 4 HERE- Weird."
   ]
  },
  {
   "cell_type": "code",
   "execution_count": 48,
   "metadata": {},
   "outputs": [],
   "source": [
    "# Computer p2 exactly matches p2 by Dr. Phil Landry as expected. "
   ]
  },
  {
   "cell_type": "code",
   "execution_count": 49,
   "metadata": {},
   "outputs": [
    {
     "data": {
      "text/latex": [
       "$\\displaystyle - \\frac{\\pi e_{0}^{2} r}{3} - \\frac{4 \\pi e_{0} p_{0} r}{3} - \\pi p_{0}^{2} r$"
      ],
      "text/plain": [
       "-pi*e_0**2*r/3 - 4*pi*e_0*p_0*r/3 - pi*p_0**2*r"
      ]
     },
     "execution_count": 49,
     "metadata": {},
     "output_type": "execute_result"
    }
   ],
   "source": [
    "# p2 from tov.py https://github.com/landryp/ns-struc/blob/master/nsstruc/tov.py\n",
    "p2_new =  - 2 * pi * r**2 * (p0 + e0) * (3*p0 + e0)/3\n",
    "expand(p2_new/(2*r)) # Divide by 2r factor before p2"
   ]
  },
  {
   "cell_type": "code",
   "execution_count": null,
   "metadata": {},
   "outputs": [],
   "source": []
  }
 ],
 "metadata": {
  "kernelspec": {
   "display_name": "Python 3",
   "language": "python",
   "name": "python3"
  },
  "language_info": {
   "codemirror_mode": {
    "name": "ipython",
    "version": 3
   },
   "file_extension": ".py",
   "mimetype": "text/x-python",
   "name": "python",
   "nbconvert_exporter": "python",
   "pygments_lexer": "ipython3",
   "version": "3.8.6"
  }
 },
 "nbformat": 4,
 "nbformat_minor": 4
}
