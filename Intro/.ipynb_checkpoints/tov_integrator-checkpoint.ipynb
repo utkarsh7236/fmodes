{
 "cells": [
  {
   "cell_type": "code",
   "execution_count": 1,
   "metadata": {},
   "outputs": [],
   "source": [
    "from scipy.integrate import ode\n",
    "from scipy.interpolate import interp1d\n",
    "import pandas as pd\n",
    "from astropy import units as u\n",
    "import numpy as np\n",
    "import matplotlib.pyplot as plt\n",
    "from tqdm import tqdm"
   ]
  },
  {
   "cell_type": "code",
   "execution_count": 2,
   "metadata": {},
   "outputs": [],
   "source": [
    "import matplotlib as mpl\n",
    "# mpl.rcParams['figure.dpi'] = 1000\n",
    "mpl.rcParams['legend.frameon'] = False\n",
    "mpl.rcParams['figure.autolayout'] = True \n",
    "# mpl.rcParams['axes.spines.right'] = False\n",
    "# mpl.rcParams['axes.spines.top'] = False\n",
    "\n",
    "\n",
    "# plt.rcParams.update({\n",
    "#     \"text.usetex\": True,\n",
    "#     \"font.family\": \"sans-serif\",\n",
    "#     \"font.sans-serif\": [\"Helvetica\"]})\n",
    "\n",
    "# plt.rcParams.update({\n",
    "#     \"text.usetex\": True,\n",
    "#     \"font.family\": \"serif\",\n",
    "#     \"font.serif\": [\"Palatino\"],\n",
    "# })\n",
    "\n",
    "def utkarshGrid():\n",
    "    plt.minorticks_on()\n",
    "    plt.grid(color='grey',\n",
    "             which='minor',\n",
    "             linestyle=\":\",\n",
    "             linewidth='0.1',\n",
    "             )\n",
    "    plt.grid(color='black',\n",
    "             which='major',\n",
    "             linestyle=\":\",\n",
    "             linewidth='0.1',\n",
    "             )"
   ]
  },
  {
   "cell_type": "code",
   "execution_count": 3,
   "metadata": {},
   "outputs": [],
   "source": [
    "G = 6.67259e-8 # dyne cm2 g-2\n",
    "c = 2.998e10 # cms-1\n",
    "n_den = 2.3e14\n",
    "# G = c = 1"
   ]
  },
  {
   "cell_type": "code",
   "execution_count": 4,
   "metadata": {},
   "outputs": [],
   "source": [
    "# Working in manual cgs units here. \n",
    "def _dPdr(r, P, M, e):\n",
    "    factor = -G/(c**2) \n",
    "    term1 = (e+P) \n",
    "    term2 = (M+4*np.pi*(r**3)*P/(c**2))\n",
    "    term3 = r * (r-2*G*M/(c**2))\n",
    "    return factor * (term1 * term2)/term3\n",
    "    \n",
    "def _dMdr(r, e):\n",
    "    return 4 * np.pi * r**2 * (e/(c**2))\n",
    "\n",
    "\n",
    "def coupledTOV(r, VEC, f_e_smooth):\n",
    "    P, M = VEC\n",
    "    e = f_e_smooth(P)   \n",
    "    dPdr = _dPdr(r, P, M, e)\n",
    "    dMdr = _dMdr(r, e)\n",
    "    return [dPdr, dMdr]"
   ]
  },
  {
   "cell_type": "code",
   "execution_count": 5,
   "metadata": {},
   "outputs": [],
   "source": [
    "def df_to_ep(df):\n",
    "    n_den = 2.3e14\n",
    "    e_den = df.energy_densityc2\n",
    "    e_den_normed = e_den#/n_den\n",
    "    p = df.pressurec2\n",
    "    e_den_normed = e_den_normed*(c**2)\n",
    "    pressure = p*(c**2)\n",
    "    return e_den_normed.to_numpy(), pressure.to_numpy()\n",
    "\n",
    "def get_ep(e, p):\n",
    "    f_e_smooth = interp1d(p, e, fill_value=\"extrapolate\")\n",
    "    return f_e_smooth"
   ]
  },
  {
   "cell_type": "code",
   "execution_count": 6,
   "metadata": {},
   "outputs": [],
   "source": [
    "def tov(ep, init_VEC, r_i, p_min, progress = False):\n",
    "    func = ep\n",
    "\n",
    "    r = ode(lambda r, VEC: coupledTOV(r, VEC, func)).set_integrator('LSODA')\n",
    "    r.set_initial_value(init_VEC, r_i)\n",
    "\n",
    "    results = []\n",
    "    r_list = []\n",
    "\n",
    "    i = 0\n",
    "    r_max = 30 * km2cm\n",
    "    # max_iter = 1000000 # Change back to this if \"Excess work done on this call\" error. \n",
    "    max_iter = 10000\n",
    "\n",
    "    dr_init = r_max/max_iter\n",
    "    dr_compute = 1000\n",
    "    \n",
    "    if progress:\n",
    "        pbar = tqdm(total=max_iter)\n",
    "\n",
    "    while r.successful() and (r.y[0] > p_min):\n",
    "        i+=1\n",
    "\n",
    "        dr = min(dr_init, dr_compute)\n",
    "\n",
    "        integral = r.integrate(r.t+dr)\n",
    "\n",
    "        results.append(integral)\n",
    "        r_list.append(r.t+dr_init)\n",
    "\n",
    "    #     dr_compute = r * dP /P \n",
    "\n",
    "        if progress:\n",
    "            pbar.update(1)\n",
    "        if i > max_iter:\n",
    "            print(\"[STATUS] max_iter reached\")\n",
    "            break\n",
    "    \n",
    "    if progress:\n",
    "        pbar.close()\n",
    "    \n",
    "    results = np.array(results, dtype = float)\n",
    "    p, m = results.T\n",
    "    r = np.array(r_list)\n",
    "    return p, m, r"
   ]
  },
  {
   "cell_type": "code",
   "execution_count": 7,
   "metadata": {},
   "outputs": [
    {
     "name": "stderr",
     "output_type": "stream",
     "text": [
      " 33%|███▎      | 3289/10000 [00:00<00:00, 32835.23it/s]/Library/Frameworks/Python.framework/Versions/3.8/lib/python3.8/site-packages/scipy/integrate/_ode.py:1350: UserWarning: lsoda: Excess work done on this call (perhaps wrong Dfun type).\n",
      "  warnings.warn('{:s}: {:s}'.format(self.__class__.__name__,\n",
      " 34%|███▍      | 3398/10000 [00:00<00:00, 11545.41it/s]"
     ]
    },
    {
     "name": "stdout",
     "output_type": "stream",
     "text": [
      "Star has mass 2.1 Msun and radius 10.2km\n"
     ]
    },
    {
     "name": "stderr",
     "output_type": "stream",
     "text": [
      "\n"
     ]
    }
   ],
   "source": [
    "# Load EOS\n",
    "df = pd.read_csv(\"sly230a.csv\")\n",
    "e, p = df_to_ep(df)\n",
    "EOS = get_ep(e, p)\n",
    "\n",
    "# Initial Conditions\n",
    "km2cm = 1e5\n",
    "r_i = 1e-8\n",
    "p_c = p[-8]\n",
    "e_c = EOS(p_c)\n",
    "m0 = e_c * 4/3 * np.pi * r_i**3\n",
    "init_VEC = [p_c, m0]\n",
    "msun = 2e33\n",
    "p_min = min(p)\n",
    "\n",
    "# Integrate\n",
    "p, m, r_arr = tov(EOS, init_VEC, r_i, p_min, progress = True)\n",
    "r_arr = r_arr/km2cm\n",
    "m = m/msun\n",
    "\n",
    "mStar = m.max()\n",
    "mR = r_arr.max()\n",
    "print(f\"Star has mass {mStar:.1f} Msun and radius {mR:.1f}km\")"
   ]
  },
  {
   "cell_type": "code",
   "execution_count": 8,
   "metadata": {
    "scrolled": false
   },
   "outputs": [
    {
     "data": {
      "image/png": "[encoded data removed]",
      "text/plain": [
       "<Figure size 432x288 with 1 Axes>"
      ]
     },
     "metadata": {
      "needs_background": "light"
     },
     "output_type": "display_data"
    },
    {
     "data": {
      "image/png": "[encoded data removed]",
      "text/plain": [
       "<Figure size 432x288 with 1 Axes>"
      ]
     },
     "metadata": {
      "needs_background": "light"
     },
     "output_type": "display_data"
    }
   ],
   "source": [
    "plt.figure()\n",
    "plt.plot(r_arr, p/p_c)\n",
    "plt.xlabel(\"r\")\n",
    "plt.ylabel(\"P/Pc\")\n",
    "\n",
    "plt.figure()\n",
    "plt.plot(r_arr, m)\n",
    "plt.xlabel(\"r \")\n",
    "plt.ylabel(\"M/Msun\")\n",
    "plt.show()"
   ]
  },
  {
   "cell_type": "code",
   "execution_count": 9,
   "metadata": {},
   "outputs": [
    {
     "name": "stderr",
     "output_type": "stream",
     "text": [
      "100%|██████████| 29/29 [00:06<00:00,  4.68it/s]\n"
     ]
    }
   ],
   "source": [
    "# Load Data\n",
    "df = pd.read_csv(\"sly.csv\")\n",
    "\n",
    "## Repeat for many different IVP\n",
    "mStar_list = []\n",
    "mR_list = []\n",
    "ec_list = []\n",
    "\n",
    "for i in tqdm(range(1,30), disable = False):\n",
    "    # Load EOS\n",
    "    e, p = df_to_ep(df)\n",
    "    EOS = get_ep(e, p)\n",
    "\n",
    "    # Initial Conditions\n",
    "    km2cm = 1e5\n",
    "    r_i = 1e-8\n",
    "    p_c = p[-i]\n",
    "    \n",
    "    # Skip boundary case of highest pressure\n",
    "    if p_c >= p.max():\n",
    "        continue\n",
    "    \n",
    "    e_c = EOS(p_c)\n",
    "    m0 = e_c * 4/3 * np.pi * r_i**3\n",
    "    init_VEC = [p_c, m0]\n",
    "    msun = 2e33\n",
    "    p_min = min(p)\n",
    "\n",
    "    # Integrate\n",
    "    p, m, r_arr = tov(EOS, init_VEC, r_i, p_min)\n",
    "    r_arr = r_arr/km2cm\n",
    "    m = m/msun\n",
    "\n",
    "    mStar = m.max()\n",
    "    mR = r_arr.max()\n",
    "    \n",
    "    mStar_list.append(mStar)\n",
    "    mR_list.append(mR)\n",
    "    ec_list.append(e_c)"
   ]
  },
  {
   "cell_type": "code",
   "execution_count": 10,
   "metadata": {},
   "outputs": [
    {
     "name": "stdout",
     "output_type": "stream",
     "text": [
      "Maximum mass of this EOS is 2.04Msun with a radius of 10.03km\n",
      "Maximum central energy density is 12.307\n",
      "Minimum central energy density is 1.110\n"
     ]
    },
    {
     "data": {
      "image/png": "[encoded data removed]",
      "text/plain": [
       "<Figure size 432x288 with 1 Axes>"
      ]
     },
     "metadata": {
      "needs_background": "light"
     },
     "output_type": "display_data"
    }
   ],
   "source": [
    "mStar_arr = np.array(mStar_list)\n",
    "mR_arr = np.array(mR_list)\n",
    "ec_arr = np.array(ec_list)\n",
    "\n",
    "m_max = mStar_arr.max()\n",
    "max_idx = np.argmax(mStar_arr)\n",
    "r_max = mR_arr[max_idx]\n",
    "ec_max = ec_arr[max_idx]\n",
    "\n",
    "print(f\"Maximum mass of this EOS is {m_max:.2f}Msun\\\n",
    " with a radius of {r_max:.2f}km\")\n",
    "\n",
    "print(f\"Maximum central energy density is {ec_max/(n_den*c**2):.3f}\")\n",
    "print(f\"Minimum central energy density is {ec_arr.min()/(n_den*c**2):.3f}\")\n",
    "\n",
    "plt.scatter(mR_arr, mStar_arr, s=10, \n",
    "            marker = \"x\", color = \"dodgerblue\")\n",
    "plt.scatter(r_max, m_max, s = 100, color = \"salmon\")\n",
    "plt.xlabel(\"R km\")\n",
    "plt.ylabel(\"M/Msun\")\n",
    "utkarshGrid()\n",
    "plt.show()"
   ]
  },
  {
   "cell_type": "code",
   "execution_count": 11,
   "metadata": {},
   "outputs": [],
   "source": [
    "EOS_df_list = [\"sly.csv\", \"sly230a.csv\", \"mpa1.csv\", \"hqc18.csv\"]\n",
    "colors = plt.cm.viridis(np.linspace(0,1,len(EOS_df_list)))"
   ]
  },
  {
   "cell_type": "code",
   "execution_count": 15,
   "metadata": {},
   "outputs": [
    {
     "name": "stderr",
     "output_type": "stream",
     "text": [
      " 25%|██▌       | 1/4 [00:05<00:15,  5.07s/it]/Library/Frameworks/Python.framework/Versions/3.8/lib/python3.8/site-packages/scipy/integrate/_ode.py:1350: UserWarning: lsoda: Excess work done on this call (perhaps wrong Dfun type).\n",
      "  warnings.warn('{:s}: {:s}'.format(self.__class__.__name__,\n",
      "100%|██████████| 4/4 [00:55<00:00, 13.86s/it]\n"
     ]
    },
    {
     "data": {
      "image/png": "[encoded data removed]",
      "text/plain": [
       "<Figure size 432x288 with 1 Axes>"
      ]
     },
     "metadata": {
      "needs_background": "light"
     },
     "output_type": "display_data"
    }
   ],
   "source": [
    "# Load Data\n",
    "plt.figure()\n",
    "for j in tqdm(range(len(EOS_df_list))):\n",
    "    path = EOS_df_list[j]\n",
    "    df = pd.read_csv(path)\n",
    "\n",
    "    ## Repeat for many different IVP\n",
    "    mStar_list = []\n",
    "    mR_list = []\n",
    "\n",
    "    for i in tqdm(range(1,len(df)), disable = True):\n",
    "        # Load EOS\n",
    "        e, p = df_to_ep(df)\n",
    "        EOS = get_ep(e, p)\n",
    "\n",
    "        # Initial Conditions\n",
    "        km2cm = 1e5\n",
    "        r_i = 1e-8\n",
    "        p_c = p[-i]\n",
    "\n",
    "        # Skip boundary case of highest pressure\n",
    "        if p_c >= p.max():\n",
    "            continue\n",
    "\n",
    "        e_c = EOS(p_c)\n",
    "        m0 = e_c * 4/3 * np.pi * r_i**3\n",
    "        init_VEC = [p_c, m0]\n",
    "        msun = 2e33\n",
    "        p_min = min(p)\n",
    "\n",
    "        # Integrate\n",
    "        p, m, r_arr = tov(EOS, init_VEC, r_i, p_min)\n",
    "        r_arr = r_arr/km2cm\n",
    "        m = m/msun\n",
    "\n",
    "        mStar = m.max()\n",
    "        mR = r_arr.max()\n",
    "\n",
    "        mStar_list.append(mStar)\n",
    "        mR_list.append(mR)\n",
    "        \n",
    "        # If starr is less than % of Msun, exit inner loop\n",
    "        if mStar < 0.3: \n",
    "            break\n",
    "\n",
    "    mStar_arr = np.array(mStar_list)\n",
    "    mR_arr = np.array(mR_list)\n",
    "\n",
    "    plt.plot(mR_arr, mStar_arr, label = f\"{path[:-4]}\", \n",
    "             color = colors[j])\n",
    "\n",
    "# Plotting error bars on pulsars\n",
    "psr_r_list = [12.45, 12.35, 13.02]\n",
    "psr_r_err_list = [0.65, 0.75, 1.24]\n",
    "psr_m_list = [1.4, 2.08, 1.44] # No errors given on mass\n",
    "psr_m_err_list = [0.01, 0.01, 0.15]\n",
    "plt.errorbar(psr_r_list, psr_m_list, \n",
    "             xerr=psr_r_err_list, \n",
    "             yerr=psr_m_err_list,\n",
    "             elinewidth=0.5,\n",
    "             capsize=2,\n",
    "             ecolor='black',\n",
    "             fmt='o',\n",
    "             label=r\"PSR 1$\\sigma$\",\n",
    "             color=\"darkorange\",\n",
    "             )\n",
    "\n",
    "# Labeling\n",
    "plt.xlabel(\"R km\")\n",
    "plt.ylabel(\"M/Msun\")\n",
    "utkarshGrid()\n",
    "plt.legend()\n",
    "plt.show()"
   ]
  },
  {
   "cell_type": "code",
   "execution_count": null,
   "metadata": {},
   "outputs": [],
   "source": []
  }
 ],
 "metadata": {
  "kernelspec": {
   "display_name": "Python 3",
   "language": "python",
   "name": "python3"
  },
  "language_info": {
   "codemirror_mode": {
    "name": "ipython",
    "version": 3
   },
   "file_extension": ".py",
   "mimetype": "text/x-python",
   "name": "python",
   "nbconvert_exporter": "python",
   "pygments_lexer": "ipython3",
   "version": "3.8.6"
  }
 },
 "nbformat": 4,
 "nbformat_minor": 4
}
