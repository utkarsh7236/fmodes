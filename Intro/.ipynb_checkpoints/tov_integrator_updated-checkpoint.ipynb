{
 "cells": [
  {
   "cell_type": "code",
   "execution_count": 1,
   "metadata": {},
   "outputs": [],
   "source": [
    "from scipy.integrate import ode\n",
    "from scipy.interpolate import interp1d\n",
    "import pandas as pd\n",
    "from astropy import units as u\n",
    "import numpy as np\n",
    "import matplotlib.pyplot as plt\n",
    "from tqdm import tqdm\n",
    "import time"
   ]
  },
  {
   "cell_type": "code",
   "execution_count": 2,
   "metadata": {},
   "outputs": [],
   "source": [
    "import matplotlib as mpl\n",
    "# mpl.rcParams['figure.dpi'] = 1000\n",
    "mpl.rcParams['legend.frameon'] = False\n",
    "mpl.rcParams['figure.autolayout'] = True \n",
    "# mpl.rcParams['axes.spines.right'] = False\n",
    "# mpl.rcParams['axes.spines.top'] = False\n",
    "\n",
    "\n",
    "# plt.rcParams.update({\n",
    "#     \"text.usetex\": True,\n",
    "#     \"font.family\": \"sans-serif\",\n",
    "#     \"font.sans-serif\": [\"Helvetica\"]})\n",
    "\n",
    "# plt.rcParams.update({\n",
    "#     \"text.usetex\": True,\n",
    "#     \"font.family\": \"serif\",\n",
    "#     \"font.serif\": [\"Palatino\"],\n",
    "# })\n",
    "\n",
    "def utkarshGrid():\n",
    "    plt.minorticks_on()\n",
    "    plt.grid(color='grey',\n",
    "             which='minor',\n",
    "             linestyle=\":\",\n",
    "             linewidth='0.1',\n",
    "             )\n",
    "    plt.grid(color='black',\n",
    "             which='major',\n",
    "             linestyle=\":\",\n",
    "             linewidth='0.1',\n",
    "             )"
   ]
  },
  {
   "cell_type": "code",
   "execution_count": 3,
   "metadata": {},
   "outputs": [],
   "source": [
    "G = 6.67259e-8 # dyne cm2 g-2\n",
    "c = 2.998e10 # cms-1\n",
    "n_den = 2.3e14\n",
    "# G = c = 1"
   ]
  },
  {
   "cell_type": "code",
   "execution_count": 4,
   "metadata": {},
   "outputs": [],
   "source": [
    "# Working in manual cgs units here. \n",
    "   \n",
    "def _dMdr(r, e):\n",
    "    return 4 * np.pi * r**2 * (e/(c**2))\n",
    "\n",
    "def _dPhidr(r, P, M):\n",
    "    num = (M+4*np.pi*(r**3)*P/(c**2))\n",
    "    dem = r * (r-2*G*M/(c**2))\n",
    "    return num/dem\n",
    "\n",
    "def _dPdr(r, P, M, e):\n",
    "    factor = -G/(c**2) \n",
    "    term1 = (e+P) \n",
    "    dphidr = _dPhidr(r, P, M)\n",
    "    return factor * term1 * dphidr\n",
    "\n",
    "def coupledTOV(r, VEC, f_e_smooth):\n",
    "    P, M, phi = VEC\n",
    "    e = f_e_smooth(P)\n",
    "    \n",
    "    dMdr = _dMdr(r, e)\n",
    "    dPhidr = _dPhidr(r, P, M)\n",
    "    dPdr = _dPdr(r, P, M, e)\n",
    "    ret = [dPdr, dMdr, dPhidr]\n",
    "#     print(ret)\n",
    "    return ret"
   ]
  },
  {
   "cell_type": "code",
   "execution_count": 5,
   "metadata": {},
   "outputs": [],
   "source": [
    "def df_to_ep(df):\n",
    "    n_den = 2.3e14\n",
    "    e_den = df.energy_densityc2\n",
    "    e_den_normed = e_den#/n_den\n",
    "    p = df.pressurec2\n",
    "    e_den_normed = e_den_normed*(c**2)\n",
    "    pressure = p*(c**2)\n",
    "    return e_den_normed.to_numpy(), pressure.to_numpy()\n",
    "\n",
    "def get_ep(e, p):\n",
    "    f_e_smooth = interp1d(p, e, fill_value=\"extrapolate\")\n",
    "    return f_e_smooth"
   ]
  },
  {
   "cell_type": "code",
   "execution_count": 62,
   "metadata": {},
   "outputs": [],
   "source": [
    "def tov(ep, init_VEC, r_i, p_min, progress = False):\n",
    "    func = ep\n",
    "\n",
    "    r = ode(lambda r, VEC: coupledTOV(r, VEC, func)).set_integrator('LSODA')\n",
    "    r.set_initial_value(init_VEC, r_i)\n",
    "\n",
    "    results = []\n",
    "    r_list = []\n",
    "\n",
    "    i = 0\n",
    "    r_max = 20 * km2cm\n",
    "    # max_iter = 1000000 # Change back to this if \"Excess work done on this call\" error. \n",
    "    max_iter = 100000\n",
    "\n",
    "    dr_init = r_max/max_iter\n",
    "    dr_compute = 1000\n",
    "    \n",
    "    if progress:\n",
    "        pbar = tqdm(total=max_iter)\n",
    "\n",
    "    while r.successful() and (r.y[0] >= p_min):\n",
    "        i+=1\n",
    "\n",
    "        dr = min(dr_init, dr_compute)\n",
    "\n",
    "        integral = r.integrate(r.t+dr)\n",
    "        \n",
    "        results.append(integral)\n",
    "        r_list.append(r.t+dr_init)\n",
    "\n",
    "    #     dr_compute = r * dP /P \n",
    "\n",
    "        if progress:\n",
    "            pbar.update(1)\n",
    "        if i > max_iter:\n",
    "            print(\"[STATUS] max_iter reached\")\n",
    "            break\n",
    "    \n",
    "    if progress:\n",
    "        pbar.close()\n",
    "        \n",
    "#     print(r.successful() , (r.y[0] > p_min))\n",
    "#     print(r)\n",
    "    \n",
    "    results = np.array(results, dtype = float)\n",
    "    p, m, phi = results.T\n",
    "    r = np.array(r_list)\n",
    "    return p, m, r, phi"
   ]
  },
  {
   "cell_type": "code",
   "execution_count": 98,
   "metadata": {},
   "outputs": [
    {
     "name": "stderr",
     "output_type": "stream",
     "text": [
      " 51%|█████     | 50958/100000 [00:00<00:00, 62306.21it/s]\n"
     ]
    },
    {
     "name": "stdout",
     "output_type": "stream",
     "text": [
      "== First Integration == \n",
      "Star has mass 2.1 Msun and radius 10.2km\n",
      "Interior Surface: 2.11e+28\n",
      "Exterior Surface: -9.37e-01\n",
      "Phi0 Round 1: 1\n"
     ]
    },
    {
     "name": "stderr",
     "output_type": "stream",
     "text": [
      " 51%|█████     | 50958/100000 [00:00<00:00, 61448.55it/s]"
     ]
    },
    {
     "name": "stdout",
     "output_type": "stream",
     "text": [
      "== Repeated Integration == \n",
      "Star has mass 2.1 Msun and radius 10.2km\n",
      "Interior Surface: -9.56e+20\n",
      "Exterior Surface: -9.37e-01\n",
      "Phi0 Round 2: -1.0542525e+28\n"
     ]
    },
    {
     "name": "stderr",
     "output_type": "stream",
     "text": [
      "\n"
     ]
    }
   ],
   "source": [
    "# Load EOS\n",
    "df = pd.read_csv(\"sly230a.csv\")\n",
    "e, p = df_to_ep(df)\n",
    "EOS = get_ep(e, p)\n",
    "\n",
    "# Initial Conditions\n",
    "km2cm = 1e5\n",
    "r_i = 1e-8 # This needs to be low enough for additional p0 term to not have any effect. \n",
    "p0 = p[-8]\n",
    "e0 = EOS(p0)\n",
    "p_c = p0 - 2 * np.pi * (G/(c**2)) * r_i**2 * (p0 + e0) * (3*p0 + e0)/3\n",
    "e_c = e0\n",
    "m0 = e_c * 4/3 * np.pi * r_i**3\n",
    "\n",
    "phi0 = 1 #Arbitrary guess \n",
    "\n",
    "init_VEC = [p_c, m0, phi0]\n",
    "msun = 2e33\n",
    "p_min = min(p)\n",
    "\n",
    "# Integrate\n",
    "p, m, r_arr, phi = tov(EOS, init_VEC, r_i, p_min, progress = True)\n",
    "r_arr = r_arr/km2cm\n",
    "m = m/msun\n",
    "\n",
    "mStar = m.max()\n",
    "max_idx = np.argmax(m)\n",
    "mR = r_arr[max_idx]\n",
    "\n",
    "# Convert back to cgs for calculations\n",
    "M = mStar * msun\n",
    "R = mR * km2cm \n",
    "\n",
    "# Working in scale\n",
    "schild = np.log((1-2*G*M/(c**2*R)))\n",
    "interior = (2*phi[-1])\n",
    "\n",
    "print(\"== First Integration == \")\n",
    "print(f\"Star has mass {mStar:.1f} Msun and radius {mR:.1f}km\")\n",
    "print(f\"Interior Surface: {interior:.2e}\")\n",
    "print(f\"Exterior Surface: {schild:.2e}\")\n",
    "print(f\"Phi0 Round 1: {phi0}\")\n",
    "\n",
    "# Log base e\n",
    "phi0_schild = 0.5 * schild\n",
    "phi0_new =  - phi[-1]\n",
    "phi0_new = -1.0542525e28\n",
    "\n",
    "\n",
    "# Repeat integration\n",
    "init_VEC = [p_c, m0, phi0_new]\n",
    "msun = 2e33\n",
    "p_min = min(p)\n",
    "\n",
    "time.sleep(0.2)\n",
    "# Integrate\n",
    "p, m, r_arr, phi = tov(EOS, init_VEC, r_i, p_min, progress = True)\n",
    "r_arr = r_arr/km2cm\n",
    "m = m/msun\n",
    "\n",
    "mStar = m.max()\n",
    "max_idx = np.argmax(m)\n",
    "mR = r_arr[max_idx]\n",
    "\n",
    "# Working in scale\n",
    "schild = np.log((1-2*G*M/(c**2*R)))\n",
    "interior = (2*phi[-1])\n",
    "print(\"== Repeated Integration == \")\n",
    "print(f\"Star has mass {mStar:.1f} Msun and radius {mR:.1f}km\")\n",
    "print(f\"Interior Surface: {interior:.2e}\")\n",
    "print(f\"Exterior Surface: {schild:.2e}\")\n",
    "print(f\"Phi0 Round 2: {phi0_new}\")"
   ]
  },
  {
   "cell_type": "markdown",
   "metadata": {},
   "source": [
    "## Solving Iteratively"
   ]
  },
  {
   "cell_type": "code",
   "execution_count": null,
   "metadata": {},
   "outputs": [
    {
     "name": "stderr",
     "output_type": "stream",
     "text": [
      "\n",
      "\n",
      "  0%|          | 0/100000 [00:00<?, ?it/s]\u001b[A\u001b[A\n",
      "\n",
      "  5%|▍         | 4919/100000 [00:00<00:01, 49189.93it/s]\u001b[A\u001b[A\n",
      "\n",
      " 14%|█▍        | 13771/100000 [00:00<00:01, 56754.61it/s]\u001b[A\u001b[A\n",
      "\n",
      " 23%|██▎       | 22703/100000 [00:00<00:01, 63724.10it/s]\u001b[A\u001b[A\n",
      "\n",
      " 32%|███▏      | 31528/100000 [00:00<00:00, 69518.67it/s]\u001b[A\u001b[A\n",
      "\n",
      " 40%|███▉      | 39967/100000 [00:00<00:00, 73396.93it/s]\u001b[A\u001b[A\n",
      "\n",
      " 51%|█████     | 50958/100000 [00:00<00:00, 58535.75it/s]\u001b[A\u001b[A\n",
      "\n",
      "\n",
      "  0%|          | 0/100000 [00:00<?, ?it/s]\u001b[A\u001b[A\n",
      "\n",
      "  5%|▍         | 4511/100000 [00:00<00:02, 45109.61it/s]\u001b[A\u001b[A\n",
      "\n",
      " 13%|█▎        | 12984/100000 [00:00<00:01, 52470.06it/s]\u001b[A\u001b[A\n",
      "\n",
      " 22%|██▏       | 21523/100000 [00:00<00:01, 59332.05it/s]\u001b[A\u001b[A\n",
      "\n",
      " 30%|███       | 30042/100000 [00:00<00:01, 65275.63it/s]\u001b[A\u001b[A\n",
      "\n",
      " 38%|███▊      | 38298/100000 [00:00<00:00, 69649.20it/s]\u001b[A\u001b[A\n",
      "\n",
      " 51%|█████     | 50958/100000 [00:00<00:00, 57162.87it/s]\u001b[A\u001b[A\n",
      "\n",
      "\n",
      "  0%|          | 0/100000 [00:00<?, ?it/s]\u001b[A\u001b[A\n",
      "\n",
      "  5%|▌         | 5402/100000 [00:00<00:01, 54017.22it/s]\u001b[A\u001b[A\n",
      "\n",
      " 14%|█▍        | 13831/100000 [00:00<00:01, 60539.91it/s]\u001b[A\u001b[A\n",
      "\n",
      " 23%|██▎       | 22738/100000 [00:00<00:01, 66975.67it/s]\u001b[A\u001b[A\n",
      "\n",
      " 31%|███▏      | 31305/100000 [00:00<00:00, 71667.27it/s]\u001b[A\u001b[A\n",
      "\n",
      " 40%|████      | 40020/100000 [00:00<00:00, 75701.78it/s]\u001b[A\u001b[A\n",
      "\n",
      " 51%|█████     | 50959/100000 [00:00<00:00, 57539.12it/s]\u001b[A\u001b[A\n",
      "\n",
      "\n",
      "  0%|          | 0/100000 [00:00<?, ?it/s]\u001b[A\u001b[A\n",
      "\n",
      "  5%|▌         | 5142/100000 [00:00<00:01, 51416.49it/s]\u001b[A\u001b[A\n",
      "\n",
      " 14%|█▍        | 14107/100000 [00:00<00:01, 58959.64it/s]\u001b[A\u001b[A\n",
      "\n",
      " 23%|██▎       | 23060/100000 [00:00<00:01, 65688.36it/s]\u001b[A\u001b[A\n",
      "\n",
      " 32%|███▏      | 31736/100000 [00:00<00:00, 70798.62it/s]\u001b[A\u001b[A\n",
      "\n",
      " 41%|████      | 40604/100000 [00:00<00:00, 75356.53it/s]\u001b[A\u001b[A\n",
      "\n",
      " 51%|█████     | 50959/100000 [00:00<00:00, 57673.92it/s]\u001b[A\u001b[A\n",
      "\n",
      "\n",
      "  0%|          | 0/100000 [00:00<?, ?it/s]\u001b[A\u001b[A\n",
      "\n",
      "  6%|▌         | 5612/100000 [00:00<00:01, 56118.31it/s]\u001b[A\u001b[A\n",
      "\n",
      " 14%|█▍        | 14141/100000 [00:00<00:01, 62534.41it/s]\u001b[A\u001b[A\n",
      "\n",
      " 23%|██▎       | 22691/100000 [00:00<00:01, 68015.11it/s]\u001b[A\u001b[A\n",
      "\n",
      " 32%|███▏      | 31525/100000 [00:00<00:00, 73057.39it/s]\u001b[A\u001b[A\n",
      "\n",
      " 40%|████      | 40347/100000 [00:00<00:00, 77027.77it/s]\u001b[A\u001b[A\n",
      "\n",
      " 51%|█████     | 50958/100000 [00:00<00:00, 58870.95it/s]\u001b[A\u001b[A\n",
      "\n",
      "\n",
      "  0%|          | 0/100000 [00:00<?, ?it/s]\u001b[A\u001b[A\n",
      "\n",
      "  5%|▍         | 4897/100000 [00:00<00:01, 48969.46it/s]\u001b[A\u001b[A\n",
      "\n",
      " 14%|█▎        | 13747/100000 [00:00<00:01, 56546.62it/s]\u001b[A\u001b[A\n",
      "\n",
      " 23%|██▎       | 22758/100000 [00:00<00:01, 63659.42it/s]\u001b[A\u001b[A\n",
      "\n",
      " 32%|███▏      | 31518/100000 [00:00<00:00, 69344.40it/s]\u001b[A\u001b[A\n",
      "\n",
      " 40%|████      | 40350/100000 [00:00<00:00, 74120.84it/s]\u001b[A\u001b[A\n",
      "\n",
      " 51%|█████     | 50958/100000 [00:00<00:00, 59204.60it/s]\u001b[A\u001b[A\n",
      "\n",
      "\n",
      "  0%|          | 0/100000 [00:00<?, ?it/s]\u001b[A\u001b[A\n",
      "\n",
      "  4%|▍         | 3909/100000 [00:00<00:02, 39087.99it/s]\u001b[A\u001b[A\n",
      "\n",
      " 12%|█▏        | 11929/100000 [00:00<00:01, 46191.12it/s]\u001b[A\u001b[A\n",
      "\n",
      " 20%|██        | 20153/100000 [00:00<00:01, 53182.22it/s]\u001b[A\u001b[A\n",
      "\n",
      " 29%|██▉       | 28828/100000 [00:00<00:01, 60165.52it/s]"
     ]
    }
   ],
   "source": [
    "from scipy.optimize import minimize\n",
    "# Load EOS\n",
    "df = pd.read_csv(\"sly230a.csv\")\n",
    "e, p = df_to_ep(df)\n",
    "EOS = get_ep(e, p)\n",
    "\n",
    "# Initial Conditions\n",
    "km2cm = 1e5\n",
    "r_i = 1e-8 # This needs to be low enough for additional p0 term to not have any effect. \n",
    "p0 = p[-8]\n",
    "e0 = EOS(p0)\n",
    "p_c = p0 - 2 * np.pi * (G/(c**2)) * r_i**2 * (p0 + e0) * (3*p0 + e0)/3\n",
    "e_c = e0\n",
    "m0 = e_c * 4/3 * np.pi * r_i**3\n",
    "\n",
    "phi0 = 1 #Arbitrary guess \n",
    "\n",
    "\n",
    "def minimize_phi(phi0_new, p = p, EOS = EOS):\n",
    "    # Repeat integration\n",
    "    init_VEC = [p_c, m0, phi0_new]\n",
    "    msun = 2e33\n",
    "    p_min = min(p)\n",
    "\n",
    "    time.sleep(0.2)\n",
    "    # Integrate\n",
    "    p, m, r_arr, phi = tov(EOS, init_VEC, r_i, p_min, progress = True)\n",
    "    r_arr = r_arr/km2cm\n",
    "    m = m/msun\n",
    "\n",
    "    mStar = m.max()\n",
    "    max_idx = np.argmax(m)\n",
    "    mR = r_arr[max_idx]\n",
    "\n",
    "    # Working in scale\n",
    "    schild = np.log((1-2*G*M/(c**2*R)))\n",
    "    interior = (2*phi[-1])\n",
    "    loss = (schild - interior)**2\n",
    "    return loss\n",
    "\n",
    "res = minimize(minimize_phi, x0 = phi0, options = {\"disp\": False})"
   ]
  },
  {
   "cell_type": "code",
   "execution_count": 66,
   "metadata": {},
   "outputs": [
    {
     "data": {
      "image/png": "[encoded data removed]",
      "text/plain": [
       "<Figure size 432x288 with 1 Axes>"
      ]
     },
     "metadata": {
      "needs_background": "light"
     },
     "output_type": "display_data"
    },
    {
     "data": {
      "image/png": "[encoded data removed]",
      "text/plain": [
       "<Figure size 432x288 with 1 Axes>"
      ]
     },
     "metadata": {
      "needs_background": "light"
     },
     "output_type": "display_data"
    },
    {
     "data": {
      "image/png": "[encoded data removed]",
      "text/plain": [
       "<Figure size 432x288 with 1 Axes>"
      ]
     },
     "metadata": {
      "needs_background": "light"
     },
     "output_type": "display_data"
    }
   ],
   "source": [
    "plt.figure()\n",
    "plt.plot(r_arr, p/p_c)\n",
    "plt.xlabel(\"r\")\n",
    "plt.ylabel(\"P/Pc\")\n",
    "\n",
    "plt.figure()\n",
    "plt.plot(r_arr, m)\n",
    "plt.xlabel(\"r \")\n",
    "plt.ylabel(\"M/Msun\")\n",
    "plt.show()\n",
    "\n",
    "plt.figure()\n",
    "plt.plot(r_arr, phi)\n",
    "plt.xlabel(\"r \")\n",
    "plt.ylabel(\"phi\")\n",
    "plt.show()"
   ]
  },
  {
   "cell_type": "code",
   "execution_count": null,
   "metadata": {},
   "outputs": [],
   "source": []
  }
 ],
 "metadata": {
  "kernelspec": {
   "display_name": "Python 3",
   "language": "python",
   "name": "python3"
  },
  "language_info": {
   "codemirror_mode": {
    "name": "ipython",
    "version": 3
   },
   "file_extension": ".py",
   "mimetype": "text/x-python",
   "name": "python",
   "nbconvert_exporter": "python",
   "pygments_lexer": "ipython3",
   "version": "3.8.6"
  },
  "widgets": {
   "application/vnd.jupyter.widget-state+json": {
    "state": {},
    "version_major": 2,
    "version_minor": 0
   }
  }
 },
 "nbformat": 4,
 "nbformat_minor": 4
}
