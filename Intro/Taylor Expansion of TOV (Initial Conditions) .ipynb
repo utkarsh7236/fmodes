{
 "cells": [
  {
   "cell_type": "code",
   "execution_count": 1,
   "metadata": {},
   "outputs": [],
   "source": [
    "from sympy import *"
   ]
  },
  {
   "cell_type": "code",
   "execution_count": 2,
   "metadata": {},
   "outputs": [],
   "source": [
    "G, e, M, p, r, c = symbols(\"G e M p r c\")"
   ]
  },
  {
   "cell_type": "code",
   "execution_count": 3,
   "metadata": {},
   "outputs": [],
   "source": [
    "dpdr = -G*e*M/((c*r)**2) * (1 + p/e)*(1+(4*pi*r**3*p)/(M*c**2))/(1-2*G*M/(c**2))\n",
    "# Make Dimensionless\n",
    "dpdr = simplify(dpdr.subs({G:1, c:1}))"
   ]
  },
  {
   "cell_type": "code",
   "execution_count": 4,
   "metadata": {},
   "outputs": [],
   "source": [
    "dmdr = 4 * pi * r**2 * e"
   ]
  },
  {
   "cell_type": "code",
   "execution_count": 5,
   "metadata": {},
   "outputs": [
    {
     "data": {
      "text/latex": [
       "$\\displaystyle \\frac{\\left(M + 4 \\pi p r^{3}\\right) \\left(e + p\\right)}{r^{2} \\left(2 M - 1\\right)}$"
      ],
      "text/plain": [
       "(M + 4*pi*p*r**3)*(e + p)/(r**2*(2*M - 1))"
      ]
     },
     "metadata": {},
     "output_type": "display_data"
    },
    {
     "data": {
      "text/latex": [
       "$\\displaystyle 4 \\pi e r^{2}$"
      ],
      "text/plain": [
       "4*pi*e*r**2"
      ]
     },
     "metadata": {},
     "output_type": "display_data"
    }
   ],
   "source": [
    "display(dpdr, dmdr)"
   ]
  },
  {
   "cell_type": "markdown",
   "metadata": {},
   "source": [
    "## First Order"
   ]
  },
  {
   "cell_type": "code",
   "execution_count": 6,
   "metadata": {},
   "outputs": [],
   "source": [
    "eps = symbols(\"\\epsilon\")\n",
    "e0, e1, e2 = symbols(\"e_0 e_1 e_2\")\n",
    "p0, p1, p2 = symbols(\"p_0 p_1 p_2\")\n",
    "m0, m1, m2 = symbols(\"m_0 m_1 m_2\")\n",
    "r0 = symbols(\"r_0\")\n",
    "e_exp = e0 \n",
    "r_exp = r0"
   ]
  },
  {
   "cell_type": "code",
   "execution_count": 7,
   "metadata": {},
   "outputs": [
    {
     "data": {
      "text/latex": [
       "$\\displaystyle 4 \\pi e_{0} r_{0}^{3}$"
      ],
      "text/plain": [
       "4*pi*e_0*r_0**3"
      ]
     },
     "metadata": {},
     "output_type": "display_data"
    }
   ],
   "source": [
    "exprA = dmdr.subs({e:e_exp, r:r_exp}) \n",
    "m0 = exprA * r_exp #M = dmdr * r \n",
    "display(m0) # = dmdr"
   ]
  },
  {
   "cell_type": "code",
   "execution_count": 21,
   "metadata": {},
   "outputs": [
    {
     "data": {
      "text/latex": [
       "$\\displaystyle r_{0} \\left(- 4 \\pi e_{0}^{2} - 8 \\pi e_{0} p_{0} - 4 \\pi p_{0}^{2}\\right) + O\\left(r_{0}^{2}\\right)$"
      ],
      "text/plain": [
       "r_0*(-4*pi*e_0**2 - 8*pi*e_0*p_0 - 4*pi*p_0**2) + O(r_0**2)"
      ]
     },
     "execution_count": 21,
     "metadata": {},
     "output_type": "execute_result"
    }
   ],
   "source": [
    "p_exp = p0 \n",
    "m_exp = m0 \n",
    "exprB = dpdr.subs({p: p_exp, e:e_exp, r:r_exp, M:m_exp}) #+ O(1)\n",
    "exprB.series(r0) + O(r0**2)"
   ]
  },
  {
   "cell_type": "code",
   "execution_count": 22,
   "metadata": {},
   "outputs": [
    {
     "data": {
      "text/latex": [
       "$\\displaystyle O\\left(r_{0}^{2}\\right)$"
      ],
      "text/plain": [
       "O(r_0**2)"
      ]
     },
     "execution_count": 22,
     "metadata": {},
     "output_type": "execute_result"
    }
   ],
   "source": [
    "p_init = exprB * r_exp \n",
    "p_init.series(r0) + O(r0**2)"
   ]
  },
  {
   "cell_type": "markdown",
   "metadata": {},
   "source": [
    "## Second Order"
   ]
  },
  {
   "cell_type": "code",
   "execution_count": 10,
   "metadata": {},
   "outputs": [],
   "source": [
    "eps = symbols(\"\\epsilon\")\n",
    "e0, e1, e2 = symbols(\"e_0 e_1 e_2\")\n",
    "p0, p1, p2 = symbols(\"p_0 p_1 p_2\")\n",
    "m0, m1, m2 = symbols(\"m_0 m_1 m_2\")\n",
    "r0 = symbols(\"r_0\")\n",
    "e_exp = e0 + e1 * r0 \n",
    "r_exp = r0"
   ]
  },
  {
   "cell_type": "code",
   "execution_count": 11,
   "metadata": {},
   "outputs": [
    {
     "data": {
      "text/latex": [
       "$\\displaystyle 4 \\pi r_{0}^{3} \\left(e_{0} + e_{1} r_{0}\\right)$"
      ],
      "text/plain": [
       "4*pi*r_0**3*(e_0 + e_1*r_0)"
      ]
     },
     "metadata": {},
     "output_type": "display_data"
    }
   ],
   "source": [
    "exprA = dmdr.subs({e:e_exp, r:r_exp}) \n",
    "m0 = exprA * r_exp #M = dmdr * r \n",
    "display(m0) # = dmdr"
   ]
  },
  {
   "cell_type": "code",
   "execution_count": 23,
   "metadata": {},
   "outputs": [
    {
     "data": {
      "text/latex": [
       "$\\displaystyle \\frac{- e_{0} m_{1} - m_{1} p_{0}}{r_{0}} + r_{0} \\left(- 4 \\pi e_{0}^{2} - 4 e_{0} m_{1}^{3} - 8 \\pi e_{0} p_{0} - 2 e_{1} m_{1}^{2} - e_{2} m_{1} - 4 m_{1}^{3} p_{0} - 2 m_{1}^{2} p_{1} - 4 \\pi p_{0}^{2}\\right) + r_{0}^{2} \\left(- 8 \\pi e_{0}^{2} m_{1} - 8 \\pi e_{0} e_{1} - 16 \\pi e_{0} m_{1} p_{0} + e_{0} m_{1} \\left(- 8 \\pi e_{0} - 8 m_{1}^{3}\\right) - 8 \\pi e_{0} p_{1} - 4 e_{1} m_{1}^{3} - 8 \\pi e_{1} p_{0} - 2 e_{2} m_{1}^{2} - 4 m_{1}^{3} p_{1} - 8 \\pi m_{1} p_{0}^{2} + m_{1} p_{0} \\left(- 8 \\pi e_{0} - 8 m_{1}^{3}\\right) - 8 \\pi p_{0} p_{1}\\right) - m_{1} p_{1} - 2 m_{1}^{2} p_{0} - e_{1} m_{1} - 2 e_{0} m_{1}^{2} + O\\left(r_{0}^{3}\\right)$"
      ],
      "text/plain": [
       "(-e_0*m_1 - m_1*p_0)/r_0 + r_0*(-4*pi*e_0**2 - 4*e_0*m_1**3 - 8*pi*e_0*p_0 - 2*e_1*m_1**2 - e_2*m_1 - 4*m_1**3*p_0 - 2*m_1**2*p_1 - 4*pi*p_0**2) + r_0**2*(-8*pi*e_0**2*m_1 - 8*pi*e_0*e_1 - 16*pi*e_0*m_1*p_0 + e_0*m_1*(-8*pi*e_0 - 8*m_1**3) - 8*pi*e_0*p_1 - 4*e_1*m_1**3 - 8*pi*e_1*p_0 - 2*e_2*m_1**2 - 4*m_1**3*p_1 - 8*pi*m_1*p_0**2 + m_1*p_0*(-8*pi*e_0 - 8*m_1**3) - 8*pi*p_0*p_1) - m_1*p_1 - 2*m_1**2*p_0 - e_1*m_1 - 2*e_0*m_1**2 + O(r_0**3)"
      ]
     },
     "execution_count": 23,
     "metadata": {},
     "output_type": "execute_result"
    }
   ],
   "source": [
    "p_exp = p0 + p1 * r0\n",
    "m_exp = m0 + m1 * r0\n",
    "exprB = dpdr.subs({p: p_exp, e:e_exp, r:r_exp, M:m_exp}) #+ O(1)\n",
    "exprB.series(r0) + O(r0**3)"
   ]
  },
  {
   "cell_type": "code",
   "execution_count": 24,
   "metadata": {},
   "outputs": [
    {
     "data": {
      "text/latex": [
       "$\\displaystyle r_{0} \\left(- 2 e_{0} m_{1}^{2} - e_{1} m_{1} - 2 m_{1}^{2} p_{0} - m_{1} p_{1}\\right) + r_{0}^{2} \\left(- 4 \\pi e_{0}^{2} - 4 e_{0} m_{1}^{3} - 8 \\pi e_{0} p_{0} - 2 e_{1} m_{1}^{2} - e_{2} m_{1} - 4 m_{1}^{3} p_{0} - 2 m_{1}^{2} p_{1} - 4 \\pi p_{0}^{2}\\right) - m_{1} p_{0} - e_{0} m_{1} + O\\left(r_{0}^{3}\\right)$"
      ],
      "text/plain": [
       "r_0*(-2*e_0*m_1**2 - e_1*m_1 - 2*m_1**2*p_0 - m_1*p_1) + r_0**2*(-4*pi*e_0**2 - 4*e_0*m_1**3 - 8*pi*e_0*p_0 - 2*e_1*m_1**2 - e_2*m_1 - 4*m_1**3*p_0 - 2*m_1**2*p_1 - 4*pi*p_0**2) - m_1*p_0 - e_0*m_1 + O(r_0**3)"
      ]
     },
     "execution_count": 24,
     "metadata": {},
     "output_type": "execute_result"
    }
   ],
   "source": [
    "p_init = exprB * r_exp \n",
    "p_init.series(r0) + O(r0**3)"
   ]
  },
  {
   "cell_type": "markdown",
   "metadata": {},
   "source": [
    "## Third Order"
   ]
  },
  {
   "cell_type": "code",
   "execution_count": 17,
   "metadata": {},
   "outputs": [],
   "source": [
    "eps = symbols(\"\\epsilon\")\n",
    "e0, e1, e2 = symbols(\"e_0 e_1 e_2\")\n",
    "p0, p1, p2 = symbols(\"p_0 p_1 p_2\")\n",
    "m0, m1, m2 = symbols(\"m_0 m_1 m_2\")\n",
    "r0 = symbols(\"r_0\")\n",
    "e_exp = e0 + e1 * r0 + e2 * r0**2\n",
    "r_exp = r0"
   ]
  },
  {
   "cell_type": "code",
   "execution_count": 18,
   "metadata": {},
   "outputs": [
    {
     "data": {
      "text/latex": [
       "$\\displaystyle 4 \\pi r_{0}^{3} \\left(e_{0} + e_{1} r_{0} + e_{2} r_{0}^{2}\\right)$"
      ],
      "text/plain": [
       "4*pi*r_0**3*(e_0 + e_1*r_0 + e_2*r_0**2)"
      ]
     },
     "metadata": {},
     "output_type": "display_data"
    }
   ],
   "source": [
    "exprA = dmdr.subs({e:e_exp, r:r_exp}) \n",
    "m0 = exprA * r_exp #M = dmdr * r \n",
    "display(m0) # = dmdr"
   ]
  },
  {
   "cell_type": "code",
   "execution_count": 25,
   "metadata": {},
   "outputs": [
    {
     "data": {
      "text/latex": [
       "$\\displaystyle \\frac{- e_{0} m_{1} - m_{1} p_{0}}{r_{0}} + r_{0} \\left(- 4 \\pi e_{0}^{2} - 2 e_{0} m_{1} m_{2} + e_{0} m_{1} \\left(- 4 m_{1}^{2} - 2 m_{2}\\right) - 8 \\pi e_{0} p_{0} - 2 e_{1} m_{1}^{2} - e_{1} m_{2} - e_{2} m_{1} - 2 m_{1}^{2} p_{1} - 2 m_{1} m_{2} p_{0} + m_{1} p_{0} \\left(- 4 m_{1}^{2} - 2 m_{2}\\right) - m_{1} p_{2} - m_{2} p_{1} - 4 \\pi p_{0}^{2}\\right) + r_{0}^{2} \\left(- 8 \\pi e_{0}^{2} m_{1} - 8 \\pi e_{0} e_{1} - 16 \\pi e_{0} m_{1} p_{0} + e_{0} m_{1} \\left(- 8 \\pi e_{0} - 8 m_{1}^{3} - 8 m_{1} m_{2}\\right) + e_{0} m_{2} \\left(- 4 m_{1}^{2} - 2 m_{2}\\right) - 8 \\pi e_{0} p_{1} - 2 e_{1} m_{1} m_{2} + e_{1} m_{1} \\left(- 4 m_{1}^{2} - 2 m_{2}\\right) - 8 \\pi e_{1} p_{0} - 2 e_{2} m_{1}^{2} - e_{2} m_{2} - 2 m_{1}^{2} p_{2} - 2 m_{1} m_{2} p_{1} - 8 \\pi m_{1} p_{0}^{2} + m_{1} p_{0} \\left(- 8 \\pi e_{0} - 8 m_{1}^{3} - 8 m_{1} m_{2}\\right) + m_{1} p_{1} \\left(- 4 m_{1}^{2} - 2 m_{2}\\right) + m_{2} p_{0} \\left(- 4 m_{1}^{2} - 2 m_{2}\\right) - m_{2} p_{2} - 8 \\pi p_{0} p_{1}\\right) + r_{0}^{3} \\left(4 \\pi e_{0}^{2} \\left(- 4 m_{1}^{2} - 2 m_{2}\\right) - 16 \\pi e_{0} e_{1} m_{1} - 8 \\pi e_{0} e_{2} - 16 \\pi e_{0} m_{1} p_{1} + e_{0} m_{1} \\left(- 32 \\pi e_{0} m_{1} - 8 \\pi e_{1} - 16 m_{1}^{4} - 24 m_{1}^{2} m_{2} - 4 m_{2}^{2}\\right) + e_{0} m_{2} \\left(- 8 \\pi e_{0} - 8 m_{1}^{3} - 8 m_{1} m_{2}\\right) + 8 \\pi e_{0} p_{0} \\left(- 4 m_{1}^{2} - 2 m_{2}\\right) - 8 \\pi e_{0} p_{2} - 4 \\pi e_{1}^{2} - 16 \\pi e_{1} m_{1} p_{0} + e_{1} m_{1} \\left(- 8 \\pi e_{0} - 8 m_{1}^{3} - 8 m_{1} m_{2}\\right) + e_{1} m_{2} \\left(- 4 m_{1}^{2} - 2 m_{2}\\right) - 8 \\pi e_{1} p_{1} - 2 e_{2} m_{1} m_{2} + e_{2} m_{1} \\left(- 4 m_{1}^{2} - 2 m_{2}\\right) - 8 \\pi e_{2} p_{0} - 2 m_{1} m_{2} p_{2} - 16 \\pi m_{1} p_{0} p_{1} + m_{1} p_{0} \\left(- 32 \\pi e_{0} m_{1} - 8 \\pi e_{1} - 16 m_{1}^{4} - 24 m_{1}^{2} m_{2} - 4 m_{2}^{2}\\right) + m_{1} p_{1} \\left(- 8 \\pi e_{0} - 8 m_{1}^{3} - 8 m_{1} m_{2}\\right) + m_{1} p_{2} \\left(- 4 m_{1}^{2} - 2 m_{2}\\right) + m_{2} p_{0} \\left(- 8 \\pi e_{0} - 8 m_{1}^{3} - 8 m_{1} m_{2}\\right) + m_{2} p_{1} \\left(- 4 m_{1}^{2} - 2 m_{2}\\right) + 4 \\pi p_{0}^{2} \\left(- 4 m_{1}^{2} - 2 m_{2}\\right) - 8 \\pi p_{0} p_{2} - 4 \\pi p_{1}^{2}\\right) - m_{2} p_{0} - m_{1} p_{1} - 2 m_{1}^{2} p_{0} - e_{1} m_{1} - e_{0} m_{2} - 2 e_{0} m_{1}^{2} + O\\left(r_{0}^{4}\\right)$"
      ],
      "text/plain": [
       "(-e_0*m_1 - m_1*p_0)/r_0 + r_0*(-4*pi*e_0**2 - 2*e_0*m_1*m_2 + e_0*m_1*(-4*m_1**2 - 2*m_2) - 8*pi*e_0*p_0 - 2*e_1*m_1**2 - e_1*m_2 - e_2*m_1 - 2*m_1**2*p_1 - 2*m_1*m_2*p_0 + m_1*p_0*(-4*m_1**2 - 2*m_2) - m_1*p_2 - m_2*p_1 - 4*pi*p_0**2) + r_0**2*(-8*pi*e_0**2*m_1 - 8*pi*e_0*e_1 - 16*pi*e_0*m_1*p_0 + e_0*m_1*(-8*pi*e_0 - 8*m_1**3 - 8*m_1*m_2) + e_0*m_2*(-4*m_1**2 - 2*m_2) - 8*pi*e_0*p_1 - 2*e_1*m_1*m_2 + e_1*m_1*(-4*m_1**2 - 2*m_2) - 8*pi*e_1*p_0 - 2*e_2*m_1**2 - e_2*m_2 - 2*m_1**2*p_2 - 2*m_1*m_2*p_1 - 8*pi*m_1*p_0**2 + m_1*p_0*(-8*pi*e_0 - 8*m_1**3 - 8*m_1*m_2) + m_1*p_1*(-4*m_1**2 - 2*m_2) + m_2*p_0*(-4*m_1**2 - 2*m_2) - m_2*p_2 - 8*pi*p_0*p_1) + r_0**3*(4*pi*e_0**2*(-4*m_1**2 - 2*m_2) - 16*pi*e_0*e_1*m_1 - 8*pi*e_0*e_2 - 16*pi*e_0*m_1*p_1 + e_0*m_1*(-32*pi*e_0*m_1 - 8*pi*e_1 - 16*m_1**4 - 24*m_1**2*m_2 - 4*m_2**2) + e_0*m_2*(-8*pi*e_0 - 8*m_1**3 - 8*m_1*m_2) + 8*pi*e_0*p_0*(-4*m_1**2 - 2*m_2) - 8*pi*e_0*p_2 - 4*pi*e_1**2 - 16*pi*e_1*m_1*p_0 + e_1*m_1*(-8*pi*e_0 - 8*m_1**3 - 8*m_1*m_2) + e_1*m_2*(-4*m_1**2 - 2*m_2) - 8*pi*e_1*p_1 - 2*e_2*m_1*m_2 + e_2*m_1*(-4*m_1**2 - 2*m_2) - 8*pi*e_2*p_0 - 2*m_1*m_2*p_2 - 16*pi*m_1*p_0*p_1 + m_1*p_0*(-32*pi*e_0*m_1 - 8*pi*e_1 - 16*m_1**4 - 24*m_1**2*m_2 - 4*m_2**2) + m_1*p_1*(-8*pi*e_0 - 8*m_1**3 - 8*m_1*m_2) + m_1*p_2*(-4*m_1**2 - 2*m_2) + m_2*p_0*(-8*pi*e_0 - 8*m_1**3 - 8*m_1*m_2) + m_2*p_1*(-4*m_1**2 - 2*m_2) + 4*pi*p_0**2*(-4*m_1**2 - 2*m_2) - 8*pi*p_0*p_2 - 4*pi*p_1**2) - m_2*p_0 - m_1*p_1 - 2*m_1**2*p_0 - e_1*m_1 - e_0*m_2 - 2*e_0*m_1**2 + O(r_0**4)"
      ]
     },
     "execution_count": 25,
     "metadata": {},
     "output_type": "execute_result"
    }
   ],
   "source": [
    "p_exp = p0 + p1 * r0 + p2 * r0**2\n",
    "m_exp = m0 + m1 * r0 + m2 * r0**2\n",
    "exprB = dpdr.subs({p: p_exp, e:e_exp, r:r_exp, M:m_exp}) #+ O(1)\n",
    "exprB.series(r0) + O(r0**4)"
   ]
  },
  {
   "cell_type": "code",
   "execution_count": 26,
   "metadata": {},
   "outputs": [
    {
     "data": {
      "text/latex": [
       "$\\displaystyle r_{0} \\left(- 2 e_{0} m_{1}^{2} - e_{0} m_{2} - e_{1} m_{1} - 2 m_{1}^{2} p_{0} - m_{1} p_{1} - m_{2} p_{0}\\right) + r_{0}^{2} \\left(- 4 \\pi e_{0}^{2} - 2 e_{0} m_{1} m_{2} + e_{0} m_{1} \\left(- 4 m_{1}^{2} - 2 m_{2}\\right) - 8 \\pi e_{0} p_{0} - 2 e_{1} m_{1}^{2} - e_{1} m_{2} - e_{2} m_{1} - 2 m_{1}^{2} p_{1} - 2 m_{1} m_{2} p_{0} + m_{1} p_{0} \\left(- 4 m_{1}^{2} - 2 m_{2}\\right) - m_{1} p_{2} - m_{2} p_{1} - 4 \\pi p_{0}^{2}\\right) + r_{0}^{3} \\left(- 8 \\pi e_{0}^{2} m_{1} - 8 \\pi e_{0} e_{1} - 16 \\pi e_{0} m_{1} p_{0} + e_{0} m_{1} \\left(- 8 \\pi e_{0} - 8 m_{1}^{3} - 8 m_{1} m_{2}\\right) + e_{0} m_{2} \\left(- 4 m_{1}^{2} - 2 m_{2}\\right) - 8 \\pi e_{0} p_{1} - 2 e_{1} m_{1} m_{2} + e_{1} m_{1} \\left(- 4 m_{1}^{2} - 2 m_{2}\\right) - 8 \\pi e_{1} p_{0} - 2 e_{2} m_{1}^{2} - e_{2} m_{2} - 2 m_{1}^{2} p_{2} - 2 m_{1} m_{2} p_{1} - 8 \\pi m_{1} p_{0}^{2} + m_{1} p_{0} \\left(- 8 \\pi e_{0} - 8 m_{1}^{3} - 8 m_{1} m_{2}\\right) + m_{1} p_{1} \\left(- 4 m_{1}^{2} - 2 m_{2}\\right) + m_{2} p_{0} \\left(- 4 m_{1}^{2} - 2 m_{2}\\right) - m_{2} p_{2} - 8 \\pi p_{0} p_{1}\\right) - m_{1} p_{0} - e_{0} m_{1} + O\\left(r_{0}^{4}\\right)$"
      ],
      "text/plain": [
       "r_0*(-2*e_0*m_1**2 - e_0*m_2 - e_1*m_1 - 2*m_1**2*p_0 - m_1*p_1 - m_2*p_0) + r_0**2*(-4*pi*e_0**2 - 2*e_0*m_1*m_2 + e_0*m_1*(-4*m_1**2 - 2*m_2) - 8*pi*e_0*p_0 - 2*e_1*m_1**2 - e_1*m_2 - e_2*m_1 - 2*m_1**2*p_1 - 2*m_1*m_2*p_0 + m_1*p_0*(-4*m_1**2 - 2*m_2) - m_1*p_2 - m_2*p_1 - 4*pi*p_0**2) + r_0**3*(-8*pi*e_0**2*m_1 - 8*pi*e_0*e_1 - 16*pi*e_0*m_1*p_0 + e_0*m_1*(-8*pi*e_0 - 8*m_1**3 - 8*m_1*m_2) + e_0*m_2*(-4*m_1**2 - 2*m_2) - 8*pi*e_0*p_1 - 2*e_1*m_1*m_2 + e_1*m_1*(-4*m_1**2 - 2*m_2) - 8*pi*e_1*p_0 - 2*e_2*m_1**2 - e_2*m_2 - 2*m_1**2*p_2 - 2*m_1*m_2*p_1 - 8*pi*m_1*p_0**2 + m_1*p_0*(-8*pi*e_0 - 8*m_1**3 - 8*m_1*m_2) + m_1*p_1*(-4*m_1**2 - 2*m_2) + m_2*p_0*(-4*m_1**2 - 2*m_2) - m_2*p_2 - 8*pi*p_0*p_1) - m_1*p_0 - e_0*m_1 + O(r_0**4)"
      ]
     },
     "execution_count": 26,
     "metadata": {},
     "output_type": "execute_result"
    }
   ],
   "source": [
    "p_init = exprB * r_exp \n",
    "p_init.series(r0) + O(r0**4)"
   ]
  },
  {
   "cell_type": "code",
   "execution_count": null,
   "metadata": {},
   "outputs": [],
   "source": []
  }
 ],
 "metadata": {
  "kernelspec": {
   "display_name": "Python 3",
   "language": "python",
   "name": "python3"
  },
  "language_info": {
   "codemirror_mode": {
    "name": "ipython",
    "version": 3
   },
   "file_extension": ".py",
   "mimetype": "text/x-python",
   "name": "python",
   "nbconvert_exporter": "python",
   "pygments_lexer": "ipython3",
   "version": "3.8.6"
  }
 },
 "nbformat": 4,
 "nbformat_minor": 4
}
