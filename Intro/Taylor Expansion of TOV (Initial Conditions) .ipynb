{
 "cells": [
  {
   "cell_type": "code",
   "execution_count": 1,
   "metadata": {},
   "outputs": [],
   "source": [
    "from sympy import *"
   ]
  },
  {
   "cell_type": "code",
   "execution_count": 2,
   "metadata": {},
   "outputs": [],
   "source": [
    "G, e, M, p, r, c = symbols(\"G e M p r c\")"
   ]
  },
  {
   "cell_type": "code",
   "execution_count": 3,
   "metadata": {},
   "outputs": [],
   "source": [
    "dpdr = -G*e*M/(c**2) * (1 + p/e)*(1+(4*pi*r**3*p)/(M*c**2))/(r**2-2*G*M*r/(c**2))\n",
    "# Make Dimensionless\n",
    "dpdr = simplify(dpdr.subs({G:1, c:1}))"
   ]
  },
  {
   "cell_type": "code",
   "execution_count": 4,
   "metadata": {},
   "outputs": [],
   "source": [
    "dmdr = 4 * pi * r**2 * e"
   ]
  },
  {
   "cell_type": "code",
   "execution_count": 5,
   "metadata": {},
   "outputs": [
    {
     "data": {
      "text/latex": [
       "$\\displaystyle \\frac{\\left(M + 4 \\pi p r^{3}\\right) \\left(e + p\\right)}{r \\left(2 M - r\\right)}$"
      ],
      "text/plain": [
       "(M + 4*pi*p*r**3)*(e + p)/(r*(2*M - r))"
      ]
     },
     "metadata": {},
     "output_type": "display_data"
    },
    {
     "data": {
      "text/latex": [
       "$\\displaystyle 4 \\pi e r^{2}$"
      ],
      "text/plain": [
       "4*pi*e*r**2"
      ]
     },
     "metadata": {},
     "output_type": "display_data"
    }
   ],
   "source": [
    "display(dpdr, dmdr)"
   ]
  },
  {
   "cell_type": "markdown",
   "metadata": {},
   "source": [
    "## First Order"
   ]
  },
  {
   "cell_type": "code",
   "execution_count": 6,
   "metadata": {},
   "outputs": [
    {
     "data": {
      "text/latex": [
       "$\\displaystyle \\delta{r}$"
      ],
      "text/plain": [
       "\\delta{r}"
      ]
     },
     "execution_count": 6,
     "metadata": {},
     "output_type": "execute_result"
    }
   ],
   "source": [
    "eps = symbols(\"\\epsilon\")\n",
    "e0, e1, e2 = symbols(\"e_0 e_1 e_2\")\n",
    "p0, p1, p2 = symbols(\"p_0 p_1 p_2\")\n",
    "m0, m1, m2 = symbols(\"m_0 m_1 m_2\")\n",
    "e_exp = e0 \n",
    "r_exp = symbols(\"\\delta{r}\")\n",
    "r0 = r_exp\n",
    "r_exp"
   ]
  },
  {
   "cell_type": "code",
   "execution_count": 7,
   "metadata": {},
   "outputs": [
    {
     "data": {
      "text/latex": [
       "$\\displaystyle 4 \\pi \\delta{r}^{3} e_{0}$"
      ],
      "text/plain": [
       "4*pi*\\delta{r}**3*e_0"
      ]
     },
     "metadata": {},
     "output_type": "display_data"
    }
   ],
   "source": [
    "exprA = dmdr.subs({e:e_exp, r:r_exp}) \n",
    "m0 = exprA * r_exp #M = dmdr * r \n",
    "display(m0) # = dmdr"
   ]
  },
  {
   "cell_type": "code",
   "execution_count": 8,
   "metadata": {},
   "outputs": [
    {
     "data": {
      "text/latex": [
       "$\\displaystyle \\delta{r}^{2} \\left(- 4 \\pi e_{0}^{2} - 8 \\pi e_{0} p_{0} - 4 \\pi p_{0}^{2}\\right) + \\delta{r}^{4} \\left(- 32 \\pi^{2} e_{0}^{3} - 64 \\pi^{2} e_{0}^{2} p_{0} - 32 \\pi^{2} e_{0} p_{0}^{2}\\right) + O\\left(\\delta{r}^{6}\\right)$"
      ],
      "text/plain": [
       "\\delta{r}**2*(-4*pi*e_0**2 - 8*pi*e_0*p_0 - 4*pi*p_0**2) + \\delta{r}**4*(-32*pi**2*e_0**3 - 64*pi**2*e_0**2*p_0 - 32*pi**2*e_0*p_0**2) + O(\\delta{r}**6)"
      ]
     },
     "execution_count": 8,
     "metadata": {},
     "output_type": "execute_result"
    }
   ],
   "source": [
    "p_exp = p0 \n",
    "m_exp = m0 \n",
    "exprB = dpdr.subs({p: p_exp, e:e_exp, r:r_exp, M:m_exp})\n",
    "# exprB.series(r_exp) \n",
    "p_init = exprB * r_exp # P = dpdr * r\n",
    "p_init.series(r_exp)"
   ]
  },
  {
   "cell_type": "markdown",
   "metadata": {},
   "source": [
    "## Second Order"
   ]
  },
  {
   "cell_type": "code",
   "execution_count": 17,
   "metadata": {},
   "outputs": [],
   "source": [
    "e_exp = e0 + e1 * r_exp"
   ]
  },
  {
   "cell_type": "code",
   "execution_count": 18,
   "metadata": {},
   "outputs": [
    {
     "data": {
      "text/latex": [
       "$\\displaystyle 4 \\pi \\delta{r}^{3} \\left(\\delta{r} e_{1} + e_{0}\\right)$"
      ],
      "text/plain": [
       "4*pi*\\delta{r}**3*(\\delta{r}*e_1 + e_0)"
      ]
     },
     "metadata": {},
     "output_type": "display_data"
    }
   ],
   "source": [
    "exprA = dmdr.subs({e:e_exp, r:r_exp}) \n",
    "m0 = exprA * r_exp #M = dmdr * r \n",
    "display(m0) # = dmdr"
   ]
  },
  {
   "cell_type": "code",
   "execution_count": 19,
   "metadata": {},
   "outputs": [
    {
     "data": {
      "text/latex": [
       "$\\displaystyle \\frac{m_{1} p_{0}}{2 m_{1} - 1} + \\frac{e_{0} m_{1}}{2 m_{1} - 1} + \\delta{r} \\left(\\frac{e_{1} m_{1}}{2 m_{1} - 1} + \\frac{m_{1} p_{1}}{2 m_{1} - 1}\\right) + \\delta{r}^{2} \\left(- \\frac{8 \\pi e_{0}^{2} m_{1}}{\\left(2 m_{1} - 1\\right)^{2}} + \\frac{4 \\pi e_{0}^{2}}{2 m_{1} - 1} - \\frac{8 \\pi e_{0} m_{1} p_{0}}{\\left(2 m_{1} - 1\\right)^{2}} + \\frac{8 \\pi e_{0} p_{0}}{2 m_{1} - 1} + \\frac{4 \\pi p_{0}^{2}}{2 m_{1} - 1}\\right) + O\\left(\\delta{r}^{3}\\right)$"
      ],
      "text/plain": [
       "m_1*p_0/(2*m_1 - 1) + e_0*m_1/(2*m_1 - 1) + \\delta{r}*(e_1*m_1/(2*m_1 - 1) + m_1*p_1/(2*m_1 - 1)) + \\delta{r}**2*(-8*pi*e_0**2*m_1/(2*m_1 - 1)**2 + 4*pi*e_0**2/(2*m_1 - 1) - 8*pi*e_0*m_1*p_0/(2*m_1 - 1)**2 + 8*pi*e_0*p_0/(2*m_1 - 1) + 4*pi*p_0**2/(2*m_1 - 1)) + O(\\delta{r}**3)"
      ]
     },
     "execution_count": 19,
     "metadata": {},
     "output_type": "execute_result"
    }
   ],
   "source": [
    "p_exp = p0 + p1 * r_exp\n",
    "m_exp = m0 + m1 * r_exp\n",
    "exprB = dpdr.subs({p: p_exp, e:e_exp, r:r_exp, M:m_exp}) #+ O(1)\n",
    "# exprB.series(r_exp) + O(r_exp**2)\n",
    "p_init = exprB * r_exp \n",
    "p_init.series(r_exp) + O(r_exp**3)"
   ]
  },
  {
   "cell_type": "markdown",
   "metadata": {},
   "source": [
    "### From this we can tell that $p_1 = e_1 = 0$, $m_1 = 1$"
   ]
  },
  {
   "cell_type": "code",
   "execution_count": 22,
   "metadata": {},
   "outputs": [
    {
     "data": {
      "text/latex": [
       "$\\displaystyle p_{0} + e_{0} + \\delta{r}^{2} \\left(- 4 \\pi e_{0}^{2} + 4 \\pi p_{0}^{2}\\right) + O\\left(\\delta{r}^{3}\\right)$"
      ],
      "text/plain": [
       "p_0 + e_0 + \\delta{r}**2*(-4*pi*e_0**2 + 4*pi*p_0**2) + O(\\delta{r}**3)"
      ]
     },
     "execution_count": 22,
     "metadata": {},
     "output_type": "execute_result"
    }
   ],
   "source": [
    "p_init.series(r_exp).subs({p1:0, e1:0, m1:1}) + O(r_exp**3)"
   ]
  },
  {
   "cell_type": "markdown",
   "metadata": {},
   "source": [
    "### Is this the expansion we want? For some reason setting $e_o = 0$ gives us the following. "
   ]
  },
  {
   "cell_type": "code",
   "execution_count": 23,
   "metadata": {},
   "outputs": [
    {
     "data": {
      "text/latex": [
       "$\\displaystyle p_{0} + 4 \\pi \\delta{r}^{2} p_{0}^{2} + O\\left(\\delta{r}^{3}\\right)$"
      ],
      "text/plain": [
       "p_0 + 4*pi*\\delta{r}**2*p_0**2 + O(\\delta{r}**3)"
      ]
     },
     "execution_count": 23,
     "metadata": {},
     "output_type": "execute_result"
    }
   ],
   "source": [
    "p_init.series(r_exp).subs({p1:0, e1:0, m1:1, e0:0}) + O(r_exp**3)"
   ]
  },
  {
   "cell_type": "markdown",
   "metadata": {},
   "source": [
    "## Third Order"
   ]
  },
  {
   "cell_type": "code",
   "execution_count": 25,
   "metadata": {},
   "outputs": [],
   "source": [
    "e_exp = e0 + e1 * r_exp + e2 * r_exp**2"
   ]
  },
  {
   "cell_type": "code",
   "execution_count": 26,
   "metadata": {},
   "outputs": [
    {
     "data": {
      "text/latex": [
       "$\\displaystyle 4 \\pi \\delta{r}^{3} \\left(\\delta{r}^{2} e_{2} + \\delta{r} e_{1} + e_{0}\\right)$"
      ],
      "text/plain": [
       "4*pi*\\delta{r}**3*(\\delta{r}**2*e_2 + \\delta{r}*e_1 + e_0)"
      ]
     },
     "metadata": {},
     "output_type": "display_data"
    }
   ],
   "source": [
    "exprA = dmdr.subs({e:e_exp, r:r_exp}) \n",
    "m0 = exprA * r_exp #M = dmdr * r \n",
    "display(m0) # = dmdr"
   ]
  },
  {
   "cell_type": "code",
   "execution_count": 27,
   "metadata": {},
   "outputs": [
    {
     "data": {
      "text/latex": [
       "$\\displaystyle \\frac{m_{1} p_{0}}{2 m_{1} - 1} + \\frac{e_{0} m_{1}}{2 m_{1} - 1} + \\delta{r} \\left(- \\frac{2 e_{0} m_{1} m_{2}}{\\left(2 m_{1} - 1\\right)^{2}} + \\frac{e_{0} m_{2}}{2 m_{1} - 1} + \\frac{e_{1} m_{1}}{2 m_{1} - 1} - \\frac{2 m_{1} m_{2} p_{0}}{\\left(2 m_{1} - 1\\right)^{2}} + \\frac{m_{1} p_{1}}{2 m_{1} - 1} + \\frac{m_{2} p_{0}}{2 m_{1} - 1}\\right) + \\delta{r}^{2} \\left(\\frac{4 \\pi e_{0}^{2}}{2 m_{1} - 1} + \\frac{e_{0} m_{1} \\left(- \\frac{8 \\pi e_{0}}{2 m_{1} - 1} + \\frac{4 m_{2}^{2}}{\\left(2 m_{1} - 1\\right)^{2}}\\right)}{2 m_{1} - 1} - \\frac{2 e_{0} m_{2}^{2}}{\\left(2 m_{1} - 1\\right)^{2}} + \\frac{8 \\pi e_{0} p_{0}}{2 m_{1} - 1} - \\frac{2 e_{1} m_{1} m_{2}}{\\left(2 m_{1} - 1\\right)^{2}} + \\frac{e_{1} m_{2}}{2 m_{1} - 1} + \\frac{e_{2} m_{1}}{2 m_{1} - 1} - \\frac{2 m_{1} m_{2} p_{1}}{\\left(2 m_{1} - 1\\right)^{2}} + \\frac{m_{1} p_{0} \\left(- \\frac{8 \\pi e_{0}}{2 m_{1} - 1} + \\frac{4 m_{2}^{2}}{\\left(2 m_{1} - 1\\right)^{2}}\\right)}{2 m_{1} - 1} + \\frac{m_{1} p_{2}}{2 m_{1} - 1} - \\frac{2 m_{2}^{2} p_{0}}{\\left(2 m_{1} - 1\\right)^{2}} + \\frac{m_{2} p_{1}}{2 m_{1} - 1} + \\frac{4 \\pi p_{0}^{2}}{2 m_{1} - 1}\\right) + O\\left(\\delta{r}^{3}\\right)$"
      ],
      "text/plain": [
       "m_1*p_0/(2*m_1 - 1) + e_0*m_1/(2*m_1 - 1) + \\delta{r}*(-2*e_0*m_1*m_2/(2*m_1 - 1)**2 + e_0*m_2/(2*m_1 - 1) + e_1*m_1/(2*m_1 - 1) - 2*m_1*m_2*p_0/(2*m_1 - 1)**2 + m_1*p_1/(2*m_1 - 1) + m_2*p_0/(2*m_1 - 1)) + \\delta{r}**2*(4*pi*e_0**2/(2*m_1 - 1) + e_0*m_1*(-8*pi*e_0/(2*m_1 - 1) + 4*m_2**2/(2*m_1 - 1)**2)/(2*m_1 - 1) - 2*e_0*m_2**2/(2*m_1 - 1)**2 + 8*pi*e_0*p_0/(2*m_1 - 1) - 2*e_1*m_1*m_2/(2*m_1 - 1)**2 + e_1*m_2/(2*m_1 - 1) + e_2*m_1/(2*m_1 - 1) - 2*m_1*m_2*p_1/(2*m_1 - 1)**2 + m_1*p_0*(-8*pi*e_0/(2*m_1 - 1) + 4*m_2**2/(2*m_1 - 1)**2)/(2*m_1 - 1) + m_1*p_2/(2*m_1 - 1) - 2*m_2**2*p_0/(2*m_1 - 1)**2 + m_2*p_1/(2*m_1 - 1) + 4*pi*p_0**2/(2*m_1 - 1)) + O(\\delta{r}**3)"
      ]
     },
     "execution_count": 27,
     "metadata": {},
     "output_type": "execute_result"
    }
   ],
   "source": [
    "p_exp = p0 + p1 * r_exp + p2 * r_exp**2\n",
    "m_exp = m0 + m1 * r_exp + m2 * r_exp**2\n",
    "exprB = dpdr.subs({p: p_exp, e:e_exp, r:r_exp, M:m_exp}) #+ O(1)\n",
    "# exprB.series(r_exp) + O(r_exp**3)\n",
    "p_init = exprB * r_exp \n",
    "p_init.series(r_exp) + O(r_exp**3)"
   ]
  },
  {
   "cell_type": "code",
   "execution_count": null,
   "metadata": {},
   "outputs": [],
   "source": []
  }
 ],
 "metadata": {
  "kernelspec": {
   "display_name": "Python 3",
   "language": "python",
   "name": "python3"
  },
  "language_info": {
   "codemirror_mode": {
    "name": "ipython",
    "version": 3
   },
   "file_extension": ".py",
   "mimetype": "text/x-python",
   "name": "python",
   "nbconvert_exporter": "python",
   "pygments_lexer": "ipython3",
   "version": "3.8.6"
  }
 },
 "nbformat": 4,
 "nbformat_minor": 4
}
