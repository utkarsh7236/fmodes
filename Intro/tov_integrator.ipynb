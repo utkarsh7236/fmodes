{
 "cells": [
  {
   "cell_type": "code",
   "execution_count": 1,
   "metadata": {},
   "outputs": [],
   "source": [
    "from scipy.integrate import ode\n",
    "from scipy.interpolate import interp1d\n",
    "import pandas as pd\n",
    "from astropy import units as u\n",
    "import numpy as np\n",
    "import matplotlib.pyplot as plt\n",
    "from tqdm import tqdm"
   ]
  },
  {
   "cell_type": "code",
   "execution_count": 2,
   "metadata": {},
   "outputs": [],
   "source": [
    "import matplotlib as mpl\n",
    "# mpl.rcParams['figure.dpi'] = 1000\n",
    "mpl.rcParams['legend.frameon'] = False\n",
    "mpl.rcParams['figure.autolayout'] = True \n",
    "# mpl.rcParams['axes.spines.right'] = False\n",
    "# mpl.rcParams['axes.spines.top'] = False\n",
    "\n",
    "\n",
    "# plt.rcParams.update({\n",
    "#     \"text.usetex\": True,\n",
    "#     \"font.family\": \"sans-serif\",\n",
    "#     \"font.sans-serif\": [\"Helvetica\"]})\n",
    "\n",
    "# plt.rcParams.update({\n",
    "#     \"text.usetex\": True,\n",
    "#     \"font.family\": \"serif\",\n",
    "#     \"font.serif\": [\"Palatino\"],\n",
    "# })\n",
    "\n",
    "def utkarshGrid():\n",
    "    plt.minorticks_on()\n",
    "    plt.grid(color='grey',\n",
    "             which='minor',\n",
    "             linestyle=\":\",\n",
    "             linewidth='0.1',\n",
    "             )\n",
    "    plt.grid(color='black',\n",
    "             which='major',\n",
    "             linestyle=\":\",\n",
    "             linewidth='0.1',\n",
    "             )"
   ]
  },
  {
   "cell_type": "code",
   "execution_count": 3,
   "metadata": {},
   "outputs": [],
   "source": [
    "G = 6.67259e-8 # dyne cm2 g-2\n",
    "c = 2.998e10 # cms-1\n",
    "n_den = 2.3e14\n",
    "# G = c = 1"
   ]
  },
  {
   "cell_type": "code",
   "execution_count": 4,
   "metadata": {},
   "outputs": [],
   "source": [
    "# Working in manual cgs units here. \n",
    "def _dPdr(r, P, M, e):\n",
    "    factor = -G/(c**2) \n",
    "    term1 = (e+P) \n",
    "    term2 = (M+4*np.pi*(r**3)*P/(c**2))\n",
    "    term3 = r * (r-2*G*M/(c**2))\n",
    "    return factor * (term1 * term2)/term3\n",
    "    \n",
    "def _dMdr(r, e):\n",
    "    return 4 * np.pi * r**2 * (e/(c**2))\n",
    "\n",
    "\n",
    "def coupledTOV(r, VEC, f_e_smooth):\n",
    "    P, M = VEC\n",
    "    e = f_e_smooth(P)   \n",
    "    dPdr = _dPdr(r, P, M, e)\n",
    "    dMdr = _dMdr(r, e)\n",
    "    return [dPdr, dMdr]"
   ]
  },
  {
   "cell_type": "code",
   "execution_count": 5,
   "metadata": {},
   "outputs": [],
   "source": [
    "def df_to_ep(df):\n",
    "    n_den = 2.3e14\n",
    "    e_den = df.energy_densityc2\n",
    "    e_den_normed = e_den#/n_den\n",
    "    p = df.pressurec2\n",
    "    e_den_normed = e_den_normed*(c**2)\n",
    "    pressure = p*(c**2)\n",
    "    return e_den_normed.to_numpy(), pressure.to_numpy()\n",
    "\n",
    "def get_ep(e, p):\n",
    "    f_e_smooth = interp1d(p, e, fill_value = \"extrapolate\", kind = \"cubic\")\n",
    "    return f_e_smooth"
   ]
  },
  {
   "cell_type": "code",
   "execution_count": 6,
   "metadata": {},
   "outputs": [],
   "source": [
    "def tov(ep, init_VEC, r_i, p_min, progress = False):\n",
    "    func = ep\n",
    "\n",
    "    r = ode(lambda r, VEC: coupledTOV(r, VEC, func)).set_integrator('LSODA')\n",
    "    r.set_initial_value(init_VEC, r_i)\n",
    "\n",
    "    results = []\n",
    "    r_list = []\n",
    "\n",
    "    i = 0\n",
    "    r_max = 20 * km2cm\n",
    "#     max_iter = 1000000 # Change back to this if \"Excess work done on this call\" error. \n",
    "    max_iter = 2000\n",
    "\n",
    "    dr_init = r_max/max_iter\n",
    "    dr_compute = 1000\n",
    "    \n",
    "    if progress:\n",
    "        pbar = tqdm(total=max_iter)\n",
    "\n",
    "    while r.successful() and (r.y[0] > p_min):\n",
    "        i+=1\n",
    "\n",
    "        dr = min(dr_init, dr_compute)\n",
    "\n",
    "        integral = r.integrate(r.t+dr)\n",
    "\n",
    "        results.append(integral)\n",
    "        r_list.append(r.t+dr)\n",
    "\n",
    "        if progress:\n",
    "            pbar.update(1)\n",
    "        if i > max_iter:\n",
    "            print(\"[STATUS] max_iter reached\")\n",
    "            break\n",
    "    \n",
    "    if progress:\n",
    "        pbar.close()\n",
    "    \n",
    "    results = np.array(results, dtype = float)\n",
    "    p, m = results.T\n",
    "    r = np.array(r_list)\n",
    "    return p, m, r"
   ]
  },
  {
   "cell_type": "markdown",
   "metadata": {},
   "source": [
    "##### With Extra P0"
   ]
  },
  {
   "cell_type": "code",
   "execution_count": 7,
   "metadata": {},
   "outputs": [
    {
     "name": "stderr",
     "output_type": "stream",
     "text": [
      " 49%|████▉     | 985/2000 [00:00<00:00, 13773.96it/s]"
     ]
    },
    {
     "name": "stdout",
     "output_type": "stream",
     "text": [
      "3.4339145646211996e+25\n",
      "Star has mass 2.0491 Msun and radius 9.8600km\n"
     ]
    },
    {
     "name": "stderr",
     "output_type": "stream",
     "text": [
      "\n"
     ]
    }
   ],
   "source": [
    "# Load EOS\n",
    "df = pd.read_csv(\"../2205.02081/SLY4.csv\")\n",
    "e, p = df_to_ep(df)\n",
    "EOS = get_ep(e, p)\n",
    "\n",
    "# Initial Conditions\n",
    "km2cm = 1e5\n",
    "r_i = 1 # This needs to be low enough for additional p0 term to not have any effect. \n",
    "p0 = p[-21]\n",
    "e0 = EOS(p0)\n",
    "p_c = p0 - 2 * np.pi * (G/(c**4)) * r_i**2 * (p0 + e0) * (3*p0 + e0)/3\n",
    "e_c = e0\n",
    "m0 = e_c/(c**2) * 4/3 * np.pi * r_i**3\n",
    "init_VEC = [p_c, m0]\n",
    "G = 6.67259e-8 # dyne cm2 g-2\n",
    "c = 2.99792458e10 # cms-1\n",
    "n_den = 2.3e14\n",
    "km2cm = 1e5\n",
    "msun = 1.98847e33\n",
    "p_min = min(p)\n",
    "print(p_min)\n",
    "\n",
    "# Integrate\n",
    "p, m, r_arr = tov(EOS, init_VEC, r_i, p_min, progress = True)\n",
    "r_arr = r_arr/km2cm\n",
    "m = m/msun\n",
    "\n",
    "mStar = m.max()\n",
    "mR = r_arr[np.argmax(m)]\n",
    "print(f\"Star has mass {mStar:.4f} Msun and radius {mR:.4f}km\") # Exactly the same answer"
   ]
  },
  {
   "cell_type": "code",
   "execution_count": 8,
   "metadata": {},
   "outputs": [
    {
     "data": {
      "text/plain": [
       "array([1.56821774e+36, 1.56820095e+36, 1.56817297e+36, 1.56813380e+36,\n",
       "       1.56808345e+36, 1.56802191e+36, 1.56794919e+36, 1.56786528e+36,\n",
       "       1.56777020e+36, 1.56766394e+36, 1.56754650e+36, 1.56741789e+36,\n",
       "       1.56727810e+36, 1.56712715e+36, 1.56696503e+36, 1.56679175e+36,\n",
       "       1.56660731e+36, 1.56641172e+36, 1.56620497e+36, 1.56598708e+36,\n",
       "       1.56575804e+36, 1.56551787e+36, 1.56526657e+36, 1.56500413e+36,\n",
       "       1.56473057e+36, 1.56444590e+36, 1.56415012e+36, 1.56384322e+36,\n",
       "       1.56352523e+36, 1.56319615e+36, 1.56285598e+36, 1.56250473e+36,\n",
       "       1.56214241e+36, 1.56176903e+36, 1.56138458e+36, 1.56098909e+36,\n",
       "       1.56058256e+36, 1.56016499e+36, 1.55973639e+36, 1.55929678e+36,\n",
       "       1.55884617e+36, 1.55838455e+36, 1.55791194e+36, 1.55742836e+36,\n",
       "       1.55693380e+36, 1.55642829e+36, 1.55591182e+36, 1.55538441e+36,\n",
       "       1.55484608e+36, 1.55429683e+36, 1.55373667e+36, 1.55316561e+36,\n",
       "       1.55258367e+36, 1.55199086e+36, 1.55138718e+36, 1.55077266e+36,\n",
       "       1.55014730e+36, 1.54951112e+36, 1.54886412e+36, 1.54820633e+36,\n",
       "       1.54753775e+36, 1.54685840e+36, 1.54616829e+36, 1.54546744e+36,\n",
       "       1.54475585e+36, 1.54403355e+36, 1.54330055e+36, 1.54255687e+36,\n",
       "       1.54180251e+36, 1.54103749e+36, 1.54026183e+36, 1.53947554e+36,\n",
       "       1.53867865e+36, 1.53787115e+36, 1.53705308e+36, 1.53622445e+36,\n",
       "       1.53538527e+36, 1.53453556e+36, 1.53367534e+36, 1.53280463e+36,\n",
       "       1.53192343e+36, 1.53103178e+36, 1.53012968e+36, 1.52921716e+36,\n",
       "       1.52829423e+36, 1.52736091e+36, 1.52641722e+36, 1.52546318e+36,\n",
       "       1.52449881e+36, 1.52352412e+36, 1.52253914e+36, 1.52154388e+36,\n",
       "       1.52053837e+36, 1.51952263e+36, 1.51849666e+36, 1.51746051e+36,\n",
       "       1.51641418e+36, 1.51535769e+36, 1.51429107e+36, 1.51321434e+36,\n",
       "       1.51212752e+36, 1.51103063e+36, 1.50992369e+36, 1.50880673e+36,\n",
       "       1.50767976e+36, 1.50654280e+36, 1.50539589e+36, 1.50423904e+36,\n",
       "       1.50307228e+36, 1.50189562e+36, 1.50070909e+36, 1.49951272e+36,\n",
       "       1.49830652e+36, 1.49709053e+36, 1.49586476e+36, 1.49462923e+36,\n",
       "       1.49338398e+36, 1.49212903e+36, 1.49086440e+36, 1.48959011e+36,\n",
       "       1.48830620e+36, 1.48701268e+36, 1.48570958e+36, 1.48439692e+36,\n",
       "       1.48307474e+36, 1.48174305e+36, 1.48040189e+36, 1.47905127e+36,\n",
       "       1.47769123e+36, 1.47632179e+36, 1.47494297e+36, 1.47355481e+36,\n",
       "       1.47215733e+36, 1.47075056e+36, 1.46933452e+36, 1.46790925e+36,\n",
       "       1.46647476e+36, 1.46503109e+36, 1.46357826e+36, 1.46211631e+36,\n",
       "       1.46064525e+36, 1.45916513e+36, 1.45767596e+36, 1.45617777e+36,\n",
       "       1.45467060e+36, 1.45315447e+36, 1.45162941e+36, 1.45009546e+36,\n",
       "       1.44855263e+36, 1.44700096e+36, 1.44544047e+36, 1.44387121e+36,\n",
       "       1.44229319e+36, 1.44070645e+36, 1.43911102e+36, 1.43750693e+36,\n",
       "       1.43589420e+36, 1.43427288e+36, 1.43264298e+36, 1.43100454e+36,\n",
       "       1.42935759e+36, 1.42770216e+36, 1.42603829e+36, 1.42436600e+36,\n",
       "       1.42268532e+36, 1.42099629e+36, 1.41929894e+36, 1.41759331e+36,\n",
       "       1.41587941e+36, 1.41415728e+36, 1.41242697e+36, 1.41068849e+36,\n",
       "       1.40894188e+36, 1.40718717e+36, 1.40542441e+36, 1.40365360e+36,\n",
       "       1.40187481e+36, 1.40008804e+36, 1.39829334e+36, 1.39649075e+36,\n",
       "       1.39468028e+36, 1.39286199e+36, 1.39103589e+36, 1.38920203e+36,\n",
       "       1.38736044e+36, 1.38551115e+36, 1.38365419e+36, 1.38178961e+36,\n",
       "       1.37991743e+36, 1.37803768e+36, 1.37615041e+36, 1.37425565e+36,\n",
       "       1.37235343e+36, 1.37044378e+36, 1.36852675e+36, 1.36660236e+36,\n",
       "       1.36467065e+36, 1.36273166e+36, 1.36078542e+36, 1.35883197e+36,\n",
       "       1.35687134e+36, 1.35490356e+36, 1.35292868e+36, 1.35094672e+36,\n",
       "       1.34895773e+36, 1.34696174e+36, 1.34495879e+36, 1.34294890e+36,\n",
       "       1.34093213e+36, 1.33890849e+36, 1.33687804e+36, 1.33484080e+36,\n",
       "       1.33279682e+36, 1.33074612e+36, 1.32868875e+36, 1.32662474e+36,\n",
       "       1.32455413e+36, 1.32247695e+36, 1.32039325e+36, 1.31830305e+36,\n",
       "       1.31620641e+36, 1.31410334e+36, 1.31199389e+36, 1.30987810e+36,\n",
       "       1.30775601e+36, 1.30562764e+36, 1.30349305e+36, 1.30135226e+36,\n",
       "       1.29920531e+36, 1.29705224e+36, 1.29489310e+36, 1.29272790e+36,\n",
       "       1.29055671e+36, 1.28837954e+36, 1.28619644e+36, 1.28400745e+36,\n",
       "       1.28181261e+36, 1.27961194e+36, 1.27740550e+36, 1.27519332e+36,\n",
       "       1.27297543e+36, 1.27075188e+36, 1.26852270e+36, 1.26628793e+36,\n",
       "       1.26404761e+36, 1.26180178e+36, 1.25955048e+36, 1.25729373e+36,\n",
       "       1.25503160e+36, 1.25276410e+36, 1.25049128e+36, 1.24821318e+36,\n",
       "       1.24592984e+36, 1.24364129e+36, 1.24134758e+36, 1.23904874e+36,\n",
       "       1.23674480e+36, 1.23443582e+36, 1.23212183e+36, 1.22980286e+36,\n",
       "       1.22747896e+36, 1.22515017e+36, 1.22281652e+36, 1.22047805e+36,\n",
       "       1.21813480e+36, 1.21578681e+36, 1.21343412e+36, 1.21107676e+36,\n",
       "       1.20871478e+36, 1.20634822e+36, 1.20397711e+36, 1.20160150e+36,\n",
       "       1.19922141e+36, 1.19683690e+36, 1.19444800e+36, 1.19205474e+36,\n",
       "       1.18965718e+36, 1.18725533e+36, 1.18484926e+36, 1.18243899e+36,\n",
       "       1.18002456e+36, 1.17760602e+36, 1.17518340e+36, 1.17275675e+36,\n",
       "       1.17032609e+36, 1.16789147e+36, 1.16545293e+36, 1.16301051e+36,\n",
       "       1.16056425e+36, 1.15811418e+36, 1.15566035e+36, 1.15320279e+36,\n",
       "       1.15074154e+36, 1.14827665e+36, 1.14580815e+36, 1.14333608e+36,\n",
       "       1.14086048e+36, 1.13838138e+36, 1.13589884e+36, 1.13341288e+36,\n",
       "       1.13092355e+36, 1.12843088e+36, 1.12593492e+36, 1.12343570e+36,\n",
       "       1.12093326e+36, 1.11842765e+36, 1.11591889e+36, 1.11340703e+36,\n",
       "       1.11089210e+36, 1.10837416e+36, 1.10585322e+36, 1.10332934e+36,\n",
       "       1.10080255e+36, 1.09827289e+36, 1.09574040e+36, 1.09320512e+36,\n",
       "       1.09066708e+36, 1.08812633e+36, 1.08558290e+36, 1.08303683e+36,\n",
       "       1.08048817e+36, 1.07793694e+36, 1.07538318e+36, 1.07282695e+36,\n",
       "       1.07026826e+36, 1.06770717e+36, 1.06514370e+36, 1.06257791e+36,\n",
       "       1.06000982e+36, 1.05743947e+36, 1.05486690e+36, 1.05229216e+36,\n",
       "       1.04971527e+36, 1.04713628e+36, 1.04455522e+36, 1.04197214e+36,\n",
       "       1.03938707e+36, 1.03680004e+36, 1.03421110e+36, 1.03162028e+36,\n",
       "       1.02902762e+36, 1.02643316e+36, 1.02383694e+36, 1.02123899e+36,\n",
       "       1.01863935e+36, 1.01603805e+36, 1.01343515e+36, 1.01083066e+36,\n",
       "       1.00822464e+36, 1.00561711e+36, 1.00300812e+36, 1.00039770e+36,\n",
       "       9.97785883e+35, 9.95172714e+35, 9.92558227e+35, 9.89942459e+35,\n",
       "       9.87325446e+35, 9.84707226e+35, 9.82087834e+35, 9.79467308e+35,\n",
       "       9.76845683e+35, 9.74222997e+35, 9.71599285e+35, 9.68974583e+35,\n",
       "       9.66348929e+35, 9.63722358e+35, 9.61094907e+35, 9.58466611e+35,\n",
       "       9.55837506e+35, 9.53207628e+35, 9.50577014e+35, 9.47945698e+35,\n",
       "       9.45313716e+35, 9.42681105e+35, 9.40047899e+35, 9.37414135e+35,\n",
       "       9.34779846e+35, 9.32145070e+35, 9.29509841e+35, 9.26874194e+35,\n",
       "       9.24238164e+35, 9.21601786e+35, 9.18965096e+35, 9.16328128e+35,\n",
       "       9.13690916e+35, 9.11053497e+35, 9.08415903e+35, 9.05778170e+35,\n",
       "       9.03140332e+35, 9.00502423e+35, 8.97864478e+35, 8.95226531e+35,\n",
       "       8.92588616e+35, 8.89950766e+35, 8.87313017e+35, 8.84675401e+35,\n",
       "       8.82037953e+35, 8.79400706e+35, 8.76763694e+35, 8.74126950e+35,\n",
       "       8.71490508e+35, 8.68854401e+35, 8.66218663e+35, 8.63583325e+35,\n",
       "       8.60948423e+35, 8.58313988e+35, 8.55680054e+35, 8.53046652e+35,\n",
       "       8.50413817e+35, 8.47781580e+35, 8.45149975e+35, 8.42519032e+35,\n",
       "       8.39888786e+35, 8.37259268e+35, 8.34630510e+35, 8.32002544e+35,\n",
       "       8.29375402e+35, 8.26749117e+35, 8.24123719e+35, 8.21499241e+35,\n",
       "       8.18875714e+35, 8.16253170e+35, 8.13631639e+35, 8.11011154e+35,\n",
       "       8.08391745e+35, 8.05773443e+35, 8.03156280e+35, 8.00540286e+35,\n",
       "       7.97925493e+35, 7.95311930e+35, 7.92699629e+35, 7.90088621e+35,\n",
       "       7.87478934e+35, 7.84870601e+35, 7.82263650e+35, 7.79658112e+35,\n",
       "       7.77054017e+35, 7.74451396e+35, 7.71850276e+35, 7.69250690e+35,\n",
       "       7.66652665e+35, 7.64056231e+35, 7.61461418e+35, 7.58868255e+35,\n",
       "       7.56276771e+35, 7.53686996e+35, 7.51098957e+35, 7.48512685e+35,\n",
       "       7.45928207e+35, 7.43345552e+35, 7.40764749e+35, 7.38185827e+35,\n",
       "       7.35608813e+35, 7.33033735e+35, 7.30460623e+35, 7.27889503e+35,\n",
       "       7.25320404e+35, 7.22753353e+35, 7.20188378e+35, 7.17625507e+35,\n",
       "       7.15064767e+35, 7.12506186e+35, 7.09949789e+35, 7.07395606e+35,\n",
       "       7.04843662e+35, 7.02293985e+35, 6.99746601e+35, 6.97201537e+35,\n",
       "       6.94658820e+35, 6.92118476e+35, 6.89580531e+35, 6.87045012e+35,\n",
       "       6.84511945e+35, 6.81981356e+35, 6.79453270e+35, 6.76927714e+35,\n",
       "       6.74404714e+35, 6.71884294e+35, 6.69366480e+35, 6.66851298e+35,\n",
       "       6.64338772e+35, 6.61828929e+35, 6.59321792e+35, 6.56817388e+35,\n",
       "       6.54315739e+35, 6.51816872e+35, 6.49320811e+35, 6.46827581e+35,\n",
       "       6.44337204e+35, 6.41849707e+35, 6.39365112e+35, 6.36883445e+35,\n",
       "       6.34404728e+35, 6.31928985e+35, 6.29456241e+35, 6.26986519e+35,\n",
       "       6.24519841e+35, 6.22056232e+35, 6.19595715e+35, 6.17138313e+35,\n",
       "       6.14684048e+35, 6.12232944e+35, 6.09785023e+35, 6.07340308e+35,\n",
       "       6.04898822e+35, 6.02460586e+35, 6.00025624e+35, 5.97593956e+35,\n",
       "       5.95165606e+35, 5.92740595e+35, 5.90318945e+35, 5.87900677e+35,\n",
       "       5.85485813e+35, 5.83074375e+35, 5.80666384e+35, 5.78261862e+35,\n",
       "       5.75860828e+35, 5.73463305e+35, 5.71069313e+35, 5.68678873e+35,\n",
       "       5.66292006e+35, 5.63908732e+35, 5.61529071e+35, 5.59153044e+35,\n",
       "       5.56780672e+35, 5.54411974e+35, 5.52046970e+35, 5.49685680e+35,\n",
       "       5.47328124e+35, 5.44974322e+35, 5.42624292e+35, 5.40278055e+35,\n",
       "       5.37935630e+35, 5.35597035e+35, 5.33262290e+35, 5.30931415e+35,\n",
       "       5.28604426e+35, 5.26281345e+35, 5.23962188e+35, 5.21646975e+35,\n",
       "       5.19335724e+35, 5.17028453e+35, 5.14725181e+35, 5.12425925e+35,\n",
       "       5.10130703e+35, 5.07839533e+35, 5.05552434e+35, 5.03269421e+35,\n",
       "       5.00990513e+35, 4.98715727e+35, 4.96445081e+35, 4.94178591e+35,\n",
       "       4.91916274e+35, 4.89658147e+35, 4.87404228e+35, 4.85154532e+35,\n",
       "       4.82909077e+35, 4.80667878e+35, 4.78430952e+35, 4.76198315e+35,\n",
       "       4.73969984e+35, 4.71745975e+35, 4.69526302e+35, 4.67310982e+35,\n",
       "       4.65100032e+35, 4.62893465e+35, 4.60691298e+35, 4.58493546e+35,\n",
       "       4.56300225e+35, 4.54111348e+35, 4.51926932e+35, 4.49746992e+35,\n",
       "       4.47571541e+35, 4.45400595e+35, 4.43234168e+35, 4.41072275e+35,\n",
       "       4.38914930e+35, 4.36762148e+35, 4.34613941e+35, 4.32470326e+35,\n",
       "       4.30331314e+35, 4.28196921e+35, 4.26067160e+35, 4.23942044e+35,\n",
       "       4.21821587e+35, 4.19705802e+35, 4.17594703e+35, 4.15488303e+35,\n",
       "       4.13386614e+35, 4.11289649e+35, 4.09197421e+35, 4.07109943e+35,\n",
       "       4.05027228e+35, 4.02949287e+35, 4.00876134e+35, 3.98807780e+35,\n",
       "       3.96744238e+35, 3.94685520e+35, 3.92631637e+35, 3.90582602e+35,\n",
       "       3.88538427e+35, 3.86499122e+35, 3.84464700e+35, 3.82435172e+35,\n",
       "       3.80410548e+35, 3.78390842e+35, 3.76376063e+35, 3.74366223e+35,\n",
       "       3.72361332e+35, 3.70361401e+35, 3.68366442e+35, 3.66376464e+35,\n",
       "       3.64391478e+35, 3.62411495e+35, 3.60436525e+35, 3.58466578e+35,\n",
       "       3.56501664e+35, 3.54541793e+35, 3.52586975e+35, 3.50637220e+35,\n",
       "       3.48692538e+35, 3.46752937e+35, 3.44818429e+35, 3.42889021e+35,\n",
       "       3.40964724e+35, 3.39045547e+35, 3.37131498e+35, 3.35222586e+35,\n",
       "       3.33318821e+35, 3.31420210e+35, 3.29526762e+35, 3.27638487e+35,\n",
       "       3.25755392e+35, 3.23877485e+35, 3.22004776e+35, 3.20137272e+35,\n",
       "       3.18274980e+35, 3.16417910e+35, 3.14566070e+35, 3.12719466e+35,\n",
       "       3.10878106e+35, 3.09041998e+35, 3.07211150e+35, 3.05385569e+35,\n",
       "       3.03565262e+35, 3.01750237e+35, 2.99940499e+35, 2.98136058e+35,\n",
       "       2.96336919e+35, 2.94543089e+35, 2.92754574e+35, 2.90971383e+35,\n",
       "       2.89193520e+35, 2.87420993e+35, 2.85653808e+35, 2.83891970e+35,\n",
       "       2.82135487e+35, 2.80384364e+35, 2.78638608e+35, 2.76898224e+35,\n",
       "       2.75163217e+35, 2.73433594e+35, 2.71709361e+35, 2.69990522e+35,\n",
       "       2.68277083e+35, 2.66569050e+35, 2.64866427e+35, 2.63169220e+35,\n",
       "       2.61477434e+35, 2.59791074e+35, 2.58110145e+35, 2.56434650e+35,\n",
       "       2.54764596e+35, 2.53099987e+35, 2.51440827e+35, 2.49787121e+35,\n",
       "       2.48138872e+35, 2.46496086e+35, 2.44858766e+35, 2.43226917e+35,\n",
       "       2.41600543e+35, 2.39979646e+35, 2.38364232e+35, 2.36754305e+35,\n",
       "       2.35149866e+35, 2.33550921e+35, 2.31957473e+35, 2.30369525e+35,\n",
       "       2.28787080e+35, 2.27210142e+35, 2.25638713e+35, 2.24072798e+35,\n",
       "       2.22512399e+35, 2.20957518e+35, 2.19408159e+35, 2.17864325e+35,\n",
       "       2.16326017e+35, 2.14793239e+35, 2.13265993e+35, 2.11744282e+35,\n",
       "       2.10228108e+35, 2.08717473e+35, 2.07212379e+35, 2.05712829e+35,\n",
       "       2.04218824e+35, 2.02730367e+35, 2.01247459e+35, 1.99770102e+35,\n",
       "       1.98298298e+35, 1.96832047e+35, 1.95371352e+35, 1.93916214e+35,\n",
       "       1.92466634e+35, 1.91022614e+35, 1.89584154e+35, 1.88151256e+35,\n",
       "       1.86723921e+35, 1.85302150e+35, 1.83885944e+35, 1.82475303e+35,\n",
       "       1.81070229e+35, 1.79670721e+35, 1.78276782e+35, 1.76888410e+35,\n",
       "       1.75505607e+35, 1.74128373e+35, 1.72756708e+35, 1.71390613e+35,\n",
       "       1.70030087e+35, 1.68675131e+35, 1.67325745e+35, 1.65981929e+35,\n",
       "       1.64643681e+35, 1.63311004e+35, 1.61983895e+35, 1.60662355e+35,\n",
       "       1.59346383e+35, 1.58035978e+35, 1.56731141e+35, 1.55431871e+35,\n",
       "       1.54138166e+35, 1.52850027e+35, 1.51567451e+35, 1.50290439e+35,\n",
       "       1.49018989e+35, 1.47753101e+35, 1.46492772e+35, 1.45237996e+35,\n",
       "       1.43988786e+35, 1.42745132e+35, 1.41507034e+35, 1.40274490e+35,\n",
       "       1.39047498e+35, 1.37826057e+35, 1.36610165e+35, 1.35399822e+35,\n",
       "       1.34195024e+35, 1.32995770e+35, 1.31802059e+35, 1.30613888e+35,\n",
       "       1.29431256e+35, 1.28254160e+35, 1.27082599e+35, 1.25916570e+35,\n",
       "       1.24756071e+35, 1.23601099e+35, 1.22451653e+35, 1.21307730e+35,\n",
       "       1.20169328e+35, 1.19036444e+35, 1.17909075e+35, 1.16787220e+35,\n",
       "       1.15670874e+35, 1.14560037e+35, 1.13454704e+35, 1.12354873e+35,\n",
       "       1.11260541e+35, 1.10171705e+35, 1.09088362e+35, 1.08010509e+35,\n",
       "       1.06938143e+35, 1.05871261e+35, 1.04809860e+35, 1.03753936e+35,\n",
       "       1.02703486e+35, 1.01658507e+35, 1.00618995e+35, 9.95849463e+34,\n",
       "       9.85563583e+34, 9.75332272e+34, 9.65155494e+34, 9.55033212e+34,\n",
       "       9.44965389e+34, 9.34951988e+34, 9.24992971e+34, 9.15088300e+34,\n",
       "       9.05237937e+34, 8.95441842e+34, 8.85699975e+34, 8.76012297e+34,\n",
       "       8.66378767e+34, 8.56799345e+34, 8.47273988e+34, 8.37802656e+34,\n",
       "       8.28385306e+34, 8.19021895e+34, 8.09712382e+34, 8.00456721e+34,\n",
       "       7.91254871e+34, 7.82106786e+34, 7.73012422e+34, 7.63971734e+34,\n",
       "       7.54984677e+34, 7.46051207e+34, 7.37171284e+34, 7.28344865e+34,\n",
       "       7.19571904e+34, 7.10852356e+34, 7.02186174e+34, 6.93573313e+34,\n",
       "       6.85013726e+34, 6.76507366e+34, 6.68054188e+34, 6.59654142e+34,\n",
       "       6.51307183e+34, 6.43013263e+34, 6.34772333e+34, 6.26584346e+34,\n",
       "       6.18449254e+34, 6.10367008e+34, 6.02337560e+34, 5.94360861e+34,\n",
       "       5.86436862e+34, 5.78565514e+34, 5.70746768e+34, 5.62980574e+34,\n",
       "       5.55266882e+34, 5.47605644e+34, 5.39996809e+34, 5.32440329e+34,\n",
       "       5.24936161e+34, 5.17484256e+34, 5.10084568e+34, 5.02737047e+34,\n",
       "       4.95441645e+34, 4.88198313e+34, 4.81007005e+34, 4.73867671e+34,\n",
       "       4.66780264e+34, 4.59744737e+34, 4.52761041e+34, 4.45829129e+34,\n",
       "       4.38948953e+34, 4.32120468e+34, 4.25343625e+34, 4.18618378e+34,\n",
       "       4.11944680e+34, 4.05322485e+34, 3.98751755e+34, 3.92232447e+34,\n",
       "       3.85764520e+34, 3.79347929e+34, 3.72982634e+34, 3.66668591e+34,\n",
       "       3.60405759e+34, 3.54194098e+34, 3.48033567e+34, 3.41924125e+34,\n",
       "       3.35865735e+34, 3.29858358e+34, 3.23901954e+34, 3.17996487e+34,\n",
       "       3.12141921e+34, 3.06338219e+34, 3.00585345e+34, 2.94883265e+34,\n",
       "       2.89231949e+34, 2.83631377e+34, 2.78081523e+34, 2.72582361e+34,\n",
       "       2.67133864e+34, 2.61736011e+34, 2.56388777e+34, 2.51092144e+34,\n",
       "       2.45846091e+34, 2.40650601e+34, 2.35505659e+34, 2.30411249e+34,\n",
       "       2.25367360e+34, 2.20373979e+34, 2.15431106e+34, 2.10538741e+34,\n",
       "       2.05696884e+34, 2.00905535e+34, 1.96164698e+34, 1.91474379e+34,\n",
       "       1.86834585e+34, 1.82245329e+34, 1.77706623e+34, 1.73218484e+34,\n",
       "       1.68780931e+34, 1.64393985e+34, 1.60057673e+34, 1.55772021e+34,\n",
       "       1.51537082e+34, 1.47352921e+34, 1.43219586e+34, 1.39137117e+34,\n",
       "       1.35105581e+34, 1.31125048e+34, 1.27195591e+34, 1.23317290e+34,\n",
       "       1.19490228e+34, 1.15714503e+34, 1.11990218e+34, 1.08317485e+34,\n",
       "       1.04696421e+34, 1.01127158e+34, 9.76098353e+33, 9.41445990e+33,\n",
       "       9.07316106e+33, 8.73710504e+33, 8.40631047e+33, 8.08079717e+33,\n",
       "       7.76058724e+33, 7.44570430e+33, 7.13617307e+33, 6.83202008e+33,\n",
       "       6.53327545e+33, 6.23997045e+33, 5.95213811e+33, 5.66981485e+33,\n",
       "       5.39304118e+33, 5.12185896e+33, 4.85631274e+33, 4.59645348e+33,\n",
       "       4.34233542e+33, 4.09401538e+33, 3.85155487e+33, 3.61502487e+33,\n",
       "       3.38450029e+33, 3.16006274e+33, 2.94180214e+33, 2.72981400e+33,\n",
       "       2.52420484e+33, 2.32509160e+33, 2.13260042e+33, 1.94686835e+33,\n",
       "       1.76804022e+33, 1.59626245e+33, 1.43164936e+33, 1.27434261e+33,\n",
       "       1.12458800e+33, 9.82670514e+32, 8.48922286e+32, 7.23732353e+32,\n",
       "       6.07558972e+32, 5.00943544e+32, 4.04519515e+32, 3.19005836e+32,\n",
       "       2.45185016e+32, 1.88034036e+32, 1.41824483e+32, 1.04533355e+32,\n",
       "       7.51767943e+31, 5.25880046e+31, 3.55970881e+31, 2.31379745e+31,\n",
       "       1.42886422e+31, 8.27040203e+30, 4.42859944e+30, 2.20717059e+30,\n",
       "       1.11942558e+30, 6.94165288e+29, 4.54188480e+29, 2.88381984e+29,\n",
       "       1.76403650e+29, 1.02954743e+29, 5.65828506e+28, 2.87601527e+28,\n",
       "       1.30938342e+28, 5.07599266e+27, 1.52282811e+27, 2.84068255e+26,\n",
       "       1.75998377e+25])"
      ]
     },
     "execution_count": 8,
     "metadata": {},
     "output_type": "execute_result"
    }
   ],
   "source": [
    "p"
   ]
  },
  {
   "cell_type": "code",
   "execution_count": 9,
   "metadata": {
    "scrolled": false
   },
   "outputs": [
    {
     "data": {
      "image/png": "[encoded data removed]",
      "text/plain": [
       "<Figure size 432x288 with 1 Axes>"
      ]
     },
     "metadata": {
      "needs_background": "light"
     },
     "output_type": "display_data"
    },
    {
     "data": {
      "image/png": "[encoded data removed]",
      "text/plain": [
       "<Figure size 432x288 with 1 Axes>"
      ]
     },
     "metadata": {
      "needs_background": "light"
     },
     "output_type": "display_data"
    }
   ],
   "source": [
    "plt.figure()\n",
    "plt.plot(r_arr, p/p_c)\n",
    "plt.xlabel(\"r\")\n",
    "plt.ylabel(\"P/Pc\")\n",
    "\n",
    "plt.figure()\n",
    "plt.plot(r_arr, m)\n",
    "plt.xlabel(\"r \")\n",
    "plt.ylabel(\"M/Msun\")\n",
    "plt.show()"
   ]
  },
  {
   "cell_type": "code",
   "execution_count": 10,
   "metadata": {},
   "outputs": [
    {
     "name": "stderr",
     "output_type": "stream",
     "text": [
      " 20%|█▉        | 24/123 [00:01<00:05, 18.02it/s]"
     ]
    },
    {
     "name": "stdout",
     "output_type": "stream",
     "text": [
      "[STATUS] max_iter reached\n",
      "[STATUS] max_iter reached\n",
      "[STATUS] max_iter reached\n",
      "[STATUS] max_iter reached\n",
      "[STATUS] max_iter reached"
     ]
    },
    {
     "name": "stderr",
     "output_type": "stream",
     "text": [
      " 24%|██▎       | 29/123 [00:01<00:04, 19.43it/s]"
     ]
    },
    {
     "name": "stdout",
     "output_type": "stream",
     "text": [
      "\n",
      "[STATUS] max_iter reached\n",
      "[STATUS] max_iter reached\n",
      "[STATUS] max_iter reached\n",
      "[STATUS] max_iter reached\n"
     ]
    },
    {
     "name": "stderr",
     "output_type": "stream",
     "text": [
      "\r",
      " 26%|██▌       | 32/123 [00:01<00:04, 20.45it/s]"
     ]
    },
    {
     "name": "stdout",
     "output_type": "stream",
     "text": [
      "[STATUS] max_iter reached\n",
      "[STATUS] max_iter reached\n",
      "[STATUS] max_iter reached\n",
      "[STATUS] max_iter reached\n",
      "[STATUS] max_iter reached\n"
     ]
    },
    {
     "name": "stderr",
     "output_type": "stream",
     "text": [
      " 31%|███       | 38/123 [00:01<00:03, 21.88it/s]"
     ]
    },
    {
     "name": "stdout",
     "output_type": "stream",
     "text": [
      "[STATUS] max_iter reached\n",
      "[STATUS] max_iter reached\n",
      "[STATUS] max_iter reached\n",
      "[STATUS] max_iter reached\n",
      "[STATUS] max_iter reached\n"
     ]
    },
    {
     "name": "stderr",
     "output_type": "stream",
     "text": [
      " 36%|███▌      | 44/123 [00:02<00:03, 23.57it/s]"
     ]
    },
    {
     "name": "stdout",
     "output_type": "stream",
     "text": [
      "[STATUS] max_iter reached\n",
      "[STATUS] max_iter reached\n",
      "[STATUS] max_iter reached\n",
      "[STATUS] max_iter reached\n",
      "[STATUS] max_iter reached\n",
      "[STATUS] max_iter reached\n"
     ]
    },
    {
     "name": "stderr",
     "output_type": "stream",
     "text": [
      " 41%|████      | 50/123 [00:02<00:02, 24.75it/s]"
     ]
    },
    {
     "name": "stdout",
     "output_type": "stream",
     "text": [
      "[STATUS] max_iter reached\n",
      "[STATUS] max_iter reached\n",
      "[STATUS] max_iter reached\n",
      "[STATUS] max_iter reached\n",
      "[STATUS] max_iter reached\n",
      "[STATUS] max_iter reached\n"
     ]
    },
    {
     "name": "stderr",
     "output_type": "stream",
     "text": [
      " 46%|████▋     | 57/123 [00:02<00:02, 26.50it/s]"
     ]
    },
    {
     "name": "stdout",
     "output_type": "stream",
     "text": [
      "[STATUS] max_iter reached\n",
      "[STATUS] max_iter reached\n",
      "[STATUS] max_iter reached\n",
      "[STATUS] max_iter reached\n",
      "[STATUS] max_iter reached\n",
      "[STATUS] max_iter reached\n",
      "[STATUS] max_iter reached"
     ]
    },
    {
     "name": "stderr",
     "output_type": "stream",
     "text": [
      " 52%|█████▏    | 64/123 [00:02<00:02, 28.09it/s]"
     ]
    },
    {
     "name": "stdout",
     "output_type": "stream",
     "text": [
      "\n",
      "[STATUS] max_iter reached\n",
      "[STATUS] max_iter reached\n",
      "[STATUS] max_iter reached\n",
      "[STATUS] max_iter reached\n",
      "[STATUS] max_iter reached\n",
      "[STATUS] max_iter reached\n",
      "[STATUS] max_iter reached\n"
     ]
    },
    {
     "name": "stderr",
     "output_type": "stream",
     "text": [
      " 57%|█████▋    | 70/123 [00:03<00:02, 25.78it/s]"
     ]
    },
    {
     "name": "stdout",
     "output_type": "stream",
     "text": [
      "[STATUS] max_iter reached\n",
      "[STATUS] max_iter reached\n",
      "[STATUS] max_iter reached\n",
      "[STATUS] max_iter reached\n",
      "[STATUS] max_iter reached\n"
     ]
    },
    {
     "name": "stderr",
     "output_type": "stream",
     "text": [
      "\r",
      " 59%|█████▉    | 73/123 [00:03<00:02, 19.15it/s]"
     ]
    },
    {
     "name": "stdout",
     "output_type": "stream",
     "text": [
      "[STATUS] max_iter reached\n",
      "[STATUS] max_iter reached\n",
      "[STATUS] max_iter reached\n"
     ]
    },
    {
     "name": "stderr",
     "output_type": "stream",
     "text": [
      "\r",
      " 62%|██████▏   | 76/123 [00:03<00:03, 15.56it/s]"
     ]
    },
    {
     "name": "stdout",
     "output_type": "stream",
     "text": [
      "[STATUS] max_iter reached\n",
      "[STATUS] max_iter reached\n",
      "[STATUS] max_iter reached\n"
     ]
    },
    {
     "name": "stderr",
     "output_type": "stream",
     "text": [
      "\r",
      " 63%|██████▎   | 78/123 [00:03<00:02, 15.27it/s]"
     ]
    },
    {
     "name": "stdout",
     "output_type": "stream",
     "text": [
      "[STATUS] max_iter reached\n",
      "[STATUS] max_iter reached\n",
      "[STATUS] max_iter reached\n"
     ]
    },
    {
     "name": "stderr",
     "output_type": "stream",
     "text": [
      " 67%|██████▋   | 82/123 [00:04<00:02, 14.10it/s]"
     ]
    },
    {
     "name": "stdout",
     "output_type": "stream",
     "text": [
      "[STATUS] max_iter reached\n",
      "[STATUS] max_iter reached\n",
      "[STATUS] max_iter reached\n"
     ]
    },
    {
     "name": "stderr",
     "output_type": "stream",
     "text": [
      "\r",
      " 68%|██████▊   | 84/123 [00:04<00:02, 13.78it/s]"
     ]
    },
    {
     "name": "stdout",
     "output_type": "stream",
     "text": [
      "[STATUS] max_iter reached\n",
      "[STATUS] max_iter reached\n",
      "[STATUS] max_iter reached\n",
      "[STATUS] max_iter reached\n"
     ]
    },
    {
     "name": "stderr",
     "output_type": "stream",
     "text": [
      " 76%|███████▌  | 93/123 [00:04<00:01, 20.57it/s]"
     ]
    },
    {
     "name": "stdout",
     "output_type": "stream",
     "text": [
      "[STATUS] max_iter reached\n",
      "[STATUS] max_iter reached\n",
      "[STATUS] max_iter reached\n",
      "[STATUS] max_iter reached\n",
      "[STATUS] max_iter reached\n",
      "[STATUS] max_iter reached\n",
      "[STATUS] max_iter reached\n",
      "[STATUS] max_iter reached"
     ]
    },
    {
     "name": "stderr",
     "output_type": "stream",
     "text": [
      " 80%|████████  | 99/123 [00:04<00:01, 20.89it/s]"
     ]
    },
    {
     "name": "stdout",
     "output_type": "stream",
     "text": [
      "\n",
      "[STATUS] max_iter reached\n",
      "[STATUS] max_iter reached\n",
      "[STATUS] max_iter reached\n",
      "[STATUS] max_iter reached\n",
      "[STATUS] max_iter reached\n",
      "[STATUS] max_iter reached\n"
     ]
    },
    {
     "name": "stderr",
     "output_type": "stream",
     "text": [
      " 85%|████████▌ | 105/123 [00:05<00:00, 21.64it/s]"
     ]
    },
    {
     "name": "stdout",
     "output_type": "stream",
     "text": [
      "[STATUS] max_iter reached\n",
      "[STATUS] max_iter reached\n",
      "[STATUS] max_iter reached\n",
      "[STATUS] max_iter reached\n",
      "[STATUS] max_iter reached\n"
     ]
    },
    {
     "name": "stderr",
     "output_type": "stream",
     "text": [
      "\r",
      " 88%|████████▊ | 108/123 [00:05<00:00, 21.64it/s]"
     ]
    },
    {
     "name": "stdout",
     "output_type": "stream",
     "text": [
      "[STATUS] max_iter reached\n",
      "[STATUS] max_iter reached\n",
      "[STATUS] max_iter reached\n",
      "[STATUS] max_iter reached\n",
      "[STATUS] max_iter reached\n"
     ]
    },
    {
     "name": "stderr",
     "output_type": "stream",
     "text": [
      " 93%|█████████▎| 114/123 [00:05<00:00, 21.06it/s]"
     ]
    },
    {
     "name": "stdout",
     "output_type": "stream",
     "text": [
      "[STATUS] max_iter reached\n",
      "[STATUS] max_iter reached\n",
      "[STATUS] max_iter reached\n",
      "[STATUS] max_iter reached\n",
      "[STATUS] max_iter reached"
     ]
    },
    {
     "name": "stderr",
     "output_type": "stream",
     "text": [
      "\r",
      " 95%|█████████▌| 117/123 [00:05<00:00, 19.50it/s]"
     ]
    },
    {
     "name": "stdout",
     "output_type": "stream",
     "text": [
      "\n",
      "[STATUS] max_iter reached\n",
      "[STATUS] max_iter reached\n",
      "[STATUS] max_iter reached\n",
      "[STATUS] max_iter reached\n",
      "[STATUS] max_iter reached"
     ]
    },
    {
     "name": "stderr",
     "output_type": "stream",
     "text": [
      "100%|██████████| 123/123 [00:06<00:00, 20.34it/s]"
     ]
    },
    {
     "name": "stdout",
     "output_type": "stream",
     "text": [
      "\n",
      "[STATUS] max_iter reached\n",
      "[STATUS] max_iter reached\n",
      "[STATUS] max_iter reached\n"
     ]
    },
    {
     "name": "stderr",
     "output_type": "stream",
     "text": [
      "\n"
     ]
    }
   ],
   "source": [
    "# Load Data\n",
    "df = pd.read_csv(\"../2205.02081/SLY4.csv\")\n",
    "\n",
    "## Repeat for many different IVP\n",
    "mStar_list = []\n",
    "mR_list = []\n",
    "ec_list = []\n",
    "\n",
    "for i in tqdm(range(1,1222, 10), disable = False):\n",
    "    # Load EOS\n",
    "    e, p = df_to_ep(df)\n",
    "    EOS = get_ep(e, p)\n",
    "\n",
    "    # Initial Conditions\n",
    "    km2cm = 1e5\n",
    "    r_i = 1\n",
    "    p0 = p[-i]\n",
    "    p_c = p0 - 2 * np.pi * (G/(c**4)) * r_i**2 * (p0 + e0) * (3*p0 + e0)/3\n",
    "    \n",
    "    # Skip boundary case of highest pressure\n",
    "    if p_c >= p.max():\n",
    "        continue\n",
    "    \n",
    "    e_c = EOS(p_c)\n",
    "    m0 = e_c/(c**2) * 4/3 * np.pi * r_i**3\n",
    "    init_VEC = [p_c, m0]\n",
    "    msun = 2e33\n",
    "    p_min = min(p)\n",
    "\n",
    "    # Integrate\n",
    "    p, m, r_arr = tov(EOS, init_VEC, r_i, p_min)\n",
    "    r_arr = r_arr/km2cm\n",
    "    m = m/msun\n",
    "\n",
    "    mStar = m.max()\n",
    "    mR = r_arr.max()\n",
    "    \n",
    "    mStar_list.append(mStar)\n",
    "    mR_list.append(mR)\n",
    "    ec_list.append(e_c)"
   ]
  },
  {
   "cell_type": "code",
   "execution_count": 11,
   "metadata": {},
   "outputs": [
    {
     "name": "stdout",
     "output_type": "stream",
     "text": [
      "Maximum mass of this EOS is 2.04Msun with a radius of 9.86km\n",
      "Maximum central energy density is 13.361\n",
      "Minimum central energy density is 0.000\n"
     ]
    },
    {
     "data": {
      "image/png": "[encoded data removed]",
      "text/plain": [
       "<Figure size 1200x800 with 1 Axes>"
      ]
     },
     "metadata": {
      "needs_background": "light"
     },
     "output_type": "display_data"
    }
   ],
   "source": [
    "mStar_arr = np.array(mStar_list)\n",
    "mR_arr = np.array(mR_list)\n",
    "ec_arr = np.array(ec_list)\n",
    "\n",
    "m_max = mStar_arr.max()\n",
    "max_idx = np.argmax(mStar_arr)\n",
    "r_max = mR_arr[max_idx]\n",
    "ec_max = ec_arr[max_idx]\n",
    "\n",
    "print(f\"Maximum mass of this EOS is {m_max:.2f}Msun\\\n",
    " with a radius of {r_max:.2f}km\")\n",
    "\n",
    "print(f\"Maximum central energy density is {ec_max/(n_den*c**2):.3f}\")\n",
    "print(f\"Minimum central energy density is {ec_arr.min()/(n_den*c**2):.3f}\")\n",
    "\n",
    "plt.figure(dpi = 200)\n",
    "plt.scatter(mR_arr, mStar_arr, s=10, \n",
    "            marker = \"x\", color = \"dodgerblue\")\n",
    "plt.scatter(r_max, m_max, s = 100, color = \"salmon\")\n",
    "plt.xlabel(\"R km\")\n",
    "plt.ylabel(\"M/Msun\")\n",
    "utkarshGrid()\n",
    "plt.show()"
   ]
  },
  {
   "cell_type": "code",
   "execution_count": 12,
   "metadata": {},
   "outputs": [],
   "source": [
    "EOS_df_list = [\"sly.csv\", \"sly230a.csv\", \"mpa1.csv\", \"hqc18.csv\"]\n",
    "colors = plt.cm.viridis(np.linspace(0,1,len(EOS_df_list)))"
   ]
  },
  {
   "cell_type": "code",
   "execution_count": 13,
   "metadata": {},
   "outputs": [
    {
     "name": "stderr",
     "output_type": "stream",
     "text": [
      " 50%|█████     | 2/4 [00:13<00:11,  5.83s/it]"
     ]
    },
    {
     "name": "stdout",
     "output_type": "stream",
     "text": [
      "[STATUS] max_iter reached\n",
      "[STATUS] max_iter reached\n",
      "[STATUS] max_iter reached\n",
      "[STATUS] max_iter reached\n",
      "[STATUS] max_iter reached\n",
      "[STATUS] max_iter reached\n",
      "[STATUS] max_iter reached\n",
      "[STATUS] max_iter reached\n",
      "[STATUS] max_iter reached\n",
      "[STATUS] max_iter reached\n",
      "[STATUS] max_iter reached\n",
      "[STATUS] max_iter reached\n",
      "[STATUS] max_iter reached\n",
      "[STATUS] max_iter reached\n",
      "[STATUS] max_iter reached\n",
      "[STATUS] max_iter reached\n",
      "[STATUS] max_iter reached\n",
      "[STATUS] max_iter reached\n",
      "[STATUS] max_iter reached\n"
     ]
    },
    {
     "name": "stderr",
     "output_type": "stream",
     "text": [
      "\r",
      " 75%|███████▌  | 3/4 [00:16<00:04,  4.96s/it]"
     ]
    },
    {
     "name": "stdout",
     "output_type": "stream",
     "text": [
      "[STATUS] max_iter reached\n",
      "[STATUS] max_iter reached\n"
     ]
    },
    {
     "name": "stderr",
     "output_type": "stream",
     "text": [
      "100%|██████████| 4/4 [00:36<00:00,  9.22s/it]\n"
     ]
    },
    {
     "data": {
      "image/png": "[encoded data removed]",
      "text/plain": [
       "<Figure size 432x288 with 1 Axes>"
      ]
     },
     "metadata": {
      "needs_background": "light"
     },
     "output_type": "display_data"
    }
   ],
   "source": [
    "# Load Data\n",
    "plt.figure()\n",
    "for j in tqdm(range(len(EOS_df_list))):\n",
    "    path = EOS_df_list[j]\n",
    "    df = pd.read_csv(path)\n",
    "\n",
    "    ## Repeat for many different IVP\n",
    "    mStar_list = []\n",
    "    mR_list = []\n",
    "\n",
    "    for i in tqdm(range(1,len(df)), disable = True):\n",
    "        # Load EOS\n",
    "        e, p = df_to_ep(df)\n",
    "        EOS = get_ep(e, p)\n",
    "\n",
    "        # Initial Conditions\n",
    "        km2cm = 1e5\n",
    "        r_i = 1e-28\n",
    "        p0 = p[-i]\n",
    "        p_c = p0 - 2 * np.pi * (G/(c**2)) * r_i**2 * (p0 + e0) * (3*p0 + e0)/3\n",
    "\n",
    "        # Skip boundary case of highest pressure\n",
    "        if p_c >= p.max():\n",
    "            continue\n",
    "\n",
    "        e_c = EOS(p_c)\n",
    "        m0 = e_c * 4/3 * np.pi * r_i**3\n",
    "        init_VEC = [p_c, m0]\n",
    "        msun = 2e33\n",
    "        p_min = min(p)\n",
    "\n",
    "        # Integrate\n",
    "        p, m, r_arr = tov(EOS, init_VEC, r_i, p_min)\n",
    "        r_arr = r_arr/km2cm\n",
    "        m = m/msun\n",
    "\n",
    "        mStar = m.max()\n",
    "        mR = r_arr.max()\n",
    "\n",
    "        mStar_list.append(mStar)\n",
    "        mR_list.append(mR)\n",
    "        \n",
    "        # If starr is less than % of Msun, exit inner loop\n",
    "        if mStar < 0.3: \n",
    "            break\n",
    "\n",
    "    mStar_arr = np.array(mStar_list)\n",
    "    mR_arr = np.array(mR_list)\n",
    "\n",
    "    plt.plot(mR_arr, mStar_arr, label = f\"{path[:-4]}\", \n",
    "             color = colors[j])\n",
    "\n",
    "# Plotting error bars on pulsars\n",
    "psr_r_list = [13.7, 13.02]\n",
    "psr_r_err_list = [2.6, 1.24]\n",
    "psr_m_list = [2.08, 1.44] # No errors given on mass\n",
    "psr_m_err_list = [0.07, 0.15]\n",
    "plt.errorbar(psr_r_list, psr_m_list, \n",
    "             xerr=psr_r_err_list, \n",
    "             yerr=psr_m_err_list,\n",
    "             elinewidth=0.5,\n",
    "             capsize=2,\n",
    "             ecolor='black',\n",
    "             fmt='o',\n",
    "             label=r\"PSR 1$\\sigma$\",\n",
    "             color=\"darkorange\",\n",
    "             )\n",
    "\n",
    "# Labeling\n",
    "plt.xlabel(\"R km\")\n",
    "plt.ylabel(\"M/Msun\")\n",
    "utkarshGrid()\n",
    "plt.legend()\n",
    "plt.savefig(\"mr.pdf\")\n",
    "plt.show()"
   ]
  },
  {
   "cell_type": "code",
   "execution_count": null,
   "metadata": {},
   "outputs": [],
   "source": []
  }
 ],
 "metadata": {
  "kernelspec": {
   "display_name": "Python 3",
   "language": "python",
   "name": "python3"
  },
  "language_info": {
   "codemirror_mode": {
    "name": "ipython",
    "version": 3
   },
   "file_extension": ".py",
   "mimetype": "text/x-python",
   "name": "python",
   "nbconvert_exporter": "python",
   "pygments_lexer": "ipython3",
   "version": "3.8.6"
  }
 },
 "nbformat": 4,
 "nbformat_minor": 4
}
