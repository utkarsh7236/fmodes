{
 "cells": [
  {
   "cell_type": "code",
   "execution_count": 1,
   "metadata": {},
   "outputs": [],
   "source": [
    "from scipy.integrate import ode\n",
    "from scipy.interpolate import interp1d\n",
    "import pandas as pd\n",
    "from astropy import units as u\n",
    "import numpy as np\n",
    "import matplotlib.pyplot as plt\n",
    "from tqdm import tqdm\n",
    "import time"
   ]
  },
  {
   "cell_type": "code",
   "execution_count": 2,
   "metadata": {},
   "outputs": [],
   "source": [
    "import matplotlib as mpl\n",
    "# mpl.rcParams['figure.dpi'] = 1000\n",
    "mpl.rcParams['legend.frameon'] = False\n",
    "mpl.rcParams['figure.autolayout'] = True \n",
    "# mpl.rcParams['axes.spines.right'] = False\n",
    "# mpl.rcParams['axes.spines.top'] = False\n",
    "\n",
    "\n",
    "# plt.rcParams.update({\n",
    "#     \"text.usetex\": True,\n",
    "#     \"font.family\": \"sans-serif\",\n",
    "#     \"font.sans-serif\": [\"Helvetica\"]})\n",
    "\n",
    "# plt.rcParams.update({\n",
    "#     \"text.usetex\": True,\n",
    "#     \"font.family\": \"serif\",\n",
    "#     \"font.serif\": [\"Palatino\"],\n",
    "# })\n",
    "\n",
    "def utkarshGrid():\n",
    "    plt.minorticks_on()\n",
    "    plt.grid(color='grey',\n",
    "             which='minor',\n",
    "             linestyle=\":\",\n",
    "             linewidth='0.1',\n",
    "             )\n",
    "    plt.grid(color='black',\n",
    "             which='major',\n",
    "             linestyle=\":\",\n",
    "             linewidth='0.1',\n",
    "             )"
   ]
  },
  {
   "cell_type": "code",
   "execution_count": 3,
   "metadata": {},
   "outputs": [],
   "source": [
    "G = 6.67259e-8 # dyne cm2 g-2\n",
    "c = 2.998e10 # cms-1\n",
    "n_den = 2.3e14\n",
    "# G = c = 1"
   ]
  },
  {
   "cell_type": "code",
   "execution_count": 4,
   "metadata": {},
   "outputs": [],
   "source": [
    "# Working in manual cgs units here. \n",
    "   \n",
    "def _dMdr(r, e):\n",
    "    return 4 * np.pi * r**2 * (e/(c**2))\n",
    "\n",
    "def _dPhidr(r, P, M):\n",
    "    factor1 = G/(c**2) \n",
    "    num = (M+4*np.pi*(r**3)*P/(c**2))\n",
    "    dem = r * (r-2*G*M/(c**2))\n",
    "    return factor1*num/dem\n",
    "\n",
    "def _dPdr(r, P, M, e):\n",
    "#     factor = -G/(c**2) \n",
    "    factor2 = -1 # factor does in dphi/dr\n",
    "    term1 = (e+P) \n",
    "    dphidr = _dPhidr(r, P, M)\n",
    "    return factor2 * term1 * dphidr\n",
    "\n",
    "def coupledTOV(r, VEC, f_e_smooth):\n",
    "    P, M, phi = VEC\n",
    "    e = f_e_smooth(P)\n",
    "    \n",
    "    dMdr = _dMdr(r, e)\n",
    "    dPhidr = _dPhidr(r, P, M)\n",
    "    dPdr = _dPdr(r, P, M, e)\n",
    "    ret = [dPdr, dMdr, dPhidr]\n",
    "#     print(ret)\n",
    "    return ret"
   ]
  },
  {
   "cell_type": "code",
   "execution_count": 5,
   "metadata": {},
   "outputs": [],
   "source": [
    "def df_to_ep(df):\n",
    "    n_den = 2.3e14\n",
    "    e_den = df.energy_densityc2\n",
    "    e_den_normed = e_den#/n_den\n",
    "    p = df.pressurec2\n",
    "    e_den_normed = e_den_normed*(c**2)\n",
    "    pressure = p*(c**2)\n",
    "    return e_den_normed.to_numpy(), pressure.to_numpy()\n",
    "\n",
    "def get_ep(e, p):\n",
    "    f_e_smooth = interp1d(p, e, fill_value=\"extrapolate\")\n",
    "    return f_e_smooth"
   ]
  },
  {
   "cell_type": "code",
   "execution_count": 6,
   "metadata": {},
   "outputs": [],
   "source": [
    "def tov(ep, init_VEC, r_i, p_min, progress = False):\n",
    "    func = ep\n",
    "\n",
    "    r = ode(lambda r, VEC: coupledTOV(r, VEC, func)).set_integrator('ZVODE')\n",
    "    r.set_initial_value(init_VEC, r_i)\n",
    "\n",
    "    results = []\n",
    "    r_list = []\n",
    "\n",
    "    i = 0\n",
    "    r_max = 20 * km2cm\n",
    "    # max_iter = 1000000 # Change back to this if \"Excess work done on this call\" error. \n",
    "    max_iter = 5000\n",
    "\n",
    "    dr_init = r_max/max_iter\n",
    "    dr_compute = 1000\n",
    "    \n",
    "    if progress:\n",
    "        pbar = tqdm(total=max_iter)\n",
    "\n",
    "    while r.successful() and (r.y[0] >= p_min):\n",
    "        i+=1\n",
    "\n",
    "        dr = min(dr_init, dr_compute)\n",
    "\n",
    "        integral = r.integrate(r.t+dr)\n",
    "        \n",
    "        results.append(integral)\n",
    "        r_list.append(r.t+dr_init)\n",
    "\n",
    "    #     dr_compute = r * dP /P \n",
    "\n",
    "        if progress:\n",
    "            pbar.update(1)\n",
    "        if i > max_iter:\n",
    "            print(\"[STATUS] max_iter reached\")\n",
    "            break\n",
    "    \n",
    "    if progress:\n",
    "        pbar.close()\n",
    "        \n",
    "#     print(r.successful() , (r.y[0] > p_min))\n",
    "    \n",
    "    results = np.array(results, dtype = float)\n",
    "    p, m, phi = results.T\n",
    "    r = np.array(r_list)\n",
    "    return p, m, r, phi"
   ]
  },
  {
   "cell_type": "code",
   "execution_count": 7,
   "metadata": {},
   "outputs": [
    {
     "name": "stderr",
     "output_type": "stream",
     "text": [
      " 56%|█████▌    | 2781/5000 [00:00<00:00, 27777.24it/s]/Library/Frameworks/Python.framework/Versions/3.8/lib/python3.8/site-packages/scipy/integrate/_ode.py:1011: UserWarning: zvode: Excess work done on this call. (Perhaps wrong MF.)\n",
      "  warnings.warn('{:s}: {:s}'.format(self.__class__.__name__,\n",
      " 59%|█████▉    | 2947/5000 [00:00<00:00, 10218.05it/s]\n",
      "<ipython-input-6-f5551fd3c7d3>:44: ComplexWarning: Casting complex values to real discards the imaginary part\n",
      "  results = np.array(results, dtype = float)\n"
     ]
    },
    {
     "name": "stdout",
     "output_type": "stream",
     "text": [
      "== First Integration == \n",
      "Star has mass 1.5 Msun and radius 11.8km\n",
      "Interior Surface: 12.5195\n",
      "Exterior Surface: 0.6197\n",
      "Phi0 Round 1: 1\n"
     ]
    },
    {
     "name": "stderr",
     "output_type": "stream",
     "text": [
      " 59%|█████▉    | 2947/5000 [00:00<00:00, 10830.74it/s]"
     ]
    },
    {
     "name": "stdout",
     "output_type": "stream",
     "text": [
      "== Repeated Integration == \n",
      "Star has mass 1.5 Msun and radius 11.8km\n",
      "Interior Surface: 0.6197\n",
      "Exterior Surface: 0.6197\n",
      "Phi0 Round 2: -0.502932198607609\n"
     ]
    },
    {
     "name": "stderr",
     "output_type": "stream",
     "text": [
      "\n"
     ]
    }
   ],
   "source": [
    "# Load EOS\n",
    "df = pd.read_csv(\"sly230a.csv\")\n",
    "e, p = df_to_ep(df)\n",
    "EOS = get_ep(e, p)\n",
    "\n",
    "# Initial Conditions\n",
    "km2cm = 1e5\n",
    "r_i = 1e1 # This needs to be low enough for additional p0 term to not have any effect. \n",
    "p0 = p[-31]\n",
    "e0 = EOS(p0)\n",
    "p_c = p0 - 2 * np.pi * (G/(c**4)) * r_i**2 * (p0 + e0) * (3*p0 + e0)/3\n",
    "e_c = e0\n",
    "m0 = e_c/(c**2) * 4/3 * np.pi * r_i**3\n",
    "\n",
    "phi0 = 1 #Arbitrary guess \n",
    "\n",
    "init_VEC = [p_c, m0, phi0]\n",
    "msun = 2e33\n",
    "p_min = min(p)\n",
    "\n",
    "# Integrate\n",
    "p, m, r_arr, phi = tov(EOS, init_VEC, r_i, p_min, progress = True)\n",
    "r_arr = r_arr/km2cm\n",
    "m = m/msun\n",
    "\n",
    "mStar = m.max()\n",
    "max_idx = np.argmax(m)\n",
    "mR = r_arr[max_idx]\n",
    "\n",
    "# Convert back to cgs for calculations\n",
    "M = mStar * msun\n",
    "R = mR * km2cm \n",
    "\n",
    "# Working in scale\n",
    "schild = np.log((1-2*G*M/(c**2*R)))\n",
    "interior = (2*phi[-1])\n",
    "\n",
    "print(\"== First Integration == \")\n",
    "print(f\"Star has mass {mStar:.1f} Msun and radius {mR:.1f}km\")\n",
    "print(f\"Interior Surface: {np.exp(interior):.4f}\")\n",
    "print(f\"Exterior Surface: {np.exp(schild):.4f}\")\n",
    "print(f\"Phi0 Round 1: {phi0}\")\n",
    "\n",
    "# Log base e\n",
    "phi_ext = 0.5 * schild\n",
    "phi_int = phi[-1]\n",
    "delta_phi = phi_int - phi_ext\n",
    "phi0_new =  phi0 - delta_phi\n",
    "\n",
    "\n",
    "# Repeat integration\n",
    "init_VEC = [p_c, m0, phi0_new]\n",
    "msun = 2e33\n",
    "p_min = min(p)\n",
    "\n",
    "time.sleep(0.2)\n",
    "# Integrate\n",
    "p, m, r_arr, phi = tov(EOS, init_VEC, r_i, p_min, progress = True)\n",
    "r_arr = r_arr/km2cm\n",
    "m = m/msun\n",
    "\n",
    "mStar = m.max()\n",
    "max_idx = np.argmax(m)\n",
    "mR = r_arr[max_idx]\n",
    "\n",
    "# Working in scale\n",
    "schild = np.log((1-2*G*M/(c**2*R)))\n",
    "interior = (2*phi[-1])\n",
    "print(\"== Repeated Integration == \")\n",
    "print(f\"Star has mass {mStar:.1f} Msun and radius {mR:.1f}km\")\n",
    "print(f\"Interior Surface: {np.exp(interior):.4f}\")\n",
    "print(f\"Exterior Surface: {np.exp(schild):.4f}\")\n",
    "print(f\"Phi0 Round 2: {phi0_new}\")"
   ]
  },
  {
   "cell_type": "code",
   "execution_count": 8,
   "metadata": {},
   "outputs": [
    {
     "data": {
      "image/png": "[encoded data removed]",
      "text/plain": [
       "<Figure size 432x288 with 1 Axes>"
      ]
     },
     "metadata": {
      "needs_background": "light"
     },
     "output_type": "display_data"
    },
    {
     "data": {
      "image/png": "[encoded data removed]",
      "text/plain": [
       "<Figure size 432x288 with 1 Axes>"
      ]
     },
     "metadata": {
      "needs_background": "light"
     },
     "output_type": "display_data"
    },
    {
     "data": {
      "image/png": "[encoded data removed]",
      "text/plain": [
       "<Figure size 432x288 with 1 Axes>"
      ]
     },
     "metadata": {
      "needs_background": "light"
     },
     "output_type": "display_data"
    }
   ],
   "source": [
    "plt.figure()\n",
    "plt.plot(r_arr, p/p_c)\n",
    "plt.xlabel(\"r\")\n",
    "plt.ylabel(\"P/Pc\")\n",
    "\n",
    "plt.figure()\n",
    "plt.plot(r_arr, m)\n",
    "plt.xlabel(\"r \")\n",
    "plt.ylabel(\"M/Msun\")\n",
    "plt.show()\n",
    "\n",
    "plt.figure()\n",
    "plt.plot(r_arr, phi)\n",
    "plt.xlabel(\"r \")\n",
    "plt.ylabel(\"phi\")\n",
    "plt.show()"
   ]
  },
  {
   "cell_type": "markdown",
   "metadata": {},
   "source": [
    "## Solving Iteratively"
   ]
  },
  {
   "cell_type": "code",
   "execution_count": 9,
   "metadata": {
    "scrolled": true
   },
   "outputs": [
    {
     "name": "stderr",
     "output_type": "stream",
     "text": [
      "/Library/Frameworks/Python.framework/Versions/3.8/lib/python3.8/site-packages/scipy/integrate/_ode.py:1011: UserWarning: zvode: Excess work done on this call. (Perhaps wrong MF.)\n",
      "  warnings.warn('{:s}: {:s}'.format(self.__class__.__name__,\n",
      "<ipython-input-6-f5551fd3c7d3>:44: ComplexWarning: Casting complex values to real discards the imaginary part\n",
      "  results = np.array(results, dtype = float)\n"
     ]
    },
    {
     "name": "stdout",
     "output_type": "stream",
     "text": [
      "9.8831e-01\n",
      "1.1971e+00\n",
      "7.9948e-01\n",
      "6.3065e-01\n",
      "3.5300e-01\n",
      "1.5534e-01\n",
      "3.4396e-05\n",
      "1.6473e-01\n",
      "1.6473e-01\n",
      "3.7688e-02\n",
      "4.2380e-02\n",
      "8.8614e-03\n",
      "1.1207e-02\n",
      "1.9479e-03\n",
      "3.1209e-03\n",
      "3.6614e-04\n",
      "9.5264e-04\n",
      "4.4025e-05\n",
      "3.3725e-04\n",
      "1.4812e-07\n",
      "4.4025e-05\n",
      "7.5069e-06\n",
      "1.2320e-05\n",
      "1.3874e-06\n",
      "3.7953e-06\n",
      "1.5682e-07\n",
      "1.3609e-06\n",
      "2.9675e-11\n",
      "1.5682e-07\n",
      "3.5976e-08\n",
      "4.0465e-08\n",
      "8.5906e-09\n",
      "1.0669e-08\n",
      "1.8562e-09\n",
      "2.9457e-09\n",
      "3.4510e-10\n",
      "8.8991e-10\n",
      "4.3209e-11\n",
      "3.2197e-10\n",
      "1.1446e-12\n",
      "4.3209e-11\n",
      "4.5653e-12\n",
      "1.5854e-11\n",
      "6.7017e-13\n",
      "Optimization terminated successfully.\n",
      "         Current function value: 0.000000\n",
      "         Iterations: 22\n",
      "         Function evaluations: 44\n"
     ]
    }
   ],
   "source": [
    "from scipy.optimize import minimize, differential_evolution\n",
    "# Load EOS\n",
    "df = pd.read_csv(\"sly230a.csv\")\n",
    "e, p = df_to_ep(df)\n",
    "EOS = get_ep(e, p)\n",
    "\n",
    "# Initial Conditions\n",
    "km2cm = 1e5\n",
    "r_i = 1e1 # This needs to be low enough for additional p0 term to not have any effect. \n",
    "p0 = p[-31]\n",
    "e0 = EOS(p0)\n",
    "p_c = p0 - 2 * np.pi * (G/(c**4)) * r_i**2 * (p0 + e0) * (3*p0 + e0)/3\n",
    "e_c = e0\n",
    "m0 = e_c/(c**2) * 4/3 * np.pi * r_i**3\n",
    "\n",
    "phi0 = 1 #Arbitrary guess \n",
    "\n",
    "\n",
    "def minimize_phi(phi0_new, p = p, EOS = EOS):\n",
    "    # Repeat integration\n",
    "    init_VEC = [p_c, m0, phi0_new]\n",
    "    msun = 2e33\n",
    "    p_min = min(p)\n",
    "\n",
    "    # Integrate\n",
    "    p, m, r_arr, phi = tov(EOS, init_VEC, r_i, p_min, progress = False)\n",
    "    r_arr = r_arr/km2cm\n",
    "    m = m/msun\n",
    "\n",
    "    mStar = m.max()\n",
    "    max_idx = np.argmax(m)\n",
    "    mR = r_arr[max_idx]\n",
    "\n",
    "    # Working in scale\n",
    "    schild = np.log((1-2*G*M/(c**2*R)))\n",
    "    interior = (2*phi[-1])\n",
    "    loss = (schild - interior)**2\n",
    "    print(f\"{loss:.4e}\")\n",
    "    return loss\n",
    "\n",
    "res = minimize(minimize_phi, x0 = -1, method = \"Nelder-Mead\", options = {\"disp\": True}, tol = 1e-6)"
   ]
  },
  {
   "cell_type": "code",
   "execution_count": 10,
   "metadata": {},
   "outputs": [
    {
     "name": "stdout",
     "output_type": "stream",
     "text": [
      "-0.5029319763183588\n",
      "-0.502932198607609\n"
     ]
    }
   ],
   "source": [
    "print(res.x[0]) # Minimizer solution \n",
    "print(phi0_new) # Approximate analytic solution"
   ]
  },
  {
   "cell_type": "markdown",
   "metadata": {},
   "source": [
    "Notice that the optimized value is almost identival to the one computer manually"
   ]
  },
  {
   "cell_type": "code",
   "execution_count": 11,
   "metadata": {},
   "outputs": [
    {
     "name": "stderr",
     "output_type": "stream",
     "text": [
      " 59%|█████▉    | 2947/5000 [00:00<00:00, 11353.69it/s]"
     ]
    },
    {
     "name": "stdout",
     "output_type": "stream",
     "text": [
      "== Repeated Integration == \n",
      "Star has mass 1.5 Msun and radius 11.8km\n",
      "Interior Surface: 0.6197\n",
      "Exterior Surface: 0.6197\n",
      "Phi0: -0.5029319763183588\n"
     ]
    },
    {
     "name": "stderr",
     "output_type": "stream",
     "text": [
      "\n",
      "<ipython-input-6-f5551fd3c7d3>:44: ComplexWarning: Casting complex values to real discards the imaginary part\n",
      "  results = np.array(results, dtype = float)\n"
     ]
    }
   ],
   "source": [
    "phi0_optimized = res.x[0]\n",
    "\n",
    "# Repeat integration\n",
    "init_VEC = [p_c, m0, phi0_optimized]\n",
    "msun = 2e33\n",
    "p_min = min(p)\n",
    "\n",
    "time.sleep(0.2)\n",
    "# Integrate\n",
    "p, m, r_arr, phi = tov(EOS, init_VEC, r_i, p_min, progress = True)\n",
    "r_arr = r_arr/km2cm\n",
    "m = m/msun\n",
    "\n",
    "mStar = m.max()\n",
    "max_idx = np.argmax(m)\n",
    "mR = r_arr[max_idx]\n",
    "\n",
    "# Working in scale\n",
    "schild = (1-2*G*M/(c**2*R))\n",
    "interior = np.exp(2*phi[-1])\n",
    "print(\"== Repeated Integration == \")\n",
    "print(f\"Star has mass {mStar:.1f} Msun and radius {mR:.1f}km\")\n",
    "print(f\"Interior Surface: {interior:.4f}\")\n",
    "print(f\"Exterior Surface: {schild:.4f}\")\n",
    "print(f\"Phi0: {phi0_optimized}\")"
   ]
  },
  {
   "cell_type": "code",
   "execution_count": 12,
   "metadata": {},
   "outputs": [
    {
     "data": {
      "image/png": "[encoded data removed]",
      "text/plain": [
       "<Figure size 432x288 with 1 Axes>"
      ]
     },
     "metadata": {
      "needs_background": "light"
     },
     "output_type": "display_data"
    },
    {
     "data": {
      "image/png": "[encoded data removed]",
      "text/plain": [
       "<Figure size 432x288 with 1 Axes>"
      ]
     },
     "metadata": {
      "needs_background": "light"
     },
     "output_type": "display_data"
    },
    {
     "data": {
      "image/png": "[encoded data removed]",
      "text/plain": [
       "<Figure size 432x288 with 1 Axes>"
      ]
     },
     "metadata": {
      "needs_background": "light"
     },
     "output_type": "display_data"
    }
   ],
   "source": [
    "plt.figure()\n",
    "plt.plot(r_arr, p/p_c)\n",
    "plt.xlabel(\"r\")\n",
    "plt.ylabel(\"P/Pc\")\n",
    "\n",
    "plt.figure()\n",
    "plt.plot(r_arr, m)\n",
    "plt.xlabel(\"r \")\n",
    "plt.ylabel(\"M/Msun\")\n",
    "plt.show()\n",
    "\n",
    "plt.figure()\n",
    "plt.plot(r_arr, phi)\n",
    "plt.xlabel(\"r \")\n",
    "plt.ylabel(\"phi\")\n",
    "plt.show()"
   ]
  },
  {
   "cell_type": "markdown",
   "metadata": {},
   "source": [
    "### Integrated plot of phi, e, m, p"
   ]
  },
  {
   "cell_type": "code",
   "execution_count": 13,
   "metadata": {},
   "outputs": [],
   "source": [
    "# e_nuc = 2.3e14\n",
    "\n",
    "# plt.figure()\n",
    "# plt.plot(r_arr, p/p_c, label = \"P/Pc\")\n",
    "# plt.plot(r_arr, m, label = \"M/Msun\")\n",
    "# plt.plot(r_arr, phi, label = \"phi\")\n",
    "# # plt.plot(r_arr, EOS(p)/(e_nuc*c**2), label = \"e/enuc\")\n",
    "# plt.plot(r_arr, EOS(p)/e_c, label = \"e/ec\")\n",
    "# plt.xlabel(\"r \")\n",
    "# plt.legend()\n",
    "# utkarshGrid()\n",
    "# plt.show()"
   ]
  },
  {
   "cell_type": "markdown",
   "metadata": {},
   "source": [
    "#### Extending from $r=R \\rightarrow r= \\infty$\n",
    "\n",
    "Right now I am doing a manual extension, is that the right way of doing it? "
   ]
  },
  {
   "cell_type": "code",
   "execution_count": 14,
   "metadata": {},
   "outputs": [],
   "source": [
    "# max_idx = np.argmax(m)\n",
    "# m_R = m.max() # In units of msun\n",
    "# r_R = r_arr[max_idx] # In units of km\n",
    "# p_R = p[max_idx] #cgs\n",
    "# ec_R = EOS(p_R) #cgs\n",
    "# phi_R = phi[max_idx] #cgs\n",
    "# print(m_R, r_R, p_R/p_c, ec_R/e_c)"
   ]
  },
  {
   "cell_type": "code",
   "execution_count": 15,
   "metadata": {},
   "outputs": [],
   "source": [
    "# N = 100\n",
    "# r_ext = np.linspace(r_R, 20, N)\n",
    "# p_ext = np.ones(N) * p_R\n",
    "# ec_ext = np.ones(N) * ec_R\n",
    "# m_ext = np.ones(N) * m_R\n",
    "# phi_ext = 0.5 * np.log((1-2*G*m_ext*msun/(c**2*r_ext*km2cm)))\n",
    "\n",
    "# plt.figure()\n",
    "# plt.plot(r_ext, p_ext/p_c, label = \"P/Pc\")\n",
    "# plt.plot(r_ext, m_ext, label = \"M/Msun\")\n",
    "# plt.plot(r_ext, phi_ext, label = \"phi\")\n",
    "# plt.plot(r_ext, ec_ext/e_c, label = \"e/ec\")\n",
    "# plt.xlabel(\"r \")\n",
    "# plt.legend()\n",
    "# utkarshGrid()\n",
    "# plt.show()"
   ]
  },
  {
   "cell_type": "markdown",
   "metadata": {},
   "source": [
    "Combining plots now"
   ]
  },
  {
   "cell_type": "code",
   "execution_count": 16,
   "metadata": {},
   "outputs": [],
   "source": [
    "# EOS(p_c)/(e_nuc*c**2)"
   ]
  },
  {
   "cell_type": "code",
   "execution_count": 17,
   "metadata": {},
   "outputs": [],
   "source": [
    "# def r_at_enuc(enuc, p = p, r=r_arr):\n",
    "#     \"\"\" WARNING: This function will snap onto grid even if enuc is outside the range of the neutron star. \n",
    "#     \"\"\"\n",
    "#     eden = EOS(p)/(e_nuc*c**2) # in units of enuc\n",
    "#     idx = (np.abs(eden - enuc)).argmin()\n",
    "#     return r[idx]"
   ]
  },
  {
   "cell_type": "code",
   "execution_count": 18,
   "metadata": {},
   "outputs": [],
   "source": [
    "# colors = plt.cm.viridis(np.linspace(0,1,5))\n",
    "# plt.figure(figsize = (6,4))\n",
    "\n",
    "# #Internal\n",
    "# plt.plot(r_arr, p/p_c, label = \"P/Pc\", color = colors[0])\n",
    "# plt.plot(r_arr, m, label = \"M/Msun\", color = colors[1])\n",
    "# plt.plot(r_arr, phi, label = \"phi\", color = colors[2])\n",
    "# plt.plot(r_arr, EOS(p)/e_c, label = \"e/ec\", color = colors[3])\n",
    "\n",
    "# #External\n",
    "# plt.plot(r_ext, p_ext/p_c, color = colors[0])\n",
    "# plt.plot(r_ext, m_ext, color = colors[1])\n",
    "# plt.plot(r_ext, phi_ext, color = colors[2])\n",
    "# plt.plot(r_ext, ec_ext/e_c, color = colors[3])\n",
    "\n",
    "# plt.xlabel(\"r (km)\")\n",
    "# plt.gca().add_patch(plt.Circle((0, 0), r_at_enuc(0), color=\"dodgerblue\", alpha = 0.1, label = \"surface\"))\n",
    "# plt.gca().add_patch(plt.Circle((0, 0), r_at_enuc(1), color=\"blue\", alpha = 0.3, label = \"1enuc\", fill = False))\n",
    "# plt.gca().add_patch(plt.Circle((0, 0), r_at_enuc(2), color=\"blue\", alpha = 0.5, label = \"2enuc\", fill = False))\n",
    "# plt.gca().add_patch(plt.Circle((0, 0), r_at_enuc(4), color=\"blue\", alpha = 0.7, label = \"4enuc\", fill = True))\n",
    "# utkarshGrid()\n",
    "# plt.xlim(0, r_R*2)\n",
    "# plt.ylim(-5, 5)\n",
    "# plt.legend()\n",
    "# plt.savefig(\"ns_params_overplot.pdf\")\n",
    "# plt.show()"
   ]
  },
  {
   "cell_type": "markdown",
   "metadata": {},
   "source": [
    "Overplot of neutron star radius by nuclear density (2enuc, all the way to 0enuc)"
   ]
  },
  {
   "cell_type": "code",
   "execution_count": null,
   "metadata": {},
   "outputs": [],
   "source": []
  }
 ],
 "metadata": {
  "kernelspec": {
   "display_name": "Python 3",
   "language": "python",
   "name": "python3"
  },
  "language_info": {
   "codemirror_mode": {
    "name": "ipython",
    "version": 3
   },
   "file_extension": ".py",
   "mimetype": "text/x-python",
   "name": "python",
   "nbconvert_exporter": "python",
   "pygments_lexer": "ipython3",
   "version": "3.8.6"
  },
  "widgets": {
   "application/vnd.jupyter.widget-state+json": {
    "state": {},
    "version_major": 2,
    "version_minor": 0
   }
  }
 },
 "nbformat": 4,
 "nbformat_minor": 4
}
