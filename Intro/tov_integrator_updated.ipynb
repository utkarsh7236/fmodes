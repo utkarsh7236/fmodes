{
 "cells": [
  {
   "cell_type": "code",
   "execution_count": 1,
   "metadata": {},
   "outputs": [],
   "source": [
    "from scipy.integrate import ode\n",
    "from scipy.interpolate import interp1d\n",
    "import pandas as pd\n",
    "from astropy import units as u\n",
    "import numpy as np\n",
    "import matplotlib.pyplot as plt\n",
    "from tqdm import tqdm\n",
    "import time"
   ]
  },
  {
   "cell_type": "code",
   "execution_count": 2,
   "metadata": {},
   "outputs": [],
   "source": [
    "import matplotlib as mpl\n",
    "# mpl.rcParams['figure.dpi'] = 1000\n",
    "mpl.rcParams['legend.frameon'] = False\n",
    "mpl.rcParams['figure.autolayout'] = True \n",
    "# mpl.rcParams['axes.spines.right'] = False\n",
    "# mpl.rcParams['axes.spines.top'] = False\n",
    "\n",
    "\n",
    "# plt.rcParams.update({\n",
    "#     \"text.usetex\": True,\n",
    "#     \"font.family\": \"sans-serif\",\n",
    "#     \"font.sans-serif\": [\"Helvetica\"]})\n",
    "\n",
    "# plt.rcParams.update({\n",
    "#     \"text.usetex\": True,\n",
    "#     \"font.family\": \"serif\",\n",
    "#     \"font.serif\": [\"Palatino\"],\n",
    "# })\n",
    "\n",
    "def utkarshGrid():\n",
    "    plt.minorticks_on()\n",
    "    plt.grid(color='grey',\n",
    "             which='minor',\n",
    "             linestyle=\":\",\n",
    "             linewidth='0.1',\n",
    "             )\n",
    "    plt.grid(color='black',\n",
    "             which='major',\n",
    "             linestyle=\":\",\n",
    "             linewidth='0.1',\n",
    "             )"
   ]
  },
  {
   "cell_type": "code",
   "execution_count": 3,
   "metadata": {},
   "outputs": [],
   "source": [
    "G = 6.67259e-8 # dyne cm2 g-2\n",
    "c = 2.998e10 # cms-1\n",
    "n_den = 2.3e14\n",
    "# G = c = 1"
   ]
  },
  {
   "cell_type": "code",
   "execution_count": 4,
   "metadata": {},
   "outputs": [],
   "source": [
    "# Working in manual cgs units here. \n",
    "   \n",
    "def _dMdr(r, e):\n",
    "    return 4 * np.pi * r**2 * (e/(c**2))\n",
    "\n",
    "def _dPhidr(r, P, M):\n",
    "    factor1 = G/(c**2) \n",
    "    num = (M+4*np.pi*(r**3)*P/(c**2))\n",
    "    dem = r * (r-2*G*M/(c**2))\n",
    "    return factor1*num/dem\n",
    "\n",
    "def _dPdr(r, P, M, e):\n",
    "#     factor = -G/(c**2) \n",
    "    factor2 = -1 # factor does in dphi/dr\n",
    "    term1 = (e+P) \n",
    "    dphidr = _dPhidr(r, P, M)\n",
    "    return factor2 * term1 * dphidr\n",
    "\n",
    "def coupledTOV(r, VEC, f_e_smooth):\n",
    "    P, M, phi = VEC\n",
    "    e = f_e_smooth(P)\n",
    "    \n",
    "    dMdr = _dMdr(r, e)\n",
    "    dPhidr = _dPhidr(r, P, M)\n",
    "    dPdr = _dPdr(r, P, M, e)\n",
    "    ret = [dPdr, dMdr, dPhidr]\n",
    "#     print(ret)\n",
    "    return ret"
   ]
  },
  {
   "cell_type": "code",
   "execution_count": 5,
   "metadata": {},
   "outputs": [],
   "source": [
    "def df_to_ep(df):\n",
    "    n_den = 2.3e14\n",
    "    e_den = df.energy_densityc2\n",
    "    e_den_normed = e_den#/n_den\n",
    "    p = df.pressurec2\n",
    "    e_den_normed = e_den_normed*(c**2)\n",
    "    pressure = p*(c**2)\n",
    "    return e_den_normed.to_numpy(), pressure.to_numpy()\n",
    "\n",
    "def get_ep(e, p):\n",
    "    f_e_smooth = interp1d(p, e, fill_value=\"extrapolate\")\n",
    "    return f_e_smooth"
   ]
  },
  {
   "cell_type": "code",
   "execution_count": 6,
   "metadata": {},
   "outputs": [],
   "source": [
    "def tov(ep, init_VEC, r_i, p_min, progress = False):\n",
    "    func = ep\n",
    "\n",
    "    r = ode(lambda r, VEC: coupledTOV(r, VEC, func)).set_integrator('LSODA')\n",
    "    r.set_initial_value(init_VEC, r_i)\n",
    "\n",
    "    results = []\n",
    "    r_list = []\n",
    "\n",
    "    i = 0\n",
    "    r_max = 20 * km2cm\n",
    "    # max_iter = 1000000 # Change back to this if \"Excess work done on this call\" error. \n",
    "    max_iter = 5000\n",
    "\n",
    "    dr_init = r_max/max_iter\n",
    "    dr_compute = 1000\n",
    "    \n",
    "    if progress:\n",
    "        pbar = tqdm(total=max_iter)\n",
    "\n",
    "    while r.successful() and (r.y[0] >= p_min):\n",
    "        i+=1\n",
    "\n",
    "        dr = min(dr_init, dr_compute)\n",
    "\n",
    "        integral = r.integrate(r.t+dr)\n",
    "        \n",
    "        results.append(integral)\n",
    "        r_list.append(r.t+dr_init)\n",
    "\n",
    "    #     dr_compute = r * dP /P \n",
    "\n",
    "        if progress:\n",
    "            pbar.update(1)\n",
    "        if i > max_iter:\n",
    "            print(\"[STATUS] max_iter reached\")\n",
    "            break\n",
    "    \n",
    "    if progress:\n",
    "        pbar.close()\n",
    "        \n",
    "#     print(r.successful() , (r.y[0] > p_min))\n",
    "    \n",
    "    results = np.array(results, dtype = float)\n",
    "    p, m, phi = results.T\n",
    "    r = np.array(r_list)\n",
    "    return p, m, r, phi"
   ]
  },
  {
   "cell_type": "code",
   "execution_count": 7,
   "metadata": {},
   "outputs": [
    {
     "name": "stderr",
     "output_type": "stream",
     "text": [
      " 51%|█████     | 2533/5000 [00:00<00:00, 25215.26it/s]/Library/Frameworks/Python.framework/Versions/3.8/lib/python3.8/site-packages/scipy/integrate/_ode.py:1350: UserWarning: lsoda: Excess work done on this call (perhaps wrong Dfun type).\n",
      "  warnings.warn('{:s}: {:s}'.format(self.__class__.__name__,\n",
      " 52%|█████▏    | 2616/5000 [00:00<00:00, 8931.62it/s] \n"
     ]
    },
    {
     "name": "stdout",
     "output_type": "stream",
     "text": [
      "== First Integration == \n",
      "Star has mass 2.1 Msun and radius 10.5km\n",
      "Interior Surface: 3.39e+00\n",
      "Exterior Surface: -8.94e-01\n",
      "Phi0 Round 1: 1\n"
     ]
    },
    {
     "name": "stderr",
     "output_type": "stream",
     "text": [
      " 52%|█████▏    | 2616/5000 [00:00<00:00, 8694.52it/s] "
     ]
    },
    {
     "name": "stdout",
     "output_type": "stream",
     "text": [
      "== Repeated Integration == \n",
      "Star has mass 2.1 Msun and radius 10.5km\n",
      "Interior Surface: -8.94e-01\n",
      "Exterior Surface: -8.94e-01\n",
      "Phi0 Round 2: -1.1419654093561853\n"
     ]
    },
    {
     "name": "stderr",
     "output_type": "stream",
     "text": [
      "\n"
     ]
    }
   ],
   "source": [
    "# Load EOS\n",
    "df = pd.read_csv(\"sly230a.csv\")\n",
    "e, p = df_to_ep(df)\n",
    "EOS = get_ep(e, p)\n",
    "\n",
    "# Initial Conditions\n",
    "km2cm = 1e5\n",
    "r_i = 1e1 # This needs to be low enough for additional p0 term to not have any effect. \n",
    "p0 = p[-11]\n",
    "e0 = EOS(p0)\n",
    "p_c = p0 - 2 * np.pi * (G/(c**4)) * r_i**2 * (p0 + e0) * (3*p0 + e0)/3\n",
    "e_c = e0\n",
    "m0 = e_c/(c**2) * 4/3 * np.pi * r_i**3\n",
    "\n",
    "phi0 = 1 #Arbitrary guess \n",
    "\n",
    "init_VEC = [p_c, m0, phi0]\n",
    "msun = 2e33\n",
    "p_min = min(p)\n",
    "\n",
    "# Integrate\n",
    "p, m, r_arr, phi = tov(EOS, init_VEC, r_i, p_min, progress = True)\n",
    "r_arr = r_arr/km2cm\n",
    "m = m/msun\n",
    "\n",
    "mStar = m.max()\n",
    "max_idx = np.argmax(m)\n",
    "mR = r_arr[max_idx]\n",
    "\n",
    "# Convert back to cgs for calculations\n",
    "M = mStar * msun\n",
    "R = mR * km2cm \n",
    "\n",
    "# Working in scale\n",
    "schild = np.log((1-2*G*M/(c**2*R)))\n",
    "interior = (2*phi[-1])\n",
    "\n",
    "print(\"== First Integration == \")\n",
    "print(f\"Star has mass {mStar:.1f} Msun and radius {mR:.1f}km\")\n",
    "print(f\"Interior Surface: {interior:.2e}\")\n",
    "print(f\"Exterior Surface: {schild:.2e}\")\n",
    "print(f\"Phi0 Round 1: {phi0}\")\n",
    "\n",
    "# Log base e\n",
    "phi_ext = 0.5 * schild\n",
    "phi_int = phi[-1]\n",
    "delta_phi = phi_int - phi_ext\n",
    "phi0_new =  phi0 - delta_phi\n",
    "\n",
    "\n",
    "# Repeat integration\n",
    "init_VEC = [p_c, m0, phi0_new]\n",
    "msun = 2e33\n",
    "p_min = min(p)\n",
    "\n",
    "time.sleep(0.2)\n",
    "# Integrate\n",
    "p, m, r_arr, phi = tov(EOS, init_VEC, r_i, p_min, progress = True)\n",
    "r_arr = r_arr/km2cm\n",
    "m = m/msun\n",
    "\n",
    "mStar = m.max()\n",
    "max_idx = np.argmax(m)\n",
    "mR = r_arr[max_idx]\n",
    "\n",
    "# Working in scale\n",
    "schild = np.log((1-2*G*M/(c**2*R)))\n",
    "interior = (2*phi[-1])\n",
    "print(\"== Repeated Integration == \")\n",
    "print(f\"Star has mass {mStar:.1f} Msun and radius {mR:.1f}km\")\n",
    "print(f\"Interior Surface: {interior:.2e}\")\n",
    "print(f\"Exterior Surface: {schild:.2e}\")\n",
    "print(f\"Phi0 Round 2: {phi0_new}\")"
   ]
  },
  {
   "cell_type": "code",
   "execution_count": 8,
   "metadata": {},
   "outputs": [
    {
     "data": {
      "image/png": "[encoded data removed]",
      "text/plain": [
       "<Figure size 432x288 with 1 Axes>"
      ]
     },
     "metadata": {
      "needs_background": "light"
     },
     "output_type": "display_data"
    },
    {
     "data": {
      "image/png": "[encoded data removed]",
      "text/plain": [
       "<Figure size 432x288 with 1 Axes>"
      ]
     },
     "metadata": {
      "needs_background": "light"
     },
     "output_type": "display_data"
    },
    {
     "data": {
      "image/png": "[encoded data removed]",
      "text/plain": [
       "<Figure size 432x288 with 1 Axes>"
      ]
     },
     "metadata": {
      "needs_background": "light"
     },
     "output_type": "display_data"
    }
   ],
   "source": [
    "plt.figure()\n",
    "plt.plot(r_arr, p/p_c)\n",
    "plt.xlabel(\"r\")\n",
    "plt.ylabel(\"P/Pc\")\n",
    "\n",
    "plt.figure()\n",
    "plt.plot(r_arr, m)\n",
    "plt.xlabel(\"r \")\n",
    "plt.ylabel(\"M/Msun\")\n",
    "plt.show()\n",
    "\n",
    "plt.figure()\n",
    "plt.plot(r_arr, phi)\n",
    "plt.xlabel(\"r \")\n",
    "plt.ylabel(\"phi\")\n",
    "plt.show()"
   ]
  },
  {
   "cell_type": "markdown",
   "metadata": {},
   "source": [
    "## Solving Iteratively"
   ]
  },
  {
   "cell_type": "code",
   "execution_count": 13,
   "metadata": {
    "scrolled": true
   },
   "outputs": [
    {
     "name": "stderr",
     "output_type": "stream",
     "text": [
      "/Library/Frameworks/Python.framework/Versions/3.8/lib/python3.8/site-packages/scipy/integrate/_ode.py:1350: UserWarning: lsoda: Excess work done on this call (perhaps wrong Dfun type).\n",
      "  warnings.warn('{:s}: {:s}'.format(self.__class__.__name__,\n"
     ]
    },
    {
     "name": "stdout",
     "output_type": "stream",
     "text": [
      "8.0617e-02\n",
      "3.3831e-02\n",
      "7.0444e-03\n",
      "2.5822e-04\n",
      "4.6686e-02\n",
      "7.0444e-03\n",
      "1.3472e-02\n",
      "1.1513e-03\n",
      "4.3651e-03\n",
      "7.9760e-05\n",
      "1.1513e-03\n",
      "1.2739e-05\n",
      "2.5822e-04\n",
      "7.1868e-06\n",
      "7.9760e-05\n",
      "1.9730e-07\n",
      "1.2739e-05\n",
      "1.2506e-06\n",
      "4.0268e-06\n",
      "1.1362e-07\n",
      "1.2506e-06\n",
      "2.8683e-09\n",
      "1.9730e-07\n",
      "2.0095e-08\n",
      "6.1936e-08\n",
      "1.9448e-09\n",
      "2.0095e-08\n",
      "2.2356e-11\n",
      "2.8683e-09\n",
      "3.8753e-10\n",
      "8.4927e-10\n",
      "5.5933e-11\n",
      "2.8680e-10\n",
      "1.8916e-12\n",
      "5.5933e-11\n",
      "2.8103e-12\n",
      "1.9599e-11\n",
      "2.2658e-14\n",
      "Optimization terminated successfully.\n",
      "         Current function value: 0.000000\n",
      "         Iterations: 19\n",
      "         Function evaluations: 38\n"
     ]
    }
   ],
   "source": [
    "from scipy.optimize import minimize, differential_evolution\n",
    "# Load EOS\n",
    "df = pd.read_csv(\"sly230a.csv\")\n",
    "e, p = df_to_ep(df)\n",
    "EOS = get_ep(e, p)\n",
    "\n",
    "# Initial Conditions\n",
    "km2cm = 1e5\n",
    "r_i = 1e1 # This needs to be low enough for additional p0 term to not have any effect. \n",
    "p0 = p[-11]\n",
    "e0 = EOS(p0)\n",
    "p_c = p0 - 2 * np.pi * (G/(c**4)) * r_i**2 * (p0 + e0) * (3*p0 + e0)/3\n",
    "e_c = e0\n",
    "m0 = e_c/(c**2) * 4/3 * np.pi * r_i**3\n",
    "\n",
    "phi0 = 1 #Arbitrary guess \n",
    "\n",
    "\n",
    "def minimize_phi(phi0_new, p = p, EOS = EOS):\n",
    "    # Repeat integration\n",
    "    init_VEC = [p_c, m0, phi0_new]\n",
    "    msun = 2e33\n",
    "    p_min = min(p)\n",
    "\n",
    "    # Integrate\n",
    "    p, m, r_arr, phi = tov(EOS, init_VEC, r_i, p_min, progress = False)\n",
    "    r_arr = r_arr/km2cm\n",
    "    m = m/msun\n",
    "\n",
    "    mStar = m.max()\n",
    "    max_idx = np.argmax(m)\n",
    "    mR = r_arr[max_idx]\n",
    "\n",
    "    # Working in scale\n",
    "    schild = np.log((1-2*G*M/(c**2*R)))\n",
    "    interior = (2*phi[-1])\n",
    "    loss = (schild - interior)**2\n",
    "    print(f\"{loss:.4e}\")\n",
    "    return loss\n",
    "\n",
    "res = minimize(minimize_phi, x0 = -1, method = \"Nelder-Mead\", options = {\"disp\": True}, tol = 1e-6)"
   ]
  },
  {
   "cell_type": "code",
   "execution_count": 14,
   "metadata": {},
   "outputs": [
    {
     "name": "stdout",
     "output_type": "stream",
     "text": [
      "-1.1419654846191412\n",
      "-1.1419654093561853\n"
     ]
    }
   ],
   "source": [
    "print(res.x[0]) # Minimizer solution \n",
    "print(phi0_new) # Approximate analytic solution"
   ]
  },
  {
   "cell_type": "markdown",
   "metadata": {},
   "source": [
    "Notice that the optimized value is almost identival to the one computer manually"
   ]
  },
  {
   "cell_type": "code",
   "execution_count": 15,
   "metadata": {},
   "outputs": [
    {
     "name": "stderr",
     "output_type": "stream",
     "text": [
      " 52%|█████▏    | 2616/5000 [00:00<00:00, 8136.73it/s] "
     ]
    },
    {
     "name": "stdout",
     "output_type": "stream",
     "text": [
      "== Repeated Integration == \n",
      "Star has mass 2.1 Msun and radius 10.5km\n",
      "Interior Surface: -8.94e-01\n",
      "Exterior Surface: -8.94e-01\n",
      "Phi0: -1.1419654846191412\n"
     ]
    },
    {
     "name": "stderr",
     "output_type": "stream",
     "text": [
      "\n"
     ]
    }
   ],
   "source": [
    "phi0_optimized = res.x[0]\n",
    "\n",
    "# Repeat integration\n",
    "init_VEC = [p_c, m0, phi0_optimized]\n",
    "msun = 2e33\n",
    "p_min = min(p)\n",
    "\n",
    "time.sleep(0.2)\n",
    "# Integrate\n",
    "p, m, r_arr, phi = tov(EOS, init_VEC, r_i, p_min, progress = True)\n",
    "r_arr = r_arr/km2cm\n",
    "m = m/msun\n",
    "\n",
    "mStar = m.max()\n",
    "max_idx = np.argmax(m)\n",
    "mR = r_arr[max_idx]\n",
    "\n",
    "# Working in scale\n",
    "schild = np.log((1-2*G*M/(c**2*R)))\n",
    "interior = (2*phi[-1])\n",
    "print(\"== Repeated Integration == \")\n",
    "print(f\"Star has mass {mStar:.1f} Msun and radius {mR:.1f}km\")\n",
    "print(f\"Interior Surface: {interior:.2e}\")\n",
    "print(f\"Exterior Surface: {schild:.2e}\")\n",
    "print(f\"Phi0: {phi0_optimized}\")"
   ]
  },
  {
   "cell_type": "code",
   "execution_count": 16,
   "metadata": {},
   "outputs": [
    {
     "data": {
      "image/png": "[encoded data removed]",
      "text/plain": [
       "<Figure size 432x288 with 1 Axes>"
      ]
     },
     "metadata": {
      "needs_background": "light"
     },
     "output_type": "display_data"
    },
    {
     "data": {
      "image/png": "[encoded data removed]",
      "text/plain": [
       "<Figure size 432x288 with 1 Axes>"
      ]
     },
     "metadata": {
      "needs_background": "light"
     },
     "output_type": "display_data"
    },
    {
     "data": {
      "image/png": "[encoded data removed]",
      "text/plain": [
       "<Figure size 432x288 with 1 Axes>"
      ]
     },
     "metadata": {
      "needs_background": "light"
     },
     "output_type": "display_data"
    }
   ],
   "source": [
    "plt.figure()\n",
    "plt.plot(r_arr, p/p_c)\n",
    "plt.xlabel(\"r\")\n",
    "plt.ylabel(\"P/Pc\")\n",
    "\n",
    "plt.figure()\n",
    "plt.plot(r_arr, m)\n",
    "plt.xlabel(\"r \")\n",
    "plt.ylabel(\"M/Msun\")\n",
    "plt.show()\n",
    "\n",
    "plt.figure()\n",
    "plt.plot(r_arr, phi)\n",
    "plt.xlabel(\"r \")\n",
    "plt.ylabel(\"phi\")\n",
    "plt.show()"
   ]
  },
  {
   "cell_type": "code",
   "execution_count": null,
   "metadata": {},
   "outputs": [],
   "source": []
  },
  {
   "cell_type": "code",
   "execution_count": null,
   "metadata": {},
   "outputs": [],
   "source": []
  }
 ],
 "metadata": {
  "kernelspec": {
   "display_name": "Python 3",
   "language": "python",
   "name": "python3"
  },
  "language_info": {
   "codemirror_mode": {
    "name": "ipython",
    "version": 3
   },
   "file_extension": ".py",
   "mimetype": "text/x-python",
   "name": "python",
   "nbconvert_exporter": "python",
   "pygments_lexer": "ipython3",
   "version": "3.8.6"
  },
  "widgets": {
   "application/vnd.jupyter.widget-state+json": {
    "state": {},
    "version_major": 2,
    "version_minor": 0
   }
  }
 },
 "nbformat": 4,
 "nbformat_minor": 4
}
