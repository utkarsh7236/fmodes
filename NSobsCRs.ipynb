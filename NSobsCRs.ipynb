{
 "cells": [
  {
   "cell_type": "code",
   "execution_count": 1,
   "metadata": {},
   "outputs": [],
   "source": [
    "# NSOBSCRS.IPYNB -- plot credible regions for neutron star observables from EOS posterior samples"
   ]
  },
  {
   "cell_type": "code",
   "execution_count": 2,
   "metadata": {},
   "outputs": [],
   "source": [
    "# fetch the EOS posterior samples (only need to do this once)\n",
    "\n",
    "#! curl https://zenodo.org/record/6502467/files/LCEHL_EOS_posterior_samples_PSR.h5?download=1 --output ../etc/LCEHL_EOS_posterior_samples_PSR.h5"
   ]
  },
  {
   "cell_type": "code",
   "execution_count": 3,
   "metadata": {},
   "outputs": [],
   "source": [
    "# import packages\n",
    "from tqdm import tqdm\n",
    "import numpy as np\n",
    "from scipy.interpolate import interp1d\n",
    "import h5py\n",
    "import matplotlib.pyplot as plt"
   ]
  },
  {
   "cell_type": "code",
   "execution_count": 4,
   "metadata": {},
   "outputs": [
    {
     "name": "stdout",
     "output_type": "stream",
     "text": [
      "eos_0 eos_1 ...\n"
     ]
    }
   ],
   "source": [
    "# load EOS posterior samples, extract tables of NS observables\n",
    "\n",
    "data = h5py.File('LCEHL_EOS_posterior_samples_PSR+GW+NICER.h5', 'r') # EOS posterior conditioned on PSR observations\n",
    "mrl = data['ns'] # tables of NS observables\n",
    "\n",
    "num_eos = len(list(mrl.keys())) # count the number of EOSs in the release\n",
    "print(list(mrl.keys())[0],list(mrl.keys())[1],'...') # see how the tables are indexed"
   ]
  },
  {
   "cell_type": "code",
   "execution_count": 5,
   "metadata": {},
   "outputs": [
    {
     "name": "stderr",
     "output_type": "stream",
     "text": [
      "100%|██████████| 10000/10000 [00:38<00:00, 260.23it/s]\n"
     ]
    }
   ],
   "source": [
    "eos = data[\"eos\"]\n",
    "names = list(data[\"eos\"].keys())\n",
    "for i in tqdm(range(len(names))):\n",
    "    name = names[i]\n",
    "    np.savetxt(\"LCEHL_EOS_posterior_samples/\"+name+\".csv\", np.array(eos[name]), \n",
    "               header = \"pressurec2,energy_densityc2,baryon_density\", \n",
    "               comments = \"\", \n",
    "              delimiter = \",\")"
   ]
  },
  {
   "cell_type": "code",
   "execution_count": 6,
   "metadata": {},
   "outputs": [],
   "source": [
    "# # plot posteriors on mass-radius relation and mass-Lambda relation\n",
    "# from tqdm import tqdm \n",
    "# for i in tqdm(range(num_eos)):\n",
    "    \n",
    "#     plt.figure(1) # mass-radius relation\n",
    "#     plt.plot(mrl['eos_{0}'.format(i)]['R'],mrl['eos_{0}'.format(i)]['M'],c='k',alpha=0.005)\n",
    "    \n",
    "#     plt.figure(2) # mass-tidal deformability relation\n",
    "#     plt.plot(mrl['eos_{0}'.format(i)]['M'],mrl['eos_{0}'.format(i)]['Lambda'],c='k',alpha=0.005)\n",
    "\n",
    "# plt.figure(1)\n",
    "# plt.xlim(6.,20.)\n",
    "# plt.ylim(0.,3.5)\n",
    "# plt.xlabel(r'$R$ [km]')\n",
    "# plt.ylabel(r'$M$ [$M_\\odot$]')\n",
    "\n",
    "# plt.figure(2)\n",
    "# plt.yscale('log')\n",
    "# plt.xlim(0.,3.5)\n",
    "# plt.xlabel(r'$M$ [$M_\\odot$]')\n",
    "# plt.ylabel(r'$\\Lambda$')\n",
    "\n",
    "# plt.show() "
   ]
  },
  {
   "cell_type": "code",
   "execution_count": 7,
   "metadata": {},
   "outputs": [],
   "source": [
    "# # extract posteriors on NS observables\n",
    "\n",
    "# mmaxs = []\n",
    "# r14s = []\n",
    "# r20s = []\n",
    "# L14s = []\n",
    "# L20s = []\n",
    "# rhoc14s = []\n",
    "# rhoc20s = []\n",
    "# rhocmaxs = []\n",
    "\n",
    "# for i in range(num_eos):\n",
    "    \n",
    "#     rhocs = mrl['eos_{0}'.format(i)]['rhoc'] # central baryon density\n",
    "#     ms = mrl['eos_{0}'.format(i)]['M'] # gravitational mass\n",
    "#     rs = mrl['eos_{0}'.format(i)]['R'] # stellar radius\n",
    "#     Ls = mrl['eos_{0}'.format(i)]['Lambda'] # tidal deformability\n",
    "    \n",
    "#     mmax = np.max(ms)\n",
    "#     rhocofm = interp1d(ms,rhocs,bounds_error=False,fill_value=0.) # rhoc(m)\n",
    "#     dmdrhoc = interp1d(rhocs,np.gradient(ms,rhocs),bounds_error=False,fill_value=-1e15) # dm(rhoc)/drhoc, for stability test\n",
    "#     rofm = interp1d(ms,rs,bounds_error=False,fill_value=0.) # R(m)\n",
    "#     Lofm = interp1d(ms,Ls,bounds_error=False,fill_value=0.) # Lambda(m)\n",
    "    \n",
    "#     mmaxs += [float(mmax)] # maximum mass\n",
    "#     if mmax >= 1.4 and float(dmdrhoc(rhocofm(1.4))) > 0.: r14s += [float(rofm(1.4))] # canonical radius if EOS supports stable 1.4 Msun NSs\n",
    "#     if mmax >= 2.0 and float(dmdrhoc(rhocofm(2.0))) > 0.: r20s += [float(rofm(2.0))] # 2-Msun radius if EOS supports stable 2.0 Msun NSs\n",
    "#     if mmax >= 1.4 and float(dmdrhoc(rhocofm(1.4))) > 0.: L14s += [float(Lofm(1.4))] # canonical tidal deformability if EOS supports stable 1.4 Msun NSs\n",
    "#     if mmax >= 2.0 and float(dmdrhoc(rhocofm(2.0))) > 0.: L20s += [float(Lofm(2.0))] # 2-Msun tidal deformability if EOS supports stable 2.0 Msun NSs\n",
    "#     if mmax >= 1.4 and float(dmdrhoc(rhocofm(1.4))) > 0.: rhoc14s += [float(rhocofm(1.4))] # canonical central density if EOS supports stable 1.4 Msun NSs\n",
    "#     if mmax >= 2.0 and float(dmdrhoc(rhocofm(2.0))) > 0.: rhoc20s += [float(rhocofm(2.0))] # 2-Msun central density if EOS supports stable 2.0 Msun NSs\n",
    "#     rhocmaxs += [float(rhocofm(mmax))] # central density of maximum-mass NS"
   ]
  },
  {
   "cell_type": "code",
   "execution_count": 8,
   "metadata": {
    "scrolled": false
   },
   "outputs": [],
   "source": [
    "# # plot posteriors on NS observables and print credible intervals\n",
    "\n",
    "# num_bins = int(np.sqrt(num_eos))\n",
    "\n",
    "# plt.figure(3) # maximum mass\n",
    "# plt.hist(mmaxs,bins=num_bins,density=True,facecolor='k',alpha=0.5) \n",
    "\n",
    "# plt.xlabel(r'$M_\\mathrm{max}$ [$M_\\odot$]')\n",
    "# plt.ylabel(r'probability density')\n",
    "# plt.title(r'$M_\\mathrm{{max}} = {0:.2f}^{{+{1:.2f}}}_{{-{2:.2f}}} \\; M_\\odot$'.format(np.median(mmaxs),np.quantile(mmaxs,0.95)-np.median(mmaxs),np.median(mmaxs)-np.quantile(mmaxs,0.05)))\n",
    "\n",
    "# plt.figure(4) # canonical radius\n",
    "# plt.hist(r14s,bins=num_bins,density=True,facecolor='k',alpha=0.5) \n",
    "\n",
    "# plt.xlabel(r'$R_{1.4}$ [km]')\n",
    "# plt.ylabel(r'probability density')\n",
    "# plt.title(r'$R_{{1.4}} = {0:.2f}^{{+{1:.2f}}}_{{-{2:.2f}}} \\; M_\\odot$'.format(np.median(r14s),np.quantile(r14s,0.95)-np.median(r14s),np.median(r14s)-np.quantile(r14s,0.05)))\n",
    "\n",
    "# plt.figure(5) # 2-Msun radius\n",
    "# plt.hist(r20s,bins=num_bins,density=True,facecolor='k',alpha=0.5) \n",
    "\n",
    "# plt.xlabel(r'$R_{2.0}$ [km]')\n",
    "# plt.ylabel(r'probability density')\n",
    "# plt.title(r'$R_{{2.0}} = {0:.2f}^{{+{1:.2f}}}_{{-{2:.2f}}} \\; M_\\odot$'.format(np.median(r20s),np.quantile(r20s,0.95)-np.median(r20s),np.median(r20s)-np.quantile(r20s,0.05)))\n",
    "\n",
    "# plt.figure(6) # canonical tidal deformability\n",
    "# plt.hist(L14s,bins=num_bins,density=True,facecolor='k',alpha=0.5) \n",
    "\n",
    "# plt.xlabel(r'$\\Lambda_{1.4}$')\n",
    "# plt.ylabel(r'probability density')\n",
    "# plt.title(r'$\\Lambda_{{1.4}} = {0:.1f}^{{+{1:.1f}}}_{{-{2:.1f}}} \\; M_\\odot$'.format(np.median(L14s),np.quantile(L14s,0.95)-np.median(L14s),np.median(L14s)-np.quantile(L14s,0.05)))\n",
    "\n",
    "# plt.figure(7) # 2-Msun tidal deformability\n",
    "# plt.hist(L20s,bins=num_bins,density=True,facecolor='k',alpha=0.5) \n",
    "\n",
    "# plt.xlabel(r'$\\Lambda_{2.0}$')\n",
    "# plt.ylabel(r'probability density')\n",
    "# plt.title(r'$\\Lambda_{{2.0}} = {0:.1f}^{{+{1:.1f}}}_{{-{2:.1f}}} \\; M_\\odot$'.format(np.median(L20s),np.quantile(L20s,0.95)-np.median(L20s),np.median(L20s)-np.quantile(L20s,0.05)))\n",
    "\n",
    "# plt.figure(8) # canonical central density\n",
    "# plt.hist(rhoc14s,bins=num_bins,density=True,facecolor='k',alpha=0.5) \n",
    "\n",
    "# plt.xlabel(r'$\\rho_{c,1.4}$ [km]')\n",
    "# plt.ylabel(r'probability density')\n",
    "# plt.title(r'$\\rho_{{c,1.4}} = {0:.1f}^{{+{1:.1f}}}_{{-{2:.1f}}} \\times 10^{{14}}$'.format(np.median(rhoc14s)/1e14,np.quantile(rhoc14s,0.95)/1e14-np.median(rhoc14s)/1e14,np.median(rhoc14s)/1e14-np.quantile(rhoc14s,0.05)/1e14))\n",
    "\n",
    "# plt.figure(9) # 2-Msun central density\n",
    "# plt.hist(rhoc20s,bins=num_bins,density=True,facecolor='k',alpha=0.5) \n",
    "\n",
    "# plt.xlabel(r'$\\rho_{c,2.0}$ [km]')\n",
    "# plt.ylabel(r'probability density')\n",
    "# plt.title(r'$\\rho_{{c,2.0}} = {0:.1f}^{{+{1:.1f}}}_{{-{2:.1f}}} \\times 10^{{14}}$'.format(np.median(rhoc20s)/1e14,np.quantile(rhoc20s,0.95)/1e14-np.median(rhoc20s)/1e14,np.median(rhoc20s)/1e14-np.quantile(rhoc20s,0.05)/1e14))\n",
    "\n",
    "# plt.figure(10) # maximum central density\n",
    "# plt.hist(rhocmaxs,bins=num_bins,density=True,facecolor='k',alpha=0.5) \n",
    "\n",
    "# plt.xlabel(r'$\\rho_{c,max}$ [km]')\n",
    "# plt.ylabel(r'probability density')\n",
    "# plt.title(r'$\\rho_{{c,max}} = {0:.1f}^{{+{1:.1f}}}_{{-{2:.1f}}} \\times 10^{{15}}$'.format(np.median(rhocmaxs)/1e15,np.quantile(rhocmaxs,0.95)/1e15-np.median(rhocmaxs)/1e15,np.median(rhocmaxs)/1e15-np.quantile(rhocmaxs,0.05)/1e15))\n",
    "\n",
    "# plt.show()"
   ]
  }
 ],
 "metadata": {
  "kernelspec": {
   "display_name": "Python 3",
   "language": "python",
   "name": "python3"
  },
  "language_info": {
   "codemirror_mode": {
    "name": "ipython",
    "version": 3
   },
   "file_extension": ".py",
   "mimetype": "text/x-python",
   "name": "python",
   "nbconvert_exporter": "python",
   "pygments_lexer": "ipython3",
   "version": "3.8.6"
  }
 },
 "nbformat": 4,
 "nbformat_minor": 5
}
