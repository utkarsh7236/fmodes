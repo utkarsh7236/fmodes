{
 "cells": [
  {
   "cell_type": "code",
   "execution_count": 1,
   "metadata": {},
   "outputs": [],
   "source": [
    "from scipy.integrate import ode\n",
    "from scipy.interpolate import interp1d\n",
    "import pandas as pd\n",
    "from astropy import units as u\n",
    "import numpy as np\n",
    "import matplotlib.pyplot as plt\n",
    "from tqdm import tqdm\n",
    "import time\n",
    "from scipy.optimize import minimize"
   ]
  },
  {
   "cell_type": "code",
   "execution_count": 2,
   "metadata": {},
   "outputs": [],
   "source": [
    "import matplotlib as mpl\n",
    "# mpl.rcParams['figure.dpi'] = 1000\n",
    "mpl.rcParams['legend.frameon'] = False\n",
    "mpl.rcParams['figure.autolayout'] = True \n",
    "# mpl.rcParams['axes.spines.right'] = False\n",
    "# mpl.rcParams['axes.spines.top'] = False\n",
    "\n",
    "\n",
    "# plt.rcParams.update({\n",
    "#     \"text.usetex\": True,\n",
    "#     \"font.family\": \"sans-serif\",\n",
    "#     \"font.sans-serif\": [\"Helvetica\"]})\n",
    "\n",
    "# plt.rcParams.update({\n",
    "#     \"text.usetex\": True,\n",
    "#     \"font.family\": \"serif\",\n",
    "#     \"font.serif\": [\"Palatino\"],\n",
    "# })\n",
    "\n",
    "def utkarshGrid():\n",
    "    plt.minorticks_on()\n",
    "    plt.grid(color='grey',\n",
    "             which='minor',\n",
    "             linestyle=\":\",\n",
    "             linewidth='0.1',\n",
    "             )\n",
    "    plt.grid(color='black',\n",
    "             which='major',\n",
    "             linestyle=\":\",\n",
    "             linewidth='0.1',\n",
    "             )"
   ]
  },
  {
   "cell_type": "code",
   "execution_count": 3,
   "metadata": {},
   "outputs": [],
   "source": [
    "G = 6.67259e-8 # dyne cm2 g-2\n",
    "c = 2.998e10 # cms-1\n",
    "n_den = 2.3e14\n",
    "# G = c = 1"
   ]
  },
  {
   "cell_type": "code",
   "execution_count": 4,
   "metadata": {},
   "outputs": [],
   "source": [
    "# Working in manual cgs units here. \n",
    "\n",
    "# DIMENSIONS CHECKED\n",
    "def _dMdr(r, e):\n",
    "    return 4 * np.pi * r**2 * (e/(c**2))\n",
    "\n",
    "# DIMENSIONS CHECKED\n",
    "def _dPhidr(r, P, M):\n",
    "    factor1 = G/(c**2) \n",
    "    num = (M+4*np.pi*(r**3)*P/(c**2))\n",
    "    dem = r * (r-2*G*M/(c**2))\n",
    "    return factor1*num/dem\n",
    "\n",
    "# DIMENSIONS CHECKED\n",
    "def _dPdr(r, P, M, e):\n",
    "    factor2 = -1 # factor goes in dphi/dr\n",
    "    term1 = (e+P) \n",
    "    dphidr = _dPhidr(r, P, M)\n",
    "    return factor2 * term1 * dphidr\n",
    "\n",
    "# DIMENSIONS CHECKED\n",
    "def _dWdr(r, V, W, phi, dphidr, dedp, omega, lamda, l):\n",
    "    term1 = (omega**2) * (r**2) * np.exp(lamda - 2*phi)*V * (1/(c**2))\n",
    "    term2 = dphidr * W\n",
    "    brackets = term1 + term2\n",
    "    ret = dedp * brackets - l*(l+1)*np.exp(lamda)*V\n",
    "    return ret\n",
    "\n",
    "# DIMENSIONS CHECKED\n",
    "def _dVdr(r, V, W, dphidr, lamda):\n",
    "    return 2*dphidr*V - np.exp(lamda)*(W/(r**2))\n",
    "\n",
    "def coupledTOV(r, VEC, init_params):\n",
    "    P, M, phi, W, V = VEC\n",
    "    f_e_smooth, l, omega, lamda = init_params\n",
    "    \n",
    "    e = f_e_smooth(P)\n",
    "    dedp = 1. # THIS IS INCORRECT\n",
    "    \n",
    "    dPdr = _dPdr(r, P, M, e)\n",
    "    dMdr = _dMdr(r, e)\n",
    "    dPhidr = _dPhidr(r, P, M)\n",
    "    dWdr = _dWdr(r, V, W, phi, dPhidr, dedp, omega, lamda, l)\n",
    "    dVdr = _dVdr(r, W, W, dPhidr, lamda)\n",
    "    ret = [dPdr, dMdr, dPhidr, dWdr, dVdr]\n",
    "    return ret"
   ]
  },
  {
   "cell_type": "code",
   "execution_count": 5,
   "metadata": {},
   "outputs": [],
   "source": [
    "def df_to_ep(df):\n",
    "    n_den = 2.3e14\n",
    "    e_den = df.energy_densityc2\n",
    "    e_den_normed = e_den#/n_den\n",
    "    p = df.pressurec2\n",
    "    e_den_normed = e_den_normed*(c**2)\n",
    "    pressure = p*(c**2)\n",
    "    return e_den_normed.to_numpy(), pressure.to_numpy()\n",
    "\n",
    "def get_ep(e, p):\n",
    "    f_e_smooth = interp1d(p, e, fill_value=\"extrapolate\")\n",
    "    return f_e_smooth"
   ]
  },
  {
   "cell_type": "code",
   "execution_count": 6,
   "metadata": {},
   "outputs": [],
   "source": [
    "def tov(ep, init_VEC, r_i, p_min, omega, lamda, progress = False, \n",
    "        l=2):\n",
    "    \n",
    "    init_params = [ep, l, omega, lamda]\n",
    "\n",
    "    r = ode(lambda r, VEC: coupledTOV(r, VEC, init_params)).set_integrator('LSODA')\n",
    "    r.set_initial_value(init_VEC, r_i)\n",
    "\n",
    "    results = []\n",
    "    r_list = []\n",
    "\n",
    "    i = 0\n",
    "    r_max = 20 * km2cm\n",
    "    # max_iter = 1000000 # Change back to this if \"Excess work done on this call\" error. \n",
    "    max_iter = 5000\n",
    "\n",
    "    dr_init = r_max/max_iter\n",
    "    dr_compute = 1000\n",
    "    \n",
    "    if progress:\n",
    "        pbar = tqdm(total=max_iter)\n",
    "\n",
    "    while r.successful() and (r.y[0] >= p_min):\n",
    "        i+=1\n",
    "\n",
    "        dr = min(dr_init, dr_compute)\n",
    "\n",
    "        integral = r.integrate(r.t+dr)\n",
    "        \n",
    "        results.append(integral)\n",
    "        r_list.append(r.t+dr_init)\n",
    "\n",
    "    #     dr_compute = r * dP /P \n",
    "\n",
    "        if progress:\n",
    "            pbar.update(1)\n",
    "        if i > max_iter:\n",
    "            print(\"[STATUS] max_iter reached\")\n",
    "            break\n",
    "    \n",
    "    if progress:\n",
    "        pbar.close()\n",
    "        \n",
    "#     print(r.successful() , (r.y[0] > p_min))\n",
    "    \n",
    "    results = np.array(results, dtype = float)\n",
    "    p, m, phi, w, v = results.T\n",
    "    r = np.array(r_list)\n",
    "    return p, m, r, phi, w, v"
   ]
  },
  {
   "cell_type": "code",
   "execution_count": 7,
   "metadata": {},
   "outputs": [
    {
     "name": "stderr",
     "output_type": "stream",
     "text": [
      " 50%|████▉     | 2487/5000 [00:03<00:04, 570.32it/s]/Library/Frameworks/Python.framework/Versions/3.8/lib/python3.8/site-packages/scipy/integrate/_ode.py:1350: UserWarning: lsoda: Excess work done on this call (perhaps wrong Dfun type).\n",
      "  warnings.warn('{:s}: {:s}'.format(self.__class__.__name__,\n",
      " 51%|█████     | 2526/5000 [00:04<00:04, 605.05it/s]\n"
     ]
    },
    {
     "name": "stdout",
     "output_type": "stream",
     "text": [
      "== First Integration == \n",
      "Star has mass 2.1 Msun and radius 10.1km\n",
      "Interior Surface: 0.6881\n",
      "Exterior Surface: 0.3871\n",
      "Phi0 Round 1: -1\n",
      "Boundary Term: -9.479088880882955\n"
     ]
    },
    {
     "name": "stderr",
     "output_type": "stream",
     "text": [
      " 51%|█████     | 2526/5000 [00:03<00:03, 662.97it/s]"
     ]
    },
    {
     "name": "stdout",
     "output_type": "stream",
     "text": [
      "== Repeated Integration == \n",
      "Star has mass 2.1 Msun and radius 10.1km\n",
      "Interior Surface: 0.3871\n",
      "Exterior Surface: 0.3871\n",
      "Phi0 Round 2: -1.2875879550918277\n",
      "Boundary Term: 226.86575168994182\n"
     ]
    },
    {
     "name": "stderr",
     "output_type": "stream",
     "text": [
      "\n"
     ]
    }
   ],
   "source": [
    "# Load EOS\n",
    "df = pd.read_csv(\"eos_data/sly230a.csv\")\n",
    "e, p = df_to_ep(df)\n",
    "EOS = get_ep(e, p)\n",
    "\n",
    "# Initial Conditions\n",
    "km2cm = 1e5\n",
    "r_i = 1e1 \n",
    "p0 = p[-7]\n",
    "e0 = EOS(p0)\n",
    "p_c = p0 - 2 * np.pi * (G/(c**4)) * r_i**2 * (p0 + e0) * (3*p0 + e0)/3\n",
    "e_c = e0\n",
    "m0 = e_c/(c**2) * 4/3 * np.pi * r_i**3\n",
    "\n",
    "phi0 = -1 #Arbitrary guess \n",
    "omega = 1e3 #Arbitrary guess\n",
    "\n",
    "C = 1 # Arbitrary constant\n",
    "l = 2\n",
    "W0 =  C   * r_i ** (l+1)\n",
    "V0 = -C/l * r_i ** (l)\n",
    "\n",
    "init_VEC = [p_c, m0, phi0, W0, V0]\n",
    "msun = 2e33\n",
    "p_min = min(p)\n",
    "\n",
    "M_guess = 1.5 * msun\n",
    "R_guess = 10 * km2cm\n",
    "lamda = 0.5*np.log((1-2*G*M_guess/(c**2*R_guess)))\n",
    "\n",
    "# Integrate\n",
    "p, m, r_arr, phi, w, v = tov(EOS, init_VEC, r_i, p_min, omega, lamda, \n",
    "                       progress = True, l = l)\n",
    "\n",
    "max_idx = np.argmax(m)\n",
    "m_R = m.max() # In units of msun\n",
    "r_R = r_arr[max_idx] # In units of km\n",
    "p_R = p[max_idx] #cgs\n",
    "ec_R = EOS(p_R) #cgs\n",
    "phi_R = phi[max_idx] #cgs\n",
    "v_R = v[max_idx]\n",
    "w_R = w[max_idx]\n",
    "\n",
    "schild = (1-2*G*m_R/(c**2*r_R))\n",
    "interior = np.exp(2*phi[-1])\n",
    "\n",
    "# Log base e\n",
    "phi_ext = 0.5 * np.log(schild) #At surface\n",
    "phi_int = phi[-1] #At surface\n",
    "\n",
    "\n",
    "# DIMENSIONED CHECKED\n",
    "def boundary_wv(r_R, p_R, m_R, omega, lamda, phi_int, v_R):\n",
    "    dPhidr_R = _dPhidr(r_R, p_R, m_R)\n",
    "    term1 = (1/(c**2))*(omega**2 * r_R**2)*np.exp(lamda-2*phi_int)*v_R\n",
    "    term2 = dPhidr_R * w_R\n",
    "    return term1 + term2\n",
    "\n",
    "\n",
    "print(\"== First Integration == \")\n",
    "print(f\"Star has mass {m_R/msun:.1f} Msun and radius {r_R/km2cm:.1f}km\")\n",
    "print(f\"Interior Surface: {interior:.4f}\")\n",
    "print(f\"Exterior Surface: {schild:.4f}\")\n",
    "print(f\"Phi0 Round 1: {phi0}\")\n",
    "print(f\"Boundary Term: {boundary_wv(r_R, p_R, m_R, omega, lamda, phi_int, v_R)}\")\n",
    "\n",
    "# Computer new phi0\n",
    "delta_phi = phi_int - phi_ext\n",
    "phi0 =  phi0 - delta_phi\n",
    "\n",
    "# Repeated Integration\n",
    "C = 1 # Arbitrary constant\n",
    "\n",
    "W0 =  C   * r_i ** (l+1)\n",
    "V0 = -C/l * r_i ** (l)\n",
    "\n",
    "init_VEC = [p_c, m0, phi0, W0, V0]\n",
    "msun = 2e33\n",
    "p_min = min(p)\n",
    "M_guess = m_R\n",
    "R_guess = r_R\n",
    "lamda = 0.5*np.log((1-2*G*M_guess/(c**2*R_guess)))\n",
    "time.sleep(0.2)\n",
    "\n",
    "# Integrate\n",
    "p, m, r_arr, phi, w, v = tov(EOS, init_VEC, r_i, p_min, omega, lamda, \n",
    "                       progress = True, l = l)\n",
    "\n",
    "max_idx = np.argmax(m)\n",
    "m_R = m.max() # In units of msun\n",
    "r_R = r_arr[max_idx] # In units of km\n",
    "p_R = p[max_idx] #cgs\n",
    "ec_R = EOS(p_R) #cgs\n",
    "phi_R = phi[max_idx] #cgs\n",
    "\n",
    "schild = (1-2*G*m_R/(c**2*r_R))\n",
    "interior = np.exp(2*phi[-1])\n",
    "\n",
    "print(\"== Repeated Integration == \")\n",
    "print(f\"Star has mass {m_R/msun:.1f} Msun and radius {r_R/km2cm:.1f}km\")\n",
    "print(f\"Interior Surface: {interior:.4f}\")\n",
    "print(f\"Exterior Surface: {schild:.4f}\")\n",
    "print(f\"Phi0 Round 2: {phi0}\")\n",
    "print(f\"Boundary Term: {boundary_wv(r_R, p_R, m_R, omega, lamda, phi_int, v_R)}\")"
   ]
  },
  {
   "cell_type": "markdown",
   "metadata": {},
   "source": [
    "Boundary term changes since $\\Phi_{int}(R)$ changes. "
   ]
  },
  {
   "cell_type": "code",
   "execution_count": 8,
   "metadata": {},
   "outputs": [
    {
     "data": {
      "image/png": "[encoded data removed]",
      "text/plain": [
       "<Figure size 432x288 with 1 Axes>"
      ]
     },
     "metadata": {
      "needs_background": "light"
     },
     "output_type": "display_data"
    },
    {
     "data": {
      "image/png": "[encoded data removed]",
      "text/plain": [
       "<Figure size 432x288 with 1 Axes>"
      ]
     },
     "metadata": {
      "needs_background": "light"
     },
     "output_type": "display_data"
    },
    {
     "data": {
      "image/png": "[encoded data removed]",
      "text/plain": [
       "<Figure size 432x288 with 1 Axes>"
      ]
     },
     "metadata": {
      "needs_background": "light"
     },
     "output_type": "display_data"
    },
    {
     "data": {
      "image/png": "[encoded data removed]",
      "text/plain": [
       "<Figure size 432x288 with 1 Axes>"
      ]
     },
     "metadata": {
      "needs_background": "light"
     },
     "output_type": "display_data"
    },
    {
     "data": {
      "image/png": "[encoded data removed]",
      "text/plain": [
       "<Figure size 432x288 with 1 Axes>"
      ]
     },
     "metadata": {
      "needs_background": "light"
     },
     "output_type": "display_data"
    }
   ],
   "source": [
    "r_arr = r_arr/km2cm\n",
    "\n",
    "plt.figure()\n",
    "plt.plot(r_arr, p/p_c)\n",
    "plt.xlabel(\"r\")\n",
    "plt.ylabel(\"P/Pc\")\n",
    "\n",
    "plt.figure()\n",
    "plt.plot(r_arr, m/msun)\n",
    "plt.xlabel(\"r \")\n",
    "plt.ylabel(\"M/Msun\")\n",
    "plt.show()\n",
    "\n",
    "plt.figure()\n",
    "plt.plot(r_arr, phi)\n",
    "plt.xlabel(\"r \")\n",
    "plt.ylabel(\"phi\")\n",
    "plt.show()\n",
    "\n",
    "plt.figure()\n",
    "plt.plot(r_arr, w)\n",
    "plt.xlabel(\"r \")\n",
    "plt.ylabel(\"w\")\n",
    "plt.show()\n",
    "\n",
    "plt.figure()\n",
    "plt.plot(r_arr, v)\n",
    "plt.xlabel(\"r \")\n",
    "plt.ylabel(\"v\")\n",
    "plt.show()"
   ]
  },
  {
   "cell_type": "code",
   "execution_count": null,
   "metadata": {},
   "outputs": [
    {
     "name": "stdout",
     "output_type": "stream",
     "text": [
      "[226.86616349]\n",
      "[103.83321255]\n",
      "[25.20134575]\n"
     ]
    }
   ],
   "source": [
    "def minimize_boundary(omega, p = p, EOS = EOS):\n",
    "    # Repeat integration\n",
    "    C = 1 # Arbitrary constant\n",
    "\n",
    "    W0 =  C   * r_i ** (l+1)\n",
    "    V0 = -C/l * r_i ** (l)\n",
    "\n",
    "    init_VEC = [p_c, m0, phi0, W0, V0]\n",
    "    msun = 2e33\n",
    "    p_min = min(p)\n",
    "    M_guess = m_R\n",
    "    R_guess = r_R\n",
    "    lamda = 0.5*np.log((1-2*G*M_guess/(c**2*R_guess)))\n",
    "    time.sleep(0.2)\n",
    "\n",
    "    # Integrate\n",
    "    p, m, r_arr, phi, w, v = tov(EOS, init_VEC, r_i, p_min, omega, lamda, \n",
    "                           progress = False, l = l)\n",
    "\n",
    "    loss = abs(boundary_wv(r_R, p_R, m_R, omega, lamda, phi_int, v_R))\n",
    "    print(loss)\n",
    "    return loss\n",
    "\n",
    "omega0 = 1e3\n",
    "res = minimize(minimize_boundary, x0 = 1e3, method = \"Nelder-Mead\", \n",
    "               options = {\"disp\": True}, tol = 1e-1, bounds = (0, 1e4))"
   ]
  },
  {
   "cell_type": "code",
   "execution_count": null,
   "metadata": {},
   "outputs": [],
   "source": [
    "# Final Integration\n",
    "omega = res.x[0]\n",
    "C = 1 # Arbitrary constant\n",
    "\n",
    "W0 =  C   * r_i ** (l+1)\n",
    "V0 = -C/l * r_i ** (l)\n",
    "\n",
    "init_VEC = [p_c, m0, phi0, W0, V0]\n",
    "msun = 2e33\n",
    "p_min = min(p)\n",
    "M_guess = m_R\n",
    "R_guess = r_R\n",
    "lamda = 0.5*np.log((1-2*G*M_guess/(c**2*R_guess)))\n",
    "time.sleep(0.2)\n",
    "\n",
    "# Integrate\n",
    "p, m, r_arr, phi, w, v = tov(EOS, init_VEC, r_i, p_min, omega, lamda, \n",
    "                       progress = True, l = l)\n",
    "\n",
    "max_idx = np.argmax(m)\n",
    "m_R = m.max() # In units of msun\n",
    "r_R = r_arr[max_idx] # In units of km\n",
    "p_R = p[max_idx] #cgs\n",
    "ec_R = EOS(p_R) #cgs\n",
    "phi_R = phi[max_idx] #cgs\n",
    "\n",
    "schild = (1-2*G*m_R/(c**2*r_R))\n",
    "interior = np.exp(2*phi[-1])\n",
    "\n",
    "print(\"== Final Integration == \")\n",
    "print(f\"Star has mass {m_R/msun:.1f} Msun and radius {r_R/km2cm:.1f}km\")\n",
    "print(f\"Interior Surface: {interior:.4f}\")\n",
    "print(f\"Exterior Surface: {schild:.4f}\")\n",
    "print(f\"Phi0 Round 2: {phi0}\")\n",
    "print(f\"Boundary Term: {boundary_wv(r_R, p_R, m_R, omega, lamda, phi_int, v_R)}\")"
   ]
  },
  {
   "cell_type": "code",
   "execution_count": null,
   "metadata": {},
   "outputs": [],
   "source": [
    "r_arr = r_arr/km2cm\n",
    "\n",
    "plt.figure()\n",
    "plt.plot(r_arr, p/p_c)\n",
    "plt.xlabel(\"r\")\n",
    "plt.ylabel(\"P/Pc\")\n",
    "\n",
    "plt.figure()\n",
    "plt.plot(r_arr, m/msun)\n",
    "plt.xlabel(\"r \")\n",
    "plt.ylabel(\"M/Msun\")\n",
    "plt.show()\n",
    "\n",
    "plt.figure()\n",
    "plt.plot(r_arr, phi)\n",
    "plt.xlabel(\"r \")\n",
    "plt.ylabel(\"phi\")\n",
    "plt.show()\n",
    "\n",
    "plt.figure()\n",
    "plt.plot(r_arr, w)\n",
    "plt.xlabel(\"r \")\n",
    "plt.ylabel(\"w\")\n",
    "plt.show()\n",
    "\n",
    "plt.figure()\n",
    "plt.plot(r_arr, v)\n",
    "plt.xlabel(\"r \")\n",
    "plt.ylabel(\"v\")\n",
    "plt.show()"
   ]
  },
  {
   "cell_type": "code",
   "execution_count": null,
   "metadata": {},
   "outputs": [],
   "source": []
  }
 ],
 "metadata": {
  "kernelspec": {
   "display_name": "Python 3",
   "language": "python",
   "name": "python3"
  },
  "language_info": {
   "codemirror_mode": {
    "name": "ipython",
    "version": 3
   },
   "file_extension": ".py",
   "mimetype": "text/x-python",
   "name": "python",
   "nbconvert_exporter": "python",
   "pygments_lexer": "ipython3",
   "version": "3.8.6"
  }
 },
 "nbformat": 4,
 "nbformat_minor": 4
}
