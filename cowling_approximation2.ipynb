{
 "cells": [
  {
   "cell_type": "code",
   "execution_count": 1,
   "metadata": {},
   "outputs": [],
   "source": [
    "from scipy.integrate import ode\n",
    "from scipy.interpolate import interp1d\n",
    "import pandas as pd\n",
    "from astropy import units as u\n",
    "import numpy as np\n",
    "import matplotlib.pyplot as plt\n",
    "from tqdm import tqdm\n",
    "import time\n",
    "from scipy.optimize import minimize, approx_fprime"
   ]
  },
  {
   "cell_type": "code",
   "execution_count": 2,
   "metadata": {},
   "outputs": [],
   "source": [
    "import matplotlib as mpl\n",
    "# mpl.rcParams['figure.dpi'] = 1000\n",
    "mpl.rcParams['legend.frameon'] = False\n",
    "mpl.rcParams['figure.autolayout'] = True \n",
    "# mpl.rcParams['axes.spines.right'] = False\n",
    "# mpl.rcParams['axes.spines.top'] = False\n",
    "\n",
    "\n",
    "# plt.rcParams.update({\n",
    "#     \"text.usetex\": True,\n",
    "#     \"font.family\": \"sans-serif\",\n",
    "#     \"font.sans-serif\": [\"Helvetica\"]})\n",
    "\n",
    "# plt.rcParams.update({\n",
    "#     \"text.usetex\": True,\n",
    "#     \"font.family\": \"serif\",\n",
    "#     \"font.serif\": [\"Palatino\"],\n",
    "# })\n",
    "\n",
    "def utkarshGrid():\n",
    "    plt.minorticks_on()\n",
    "    plt.grid(color='grey',\n",
    "             which='minor',\n",
    "             linestyle=\":\",\n",
    "             linewidth='0.1',\n",
    "             )\n",
    "    plt.grid(color='black',\n",
    "             which='major',\n",
    "             linestyle=\":\",\n",
    "             linewidth='0.1',\n",
    "             )"
   ]
  },
  {
   "cell_type": "code",
   "execution_count": 3,
   "metadata": {},
   "outputs": [],
   "source": [
    "G = 6.67259e-8 # dyne cm2 g-2\n",
    "c = 2.998e10 # cms-1\n",
    "n_den = 2.3e14\n",
    "km2cm = 1e5\n",
    "msun = 1.989e33\n",
    "# G = c = 1\n",
    "\n",
    "# DIMENSIONS CHECKED\n",
    "def lamba_metric(M, R):\n",
    "    # Removed factor of 2 since the paper didnt implement it. \n",
    "    return -np.log((1-2*G*M/(c**2*R)))\n",
    "\n",
    "def df_to_ep(df):\n",
    "    e_den = df.energy_densityc2\n",
    "    e_den_normed = e_den#/n_den\n",
    "    p = df.pressurec2\n",
    "    e_den_normed = e_den_normed*((2.998e10)**2)\n",
    "    pressure = p*((2.998e10)**2)\n",
    "    return e_den_normed.to_numpy(), pressure.to_numpy()\n",
    "\n",
    "def get_ep(e, p):\n",
    "    f_e_smooth = interp1d(p, e, fill_value=(0, 0), bounds_error=False)\n",
    "    return f_e_smooth"
   ]
  },
  {
   "cell_type": "code",
   "execution_count": 4,
   "metadata": {},
   "outputs": [],
   "source": [
    "# Working in manual cgs units here. \n",
    "\n",
    "# DIMENSIONS CHECKED\n",
    "def _dMdr(r, e):\n",
    "    return 4 * np.pi * r**2 * (e/(c**2))\n",
    "\n",
    "# DIMENSIONS CHECKED\n",
    "def _b(r, M):\n",
    "    return (2*G*M)/((c**2)*r)\n",
    "\n",
    "# DIMENSIONS CHECKED\n",
    "def _dvdr(r, Q, lamda):\n",
    "    return (2/r) * np.exp(lamda) * Q\n",
    "\n",
    "# DIMENSIONS CHECKED\n",
    "def _Q(r, P, M):\n",
    "    frac = (4 * np.pi * G * (r**2)*P)/(c**4)\n",
    "    return _b(r, M) + frac\n",
    "\n",
    "# DIMENSIONS CHECKED\n",
    "def _dPdr(r, P, M, e):    \n",
    "    # dphidr (From other cowling: arXiv1012.4042)\n",
    "    num = (M+4*np.pi*(r**3)*P/(c**2))\n",
    "    dem = r * (r-2*G*M/(c**2))\n",
    "    return -1 * (e+P) * G/(c**2) * num/dem"
   ]
  },
  {
   "cell_type": "code",
   "execution_count": 5,
   "metadata": {},
   "outputs": [],
   "source": [
    "# Working in manual cgs units here. \n",
    "\n",
    "# DIMENSIONS CHECKED\n",
    "def _dWdlnr(r, W, U, Q, lamda, l, omega, v, c_ad2):\n",
    "    term1 = -1*(l+1)*(W-l*np.exp(v+lamda/2)*U)\n",
    "    frac1 = (np.exp(lamda/2) * (omega*r)**2)/(c_ad2)\n",
    "    frac2 = (np.exp(lamda/2)*Q*W*(c**2))/((omega*r)**2)\n",
    "    term2 = frac1 * (U - frac2)\n",
    "#     print(np.exp(lamda/2), Q, W, r)\n",
    "#     print(term1 - term2)\n",
    "    return term1 - term2\n",
    "\n",
    "# DIMENSIONS CHECKED\n",
    "def _dUdlnr(r, W, U, lamda, l, v):\n",
    "    return np.exp(lamda/2 - v) * (W - l*(np.exp(v-lamda/2))*U)"
   ]
  },
  {
   "cell_type": "code",
   "execution_count": 6,
   "metadata": {},
   "outputs": [],
   "source": [
    "def coupledTOV(r, VEC, init_params):\n",
    "    P, M, v, W, U = VEC\n",
    "    EOS, l, omega = init_params\n",
    "    lamda = lamba_metric(M, r)\n",
    "    Q = _Q(r, P, M)\n",
    "    \n",
    "    e = EOS(P)\n",
    "    eps = 1e10\n",
    "    p_eval = np.linspace(P/eps, P*eps, 10)\n",
    "    e_eval = EOS(p_eval)\n",
    "    dedp = np.mean(np.gradient(e_eval, p_eval, edge_order=2))\n",
    "    drhodp = dedp / (c**2)\n",
    "    c_ad2 = 1/drhodp # has units of (m/s)^2\n",
    "    \n",
    "    dPdr = _dPdr(r, P, M, e)\n",
    "    dMdr = _dMdr(r, e)\n",
    "    dvdr = _dvdr(r, Q, lamda)\n",
    "    \n",
    "\n",
    "    \n",
    "    # Not sure if taking the log is the correct way to go about it. \n",
    "    dWdlnr = _dWdlnr(r, W, U, Q, lamda, l, omega, v, c_ad2)\n",
    "    dUdlnr = _dUdlnr(r, W, U, lamda, l, v)\n",
    "    \n",
    "    dWdr = dWdlnr * 1/r\n",
    "    dUdr = dUdlnr * 1/r\n",
    "    \n",
    "    ret = [dPdr, dMdr, dvdr, dWdr, dUdr]\n",
    "    return ret"
   ]
  },
  {
   "cell_type": "code",
   "execution_count": 7,
   "metadata": {},
   "outputs": [],
   "source": [
    "def tov(ep, init_VEC, r_i, p_min, omega, progress = False, \n",
    "        l=2, n_iter_max = 5000):\n",
    "    \n",
    "    init_params = [ep, l, omega]\n",
    "\n",
    "    r = ode(lambda r, VEC: coupledTOV(r, VEC, init_params)).set_integrator('LSODA')\n",
    "#     r = ode(lambda r, VEC: coupledTOV(r, VEC, init_params)).set_integrator('VODE')\n",
    "    r.set_initial_value(init_VEC, r_i)\n",
    "\n",
    "    results = []\n",
    "    r_list = []\n",
    "\n",
    "    i = 0\n",
    "    r_max = 20 * km2cm\n",
    "    max_iter = n_iter_max\n",
    "\n",
    "    dr_init = r_max/max_iter\n",
    "    dr_compute = 1000\n",
    "    \n",
    "    if progress:\n",
    "        pbar = tqdm(total=max_iter)\n",
    "\n",
    "    while r.successful() and (r.y[0] >= p_min):\n",
    "        i+=1\n",
    "\n",
    "        dr = min(dr_init, dr_compute)\n",
    "\n",
    "        integral = r.integrate(r.t+dr)\n",
    "\n",
    "        if progress:\n",
    "            pbar.update(1)\n",
    "        if i > max_iter:\n",
    "            print(\"[STATUS] max_iter reached\")\n",
    "            break\n",
    "            \n",
    "        if (r.y[0] < p_min):\n",
    "            break\n",
    "        \n",
    "        results.append(integral)\n",
    "        r_list.append(r.t+dr_init)\n",
    "        \n",
    "    if progress:\n",
    "        pbar.close()\n",
    "        \n",
    "    print(r.successful() , (r.y[0] > p_min))\n",
    "    print(r.y[0], p_min)\n",
    "    \n",
    "    \n",
    "    results = np.array(results, dtype = float)\n",
    "    p, m, v, w, u = results.T\n",
    "    r = np.array(r_list)\n",
    "    return p, m, r, v, w, u"
   ]
  },
  {
   "cell_type": "code",
   "execution_count": 8,
   "metadata": {},
   "outputs": [
    {
     "name": "stderr",
     "output_type": "stream",
     "text": [
      " 56%|█████▋    | 1129/2000 [00:00<00:00, 11225.11it/s]/Library/Frameworks/Python.framework/Versions/3.8/lib/python3.8/site-packages/scipy/integrate/_ode.py:1350: UserWarning: lsoda: Excess work done on this call (perhaps wrong Dfun type).\n",
      "  warnings.warn('{:s}: {:s}'.format(self.__class__.__name__,\n",
      " 58%|█████▊    | 1156/2000 [00:00<00:00, 1919.86it/s] "
     ]
    },
    {
     "name": "stdout",
     "output_type": "stream",
     "text": [
      "False True\n",
      "6.838476792085879e+16 813584242765.5165\n"
     ]
    },
    {
     "name": "stderr",
     "output_type": "stream",
     "text": [
      "\n"
     ]
    }
   ],
   "source": [
    "# Load EOS\n",
    "df = pd.read_csv(\"eos_data/nl3cr.csv\")\n",
    "e, p = df_to_ep(df)\n",
    "EOS = get_ep(e, p)\n",
    "\n",
    "# Initial Conditions\n",
    "km2cm = 1e5\n",
    "r_i = 1\n",
    "p0 = p[-10]\n",
    "e0 = EOS(p0)\n",
    "p_c = p0 - 2 * np.pi * (G/(c**4)) * r_i**2 * (p0 + e0) * (3*p0 + e0)/3\n",
    "e_c = e0\n",
    "m0 = e_c/(c**2) * 4/3 * np.pi * r_i**3\n",
    "\n",
    "\n",
    "omega = 1e3*(2*np.pi) #Arbitrary guess\n",
    "l=2\n",
    "\n",
    "v0 = 1 # Two step integration optimization: similar to phi previously.\n",
    "\n",
    "U0 = 1 # Minimize this using f-mode optimizer? \n",
    "W0 = l * np.exp(v0) * U0\n",
    "\n",
    "\n",
    "init_VEC = [p_c, m0, v0, W0, U0]\n",
    "p_min = min(p) \n",
    "\n",
    "# Integrate\n",
    "p, m, r_arr, v, w, u = tov(EOS, init_VEC, r_i, p_min, \n",
    "                             omega,progress = True, \n",
    "                             l = l, n_iter_max = 2000)"
   ]
  },
  {
   "cell_type": "code",
   "execution_count": 9,
   "metadata": {
    "scrolled": false
   },
   "outputs": [
    {
     "data": {
      "image/png": "[encoded data removed]",
      "text/plain": [
       "<Figure size 432x288 with 1 Axes>"
      ]
     },
     "metadata": {
      "needs_background": "light"
     },
     "output_type": "display_data"
    },
    {
     "data": {
      "image/png": "[encoded data removed]",
      "text/plain": [
       "<Figure size 432x288 with 1 Axes>"
      ]
     },
     "metadata": {
      "needs_background": "light"
     },
     "output_type": "display_data"
    },
    {
     "data": {
      "image/png": "[encoded data removed]",
      "text/plain": [
       "<Figure size 432x288 with 1 Axes>"
      ]
     },
     "metadata": {
      "needs_background": "light"
     },
     "output_type": "display_data"
    },
    {
     "data": {
      "image/png": "[encoded data removed]",
      "text/plain": [
       "<Figure size 432x288 with 1 Axes>"
      ]
     },
     "metadata": {
      "needs_background": "light"
     },
     "output_type": "display_data"
    },
    {
     "data": {
      "image/png": "[encoded data removed]",
      "text/plain": [
       "<Figure size 432x288 with 1 Axes>"
      ]
     },
     "metadata": {
      "needs_background": "light"
     },
     "output_type": "display_data"
    }
   ],
   "source": [
    "r_arr = r_arr/km2cm\n",
    "\n",
    "plt.figure()\n",
    "plt.plot(r_arr, p/p_c)\n",
    "plt.xlabel(\"r\")\n",
    "plt.ylabel(\"P/Pc\")\n",
    "\n",
    "plt.figure()\n",
    "plt.plot(r_arr, m/msun)\n",
    "plt.xlabel(\"r \")\n",
    "plt.ylabel(\"M/Msun\")\n",
    "plt.show()\n",
    "\n",
    "plt.figure()\n",
    "plt.plot(r_arr, v)\n",
    "plt.xlabel(\"r \")\n",
    "plt.ylabel(\"v\")\n",
    "plt.show()\n",
    "\n",
    "plt.figure()\n",
    "plt.plot(r_arr, w)\n",
    "plt.xlabel(\"r \")\n",
    "plt.ylabel(\"w\")\n",
    "plt.show()\n",
    "\n",
    "plt.figure()\n",
    "plt.plot(r_arr, u)\n",
    "plt.xlabel(\"r \")\n",
    "plt.ylabel(\"u\")\n",
    "plt.show()"
   ]
  },
  {
   "cell_type": "code",
   "execution_count": null,
   "metadata": {},
   "outputs": [],
   "source": []
  }
 ],
 "metadata": {
  "kernelspec": {
   "display_name": "Python 3",
   "language": "python",
   "name": "python3"
  },
  "language_info": {
   "codemirror_mode": {
    "name": "ipython",
    "version": 3
   },
   "file_extension": ".py",
   "mimetype": "text/x-python",
   "name": "python",
   "nbconvert_exporter": "python",
   "pygments_lexer": "ipython3",
   "version": "3.8.6"
  }
 },
 "nbformat": 4,
 "nbformat_minor": 4
}
