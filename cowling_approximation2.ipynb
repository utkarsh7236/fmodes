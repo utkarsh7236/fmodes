{
 "cells": [
  {
   "cell_type": "code",
   "execution_count": 1,
   "metadata": {},
   "outputs": [],
   "source": [
    "from scipy.integrate import ode\n",
    "from scipy.interpolate import interp1d\n",
    "import pandas as pd\n",
    "from astropy import units as u\n",
    "import numpy as np\n",
    "import matplotlib.pyplot as plt\n",
    "from tqdm import tqdm\n",
    "import time\n",
    "from scipy.optimize import minimize, approx_fprime"
   ]
  },
  {
   "cell_type": "code",
   "execution_count": 2,
   "metadata": {},
   "outputs": [],
   "source": [
    "import matplotlib as mpl\n",
    "# mpl.rcParams['figure.dpi'] = 1000\n",
    "mpl.rcParams['legend.frameon'] = False\n",
    "mpl.rcParams['figure.autolayout'] = True \n",
    "# mpl.rcParams['axes.spines.right'] = False\n",
    "# mpl.rcParams['axes.spines.top'] = False\n",
    "\n",
    "\n",
    "# plt.rcParams.update({\n",
    "#     \"text.usetex\": True,\n",
    "#     \"font.family\": \"sans-serif\",\n",
    "#     \"font.sans-serif\": [\"Helvetica\"]})\n",
    "\n",
    "# plt.rcParams.update({\n",
    "#     \"text.usetex\": True,\n",
    "#     \"font.family\": \"serif\",\n",
    "#     \"font.serif\": [\"Palatino\"],\n",
    "# })\n",
    "\n",
    "def utkarshGrid():\n",
    "    plt.minorticks_on()\n",
    "    plt.grid(color='grey',\n",
    "             which='minor',\n",
    "             linestyle=\":\",\n",
    "             linewidth='0.1',\n",
    "             )\n",
    "    plt.grid(color='black',\n",
    "             which='major',\n",
    "             linestyle=\":\",\n",
    "             linewidth='0.1',\n",
    "             )"
   ]
  },
  {
   "cell_type": "code",
   "execution_count": 3,
   "metadata": {},
   "outputs": [],
   "source": [
    "G = 6.67259e-8 # dyne cm2 g-2\n",
    "c = 2.998e10 # cms-1\n",
    "n_den = 2.3e14\n",
    "km2cm = 1e5\n",
    "msun = 1.989e33\n",
    "# G = c = 1\n",
    "\n",
    "# DIMENSIONS CHECKED\n",
    "def lamba_metric(M, R):\n",
    "    # Removed factor of 2 since the paper didnt implement it. \n",
    "    return -np.log((1-2*G*M/(c**2*R)))\n",
    "\n",
    "def df_to_ep(df):\n",
    "    e_den = df.energy_densityc2\n",
    "    e_den_normed = e_den#/n_den\n",
    "    p = df.pressurec2\n",
    "    e_den_normed = e_den_normed*((2.998e10)**2)\n",
    "    pressure = p*((2.998e10)**2)\n",
    "    return e_den_normed.to_numpy(), pressure.to_numpy()\n",
    "\n",
    "def get_ep(e, p):\n",
    "    f_e_smooth = interp1d(p, e, fill_value=(0, 0), \n",
    "                          kind = \"linear\", bounds_error=False)\n",
    "    return f_e_smooth"
   ]
  },
  {
   "cell_type": "code",
   "execution_count": 4,
   "metadata": {},
   "outputs": [],
   "source": [
    "# Working in manual cgs units here. \n",
    "\n",
    "# DIMENSIONS CHECKED\n",
    "def _dMdr(r, e):\n",
    "    return 4 * np.pi * r**2 * (e/(c**2))\n",
    "\n",
    "# DIMENSIONS CHECKED\n",
    "def _b(r, M):\n",
    "    return (2*G*M)/((c**2)*r)\n",
    "\n",
    "# DIMENSIONS CHECKED\n",
    "def _dvdr(r, Q, lamda):\n",
    "    return (2/r) * np.exp(lamda) * Q\n",
    "\n",
    "# DIMENSIONS CHECKED\n",
    "def _Q(r, P, M):\n",
    "    frac = (4 * np.pi * G * (r**2)*P)/(c**4)\n",
    "    return _b(r, M) + frac\n",
    "\n",
    "# DIMENSIONS CHECKED\n",
    "def _dPdr(r, P, M, e):    \n",
    "    # dphidr (From other cowling: arXiv1012.4042)\n",
    "    num = (M+4*np.pi*(r**3)*P/(c**2))\n",
    "    dem = r * (r-2*G*M/(c**2))\n",
    "    return -1 * (e+P) * G/(c**2) * num/dem"
   ]
  },
  {
   "cell_type": "code",
   "execution_count": 5,
   "metadata": {},
   "outputs": [],
   "source": [
    "# Working in manual cgs units here. \n",
    "\n",
    "# DIMENSIONS CHECKED\n",
    "def _dWdlnr(r, W, U, Q, lamda, l, omega, v, c_ad2):\n",
    "    term1 = -1*(l+1)*(W-l*np.exp(v+lamda/2)*U)\n",
    "    frac1 = -1 * (np.exp(lamda/2) * (omega*r)**2)/(c_ad2)\n",
    "    \n",
    "    # DO I NEED TO INCLUDE THE C^2 TERM? \n",
    "    frac2 = (np.exp(lamda/2)*Q*W*(c**2))/((omega*r)**2)\n",
    "#     frac2 = (np.exp(lamda/2)*Q*W)/((omega*r)**2)\n",
    "    term2 = frac1 * (U - frac2)\n",
    "    return term1 + term2\n",
    "\n",
    "# DIMENSIONS CHECKED\n",
    "def _dUdlnr(r, W, U, lamda, l, v):\n",
    "    return np.exp(lamda/2 - v) * (W - l*(np.exp(v-lamda/2))*U)"
   ]
  },
  {
   "cell_type": "code",
   "execution_count": 6,
   "metadata": {},
   "outputs": [],
   "source": [
    "def coupledTOV(r, VEC, init_params):\n",
    "    P, M, v, W, U = VEC\n",
    "    EOS, l, omega, dedp_EQ = init_params\n",
    "    \n",
    "\n",
    "    lamda = lamba_metric(M, r)\n",
    "    Q = _Q(r, P, M)\n",
    "    e = EOS(P)\n",
    "    \n",
    " # ++++ DIFFERENT METHODS FOR DEDP ++++   \n",
    "    \n",
    "#     dedp = dedp_EQ(P)\n",
    "    \n",
    "#     dedp = derivative(EOS, P, dx = r/100, n = 1)\n",
    "    \n",
    "    eps = 1e5\n",
    "    p_eval = np.linspace(P/eps, P*eps, 10)\n",
    "    e_eval = EOS(p_eval)\n",
    "    dedp = np.mean(np.gradient(e_eval, p_eval, edge_order=2))\n",
    "    \n",
    "#     eps = 1e5\n",
    "#     p_eval = np.linspace(P/eps, P*eps, 10)\n",
    "#     e_eval = EOS(p_eval)\n",
    "#     dedp = approx_fprime(np.mean(p_eval), EOS, epsilon = eps)    \n",
    "\n",
    "\n",
    "#  +++++++++++++++++++++++++++++++++++++\n",
    "    \n",
    "    drhodp = dedp / (c**2)\n",
    "    c_ad2 = 1/drhodp # has units of (m/s)^2\n",
    "    \n",
    "    dPdr = _dPdr(r, P, M, e)\n",
    "    dMdr = _dMdr(r, e)\n",
    "    dvdr = _dvdr(r, Q, lamda)\n",
    "    \n",
    "\n",
    "    \n",
    "    # Not sure if taking the log is the correct way to go about it. \n",
    "    dWdlnr = _dWdlnr(r, W, U, Q, lamda, l, omega, v, c_ad2)\n",
    "    dUdlnr = _dUdlnr(r, W, U, lamda, l, v)\n",
    "    \n",
    "    dWdr = dWdlnr * 1/r\n",
    "    dUdr = dUdlnr * 1/r\n",
    "    \n",
    "    ret = [dPdr, dMdr, dvdr, dWdr, dUdr]\n",
    "    return ret"
   ]
  },
  {
   "cell_type": "code",
   "execution_count": 7,
   "metadata": {
    "scrolled": false
   },
   "outputs": [
    {
     "name": "stderr",
     "output_type": "stream",
     "text": [
      "100%|██████████| 1349/1349 [00:00<00:00, 3433.34it/s]\n"
     ]
    },
    {
     "data": {
      "image/png": "[encoded data removed]",
      "text/plain": [
       "<Figure size 432x288 with 1 Axes>"
      ]
     },
     "metadata": {
      "needs_background": "light"
     },
     "output_type": "display_data"
    },
    {
     "data": {
      "image/png": "[encoded data removed]",
      "text/plain": [
       "<Figure size 432x288 with 1 Axes>"
      ]
     },
     "metadata": {
      "needs_background": "light"
     },
     "output_type": "display_data"
    }
   ],
   "source": [
    "df = pd.read_csv(\"eos_data/nl3cr.csv\")\n",
    "e, p = df_to_ep(df)\n",
    "EOS = get_ep(e, p)\n",
    "plt.scatter(p, e, s = 1, label = \"EOS\")\n",
    "\n",
    "K = 2.1e-9\n",
    "\n",
    "def f(p, gamma = 3/2, K = K):\n",
    "    return K*(c**2)*p**(1/gamma)\n",
    "\n",
    "def polytrope(P, gamma = 3/2, K = K):\n",
    "    return K*(c**2) * (1/gamma) * P ** ((1/gamma) - 1)\n",
    "\n",
    "plt.scatter(p, f(p), s = 1, label = \"polytrope\")\n",
    "plt.legend()\n",
    "# plt.axvline(x=min(p))\n",
    "plt.figure()\n",
    "dedp = np.zeros(len(p))\n",
    "dedp2 = np.zeros(len(p))\n",
    "dedp3 = np.zeros(len(p))\n",
    "\n",
    "def dedp_arr(p, EOS):\n",
    "    x = np.logspace(np.ceil(np.log10(min(p))), \n",
    "                    np.ceil(np.log10(max(p))), \n",
    "                    10000, endpoint = True)\n",
    "#     x = np.linspace(min(p), max(p), int(1e7))\n",
    "    y = EOS(x)\n",
    "    dydx = np.diff(y)/np.diff(x)\n",
    "    return x, dydx\n",
    "\n",
    "def get_dedp(dedp, p):\n",
    "    dedp_EQ = interp1d(p[:-1], dedp, fill_value=\"extrapolate\")\n",
    "    return dedp_EQ\n",
    "\n",
    "from scipy.misc import derivative\n",
    "\n",
    "for i in tqdm(range(len(p))):\n",
    "    \n",
    "    # THIS CHOICE WAS NON-TRIVIAL: SCALE WITH ORDERS OF MAGNITUDE\n",
    "    P = p[i]\n",
    "#     log_eps = 1\n",
    "#     order_P = np.floor(np.log10(P))\n",
    "#     min_ind = max(np.log10(min(p)), order_P - log_eps)\n",
    "#     max_ind = min(np.log10(max(p)), order_P + log_eps)\n",
    "#     p_eval = np.logspace(min_ind, max_ind, 100)\n",
    "#     e_eval = EOS(p_eval)\n",
    "    eps = 1e5\n",
    "    p_eval = np.linspace(P/eps, P*eps, 10)\n",
    "    e_eval = EOS(p_eval)\n",
    "    dedp[i] = np.mean(np.gradient(e_eval, p_eval, edge_order=2))\n",
    "    dedp2[i] = approx_fprime(np.mean(p_eval), EOS, epsilon = eps)\n",
    "#     dedp3[i] = derivative(EOS, P, dx = 1e16, n = 1)\n",
    "\n",
    "# TRY ANALYTIC GRADIENT TO SEE IF FMODES EVEN WORK. \n",
    "    \n",
    "plt.plot(p, dedp, linewidth = 3)\n",
    "plt.plot(p, dedp2)\n",
    "# x, dydx = dedp_arr(p, EOS)\n",
    "# dedp_EQ = get_dedp(dydx, x)\n",
    "# plt.plot(p, dedp_EQ(p))\n",
    "# plt.plot(p, polytrope(p))\n",
    "# plt.plot(p, 1/dedp3)\n",
    "# plt.xlim(0, 1e36)\n",
    "# plt.ylim(0, 10)\n",
    "plt.ylabel(\"1/cs^2 (units of 1/c^2)\")\n",
    "plt.show()"
   ]
  },
  {
   "cell_type": "code",
   "execution_count": 8,
   "metadata": {},
   "outputs": [],
   "source": [
    "def tov(ep, init_VEC, r_i, p_min, omega, dedp_EQ, progress = False, \n",
    "        l=2, n_iter_max = 2000):\n",
    "    \n",
    "    init_params = [ep, l, omega, dedp_EQ]\n",
    "\n",
    "#     r = ode(lambda r, VEC: coupledTOV(r, VEC, init_params)).set_integrator('LSODA')\n",
    "    r = ode(lambda r, VEC: coupledTOV(r, VEC, init_params)).set_integrator('VODE')\n",
    "    r.set_initial_value(init_VEC, r_i)\n",
    "\n",
    "    results = []\n",
    "    r_list = []\n",
    "\n",
    "    i = 0\n",
    "    r_max = 20 * km2cm\n",
    "    max_iter = n_iter_max\n",
    "\n",
    "    dr_init = r_max/max_iter\n",
    "    dr_compute = 1000\n",
    "    \n",
    "    if progress:\n",
    "        pbar = tqdm(total=max_iter)\n",
    "\n",
    "    while r.successful() and (r.y[0] >= p_min):\n",
    "        i+=1\n",
    "\n",
    "        dr = min(dr_init, dr_compute)\n",
    "\n",
    "        integral = r.integrate(r.t+dr)\n",
    "\n",
    "        if progress:\n",
    "            pbar.update(1)\n",
    "        if i > max_iter:\n",
    "            print(\"[STATUS] max_iter reached\")\n",
    "            break\n",
    "            \n",
    "        if (r.y[0] < p_min):\n",
    "            break\n",
    "        \n",
    "        results.append(integral)\n",
    "        r_list.append(r.t+dr_init)\n",
    "        \n",
    "    if progress:\n",
    "        pbar.close()\n",
    "    \n",
    "    \n",
    "    results = np.array(results, dtype = float)\n",
    "    p, m, v, w, u = results.T\n",
    "    r = np.array(r_list)\n",
    "    return p, m, r, v, w, u"
   ]
  },
  {
   "cell_type": "code",
   "execution_count": 9,
   "metadata": {},
   "outputs": [
    {
     "name": "stderr",
     "output_type": "stream",
     "text": [
      " 57%|█████▋    | 1136/2000 [00:00<00:00, 11273.30it/s]/Library/Frameworks/Python.framework/Versions/3.8/lib/python3.8/site-packages/scipy/integrate/_ode.py:1011: UserWarning: vode: Excess work done on this call. (Perhaps wrong MF.)\n",
      "  warnings.warn('{:s}: {:s}'.format(self.__class__.__name__,\n",
      " 58%|█████▊    | 1155/2000 [00:00<00:00, 2620.21it/s] \n"
     ]
    },
    {
     "name": "stdout",
     "output_type": "stream",
     "text": [
      "== First Integration == \n",
      "Star has mass 2.5 Msun and radius 11.6km\n",
      "Interior Surface: 23.0335\n",
      "Exterior Surface: 0.3584\n",
      "v0 Round 1: -1\n",
      "Lamda Round 1: 1.02608240617458\n",
      "Boundary Term: -2216.404801257775\n"
     ]
    },
    {
     "name": "stderr",
     "output_type": "stream",
     "text": [
      " 58%|█████▊    | 1155/2000 [00:00<00:00, 2378.51it/s]"
     ]
    },
    {
     "name": "stdout",
     "output_type": "stream",
     "text": [
      "== Corrected Integration == \n",
      "Star has mass 2.5 Msun and radius 11.6km\n",
      "Interior Surface: 0.3584\n",
      "Exterior Surface: 0.3584\n",
      "v0 Round 1: -5.163032893290609\n",
      "Lamda Round 1: 1.0260826832996925\n",
      "Boundary Term: -19.981265931875797\n"
     ]
    },
    {
     "name": "stderr",
     "output_type": "stream",
     "text": [
      "\n"
     ]
    }
   ],
   "source": [
    "# Load EOS\n",
    "df = pd.read_csv(\"eos_data/nl3cr.csv\")\n",
    "e, p = df_to_ep(df)\n",
    "EOS = get_ep(e, p)\n",
    "\n",
    "# Initial Conditions\n",
    "km2cm = 1e5\n",
    "r_i = 1\n",
    "p0 = p[-5]\n",
    "e0 = EOS(p0)\n",
    "p_c = p0 - 2 * np.pi * (G/(c**4)) * r_i**2 * (p0 + e0) * (3*p0 + e0)/3\n",
    "e_c = e0\n",
    "m0 = e_c/(c**2) * 4/3 * np.pi * r_i**3\n",
    "\n",
    "\n",
    "omega = 2e3*(2*np.pi) #Arbitrary guess\n",
    "l=2\n",
    "\n",
    "v0 = -1 # Two step integration optimization: similar to phi previously.\n",
    "\n",
    "# Minimize this using f-mode optimizer? \n",
    "W0 = 1\n",
    "U0 = W0/(l * np.exp(v0))\n",
    "\n",
    "p_smooth, dedp = dedp_arr(p, EOS)\n",
    "dedp_EQ = get_dedp(dedp, p_smooth)\n",
    "dedp_EQ = polytrope\n",
    "\n",
    "init_VEC = [p_c, m0, v0, W0, U0]\n",
    "p_min = min(p) \n",
    "\n",
    "\n",
    "# Integrate\n",
    "p, m, r_arr, v, w, u = tov(EOS, init_VEC, r_i, p_min, \n",
    "                           omega, dedp_EQ, progress = True, l = l, \n",
    "                           n_iter_max = 2000)\n",
    "\n",
    "max_idx = np.argmax(m)\n",
    "m_R = m.max() # In units of msun\n",
    "r_R = r_arr[max_idx] # In units of km\n",
    "p_R = p[max_idx] #cgs\n",
    "ec_R = EOS(p_R) #cgs\n",
    "u_R = u[max_idx] #cgs\n",
    "v_R = v[max_idx]\n",
    "w_R = w[max_idx]\n",
    "\n",
    "schild = (1-2*G*m_R/(c**2*r_R))\n",
    "interior = np.exp(v_R)\n",
    "\n",
    "# DIMENSIONED CHECKED\n",
    "def boundary_wu(r_R, m_R, omega, w_R, u_R):\n",
    "    frac1 = (omega**2 * r_R ** 3)/(G*m_R)\n",
    "    return frac1 * np.sqrt(1-(2*G*m_R)/(r_R * (c**2))) - w_R/u_R\n",
    "\n",
    "print(\"== First Integration == \")\n",
    "print(f\"Star has mass {m_R/msun:.1f} Msun and radius {r_R/km2cm:.1f}km\")\n",
    "print(f\"Interior Surface: {interior:.4f}\")\n",
    "print(f\"Exterior Surface: {schild:.4f}\")\n",
    "print(f\"v0 Round 1: {v0}\")\n",
    "print(f\"Lamda Round 1: {lamba_metric(m_R, r_R)}\")\n",
    "print(f\"Boundary Term: {boundary_wu(r_R, m_R, omega, w_R, u_R)}\")\n",
    "\n",
    "# Computer new v0\n",
    "v_ext = np.log(schild) #At surface\n",
    "v_int = v_R #At surface\n",
    "delta_v = v_int - v_ext\n",
    "v0 =  v0 - delta_v\n",
    "\n",
    "init_VEC = [p_c, m0, v0, W0, U0]\n",
    "time.sleep(0.2)\n",
    "\n",
    "p, m, r_arr, v, w, u = tov(EOS, init_VEC, r_i, p_min, omega,\n",
    "                           dedp_EQ,\n",
    "                           progress = True, l = l)\n",
    "\n",
    "max_idx = np.argmax(m)\n",
    "m_R = m.max() # In units of msun\n",
    "r_R = r_arr[max_idx] # In units of km\n",
    "p_R = p[max_idx] #cgs\n",
    "ec_R = EOS(p_R) #cgs\n",
    "u_R = u[max_idx] #cgs\n",
    "v_R = v[max_idx]\n",
    "w_R = w[max_idx]\n",
    "\n",
    "schild = (1-2*G*m_R/(c**2*r_R))\n",
    "interior = np.exp(v_R)\n",
    "\n",
    "print(\"== Corrected Integration == \")\n",
    "print(f\"Star has mass {m_R/msun:.1f} Msun and radius {r_R/km2cm:.1f}km\")\n",
    "print(f\"Interior Surface: {interior:.4f}\")\n",
    "print(f\"Exterior Surface: {schild:.4f}\")\n",
    "print(f\"v0 Round 1: {v0}\")\n",
    "print(f\"Lamda Round 1: {lamba_metric(m_R, r_R)}\")\n",
    "print(f\"Boundary Term: {boundary_wu(r_R, m_R, omega, w_R, u_R)}\")"
   ]
  },
  {
   "cell_type": "code",
   "execution_count": 10,
   "metadata": {
    "scrolled": false
   },
   "outputs": [
    {
     "data": {
      "image/png": "[encoded data removed]",
      "text/plain": [
       "<Figure size 432x288 with 1 Axes>"
      ]
     },
     "metadata": {
      "needs_background": "light"
     },
     "output_type": "display_data"
    },
    {
     "data": {
      "image/png": "[encoded data removed]",
      "text/plain": [
       "<Figure size 432x288 with 1 Axes>"
      ]
     },
     "metadata": {
      "needs_background": "light"
     },
     "output_type": "display_data"
    },
    {
     "data": {
      "image/png": "[encoded data removed]",
      "text/plain": [
       "<Figure size 432x288 with 1 Axes>"
      ]
     },
     "metadata": {
      "needs_background": "light"
     },
     "output_type": "display_data"
    },
    {
     "data": {
      "image/png": "[encoded data removed]",
      "text/plain": [
       "<Figure size 432x288 with 1 Axes>"
      ]
     },
     "metadata": {
      "needs_background": "light"
     },
     "output_type": "display_data"
    },
    {
     "data": {
      "image/png": "[encoded data removed]",
      "text/plain": [
       "<Figure size 432x288 with 1 Axes>"
      ]
     },
     "metadata": {
      "needs_background": "light"
     },
     "output_type": "display_data"
    }
   ],
   "source": [
    "r_arr = r_arr/km2cm\n",
    "\n",
    "plt.figure()\n",
    "plt.plot(r_arr, p/p_c)\n",
    "plt.xlabel(\"r\")\n",
    "plt.ylabel(\"P/Pc\")\n",
    "\n",
    "plt.figure()\n",
    "plt.plot(r_arr, m/msun)\n",
    "plt.xlabel(\"r \")\n",
    "plt.ylabel(\"M/Msun\")\n",
    "plt.show()\n",
    "\n",
    "plt.figure()\n",
    "plt.plot(r_arr, v)\n",
    "plt.xlabel(\"r \")\n",
    "plt.ylabel(\"v\")\n",
    "plt.show()\n",
    "\n",
    "clip = -20\n",
    "\n",
    "plt.figure()\n",
    "plt.plot(r_arr[:clip], w[:clip])\n",
    "plt.xlabel(\"r \")\n",
    "plt.ylabel(\"w\")\n",
    "plt.show()\n",
    "\n",
    "plt.figure()\n",
    "plt.plot(r_arr[:clip], u[:clip])\n",
    "plt.xlabel(\"r \")\n",
    "plt.ylabel(\"u\")\n",
    "plt.show()"
   ]
  },
  {
   "cell_type": "code",
   "execution_count": 11,
   "metadata": {},
   "outputs": [],
   "source": [
    "# # Delete when shifting over to python\n",
    "# old_backend = mpl.get_backend() \n",
    "# %matplotlib notebook \n",
    "# # ====================================================================================\n",
    "# fig = plt.figure()\n",
    "# ax = fig.add_subplot(111)\n",
    "# plt.ion()\n",
    "# fig.show()\n",
    "# fig.canvas.draw()\n",
    "# plt.xlabel(\"f-mode (kHz)\")\n",
    "# plt.ylabel(\"log boundary value\")\n",
    "\n",
    "# def minimize_boundary(params, p = p, EOS = EOS):\n",
    "#     # Repeat integration\n",
    "     \n",
    "#     omega = params\n",
    "\n",
    "#     # Integrate\n",
    "#     p, m, r_arr, phi, w, v = p, m, r_arr, v, w, u = tov(EOS, init_VEC, r_i, p_min, omega, dedp_EQ, l = l)\n",
    "    \n",
    "#     max_idx = np.argmax(m)\n",
    "#     m_R = m.max() # In units of msun\n",
    "#     r_R = r_arr[max_idx] # In units of km\n",
    "#     p_R = p[max_idx] #cgs\n",
    "#     ec_R = EOS(p_R) #cgs\n",
    "#     u_R = u[max_idx] #cgs\n",
    "#     v_R = v[max_idx]\n",
    "#     w_R = w[max_idx]\n",
    "    \n",
    "#     loss = np.log10(abs(boundary_wu(r_R, m_R, omega, w_R, u_R)))\n",
    "#     ax.scatter(omega/(2*np.pi), loss, color = \"dodgerblue\", marker = \"x\")\n",
    "#     fig.canvas.draw()\n",
    "#     return loss\n",
    "\n",
    "# omega_guess = 2e3*(2*np.pi)\n",
    "# init_guess = [omega_guess]\n",
    "# res = minimize(minimize_boundary, x0 = init_guess, method='Nelder-Mead', \n",
    "#                options = {\"disp\": True, \"maxiter\":25},\n",
    "#                tol = 1)\n",
    "\n",
    "# mpl.use(old_backend) # Delete when shifting over to python\n",
    "# display(res)\n",
    "# omg = res.x[0]\n",
    "# f = omg/(2*np.pi)\n",
    "# print(f\"omega: {omg:.0f}\")\n",
    "# print(f\"fmode: {f:.2f} Hz\")"
   ]
  },
  {
   "cell_type": "code",
   "execution_count": 12,
   "metadata": {},
   "outputs": [],
   "source": [
    "# p, m, r_arr, v, w, u = tov(EOS, init_VEC, r_i, p_min, omg, dedp_EQ, progress = True, l = l)\n",
    "\n",
    "# max_idx = np.argmax(m)\n",
    "# m_R = m.max() # In units of msun\n",
    "# r_R = r_arr[max_idx] # In units of km\n",
    "# p_R = p[max_idx] #cgs\n",
    "# ec_R = EOS(p_R) #cgs\n",
    "# u_R = u[max_idx] #cgs\n",
    "# v_R = v[max_idx]\n",
    "# w_R = w[max_idx]\n",
    "\n",
    "# schild = (1-2*G*m_R/(c**2*r_R))\n",
    "# interior = np.exp(v_R)\n",
    "\n",
    "# print(\"== Corrected Integration == \")\n",
    "# print(f\"Star has mass {m_R/msun:.1f} Msun and radius {r_R/km2cm:.1f}km\")\n",
    "# print(f\"Interior Surface: {interior:.4f}\")\n",
    "# print(f\"Exterior Surface: {schild:.4f}\")\n",
    "# print(f\"v0 Round 1: {v0}\")\n",
    "# print(f\"Lamda Round 1: {lamba_metric(m_R, r_R)}\")\n",
    "# print(f\"Boundary Term: {boundary_wu(r_R, m_R, omega, w_R, u_R)}\")"
   ]
  }
 ],
 "metadata": {
  "kernelspec": {
   "display_name": "Python 3",
   "language": "python",
   "name": "python3"
  },
  "language_info": {
   "codemirror_mode": {
    "name": "ipython",
    "version": 3
   },
   "file_extension": ".py",
   "mimetype": "text/x-python",
   "name": "python",
   "nbconvert_exporter": "python",
   "pygments_lexer": "ipython3",
   "version": "3.8.6"
  }
 },
 "nbformat": 4,
 "nbformat_minor": 4
}
