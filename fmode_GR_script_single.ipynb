{
 "cells": [
  {
   "cell_type": "code",
   "execution_count": 1,
   "metadata": {},
   "outputs": [],
   "source": [
    "import time"
   ]
  },
  {
   "cell_type": "code",
   "execution_count": 2,
   "metadata": {},
   "outputs": [],
   "source": [
    "%%capture\n",
    "%run general_relativity/generalRelativity.py"
   ]
  },
  {
   "cell_type": "code",
   "execution_count": null,
   "metadata": {},
   "outputs": [
    {
     "name": "stderr",
     "output_type": "stream",
     "text": [
      "/Library/Frameworks/Python.framework/Versions/3.8/lib/python3.8/site-packages/scipy/integrate/_ode.py:1011: UserWarning: vode: Excess work done on this call. (Perhaps wrong MF.)\n",
      "  warnings.warn('{:s}: {:s}'.format(self.__class__.__name__,\n",
      " 42%|████▏     | 8302/20000 [00:00<00:01, 9835.35it/s] \n"
     ]
    },
    {
     "name": "stdout",
     "output_type": "stream",
     "text": [
      "Star has mass 1.721+0.000j Msun and radius 8.301km\n",
      "Interior Surface: 0.38802718+0.00000000j\n",
      "Exterior Surface: 0.38802718+0.00000000j\n",
      "v0: (-4.098528677534281+0j)\n",
      "Lamda: (0.9466798949656924-0j)\n",
      "Boundary Term: (9.514752504313242e+23+1.2148636625775751e+19j)\n"
     ]
    }
   ],
   "source": [
    "%%time\n",
    "experiment = GeneralRelativity()\n",
    "experiment.read_data('/Users/utkarsh/PycharmProjects/fmodes/LCEHL_EOS_posterior_samples/eos_1.csv')\n",
    "# experiment.read_data('/Users/utkarsh/PycharmProjects/fmodes/2205.02081/SLY4.csv')\n",
    "experiment.initial_conditions(k = -70)\n",
    "experiment.tov(progress = False)\n",
    "time.sleep(0.5)\n",
    "experiment.update_initial_conditions()\n",
    "experiment.tov(progress = False)\n",
    "time.sleep(0.5)\n",
    "experiment.update_initial_conditions()\n",
    "experiment.tov(progress = True)\n",
    "time.sleep(0.5)\n",
    "experiment.print_params()\n",
    "experiment.minimize_K0()\n",
    "experiment.plot_loss()"
   ]
  },
  {
   "cell_type": "code",
   "execution_count": null,
   "metadata": {
    "scrolled": false
   },
   "outputs": [],
   "source": [
    "experiment.plot_fluid_perturbations()"
   ]
  }
 ],
 "metadata": {
  "kernelspec": {
   "display_name": "Python 3",
   "language": "python",
   "name": "python3"
  },
  "language_info": {
   "codemirror_mode": {
    "name": "ipython",
    "version": 3
   },
   "file_extension": ".py",
   "mimetype": "text/x-python",
   "name": "python",
   "nbconvert_exporter": "python",
   "pygments_lexer": "ipython3",
   "version": "3.8.6"
  }
 },
 "nbformat": 4,
 "nbformat_minor": 4
}
