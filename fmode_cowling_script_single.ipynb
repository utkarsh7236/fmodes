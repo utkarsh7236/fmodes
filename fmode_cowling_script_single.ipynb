{
 "cells": [
  {
   "cell_type": "code",
   "execution_count": 1,
   "metadata": {},
   "outputs": [],
   "source": [
    "%%capture\n",
    "%run cowling_approximation/cowlingApproximation.py"
   ]
  },
  {
   "cell_type": "code",
   "execution_count": null,
   "metadata": {},
   "outputs": [],
   "source": [
    "experiment = CowlingApproximation()\n",
    "experiment.read_data()\n",
    "experiment.initial_conditions(k = -92)\n",
    "experiment.tov()\n",
    "experiment.print_params()\n",
    "experiment.update_initial_conditions()\n",
    "experiment.tov()\n",
    "experiment.print_params()\n",
    "experiment.optimize_fmode()"
   ]
  }
 ],
 "metadata": {
  "kernelspec": {
   "display_name": "Python 3",
   "language": "python",
   "name": "python3"
  },
  "language_info": {
   "codemirror_mode": {
    "name": "ipython",
    "version": 3
   },
   "file_extension": ".py",
   "mimetype": "text/x-python",
   "name": "python",
   "nbconvert_exporter": "python",
   "pygments_lexer": "ipython3",
   "version": "3.8.6"
  }
 },
 "nbformat": 4,
 "nbformat_minor": 4
}
