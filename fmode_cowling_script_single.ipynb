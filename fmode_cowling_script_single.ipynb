{
 "cells": [
  {
   "cell_type": "code",
   "execution_count": 1,
   "metadata": {},
   "outputs": [],
   "source": [
    "import time"
   ]
  },
  {
   "cell_type": "code",
   "execution_count": 2,
   "metadata": {},
   "outputs": [],
   "source": [
    "%%capture\n",
    "%run cowling_approximation/cowlingApproximation.py"
   ]
  },
  {
   "cell_type": "code",
   "execution_count": 3,
   "metadata": {},
   "outputs": [
    {
     "name": "stderr",
     "output_type": "stream",
     "text": [
      " 58%|█████▊    | 11700/20000 [00:00<00:00, 29710.96it/s]\n"
     ]
    },
    {
     "name": "stdout",
     "output_type": "stream",
     "text": [
      "==== INTEGRATION STATS ====\n",
      "Star has mass 1.378 Msun and radius 11.699km\n",
      "Interior Surface: 0.58807977\n",
      "Exterior Surface: 0.65215653\n",
      "v0: -1\n",
      "Lamda: 0.42747066917930693\n",
      "Boundary Term: -267.55135861897867\n",
      "\n"
     ]
    },
    {
     "name": "stderr",
     "output_type": "stream",
     "text": [
      " 58%|█████▊    | 11700/20000 [00:00<00:00, 28941.08it/s]\n"
     ]
    },
    {
     "name": "stdout",
     "output_type": "stream",
     "text": [
      "==== INTEGRATION STATS ====\n",
      "Star has mass 1.378 Msun and radius 11.699km\n",
      "Interior Surface: 0.65215654\n",
      "Exterior Surface: 0.65215652\n",
      "v0: -0.8965779849667994\n",
      "Lamda: 0.4274706806680561\n",
      "Boundary Term: -296.7082560467819\n",
      "\n"
     ]
    },
    {
     "data": {
      "image/png": "[encoded data removed]",
      "text/plain": [
       "<Figure size 432x288 with 1 Axes>"
      ]
     },
     "metadata": {
      "needs_background": "light"
     },
     "output_type": "display_data"
    },
    {
     "name": "stdout",
     "output_type": "stream",
     "text": [
      "CPU times: user 7.94 s, sys: 401 ms, total: 8.34 s\n",
      "Wall time: 8.73 s\n"
     ]
    }
   ],
   "source": [
    "%%time\n",
    "experiment = CowlingApproximation()\n",
    "experiment.read_data('/Users/utkarsh/PycharmProjects/fmodes/2205.02081/SLY4.csv')\n",
    "experiment.initial_conditions(k = -92)\n",
    "experiment.tov(progress = True)\n",
    "experiment.print_params()\n",
    "time.sleep(0.5)\n",
    "experiment.update_initial_conditions()\n",
    "experiment.tov(progress = True)\n",
    "experiment.print_params()\n",
    "experiment.optimize_fmode()\n",
    "experiment.plot_loss()"
   ]
  },
  {
   "cell_type": "code",
   "execution_count": null,
   "metadata": {},
   "outputs": [],
   "source": []
  }
 ],
 "metadata": {
  "kernelspec": {
   "display_name": "Python 3",
   "language": "python",
   "name": "python3"
  },
  "language_info": {
   "codemirror_mode": {
    "name": "ipython",
    "version": 3
   },
   "file_extension": ".py",
   "mimetype": "text/x-python",
   "name": "python",
   "nbconvert_exporter": "python",
   "pygments_lexer": "ipython3",
   "version": "3.8.6"
  }
 },
 "nbformat": 4,
 "nbformat_minor": 4
}
