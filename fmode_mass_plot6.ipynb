{
 "cells": [
  {
   "cell_type": "code",
   "execution_count": 1,
   "metadata": {},
   "outputs": [],
   "source": [
    "from scipy.integrate import ode\n",
    "from scipy.interpolate import interp1d\n",
    "import pandas as pd\n",
    "from astropy import units as u\n",
    "import numpy as np\n",
    "import matplotlib.pyplot as plt\n",
    "from tqdm import tqdm\n",
    "import time\n",
    "from scipy.optimize import minimize, approx_fprime\n",
    "from joblib import Parallel, delayed"
   ]
  },
  {
   "cell_type": "markdown",
   "metadata": {},
   "source": [
    "Capture hides output"
   ]
  },
  {
   "cell_type": "code",
   "execution_count": 2,
   "metadata": {},
   "outputs": [],
   "source": [
    "%%capture\n",
    "%run cowling_approximation6_method2.ipynb"
   ]
  },
  {
   "cell_type": "code",
   "execution_count": 3,
   "metadata": {},
   "outputs": [],
   "source": [
    "def process(k):\n",
    "    df = pd.read_csv(path)\n",
    "    e, p = df_to_ep(df)\n",
    "    EOS = get_ep(e, p)\n",
    "    \n",
    "    # Initial Conditions\n",
    "    km2cm = 1e5\n",
    "    r_i = 1\n",
    "    p0 = p_arr[k]\n",
    "    e0 = EOS(p0)\n",
    "    p_c = p0 - 2 * np.pi * (G/(c**4)) * r_i**2 * (p0 + e0) * (3*p0 + e0)/3\n",
    "    e_c = EOS(p_c)\n",
    "    m0 = e_c/(c**2) * 4/3 * np.pi * r_i**3\n",
    "    omega = 2e3*(2*np.pi) #Arbitrary guess\n",
    "    l=2\n",
    "    v0 = -1 # Two step integration optimization: similar to phi previously.\n",
    "    W0 = 1\n",
    "    U0 = W0/(l * np.exp(v0))\n",
    "    p_min = 1*(c**2)\n",
    "    p_max = max(p)\n",
    "\n",
    "    init_VEC = [p_c, m0, v0, W0, U0]\n",
    "    init_params = [EOS, l, omega, p_min, p_max]\n",
    "    init_t = [r_i, 20.01 * km2cm]\n",
    "    eval_t = np.linspace(r_i, 20 * km2cm, 5000)\n",
    "\n",
    "    # Integrate\n",
    "    sol = solve_ivp(fun = coupledTOV, \n",
    "                   t_span = init_t,\n",
    "                   y0 = init_VEC,\n",
    "                   args = [init_params],\n",
    "                   method = \"Radau\",\n",
    "                   t_eval = eval_t)\n",
    "\n",
    "    p_total = sol.y[0]\n",
    "    try: \n",
    "        surface_idx = np.where(np.diff(p_total) == 0)[0][0]\n",
    "    except:\n",
    "        surface_idx = len(sol.y[0])\n",
    "    p, m, v, w, u = sol.y[:, :surface_idx]\n",
    "    r_arr = sol.t[:surface_idx]\n",
    "\n",
    "    max_idx = np.argmax(m)\n",
    "    m_R = m.max() # In units of msun\n",
    "    r_R = r_arr[max_idx] # In units of km\n",
    "    p_R = p[max_idx] #cgs\n",
    "    ec_R = EOS(p_R) #cgs\n",
    "    u_R = u[max_idx] #cgs\n",
    "    v_R = v[max_idx]\n",
    "    w_R = w[max_idx]\n",
    "\n",
    "    # Reassign initial conditions. \n",
    "    v_ext = -_lamda(r_R, m_R)\n",
    "    v_int = v_R #At surface\n",
    "    delta_v = v_int - v_ext\n",
    "    v0 =  v0 - delta_v\n",
    "    W0 = 1\n",
    "    U0 = W0/(l * np.exp(v0))\n",
    "    init_VEC = [p_c, m0, v0, W0, U0]\n",
    "\n",
    "    time.sleep(0.2)\n",
    "\n",
    "    sol = solve_ivp(fun = coupledTOV, \n",
    "                   t_span = init_t,\n",
    "                   y0 = init_VEC,\n",
    "                   args = [init_params],\n",
    "                   method = \"Radau\",\n",
    "                   t_eval = eval_t)\n",
    "\n",
    "    p_total = sol.y[0]\n",
    "\n",
    "    try: \n",
    "        surface_idx = np.where(np.diff(p_total) == 0)[0][0]\n",
    "    except:\n",
    "        surface_idx = len(sol.y[0])\n",
    "\n",
    "    p, m, v, w, u = sol.y[:, :surface_idx]\n",
    "    r_arr = sol.t[:surface_idx]\n",
    "\n",
    "    max_idx = np.argmax(m)\n",
    "    m_R = m.max() # In units of msun\n",
    "    r_R = r_arr[max_idx] # In units of km\n",
    "    p_R = p[max_idx] #cgs\n",
    "    ec_R = EOS(p_R) #cgs\n",
    "    u_R = u[max_idx] #cgs\n",
    "    v_R = v[max_idx]\n",
    "    w_R = w[max_idx]\n",
    "\n",
    "    schild = (1-2*G*m_R/(c**2*r_R))\n",
    "    interior = np.exp(v_R)\n",
    "    \n",
    "    def minimize_boundary_mass(params, p = p, EOS = EOS):\n",
    "        # Repeat integration\n",
    "\n",
    "        omega = params\n",
    "\n",
    "        # Integrate\n",
    "        sol = solve_ivp(fun = coupledTOV, \n",
    "                       t_span = init_t,\n",
    "                       y0 = init_VEC,\n",
    "                       args = [init_params],\n",
    "                       method = \"Radau\",\n",
    "                       t_eval = eval_t)\n",
    "\n",
    "        p_total = sol.y[0]\n",
    "\n",
    "        try: \n",
    "            surface_idx = np.where(np.diff(p_total) == 0)[0][0]\n",
    "        except:\n",
    "            surface_idx = len(sol.y[0])\n",
    "\n",
    "        p, m, v, w, u = sol.y[:, :surface_idx]\n",
    "        r_arr = sol.t[:surface_idx]\n",
    "\n",
    "        max_idx = np.argmax(m)\n",
    "        m_R = m.max() # In units of msun\n",
    "        r_R = r_arr[max_idx] # In units of km\n",
    "        p_R = p[max_idx] #cgs\n",
    "        ec_R = EOS(p_R) #cgs\n",
    "        u_R = u[max_idx] #cgs\n",
    "        v_R = v[max_idx]\n",
    "        w_R = w[max_idx]\n",
    "\n",
    "        loss = np.log10(abs(boundary_wu(r_R, m_R, omega, w_R, u_R)))\n",
    "        return loss\n",
    "\n",
    "    omega_guess = 1e3*(2*np.pi)\n",
    "    init_guess = [omega_guess]\n",
    "    res = minimize(minimize_boundary_mass, x0 = init_guess, \n",
    "                   method='Nelder-Mead', \n",
    "                   options = {\"disp\": False, \"maxiter\":25},\n",
    "                   tol = 1)\n",
    "\n",
    "    omg = res.x[0]\n",
    "    f = omg/(2*np.pi)\n",
    "    return f, m_R, r_R, k"
   ]
  },
  {
   "cell_type": "code",
   "execution_count": 4,
   "metadata": {
    "scrolled": false
   },
   "outputs": [
    {
     "name": "stdout",
     "output_type": "stream",
     "text": [
      "EOS: NL3 (2205.02081)\n"
     ]
    },
    {
     "data": {
      "application/vnd.jupyter.widget-view+json": {
       "model_id": "e4ea7ede83414336a043a6942b8d7bbd",
       "version_major": 2,
       "version_minor": 0
      },
      "text/plain": [
       "HBox(children=(FloatProgress(value=0.0, max=1647.0), HTML(value='')))"
      ]
     },
     "metadata": {},
     "output_type": "display_data"
    },
    {
     "ename": "ValueError",
     "evalue": "array must not contain infs or NaNs",
     "output_type": "error",
     "traceback": [
      "\u001b[0;31m---------------------------------------------------------------------------\u001b[0m",
      "\u001b[0;31m_RemoteTraceback\u001b[0m                          Traceback (most recent call last)",
      "\u001b[0;31m_RemoteTraceback\u001b[0m: \n\"\"\"\nTraceback (most recent call last):\n  File \"/Library/Frameworks/Python.framework/Versions/3.8/lib/python3.8/site-packages/joblib/externals/loky/process_executor.py\", line 431, in _process_worker\n    r = call_item()\n  File \"/Library/Frameworks/Python.framework/Versions/3.8/lib/python3.8/site-packages/joblib/externals/loky/process_executor.py\", line 285, in __call__\n    return self.fn(*self.args, **self.kwargs)\n  File \"/Library/Frameworks/Python.framework/Versions/3.8/lib/python3.8/site-packages/joblib/_parallel_backends.py\", line 595, in __call__\n    return self.func(*args, **kwargs)\n  File \"/Library/Frameworks/Python.framework/Versions/3.8/lib/python3.8/site-packages/joblib/parallel.py\", line 262, in __call__\n    return [func(*args, **kwargs)\n  File \"/Library/Frameworks/Python.framework/Versions/3.8/lib/python3.8/site-packages/joblib/parallel.py\", line 262, in <listcomp>\n    return [func(*args, **kwargs)\n  File \"<ipython-input-3-f258ccf61f52>\", line 28, in process\n  File \"/Library/Frameworks/Python.framework/Versions/3.8/lib/python3.8/site-packages/scipy/integrate/_ivp/ivp.py\", line 576, in solve_ivp\n    message = solver.step()\n  File \"/Library/Frameworks/Python.framework/Versions/3.8/lib/python3.8/site-packages/scipy/integrate/_ivp/base.py\", line 181, in step\n    success, message = self._step_impl()\n  File \"/Library/Frameworks/Python.framework/Versions/3.8/lib/python3.8/site-packages/scipy/integrate/_ivp/radau.py\", line 444, in _step_impl\n    LU_real = self.lu(MU_REAL / h * self.I - J)\n  File \"/Library/Frameworks/Python.framework/Versions/3.8/lib/python3.8/site-packages/scipy/integrate/_ivp/radau.py\", line 319, in lu\n    return lu_factor(A, overwrite_a=True)\n  File \"/Library/Frameworks/Python.framework/Versions/3.8/lib/python3.8/site-packages/scipy/linalg/decomp_lu.py\", line 70, in lu_factor\n    a1 = asarray_chkfinite(a)\n  File \"/Library/Frameworks/Python.framework/Versions/3.8/lib/python3.8/site-packages/numpy/lib/function_base.py\", line 485, in asarray_chkfinite\n    raise ValueError(\nValueError: array must not contain infs or NaNs\n\"\"\"",
      "\nThe above exception was the direct cause of the following exception:\n",
      "\u001b[0;31mValueError\u001b[0m                                Traceback (most recent call last)",
      "\u001b[0;32m<ipython-input-4-93112e2e8729>\u001b[0m in \u001b[0;36m<module>\u001b[0;34m\u001b[0m\n\u001b[1;32m     50\u001b[0m \u001b[0mvals\u001b[0m \u001b[0;34m=\u001b[0m \u001b[0mrange\u001b[0m\u001b[0;34m(\u001b[0m\u001b[0mind_stop\u001b[0m\u001b[0;34m,\u001b[0m \u001b[0mind_start\u001b[0m\u001b[0;34m+\u001b[0m\u001b[0;36m1\u001b[0m\u001b[0;34m,\u001b[0m \u001b[0;36m1\u001b[0m\u001b[0;34m)\u001b[0m\u001b[0;34m[\u001b[0m\u001b[0;34m:\u001b[0m\u001b[0;34m:\u001b[0m\u001b[0;34m-\u001b[0m\u001b[0mjump\u001b[0m\u001b[0;34m]\u001b[0m\u001b[0;34m\u001b[0m\u001b[0;34m\u001b[0m\u001b[0m\n\u001b[1;32m     51\u001b[0m \u001b[0;34m\u001b[0m\u001b[0m\n\u001b[0;32m---> 52\u001b[0;31m results = Parallel(n_jobs=-2, \n\u001b[0m\u001b[1;32m     53\u001b[0m                    \u001b[0mverbose\u001b[0m\u001b[0;34m=\u001b[0m\u001b[0;36m0\u001b[0m\u001b[0;34m,\u001b[0m\u001b[0;34m\u001b[0m\u001b[0;34m\u001b[0m\u001b[0m\n\u001b[1;32m     54\u001b[0m                    \u001b[0mbackend\u001b[0m \u001b[0;34m=\u001b[0m \u001b[0;34m\"loky\"\u001b[0m\u001b[0;34m,\u001b[0m\u001b[0;34m\u001b[0m\u001b[0;34m\u001b[0m\u001b[0m\n",
      "\u001b[0;32m/Library/Frameworks/Python.framework/Versions/3.8/lib/python3.8/site-packages/joblib/parallel.py\u001b[0m in \u001b[0;36m__call__\u001b[0;34m(self, iterable)\u001b[0m\n\u001b[1;32m   1059\u001b[0m \u001b[0;34m\u001b[0m\u001b[0m\n\u001b[1;32m   1060\u001b[0m             \u001b[0;32mwith\u001b[0m \u001b[0mself\u001b[0m\u001b[0;34m.\u001b[0m\u001b[0m_backend\u001b[0m\u001b[0;34m.\u001b[0m\u001b[0mretrieval_context\u001b[0m\u001b[0;34m(\u001b[0m\u001b[0;34m)\u001b[0m\u001b[0;34m:\u001b[0m\u001b[0;34m\u001b[0m\u001b[0;34m\u001b[0m\u001b[0m\n\u001b[0;32m-> 1061\u001b[0;31m                 \u001b[0mself\u001b[0m\u001b[0;34m.\u001b[0m\u001b[0mretrieve\u001b[0m\u001b[0;34m(\u001b[0m\u001b[0;34m)\u001b[0m\u001b[0;34m\u001b[0m\u001b[0;34m\u001b[0m\u001b[0m\n\u001b[0m\u001b[1;32m   1062\u001b[0m             \u001b[0;31m# Make sure that we get a last message telling us we are done\u001b[0m\u001b[0;34m\u001b[0m\u001b[0;34m\u001b[0m\u001b[0;34m\u001b[0m\u001b[0m\n\u001b[1;32m   1063\u001b[0m             \u001b[0melapsed_time\u001b[0m \u001b[0;34m=\u001b[0m \u001b[0mtime\u001b[0m\u001b[0;34m.\u001b[0m\u001b[0mtime\u001b[0m\u001b[0;34m(\u001b[0m\u001b[0;34m)\u001b[0m \u001b[0;34m-\u001b[0m \u001b[0mself\u001b[0m\u001b[0;34m.\u001b[0m\u001b[0m_start_time\u001b[0m\u001b[0;34m\u001b[0m\u001b[0;34m\u001b[0m\u001b[0m\n",
      "\u001b[0;32m/Library/Frameworks/Python.framework/Versions/3.8/lib/python3.8/site-packages/joblib/parallel.py\u001b[0m in \u001b[0;36mretrieve\u001b[0;34m(self)\u001b[0m\n\u001b[1;32m    938\u001b[0m             \u001b[0;32mtry\u001b[0m\u001b[0;34m:\u001b[0m\u001b[0;34m\u001b[0m\u001b[0;34m\u001b[0m\u001b[0m\n\u001b[1;32m    939\u001b[0m                 \u001b[0;32mif\u001b[0m \u001b[0mgetattr\u001b[0m\u001b[0;34m(\u001b[0m\u001b[0mself\u001b[0m\u001b[0;34m.\u001b[0m\u001b[0m_backend\u001b[0m\u001b[0;34m,\u001b[0m \u001b[0;34m'supports_timeout'\u001b[0m\u001b[0;34m,\u001b[0m \u001b[0;32mFalse\u001b[0m\u001b[0;34m)\u001b[0m\u001b[0;34m:\u001b[0m\u001b[0;34m\u001b[0m\u001b[0;34m\u001b[0m\u001b[0m\n\u001b[0;32m--> 940\u001b[0;31m                     \u001b[0mself\u001b[0m\u001b[0;34m.\u001b[0m\u001b[0m_output\u001b[0m\u001b[0;34m.\u001b[0m\u001b[0mextend\u001b[0m\u001b[0;34m(\u001b[0m\u001b[0mjob\u001b[0m\u001b[0;34m.\u001b[0m\u001b[0mget\u001b[0m\u001b[0;34m(\u001b[0m\u001b[0mtimeout\u001b[0m\u001b[0;34m=\u001b[0m\u001b[0mself\u001b[0m\u001b[0;34m.\u001b[0m\u001b[0mtimeout\u001b[0m\u001b[0;34m)\u001b[0m\u001b[0;34m)\u001b[0m\u001b[0;34m\u001b[0m\u001b[0;34m\u001b[0m\u001b[0m\n\u001b[0m\u001b[1;32m    941\u001b[0m                 \u001b[0;32melse\u001b[0m\u001b[0;34m:\u001b[0m\u001b[0;34m\u001b[0m\u001b[0;34m\u001b[0m\u001b[0m\n\u001b[1;32m    942\u001b[0m                     \u001b[0mself\u001b[0m\u001b[0;34m.\u001b[0m\u001b[0m_output\u001b[0m\u001b[0;34m.\u001b[0m\u001b[0mextend\u001b[0m\u001b[0;34m(\u001b[0m\u001b[0mjob\u001b[0m\u001b[0;34m.\u001b[0m\u001b[0mget\u001b[0m\u001b[0;34m(\u001b[0m\u001b[0;34m)\u001b[0m\u001b[0;34m)\u001b[0m\u001b[0;34m\u001b[0m\u001b[0;34m\u001b[0m\u001b[0m\n",
      "\u001b[0;32m/Library/Frameworks/Python.framework/Versions/3.8/lib/python3.8/site-packages/joblib/_parallel_backends.py\u001b[0m in \u001b[0;36mwrap_future_result\u001b[0;34m(future, timeout)\u001b[0m\n\u001b[1;32m    540\u001b[0m         AsyncResults.get from multiprocessing.\"\"\"\n\u001b[1;32m    541\u001b[0m         \u001b[0;32mtry\u001b[0m\u001b[0;34m:\u001b[0m\u001b[0;34m\u001b[0m\u001b[0;34m\u001b[0m\u001b[0m\n\u001b[0;32m--> 542\u001b[0;31m             \u001b[0;32mreturn\u001b[0m \u001b[0mfuture\u001b[0m\u001b[0;34m.\u001b[0m\u001b[0mresult\u001b[0m\u001b[0;34m(\u001b[0m\u001b[0mtimeout\u001b[0m\u001b[0;34m=\u001b[0m\u001b[0mtimeout\u001b[0m\u001b[0;34m)\u001b[0m\u001b[0;34m\u001b[0m\u001b[0;34m\u001b[0m\u001b[0m\n\u001b[0m\u001b[1;32m    543\u001b[0m         \u001b[0;32mexcept\u001b[0m \u001b[0mCfTimeoutError\u001b[0m \u001b[0;32mas\u001b[0m \u001b[0me\u001b[0m\u001b[0;34m:\u001b[0m\u001b[0;34m\u001b[0m\u001b[0;34m\u001b[0m\u001b[0m\n\u001b[1;32m    544\u001b[0m             \u001b[0;32mraise\u001b[0m \u001b[0mTimeoutError\u001b[0m \u001b[0;32mfrom\u001b[0m \u001b[0me\u001b[0m\u001b[0;34m\u001b[0m\u001b[0;34m\u001b[0m\u001b[0m\n",
      "\u001b[0;32m/Library/Frameworks/Python.framework/Versions/3.8/lib/python3.8/concurrent/futures/_base.py\u001b[0m in \u001b[0;36mresult\u001b[0;34m(self, timeout)\u001b[0m\n\u001b[1;32m    430\u001b[0m                 \u001b[0;32mraise\u001b[0m \u001b[0mCancelledError\u001b[0m\u001b[0;34m(\u001b[0m\u001b[0;34m)\u001b[0m\u001b[0;34m\u001b[0m\u001b[0;34m\u001b[0m\u001b[0m\n\u001b[1;32m    431\u001b[0m             \u001b[0;32melif\u001b[0m \u001b[0mself\u001b[0m\u001b[0;34m.\u001b[0m\u001b[0m_state\u001b[0m \u001b[0;34m==\u001b[0m \u001b[0mFINISHED\u001b[0m\u001b[0;34m:\u001b[0m\u001b[0;34m\u001b[0m\u001b[0;34m\u001b[0m\u001b[0m\n\u001b[0;32m--> 432\u001b[0;31m                 \u001b[0;32mreturn\u001b[0m \u001b[0mself\u001b[0m\u001b[0;34m.\u001b[0m\u001b[0m__get_result\u001b[0m\u001b[0;34m(\u001b[0m\u001b[0;34m)\u001b[0m\u001b[0;34m\u001b[0m\u001b[0;34m\u001b[0m\u001b[0m\n\u001b[0m\u001b[1;32m    433\u001b[0m \u001b[0;34m\u001b[0m\u001b[0m\n\u001b[1;32m    434\u001b[0m             \u001b[0mself\u001b[0m\u001b[0;34m.\u001b[0m\u001b[0m_condition\u001b[0m\u001b[0;34m.\u001b[0m\u001b[0mwait\u001b[0m\u001b[0;34m(\u001b[0m\u001b[0mtimeout\u001b[0m\u001b[0;34m)\u001b[0m\u001b[0;34m\u001b[0m\u001b[0;34m\u001b[0m\u001b[0m\n",
      "\u001b[0;32m/Library/Frameworks/Python.framework/Versions/3.8/lib/python3.8/concurrent/futures/_base.py\u001b[0m in \u001b[0;36m__get_result\u001b[0;34m(self)\u001b[0m\n\u001b[1;32m    386\u001b[0m     \u001b[0;32mdef\u001b[0m \u001b[0m__get_result\u001b[0m\u001b[0;34m(\u001b[0m\u001b[0mself\u001b[0m\u001b[0;34m)\u001b[0m\u001b[0;34m:\u001b[0m\u001b[0;34m\u001b[0m\u001b[0;34m\u001b[0m\u001b[0m\n\u001b[1;32m    387\u001b[0m         \u001b[0;32mif\u001b[0m \u001b[0mself\u001b[0m\u001b[0;34m.\u001b[0m\u001b[0m_exception\u001b[0m\u001b[0;34m:\u001b[0m\u001b[0;34m\u001b[0m\u001b[0;34m\u001b[0m\u001b[0m\n\u001b[0;32m--> 388\u001b[0;31m             \u001b[0;32mraise\u001b[0m \u001b[0mself\u001b[0m\u001b[0;34m.\u001b[0m\u001b[0m_exception\u001b[0m\u001b[0;34m\u001b[0m\u001b[0;34m\u001b[0m\u001b[0m\n\u001b[0m\u001b[1;32m    389\u001b[0m         \u001b[0;32melse\u001b[0m\u001b[0;34m:\u001b[0m\u001b[0;34m\u001b[0m\u001b[0;34m\u001b[0m\u001b[0m\n\u001b[1;32m    390\u001b[0m             \u001b[0;32mreturn\u001b[0m \u001b[0mself\u001b[0m\u001b[0;34m.\u001b[0m\u001b[0m_result\u001b[0m\u001b[0;34m\u001b[0m\u001b[0;34m\u001b[0m\u001b[0m\n",
      "\u001b[0;31mValueError\u001b[0m: array must not contain infs or NaNs"
     ]
    }
   ],
   "source": [
    "f_mode_list = []\n",
    "mass_list = []\n",
    "radius_list = []\n",
    "\n",
    "if path == \"eos_data/nl3cr_short.csv\":\n",
    "    print(\"EOS: NL3CR (Short)\")\n",
    "    ind_start = -5\n",
    "    ind_stop = -1170\n",
    "    jump = 20 # Default should be 1 for small EOS data\n",
    "    \n",
    "if path == \"eos_data/nl3cr.csv\" :\n",
    "    print(\"EOS: NL3CR (Full)\")\n",
    "    ind_start = -3\n",
    "    ind_stop = -1105\n",
    "    jump = 10 # Default should be 1 for small EOS data\n",
    "    \n",
    "if (path == \"eos_data/sly230a_short.csv\") \\\n",
    "    or (path ==\"eos_data/sly230a.csv\"):\n",
    "    print(\"EOS: SLY230A (Full)\")\n",
    "    ind_start = -10\n",
    "    ind_stop = -120\n",
    "    jump = 2 # Default should be 1 for small EOS data\n",
    "    \n",
    "if path == \"eos_data/sly_short.csv\":\n",
    "    print(\"EOS: SLY4 (Short)\")\n",
    "    ind_start = -2\n",
    "    ind_stop = -28\n",
    "    jump = 1 # Default should be 1 for small EOS data\n",
    "    \n",
    "if path == \"eos_data/sly.csv\": \n",
    "    print(\"EOS: SLY4 (Full)\")\n",
    "    ind_start = -2\n",
    "    ind_stop = -26\n",
    "    jump = 1 # Default should be 1 for small EOS data\n",
    "    \n",
    "if path == \"2205.02081/NL3.csv\": \n",
    "    print(\"EOS: NL3 (2205.02081)\")\n",
    "    ind_start = -2\n",
    "    ind_stop = -1648\n",
    "    jump = 1 # Default should be 1 for small EOS data\n",
    "\n",
    "path2 = None\n",
    "# path2 = \"polytrope\"\n",
    "    \n",
    "if path2 == \"polytrope\":\n",
    "    ind_start = -2\n",
    "    ind_stop = -200\n",
    "    jump = 5\n",
    "    \n",
    "vals = range(ind_stop, ind_start+1, 1)[::-jump]\n",
    "\n",
    "results = Parallel(n_jobs=-2, \n",
    "                   verbose=0,\n",
    "                   backend = \"loky\",\n",
    "                   max_nbytes='8M')(delayed(process)(k) for k in tqdm(vals))"
   ]
  },
  {
   "cell_type": "code",
   "execution_count": null,
   "metadata": {},
   "outputs": [],
   "source": [
    "mass_arr = np.array(results).T[1]\n",
    "f_mode_arr = np.array(np.array(results).T[0])\n",
    "radius_arr = np.array(results).T[2]\n",
    "idx_arr = np.array(results).T[3]\n",
    "hz2khz = 1e-3\n",
    "# mass_arr"
   ]
  },
  {
   "cell_type": "code",
   "execution_count": null,
   "metadata": {},
   "outputs": [],
   "source": [
    "max_idx = mass_arr.argmax()\n",
    "# idx_arr[(np.abs(mass_arr/msun - 1.4)).argmin()]\n",
    "idx_arr[f_mode_arr.argmax()]"
   ]
  },
  {
   "cell_type": "code",
   "execution_count": null,
   "metadata": {},
   "outputs": [],
   "source": [
    "mass_arr = mass_arr[max_idx:]\n",
    "f_mode_arr = f_mode_arr[max_idx:]\n",
    "radius_arr = radius_arr[max_idx:]"
   ]
  },
  {
   "cell_type": "code",
   "execution_count": null,
   "metadata": {},
   "outputs": [],
   "source": [
    "max_idx_new = mass_arr.argmax()\n",
    "\n",
    "print(f\"M_max = {mass_arr[max_idx_new]/msun}\")\n",
    "print(f\"R_max = {radius_arr[max_idx_new]/km2cm}\")\n",
    "print(f\"f_max = {f_mode_arr[max_idx_new]}\")\n",
    "\n",
    "print()\n",
    "solar_idx = (np.abs(mass_arr/msun - 1.4)).argmin()\n",
    "print(f\"M_1.4 = {mass_arr[solar_idx]/msun}\")\n",
    "print(f\"R_1.4 = {radius_arr[solar_idx]/km2cm}\")\n",
    "print(f\"f_1.4 = {f_mode_arr[solar_idx]}\")"
   ]
  },
  {
   "cell_type": "code",
   "execution_count": null,
   "metadata": {},
   "outputs": [],
   "source": [
    "# mass_arr = np.array(mass_list)\n",
    "# f_mode_arr = np.array(f_mode_list)\n",
    "# radius_arr = np.array(radius_list)\n",
    "# hz2khz = 1e-3\n",
    "\n",
    "plt.figure(dpi = 300)\n",
    "plt.tight_layout()\n",
    "plt.scatter(mass_arr/msun, f_mode_arr*hz2khz, c = radius_arr/km2cm, marker = \"x\", \n",
    "            cmap = \"plasma\")\n",
    "plt.xlabel(\"Mass/Msun\")\n",
    "plt.ylabel(\"fmode (kHz)\")\n",
    "cbar = plt.colorbar()\n",
    "cbar.set_label('Radius (km)', rotation=-90, labelpad=15)\n",
    "# utkarshGrid()\n",
    "# plt.xlim(1, 2.5)\n",
    "# plt.ylim(1.5, 3.5)\n",
    "plt.show()"
   ]
  },
  {
   "cell_type": "code",
   "execution_count": null,
   "metadata": {},
   "outputs": [],
   "source": [
    "plt.plot(np.sqrt((mass_arr/msun)/((radius_arr/km2cm)**3)), f_mode_arr*hz2khz)\n",
    "plt.xlabel(\"√M/R^3\")\n",
    "plt.ylabel(\"fmode (kHz)\")\n",
    "plt.xlim(0.02, 0.05)\n",
    "plt.ylim(1.4, 3)\n",
    "plt.show()"
   ]
  },
  {
   "cell_type": "code",
   "execution_count": null,
   "metadata": {},
   "outputs": [],
   "source": [
    "# plt.plot(np.sqrt((mass_arr/(1.4*msun))/((radius_arr/(10*km2cm))**3)), f_mode_arr*hz2khz)\n",
    "# plt.ylabel(\"f(khz)\")\n",
    "# plt.show()"
   ]
  },
  {
   "cell_type": "code",
   "execution_count": null,
   "metadata": {},
   "outputs": [],
   "source": [
    "plt.plot(radius_arr/km2cm, mass_arr/msun)\n",
    "plt.xlabel(\"Radius (km)\")\n",
    "plt.ylabel(\"Mass (Msun)\")\n",
    "plt.show()"
   ]
  },
  {
   "cell_type": "code",
   "execution_count": null,
   "metadata": {},
   "outputs": [],
   "source": [
    "# np.savetxt(\"mr_sly.csv\", np.array([radius_arr, mass_arr]).T)"
   ]
  }
 ],
 "metadata": {
  "kernelspec": {
   "display_name": "Python 3",
   "language": "python",
   "name": "python3"
  },
  "language_info": {
   "codemirror_mode": {
    "name": "ipython",
    "version": 3
   },
   "file_extension": ".py",
   "mimetype": "text/x-python",
   "name": "python",
   "nbconvert_exporter": "python",
   "pygments_lexer": "ipython3",
   "version": "3.8.6"
  }
 },
 "nbformat": 4,
 "nbformat_minor": 4
}
