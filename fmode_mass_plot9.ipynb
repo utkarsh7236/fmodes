{
 "cells": [
  {
   "cell_type": "code",
   "execution_count": 1,
   "metadata": {},
   "outputs": [],
   "source": [
    "from scipy.integrate import ode\n",
    "from scipy.interpolate import interp1d\n",
    "import pandas as pd\n",
    "from astropy import units as u\n",
    "import numpy as np\n",
    "import matplotlib.pyplot as plt\n",
    "from tqdm import tqdm\n",
    "import time\n",
    "from scipy.optimize import minimize, approx_fprime\n",
    "from joblib import Parallel, delayed"
   ]
  },
  {
   "cell_type": "markdown",
   "metadata": {},
   "source": [
    "Capture hides output"
   ]
  },
  {
   "cell_type": "code",
   "execution_count": null,
   "metadata": {},
   "outputs": [],
   "source": [
    "%%capture\n",
    "%run cowling_approximation9.ipynb"
   ]
  },
  {
   "cell_type": "code",
   "execution_count": null,
   "metadata": {},
   "outputs": [],
   "source": [
    "def process(k):\n",
    "    df = pd.read_csv(path)\n",
    "    e, p = df_to_ep(df)\n",
    "    EOS = get_ep(e, p)\n",
    "    \n",
    "    km2cm, r_i, p0, e0, p_c, e_c, m0, omega, l, \\\n",
    "    v0, W0, U0, init_VEC = initial_conditions(EOS, e, p, k = k)\n",
    "    \n",
    "    # Integrate\n",
    "    p, m, r_arr, v, w, u = tov(EOS, init_VEC, r_i, p_min, p_max, omega, l = l)\n",
    "\n",
    "    max_idx, m_R, r_R, p_R, ec_R, u_R, v_R, w_R, \\\n",
    "    schild, interior = surface_conditions(p, m, r_arr, v, w, u)\n",
    "\n",
    "    # Computer new v0, W0, U0\n",
    "    v_ext = np.log(schild) #At surface\n",
    "    v_int = v_R #At surface\n",
    "    delta_v = v_int - v_ext\n",
    "    v0 =  v0 - delta_v\n",
    "    U0 = W0/(l * np.exp(v0))\n",
    "    init_VEC = [p_c, m0, v0, W0, U0]\n",
    "\n",
    "    p, m, r_arr, v, w, u = tov(EOS, init_VEC, r_i, p_min, p_max, omega, l = l)\n",
    "\n",
    "    max_idx, m_R, r_R, p_R, ec_R, u_R, v_R, w_R, \\\n",
    "    schild, interior = surface_conditions(p, m, r_arr, v, w, u)\n",
    "    \n",
    "    def minimize_boundary(params, p = p, EOS = EOS):\n",
    "        # Repeat integration\n",
    "        omega = params\n",
    "\n",
    "        # Integrate\n",
    "        p, m, r_arr, v, w, u = tov(EOS, init_VEC, r_i, p_min, p_max, omega, l = l)\n",
    "\n",
    "        max_idx, m_R, r_R, p_R, ec_R, u_R, v_R, w_R, \\\n",
    "        schild, interior = surface_conditions(p, m, r_arr, v, w, u)\n",
    "\n",
    "        loss = np.log10(abs(boundary_wu(r_R, m_R, omega, w_R, u_R)))\n",
    "        return loss\n",
    "\n",
    "\n",
    "    res, f = optimize_fmode(minimize_boundary, \n",
    "                            m_R, r_R, newt_approx = True)\n",
    "    return f, m_R, r_R, k"
   ]
  },
  {
   "cell_type": "code",
   "execution_count": null,
   "metadata": {
    "scrolled": false
   },
   "outputs": [],
   "source": [
    "f_mode_list = []\n",
    "mass_list = []\n",
    "radius_list = []\n",
    "\n",
    "if path == \"eos_data/nl3cr_short.csv\":\n",
    "    print(\"EOS: NL3CR (Short)\")\n",
    "    ind_start = -4\n",
    "    ind_stop = -1180\n",
    "    jump = 20 # Default should be 1 for small EOS data\n",
    "    \n",
    "if path == \"eos_data/nl3cr.csv\" :\n",
    "    print(\"EOS: NL3CR (Full)\")\n",
    "    ind_start = -2\n",
    "    ind_stop = -1140\n",
    "    jump = 20 # Default should be 1 for small EOS data\n",
    "    \n",
    "if (path == \"eos_data/sly230a_short.csv\") \\\n",
    "    or (path ==\"eos_data/sly230a.csv\"):\n",
    "    print(\"EOS: SLY230A (Full)\")\n",
    "    ind_start = -2\n",
    "    ind_stop = -120\n",
    "    jump = 2 # Default should be 1 for small EOS data\n",
    "    \n",
    "if path == \"eos_data/sly_short.csv\":\n",
    "    print(\"EOS: SLY4 (Short)\")\n",
    "    ind_start = -2\n",
    "    ind_stop = -28\n",
    "    jump = 1 # Default should be 1 for small EOS data\n",
    "    \n",
    "if path == \"eos_data/sly.csv\": \n",
    "    print(\"EOS: SLY4 (Full)\")\n",
    "    ind_start = -2\n",
    "    ind_stop = -35\n",
    "    jump = 1 # Default should be 1 for small EOS data\n",
    "    \n",
    "if path == \"2205.02081/SLY4.csv\": \n",
    "    print(\"EOS: SLY4 (arXiv 2205.02081)\")\n",
    "    ind_start = -2\n",
    "    ind_stop = -200\n",
    "    jump = 5 # Default should be 1 for small EOS data\n",
    "\n",
    "if path == \"2205.02081/NL3.csv\": \n",
    "    print(\"EOS: NL3 (arXiv 2205.02081)\")\n",
    "    ind_start = -2\n",
    "    ind_stop = -1200\n",
    "    jump = 40 # Default should be 1 for small EOS data\n",
    "    \n",
    "if path == \"2205.02081/SLY230A.csv\": \n",
    "    print(\"EOS: SLY230A (arXiv 2205.02081)\")\n",
    "    ind_start = -2\n",
    "    ind_stop = -200\n",
    "    jump = 5 # Default should be 1 for small EOS data\n",
    "    \n",
    "path2 = None\n",
    "# path2 = \"polytrope\"\n",
    "    \n",
    "if path2 == \"polytrope\":\n",
    "    ind_start = -2\n",
    "    ind_stop = -200\n",
    "    jump = 5\n",
    "    \n",
    "vals = range(ind_stop, ind_start+1, 1)[::-jump]\n",
    "\n",
    "results = Parallel(n_jobs=-2, \n",
    "                   verbose=0,\n",
    "                   max_nbytes='8M')(delayed(process)(k) for k in tqdm(vals))"
   ]
  },
  {
   "cell_type": "code",
   "execution_count": null,
   "metadata": {},
   "outputs": [],
   "source": [
    "mass_arr = np.array(results).T[1]\n",
    "f_mode_arr = np.array(np.array(results).T[0])\n",
    "radius_arr = np.array(results).T[2]\n",
    "idx_arr = np.array(results).T[3]\n",
    "hz2khz = 1e-3"
   ]
  },
  {
   "cell_type": "code",
   "execution_count": null,
   "metadata": {},
   "outputs": [],
   "source": [
    "max_idx = mass_arr.argmax()\n",
    "# idx_arr[(np.abs(mass_arr/msun - 1.4)).argmin()]\n",
    "idx_arr[max_idx]"
   ]
  },
  {
   "cell_type": "code",
   "execution_count": null,
   "metadata": {},
   "outputs": [],
   "source": [
    "mass_arr = mass_arr[max_idx:]\n",
    "f_mode_arr = f_mode_arr[max_idx:]\n",
    "radius_arr = radius_arr[max_idx:]"
   ]
  },
  {
   "cell_type": "code",
   "execution_count": null,
   "metadata": {},
   "outputs": [],
   "source": [
    "max_idx_new = mass_arr.argmax()\n",
    "\n",
    "print(f\"M_max = {mass_arr[max_idx_new]/msun}\")\n",
    "print(f\"R_max = {radius_arr[max_idx_new]/km2cm}\")\n",
    "print(f\"f_max = {f_mode_arr[max_idx_new]}\")\n",
    "\n",
    "print()\n",
    "solar_idx = (np.abs(mass_arr/msun - 1.4)).argmin()\n",
    "print(f\"M_1.4 = {mass_arr[solar_idx]/msun}\")\n",
    "print(f\"R_1.4 = {radius_arr[solar_idx]/km2cm}\")\n",
    "print(f\"f_1.4 = {f_mode_arr[solar_idx]}\")"
   ]
  },
  {
   "cell_type": "code",
   "execution_count": null,
   "metadata": {},
   "outputs": [],
   "source": [
    "# mass_arr = np.array(mass_list)\n",
    "# f_mode_arr = np.array(f_mode_list)\n",
    "# radius_arr = np.array(radius_list)\n",
    "# hz2khz = 1e-3\n",
    "\n",
    "plt.figure(dpi = 300)\n",
    "plt.tight_layout()\n",
    "plt.scatter(mass_arr/msun, f_mode_arr*hz2khz, c = radius_arr/km2cm, marker = \"x\", \n",
    "            cmap = \"plasma\")\n",
    "plt.xlabel(\"Mass/Msun\")\n",
    "plt.ylabel(\"fmode (kHz)\")\n",
    "cbar = plt.colorbar()\n",
    "cbar.set_label('Radius (km)', rotation=-90, labelpad=15)\n",
    "utkarshGrid()\n",
    "# plt.xlim(1, 2.5)\n",
    "# plt.ylim(1.5, 3.5)\n",
    "plt.show()"
   ]
  },
  {
   "cell_type": "code",
   "execution_count": null,
   "metadata": {},
   "outputs": [],
   "source": [
    "plt.plot(np.sqrt((mass_arr/msun)/((radius_arr/km2cm)**3)), f_mode_arr*hz2khz)\n",
    "plt.xlabel(\"√M/R^3\")\n",
    "plt.ylabel(\"fmode (kHz)\")\n",
    "plt.xlim(0.02, 0.05)\n",
    "plt.ylim(1.4, 3)\n",
    "plt.show()"
   ]
  },
  {
   "cell_type": "code",
   "execution_count": null,
   "metadata": {},
   "outputs": [],
   "source": [
    "# plt.plot(np.sqrt((mass_arr/(1.4*msun))/((radius_arr/(10*km2cm))**3)), f_mode_arr*hz2khz)\n",
    "# plt.ylabel(\"f(khz)\")\n",
    "# plt.show()"
   ]
  },
  {
   "cell_type": "code",
   "execution_count": null,
   "metadata": {},
   "outputs": [],
   "source": [
    "plt.plot(radius_arr/km2cm, mass_arr/msun)\n",
    "plt.xlabel(\"Radius (km)\")\n",
    "plt.ylabel(\"Mass (Msun)\")\n",
    "plt.show()"
   ]
  },
  {
   "cell_type": "code",
   "execution_count": null,
   "metadata": {},
   "outputs": [],
   "source": [
    "# np.savetxt(\"mr_sly.csv\", np.array([radius_arr, mass_arr]).T)"
   ]
  }
 ],
 "metadata": {
  "kernelspec": {
   "display_name": "Python 3",
   "language": "python",
   "name": "python3"
  },
  "language_info": {
   "codemirror_mode": {
    "name": "ipython",
    "version": 3
   },
   "file_extension": ".py",
   "mimetype": "text/x-python",
   "name": "python",
   "nbconvert_exporter": "python",
   "pygments_lexer": "ipython3",
   "version": "3.8.6"
  }
 },
 "nbformat": 4,
 "nbformat_minor": 4
}
