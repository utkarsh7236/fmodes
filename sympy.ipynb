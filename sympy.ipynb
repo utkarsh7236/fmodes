{
 "cells": [
  {
   "cell_type": "code",
   "execution_count": 9,
   "metadata": {},
   "outputs": [
    {
     "name": "stdout",
     "output_type": "stream",
     "text": [
      "Populating the interactive namespace from numpy and matplotlib\n"
     ]
    }
   ],
   "source": [
    "%pylab inline\n",
    "from sympy import *\n",
    "init_printing(use_latex='mathjax')\n",
    "r = symbols(\"r\")\n",
    "m = Function(\"m\")(r)\n",
    "nu = Function(r\"\\nu\")(r)\n",
    "p = Function(\"p\")(r)\n",
    "b = Function(\"b\")(r)\n",
    "Q = Function(\"Q\")(r)\n",
    "lamda = Function(\"\\lambda\")(r)\n",
    "G, c = symbols(\"G c\")\n",
    "b_sub = G * m / (c**2 * r)\n",
    "Q_sub = b + 4 * pi * G * (r**2)/(c**4) * p\n",
    "lamda_sub = 1/sqrt(1-2*b)\n",
    "expr = exp(lamda)*Q/(r**3)\n",
    "expr = expr.subs(Q, Q_sub)\n",
    "expr = expr.subs(lamda, lamda_sub)\n",
    "expr = expr.subs(b, b_sub)\n",
    "dr_expr = simplify(expr.diff(r))"
   ]
  },
  {
   "cell_type": "code",
   "execution_count": 10,
   "metadata": {},
   "outputs": [
    {
     "data": {
      "text/latex": [
       "$\\displaystyle \\frac{Q{\\left(r \\right)} e^{\\frac{\\lambda{\\left(r \\right)}}{2}}}{r^{3}}$"
      ],
      "text/plain": [
       "      \\lambda(r)\n",
       "      ──────────\n",
       "          2     \n",
       "Q(r)⋅ℯ          \n",
       "────────────────\n",
       "        3       \n",
       "       r        "
      ]
     },
     "metadata": {},
     "output_type": "display_data"
    },
    {
     "data": {
      "text/latex": [
       "$\\displaystyle \\frac{\\left(\\frac{G m{\\left(r \\right)}}{c^{2} r} + \\frac{4 \\pi G r^{2} p{\\left(r \\right)}}{c^{4}}\\right) e^{\\frac{1}{2 \\sqrt{- \\frac{2 G m{\\left(r \\right)}}{c^{2} r} + 1}}}}{r^{3}}$"
      ],
      "text/plain": [
       "                                     1           \n",
       "                          ───────────────────────\n",
       "                                 ________________\n",
       "                                ╱   2⋅G⋅m(r)     \n",
       "                          2⋅   ╱  - ──────── + 1 \n",
       "⎛                2     ⎞      ╱        2         \n",
       "⎜G⋅m(r)   4⋅π⋅G⋅r ⋅p(r)⎟    ╲╱        c ⋅r       \n",
       "⎜────── + ─────────────⎟⋅ℯ                       \n",
       "⎜  2             4     ⎟                         \n",
       "⎝ c ⋅r          c      ⎠                         \n",
       "─────────────────────────────────────────────────\n",
       "                         3                       \n",
       "                        r                        "
      ]
     },
     "metadata": {},
     "output_type": "display_data"
    }
   ],
   "source": [
    "b_sub = G * m / (c**2 * r)\n",
    "Q_sub = b + 4 * pi * G * (r**2)/(c**4) * p\n",
    "lamda_sub = 1/sqrt(1-2*b)\n",
    "expr = exp(lamda/2)*Q/(r**3)\n",
    "display(expr)\n",
    "expr = expr.subs(Q, Q_sub)\n",
    "expr = expr.subs(lamda, lamda_sub)\n",
    "expr = expr.subs(b, b_sub)\n",
    "display(expr)\n",
    "dr_expr = simplify(expr.diff(r))"
   ]
  },
  {
   "cell_type": "code",
   "execution_count": 11,
   "metadata": {},
   "outputs": [
    {
     "name": "stdout",
     "output_type": "stream",
     "text": [
      "G*(G*(dMdr*r - m)*(4*pi*P*r**3 + c**2*m) - 6*c**2*r*((-2*G*m + c**2*r)/(c**2*r))**(3/2)*(4*pi*P*r**3 + c**2*m) + 2*c**2*r*((-2*G*m + c**2*r)/(c**2*r))**(3/2)*(c**2*dMdr*r - c**2*m + 4*pi*r**3*(2*P + dPdr*r)))*exp(1/(2*sqrt((-2*G*m + c**2*r)/(c**2*r))))/(2*c**6*r**6*((-2*G*m + c**2*r)/(c**2*r))**(3/2))\n"
     ]
    }
   ],
   "source": [
    "print(dr_expr\\\n",
    "      .subs(m.diff(r), symbols(\"dMdr\"))\\\n",
    "      .subs(p.diff(r), symbols(\"dPdr\"))\\\n",
    "      .subs(m, symbols(\"m\"))\\\n",
    "      .subs(p, symbols(\"P\")))"
   ]
  },
  {
   "cell_type": "code",
   "execution_count": 12,
   "metadata": {},
   "outputs": [
    {
     "data": {
      "text/latex": [
       "$\\displaystyle \\frac{e^{\\frac{\\lambda{\\left(r \\right)}}{2}} \\frac{d}{d r} \\nu{\\left(r \\right)}}{r^{2}}$"
      ],
      "text/plain": [
       " \\lambda(r)           \n",
       " ──────────           \n",
       "     2      d         \n",
       "ℯ          ⋅──(\\nu(r))\n",
       "            dr        \n",
       "──────────────────────\n",
       "           2          \n",
       "          r           "
      ]
     },
     "metadata": {},
     "output_type": "display_data"
    },
    {
     "data": {
      "text/latex": [
       "$\\displaystyle \\frac{e^{\\frac{1}{2 \\sqrt{- \\frac{2 G m{\\left(r \\right)}}{c^{2} r} + 1}}} \\frac{d}{d r} \\nu{\\left(r \\right)}}{r^{2}}$"
      ],
      "text/plain": [
       "            1                      \n",
       " ───────────────────────           \n",
       "        ________________           \n",
       "       ╱   2⋅G⋅m(r)                \n",
       " 2⋅   ╱  - ──────── + 1            \n",
       "     ╱        2                    \n",
       "   ╲╱        c ⋅r        d         \n",
       "ℯ                       ⋅──(\\nu(r))\n",
       "                         dr        \n",
       "───────────────────────────────────\n",
       "                  2                \n",
       "                 r                 "
      ]
     },
     "metadata": {},
     "output_type": "display_data"
    }
   ],
   "source": [
    "b_sub = G * m / (c**2 * r)\n",
    "Q_sub = b + 4 * pi * G * (r**2)/(c**4) * p\n",
    "lamda_sub = 1/sqrt(1-2*b)\n",
    "dnudr = nu.diff(r)\n",
    "expr = exp(lamda/2)*dnudr/(r**2)\n",
    "display(expr)\n",
    "expr = expr.subs(Q, Q_sub)\n",
    "expr = expr.subs(lamda, lamda_sub)\n",
    "expr = expr.subs(b, b_sub)\n",
    "display(expr)\n",
    "dr_expr = simplify(expr.diff(r))"
   ]
  },
  {
   "cell_type": "code",
   "execution_count": 18,
   "metadata": {},
   "outputs": [
    {
     "name": "stdout",
     "output_type": "stream",
     "text": [
      "(G*(dMdr*r - m)*Derivative(\\nu(r), r)/2 + c**2*r**2*((-2*G*m + c**2*r)/(c**2*r))**(3/2)*Derivative(\\nu(r), (r, 2)) - 2*c**2*r*((-2*G*m + c**2*r)/(c**2*r))**(3/2)*Derivative(\\nu(r), r))*exp(1/(2*sqrt((-2*G*m + c**2*r)/(c**2*r))))/(c**2*r**4*((-2*G*m + c**2*r)/(c**2*r))**(3/2))\n"
     ]
    }
   ],
   "source": [
    "print(dr_expr\\\n",
    "      .subs(m.diff(r), symbols(\"dMdr\"))\\\n",
    "      .subs(p.diff(r), symbols(\"dPdr\"))\\\n",
    "#       .subs(nu.diff(r), symbols(\"dnudr\"))\\\n",
    "      .subs(m, symbols(\"m\"))\\\n",
    "      .subs(p, symbols(\"P\")))"
   ]
  },
  {
   "cell_type": "code",
   "execution_count": null,
   "metadata": {},
   "outputs": [],
   "source": []
  }
 ],
 "metadata": {
  "kernelspec": {
   "display_name": "Python 3",
   "language": "python",
   "name": "python3"
  },
  "language_info": {
   "codemirror_mode": {
    "name": "ipython",
    "version": 3
   },
   "file_extension": ".py",
   "mimetype": "text/x-python",
   "name": "python",
   "nbconvert_exporter": "python",
   "pygments_lexer": "ipython3",
   "version": "3.8.6"
  }
 },
 "nbformat": 4,
 "nbformat_minor": 4
}
